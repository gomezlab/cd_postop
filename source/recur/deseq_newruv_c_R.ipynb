{
 "cells": [
  {
   "cell_type": "code",
   "execution_count": 1,
   "metadata": {
    "vscode": {
     "languageId": "r"
    }
   },
   "outputs": [
    {
     "name": "stderr",
     "output_type": "stream",
     "text": [
      "Loading required package: stats4\n",
      "\n",
      "Loading required package: BiocGenerics\n",
      "\n",
      "\n",
      "Attaching package: ‘BiocGenerics’\n",
      "\n",
      "\n",
      "The following objects are masked from ‘package:stats’:\n",
      "\n",
      "    IQR, mad, sd, var, xtabs\n",
      "\n",
      "\n",
      "The following objects are masked from ‘package:base’:\n",
      "\n",
      "    anyDuplicated, aperm, append, as.data.frame, basename, cbind,\n",
      "    colnames, dirname, do.call, duplicated, eval, evalq, Filter, Find,\n",
      "    get, grep, grepl, intersect, is.unsorted, lapply, Map, mapply,\n",
      "    match, mget, order, paste, pmax, pmax.int, pmin, pmin.int,\n",
      "    Position, rank, rbind, Reduce, rownames, sapply, setdiff, sort,\n",
      "    table, tapply, union, unique, unsplit, which.max, which.min\n",
      "\n",
      "\n",
      "Loading required package: Biobase\n",
      "\n",
      "Welcome to Bioconductor\n",
      "\n",
      "    Vignettes contain introductory material; view with\n",
      "    'browseVignettes()'. To cite Bioconductor, see\n",
      "    'citation(\"Biobase\")', and for packages 'citation(\"pkgname\")'.\n",
      "\n",
      "\n",
      "Loading required package: IRanges\n",
      "\n",
      "Loading required package: S4Vectors\n",
      "\n",
      "\n",
      "Attaching package: ‘S4Vectors’\n",
      "\n",
      "\n",
      "The following object is masked from ‘package:utils’:\n",
      "\n",
      "    findMatches\n",
      "\n",
      "\n",
      "The following objects are masked from ‘package:base’:\n",
      "\n",
      "    expand.grid, I, unname\n",
      "\n",
      "\n",
      "Warning message:\n",
      "“replacing previous import ‘utils::findMatches’ by ‘S4Vectors::findMatches’ when loading ‘AnnotationDbi’”\n",
      "\n",
      "\n",
      "Loading required package: EDASeq\n",
      "\n",
      "Loading required package: ShortRead\n",
      "\n",
      "Loading required package: BiocParallel\n",
      "\n",
      "Loading required package: Biostrings\n",
      "\n",
      "Loading required package: XVector\n",
      "\n",
      "Loading required package: GenomeInfoDb\n",
      "\n",
      "\n",
      "Attaching package: ‘Biostrings’\n",
      "\n",
      "\n",
      "The following object is masked from ‘package:base’:\n",
      "\n",
      "    strsplit\n",
      "\n",
      "\n",
      "Loading required package: Rsamtools\n",
      "\n",
      "Loading required package: GenomicRanges\n",
      "\n",
      "Loading required package: GenomicAlignments\n",
      "\n",
      "Loading required package: SummarizedExperiment\n",
      "\n",
      "Loading required package: MatrixGenerics\n",
      "\n",
      "Loading required package: matrixStats\n",
      "\n",
      "\n",
      "Attaching package: ‘matrixStats’\n",
      "\n",
      "\n",
      "The following objects are masked from ‘package:Biobase’:\n",
      "\n",
      "    anyMissing, rowMedians\n",
      "\n",
      "\n",
      "\n",
      "Attaching package: ‘MatrixGenerics’\n",
      "\n",
      "\n",
      "The following objects are masked from ‘package:matrixStats’:\n",
      "\n",
      "    colAlls, colAnyNAs, colAnys, colAvgsPerRowSet, colCollapse,\n",
      "    colCounts, colCummaxs, colCummins, colCumprods, colCumsums,\n",
      "    colDiffs, colIQRDiffs, colIQRs, colLogSumExps, colMadDiffs,\n",
      "    colMads, colMaxs, colMeans2, colMedians, colMins, colOrderStats,\n",
      "    colProds, colQuantiles, colRanges, colRanks, colSdDiffs, colSds,\n",
      "    colSums2, colTabulates, colVarDiffs, colVars, colWeightedMads,\n",
      "    colWeightedMeans, colWeightedMedians, colWeightedSds,\n",
      "    colWeightedVars, rowAlls, rowAnyNAs, rowAnys, rowAvgsPerColSet,\n",
      "    rowCollapse, rowCounts, rowCummaxs, rowCummins, rowCumprods,\n",
      "    rowCumsums, rowDiffs, rowIQRDiffs, rowIQRs, rowLogSumExps,\n",
      "    rowMadDiffs, rowMads, rowMaxs, rowMeans2, rowMedians, rowMins,\n",
      "    rowOrderStats, rowProds, rowQuantiles, rowRanges, rowRanks,\n",
      "    rowSdDiffs, rowSds, rowSums2, rowTabulates, rowVarDiffs, rowVars,\n",
      "    rowWeightedMads, rowWeightedMeans, rowWeightedMedians,\n",
      "    rowWeightedSds, rowWeightedVars\n",
      "\n",
      "\n",
      "The following object is masked from ‘package:Biobase’:\n",
      "\n",
      "    rowMedians\n",
      "\n",
      "\n",
      "Warning message:\n",
      "“multiple methods tables found for ‘acbind’”\n",
      "Warning message:\n",
      "“multiple methods tables found for ‘arbind’”\n",
      "Loading required package: edgeR\n",
      "\n",
      "Loading required package: limma\n",
      "\n",
      "\n",
      "Attaching package: ‘limma’\n",
      "\n",
      "\n",
      "The following object is masked from ‘package:BiocGenerics’:\n",
      "\n",
      "    plotMA\n",
      "\n",
      "\n",
      "Loading required package: ggplot2\n",
      "\n",
      "\n",
      "Attaching package: ‘plotly’\n",
      "\n",
      "\n",
      "The following object is masked from ‘package:ggplot2’:\n",
      "\n",
      "    last_plot\n",
      "\n",
      "\n",
      "The following object is masked from ‘package:XVector’:\n",
      "\n",
      "    slice\n",
      "\n",
      "\n",
      "The following object is masked from ‘package:AnnotationDbi’:\n",
      "\n",
      "    select\n",
      "\n",
      "\n",
      "The following object is masked from ‘package:IRanges’:\n",
      "\n",
      "    slice\n",
      "\n",
      "\n",
      "The following object is masked from ‘package:S4Vectors’:\n",
      "\n",
      "    rename\n",
      "\n",
      "\n",
      "The following object is masked from ‘package:stats’:\n",
      "\n",
      "    filter\n",
      "\n",
      "\n",
      "The following object is masked from ‘package:graphics’:\n",
      "\n",
      "    layout\n",
      "\n",
      "\n",
      "\n",
      "Attaching package: ‘plyr’\n",
      "\n",
      "\n",
      "The following objects are masked from ‘package:plotly’:\n",
      "\n",
      "    arrange, mutate, rename, summarise\n",
      "\n",
      "\n",
      "The following object is masked from ‘package:ShortRead’:\n",
      "\n",
      "    id\n",
      "\n",
      "\n",
      "The following object is masked from ‘package:matrixStats’:\n",
      "\n",
      "    count\n",
      "\n",
      "\n",
      "The following object is masked from ‘package:XVector’:\n",
      "\n",
      "    compact\n",
      "\n",
      "\n",
      "The following object is masked from ‘package:IRanges’:\n",
      "\n",
      "    desc\n",
      "\n",
      "\n",
      "The following object is masked from ‘package:S4Vectors’:\n",
      "\n",
      "    rename\n",
      "\n",
      "\n",
      "\n",
      "Attaching package: ‘dplyr’\n",
      "\n",
      "\n",
      "The following objects are masked from ‘package:plyr’:\n",
      "\n",
      "    arrange, count, desc, failwith, id, mutate, rename, summarise,\n",
      "    summarize\n",
      "\n",
      "\n",
      "The following object is masked from ‘package:ShortRead’:\n",
      "\n",
      "    id\n",
      "\n",
      "\n",
      "The following objects are masked from ‘package:GenomicAlignments’:\n",
      "\n",
      "    first, last\n",
      "\n",
      "\n",
      "The following object is masked from ‘package:matrixStats’:\n",
      "\n",
      "    count\n",
      "\n",
      "\n",
      "The following objects are masked from ‘package:GenomicRanges’:\n",
      "\n",
      "    intersect, setdiff, union\n",
      "\n",
      "\n",
      "The following objects are masked from ‘package:Biostrings’:\n",
      "\n",
      "    collapse, intersect, setdiff, setequal, union\n",
      "\n",
      "\n",
      "The following object is masked from ‘package:GenomeInfoDb’:\n",
      "\n",
      "    intersect\n",
      "\n",
      "\n",
      "The following object is masked from ‘package:XVector’:\n",
      "\n",
      "    slice\n",
      "\n",
      "\n",
      "The following object is masked from ‘package:AnnotationDbi’:\n",
      "\n",
      "    select\n",
      "\n",
      "\n",
      "The following objects are masked from ‘package:IRanges’:\n",
      "\n",
      "    collapse, desc, intersect, setdiff, slice, union\n",
      "\n",
      "\n",
      "The following objects are masked from ‘package:S4Vectors’:\n",
      "\n",
      "    first, intersect, rename, setdiff, setequal, union\n",
      "\n",
      "\n",
      "The following object is masked from ‘package:Biobase’:\n",
      "\n",
      "    combine\n",
      "\n",
      "\n",
      "The following objects are masked from ‘package:BiocGenerics’:\n",
      "\n",
      "    combine, intersect, setdiff, union\n",
      "\n",
      "\n",
      "The following objects are masked from ‘package:stats’:\n",
      "\n",
      "    filter, lag\n",
      "\n",
      "\n",
      "The following objects are masked from ‘package:base’:\n",
      "\n",
      "    intersect, setdiff, setequal, union\n",
      "\n",
      "\n",
      "Registered S3 method overwritten by 'GGally':\n",
      "  method from   \n",
      "  +.gg   ggplot2\n",
      "\n",
      "── \u001b[1mAttaching core tidyverse packages\u001b[22m ──────────────────────── tidyverse 2.0.0 ──\n",
      "\u001b[32m✔\u001b[39m \u001b[34mforcats  \u001b[39m 1.0.0     \u001b[32m✔\u001b[39m \u001b[34mstringr  \u001b[39m 1.5.0\n",
      "\u001b[32m✔\u001b[39m \u001b[34mlubridate\u001b[39m 1.9.2     \u001b[32m✔\u001b[39m \u001b[34mtibble   \u001b[39m 3.2.1\n",
      "\u001b[32m✔\u001b[39m \u001b[34mpurrr    \u001b[39m 1.0.1     \u001b[32m✔\u001b[39m \u001b[34mtidyr    \u001b[39m 1.3.0\n",
      "\u001b[32m✔\u001b[39m \u001b[34mreadr    \u001b[39m 2.1.4     \n",
      "── \u001b[1mConflicts\u001b[22m ────────────────────────────────────────── tidyverse_conflicts() ──\n",
      "\u001b[31m✖\u001b[39m \u001b[34mlubridate\u001b[39m::\u001b[32m%within%()\u001b[39m masks \u001b[34mIRanges\u001b[39m::%within%()\n",
      "\u001b[31m✖\u001b[39m \u001b[34mdplyr\u001b[39m::\u001b[32marrange()\u001b[39m      masks \u001b[34mplyr\u001b[39m::arrange(), \u001b[34mplotly\u001b[39m::arrange()\n",
      "\u001b[31m✖\u001b[39m \u001b[34mdplyr\u001b[39m::\u001b[32mcollapse()\u001b[39m     masks \u001b[34mBiostrings\u001b[39m::collapse(), \u001b[34mIRanges\u001b[39m::collapse()\n",
      "\u001b[31m✖\u001b[39m \u001b[34mdplyr\u001b[39m::\u001b[32mcombine()\u001b[39m      masks \u001b[34mBiobase\u001b[39m::combine(), \u001b[34mBiocGenerics\u001b[39m::combine()\n",
      "\u001b[31m✖\u001b[39m \u001b[34mpurrr\u001b[39m::\u001b[32mcompact()\u001b[39m      masks \u001b[34mplyr\u001b[39m::compact(), \u001b[34mXVector\u001b[39m::compact()\n",
      "\u001b[31m✖\u001b[39m \u001b[34mpurrr\u001b[39m::\u001b[32mcompose()\u001b[39m      masks \u001b[34mShortRead\u001b[39m::compose()\n",
      "\u001b[31m✖\u001b[39m \u001b[34mdplyr\u001b[39m::\u001b[32mcount()\u001b[39m        masks \u001b[34mplyr\u001b[39m::count(), \u001b[34mmatrixStats\u001b[39m::count()\n",
      "\u001b[31m✖\u001b[39m \u001b[34mdplyr\u001b[39m::\u001b[32mdesc()\u001b[39m         masks \u001b[34mplyr\u001b[39m::desc(), \u001b[34mIRanges\u001b[39m::desc()\n",
      "\u001b[31m✖\u001b[39m \u001b[34mtidyr\u001b[39m::\u001b[32mexpand()\u001b[39m       masks \u001b[34mS4Vectors\u001b[39m::expand()\n",
      "\u001b[31m✖\u001b[39m \u001b[34mdplyr\u001b[39m::\u001b[32mfailwith()\u001b[39m     masks \u001b[34mplyr\u001b[39m::failwith()\n",
      "\u001b[31m✖\u001b[39m \u001b[34mdplyr\u001b[39m::\u001b[32mfilter()\u001b[39m       masks \u001b[34mplotly\u001b[39m::filter(), \u001b[34mstats\u001b[39m::filter()\n",
      "\u001b[31m✖\u001b[39m \u001b[34mdplyr\u001b[39m::\u001b[32mfirst()\u001b[39m        masks \u001b[34mGenomicAlignments\u001b[39m::first(), \u001b[34mS4Vectors\u001b[39m::first()\n",
      "\u001b[31m✖\u001b[39m \u001b[34mdplyr\u001b[39m::\u001b[32mid()\u001b[39m           masks \u001b[34mplyr\u001b[39m::id(), \u001b[34mShortRead\u001b[39m::id()\n",
      "\u001b[31m✖\u001b[39m \u001b[34mdplyr\u001b[39m::\u001b[32mlag()\u001b[39m          masks \u001b[34mstats\u001b[39m::lag()\n",
      "\u001b[31m✖\u001b[39m \u001b[34mdplyr\u001b[39m::\u001b[32mlast()\u001b[39m         masks \u001b[34mGenomicAlignments\u001b[39m::last()\n",
      "\u001b[31m✖\u001b[39m \u001b[34mdplyr\u001b[39m::\u001b[32mmutate()\u001b[39m       masks \u001b[34mplyr\u001b[39m::mutate(), \u001b[34mplotly\u001b[39m::mutate()\n",
      "\u001b[31m✖\u001b[39m \u001b[34mggplot2\u001b[39m::\u001b[32mPosition()\u001b[39m   masks \u001b[34mBiocGenerics\u001b[39m::Position(), \u001b[34mbase\u001b[39m::Position()\n",
      "\u001b[31m✖\u001b[39m \u001b[34mpurrr\u001b[39m::\u001b[32mreduce()\u001b[39m       masks \u001b[34mGenomicRanges\u001b[39m::reduce(), \u001b[34mIRanges\u001b[39m::reduce()\n",
      "\u001b[31m✖\u001b[39m \u001b[34mdplyr\u001b[39m::\u001b[32mrename()\u001b[39m       masks \u001b[34mplyr\u001b[39m::rename(), \u001b[34mplotly\u001b[39m::rename(), \u001b[34mS4Vectors\u001b[39m::rename()\n",
      "\u001b[31m✖\u001b[39m \u001b[34mlubridate\u001b[39m::\u001b[32msecond()\u001b[39m   masks \u001b[34mGenomicAlignments\u001b[39m::second(), \u001b[34mS4Vectors\u001b[39m::second()\n",
      "\u001b[31m✖\u001b[39m \u001b[34mlubridate\u001b[39m::\u001b[32msecond<-()\u001b[39m masks \u001b[34mS4Vectors\u001b[39m::second<-()\n",
      "\u001b[31m✖\u001b[39m \u001b[34mdplyr\u001b[39m::\u001b[32mselect()\u001b[39m       masks \u001b[34mplotly\u001b[39m::select(), \u001b[34mAnnotationDbi\u001b[39m::select()\n",
      "\u001b[31m✖\u001b[39m \u001b[34mdplyr\u001b[39m::\u001b[32mslice()\u001b[39m        masks \u001b[34mplotly\u001b[39m::slice(), \u001b[34mXVector\u001b[39m::slice(), \u001b[34mIRanges\u001b[39m::slice()\n",
      "\u001b[31m✖\u001b[39m \u001b[34mdplyr\u001b[39m::\u001b[32msummarise()\u001b[39m    masks \u001b[34mplyr\u001b[39m::summarise(), \u001b[34mplotly\u001b[39m::summarise()\n",
      "\u001b[31m✖\u001b[39m \u001b[34mdplyr\u001b[39m::\u001b[32msummarize()\u001b[39m    masks \u001b[34mplyr\u001b[39m::summarize()\n",
      "\u001b[31m✖\u001b[39m \u001b[34mtibble\u001b[39m::\u001b[32mview()\u001b[39m        masks \u001b[34mShortRead\u001b[39m::view()\n",
      "\u001b[36mℹ\u001b[39m Use the conflicted package (\u001b[3m\u001b[34m<http://conflicted.r-lib.org/>\u001b[39m\u001b[23m) to force all conflicts to become errors\n",
      "\n",
      "Attaching package: ‘scales’\n",
      "\n",
      "\n",
      "The following object is masked from ‘package:purrr’:\n",
      "\n",
      "    discard\n",
      "\n",
      "\n",
      "The following object is masked from ‘package:readr’:\n",
      "\n",
      "    col_factor\n",
      "\n",
      "\n",
      "\n",
      "Attaching package: ‘reshape2’\n",
      "\n",
      "\n",
      "The following object is masked from ‘package:tidyr’:\n",
      "\n",
      "    smiths\n",
      "\n",
      "\n",
      "========================================\n",
      "circlize version 0.4.15\n",
      "CRAN page: https://cran.r-project.org/package=circlize\n",
      "Github page: https://github.com/jokergoo/circlize\n",
      "Documentation: https://jokergoo.github.io/circlize_book/book/\n",
      "\n",
      "If you use it in published research, please cite:\n",
      "Gu, Z. circlize implements and enhances circular visualization\n",
      "  in R. Bioinformatics 2014.\n",
      "\n",
      "This message can be suppressed by:\n",
      "  suppressPackageStartupMessages(library(circlize))\n",
      "========================================\n",
      "\n",
      "\n",
      "\n",
      "Attaching package: ‘gplots’\n",
      "\n",
      "\n",
      "The following object is masked from ‘package:IRanges’:\n",
      "\n",
      "    space\n",
      "\n",
      "\n",
      "The following object is masked from ‘package:S4Vectors’:\n",
      "\n",
      "    space\n",
      "\n",
      "\n",
      "The following object is masked from ‘package:stats’:\n",
      "\n",
      "    lowess\n",
      "\n",
      "\n",
      "Loading required package: grid\n",
      "\n",
      "\n",
      "Attaching package: ‘grid’\n",
      "\n",
      "\n",
      "The following object is masked from ‘package:Biostrings’:\n",
      "\n",
      "    pattern\n",
      "\n",
      "\n",
      "Loading required package: futile.logger\n",
      "\n",
      "'getOption(\"repos\")' replaces Bioconductor standard repositories, see\n",
      "'help(\"repositories\", package = \"BiocManager\")' for details.\n",
      "Replacement repositories:\n",
      "    CRAN: https://cloud.r-project.org\n",
      "\n",
      "Bioconductor version 3.17 (BiocManager 1.30.20), R 4.3.0 (2023-04-21)\n",
      "\n",
      "Warning message:\n",
      "“package(s) not installed when version(s) same as or greater than current; use\n",
      "  `force = TRUE` to re-install: 'DESeq2'”\n",
      "Installation paths not writeable, unable to update packages\n",
      "  path: /usr/lib/R/library\n",
      "  packages:\n",
      "    boot, foreign, Matrix\n",
      "\n",
      "Old packages: 'AnnotationDbi', 'bench', 'BiocParallel', 'Biostrings', 'cachem',\n",
      "  'deldir', 'evaluate', 'genefilter', 'httpuv', 'httr', 'httr2', 'Lahman',\n",
      "  'later', 'microbenchmark', 'profvis', 'rlang', 'S4Vectors', 'sass',\n",
      "  'SummarizedExperiment', 'testthat', 'tzdb', 'viridisLite', 'vroom', 'waldo'\n",
      "\n",
      "Installing packages into ‘/home/kchen/R/x86_64-pc-linux-gnu-library/4.3’\n",
      "(as ‘lib’ is unspecified)\n",
      "\n",
      "Warning message in install.packages(c(\"ggrepel\", \"ggplot2\", \"plotly\", \"plyr\", \"dplyr\", :\n",
      "“installation of package ‘plyr’ had non-zero exit status”\n",
      "'getOption(\"repos\")' replaces Bioconductor standard repositories, see\n",
      "'help(\"repositories\", package = \"BiocManager\")' for details.\n",
      "Replacement repositories:\n",
      "    CRAN: https://cloud.r-project.org\n",
      "\n",
      "Bioconductor version 3.17 (BiocManager 1.30.20), R 4.3.0 (2023-04-21)\n",
      "\n",
      "Warning message:\n",
      "“package(s) not installed when version(s) same as or greater than current; use\n",
      "  `force = TRUE` to re-install: 'edgeR' 'preprocessCore' 'limma'”\n",
      "Installation paths not writeable, unable to update packages\n",
      "  path: /usr/lib/R/library\n",
      "  packages:\n",
      "    boot, foreign, Matrix\n",
      "\n",
      "Old packages: 'AnnotationDbi', 'bench', 'BiocParallel', 'Biostrings', 'cachem',\n",
      "  'deldir', 'evaluate', 'genefilter', 'httpuv', 'httr', 'httr2', 'Lahman',\n",
      "  'later', 'microbenchmark', 'profvis', 'rlang', 'S4Vectors', 'sass',\n",
      "  'SummarizedExperiment', 'testthat', 'tzdb', 'viridisLite', 'vroom', 'waldo'\n",
      "\n"
     ]
    }
   ],
   "source": [
    "library(\"AnnotationDbi\")\n",
    "library(\"org.Hs.eg.db\")\n",
    "library(RUVSeq)\n",
    "source(\"downstreamAnalysis_RNAseqFunctions.R\")"
   ]
  },
  {
   "cell_type": "code",
   "execution_count": 2,
   "metadata": {
    "vscode": {
     "languageId": "r"
    }
   },
   "outputs": [
    {
     "data": {
      "text/html": [
       "<style>\n",
       ".list-inline {list-style: none; margin:0; padding: 0}\n",
       ".list-inline>li {display: inline-block}\n",
       ".list-inline>li:not(:last-child)::after {content: \"\\00b7\"; padding: 0 .5ex}\n",
       "</style>\n",
       "<ol class=list-inline><li>41</li><li>15</li></ol>\n"
      ],
      "text/latex": [
       "\\begin{enumerate*}\n",
       "\\item 41\n",
       "\\item 15\n",
       "\\end{enumerate*}\n"
      ],
      "text/markdown": [
       "1. 41\n",
       "2. 15\n",
       "\n",
       "\n"
      ],
      "text/plain": [
       "[1] 41 15"
      ]
     },
     "metadata": {},
     "output_type": "display_data"
    },
    {
     "data": {
      "text/html": [
       "<style>\n",
       ".list-inline {list-style: none; margin:0; padding: 0}\n",
       ".list-inline>li {display: inline-block}\n",
       ".list-inline>li:not(:last-child)::after {content: \"\\00b7\"; padding: 0 .5ex}\n",
       "</style>\n",
       "<ol class=list-inline><li>61114</li><li>41</li></ol>\n"
      ],
      "text/latex": [
       "\\begin{enumerate*}\n",
       "\\item 61114\n",
       "\\item 41\n",
       "\\end{enumerate*}\n"
      ],
      "text/markdown": [
       "1. 61114\n",
       "2. 41\n",
       "\n",
       "\n"
      ],
      "text/plain": [
       "[1] 61114    41"
      ]
     },
     "metadata": {},
     "output_type": "display_data"
    }
   ],
   "source": [
    "# Read in data\n",
    "cts = as.matrix(read.csv(\"../../data/cts_c.csv\", sep=',', row.names='gene'))\n",
    "coldata = read.csv('../../data/coldata_c.csv', sep=',', row.names='Sample_ID')\n",
    "\n",
    "cts = cts[,-which(colnames(cts) == 'PB17_236_257_A1')]\n",
    "coldata = coldata[-which(rownames(coldata) == 'PB17_236_257_A1'),]\n",
    "cts = cts[,-which(colnames(cts) == 'PB600052_A7')]\n",
    "coldata = coldata[-which(rownames(coldata) == 'PB600052_A7'),]\n",
    "cts = cts[,-which(colnames(cts) == 'PB600298_A8')]\n",
    "coldata = coldata[-which(rownames(coldata) == 'PB600298_A8'),]\n",
    "\n",
    "dim(coldata)\n",
    "dim(cts)\n"
   ]
  },
  {
   "cell_type": "code",
   "execution_count": 3,
   "metadata": {
    "vscode": {
     "languageId": "r"
    }
   },
   "outputs": [
    {
     "data": {
      "text/html": [
       "<table class=\"dataframe\">\n",
       "<caption>A data.frame: 6 × 15</caption>\n",
       "<thead>\n",
       "\t<tr><th></th><th scope=col>recur</th><th scope=col>subject_id_per_gc</th><th scope=col>disease</th><th scope=col>sex</th><th scope=col>ethnicity</th><th scope=col>race</th><th scope=col>smoking</th><th scope=col>age</th><th scope=col>months_surg_postop_colonoscopy</th><th scope=col>subject_id</th><th scope=col>TIN</th><th scope=col>PC1</th><th scope=col>tissue</th><th scope=col>block_location</th><th scope=col>inflammation_status</th></tr>\n",
       "\t<tr><th></th><th scope=col>&lt;chr&gt;</th><th scope=col>&lt;chr&gt;</th><th scope=col>&lt;chr&gt;</th><th scope=col>&lt;chr&gt;</th><th scope=col>&lt;chr&gt;</th><th scope=col>&lt;chr&gt;</th><th scope=col>&lt;int&gt;</th><th scope=col>&lt;int&gt;</th><th scope=col>&lt;int&gt;</th><th scope=col>&lt;chr&gt;</th><th scope=col>&lt;dbl&gt;</th><th scope=col>&lt;dbl&gt;</th><th scope=col>&lt;chr&gt;</th><th scope=col>&lt;chr&gt;</th><th scope=col>&lt;chr&gt;</th></tr>\n",
       "</thead>\n",
       "<tbody>\n",
       "\t<tr><th scope=row>PB12_770_A1</th><td>Non-recurrent</td><td>12-770                                      </td><td>CD</td><td>F</td><td>NH</td><td>WC     </td><td>0</td><td>47</td><td>6</td><td>12_770    </td><td>76.2</td><td>-24.46333</td><td>colon</td><td>colon</td><td>NI</td></tr>\n",
       "\t<tr><th scope=row>PB138_A8</th><td>Recurrent    </td><td>138                                         </td><td>CD</td><td>F</td><td>NH</td><td>WC     </td><td>0</td><td>22</td><td>6</td><td>138       </td><td>80.4</td><td>-30.36808</td><td>colon</td><td>colon</td><td>NI</td></tr>\n",
       "\t<tr><th scope=row>PB140_COLON</th><td>Recurrent    </td><td>140 (604606)                                </td><td>CD</td><td>M</td><td>NH</td><td>BAA    </td><td>0</td><td>22</td><td>4</td><td>140       </td><td>79.3</td><td>-28.24646</td><td>colon</td><td>     </td><td>  </td></tr>\n",
       "\t<tr><th scope=row>PB146_A2</th><td>Recurrent    </td><td>604935 (146) (17-0236-382)                  </td><td>CD</td><td>F</td><td>NH</td><td>Refused</td><td>0</td><td>21</td><td>9</td><td>146       </td><td>76.8</td><td>-25.71356</td><td>colon</td><td>colon</td><td>NI</td></tr>\n",
       "\t<tr><th scope=row>PB17_236_122_A5</th><td>Recurrent    </td><td>(Hans' bx study) 17-0236-122\n",
       "SHARE - 600045</td><td>CD</td><td>M</td><td>NH</td><td>WC     </td><td>0</td><td>32</td><td>6</td><td>17_236_122</td><td>75.7</td><td>-27.38536</td><td>colon</td><td>colon</td><td>NI</td></tr>\n",
       "\t<tr><th scope=row>PB17_236_177_A6</th><td>Non-recurrent</td><td>17-0236-177                                 </td><td>CD</td><td>F</td><td>NH</td><td>WC     </td><td>0</td><td>18</td><td>6</td><td>17_236_177</td><td>81.5</td><td>-21.39823</td><td>colon</td><td>colon</td><td>NI</td></tr>\n",
       "</tbody>\n",
       "</table>\n"
      ],
      "text/latex": [
       "A data.frame: 6 × 15\n",
       "\\begin{tabular}{r|lllllllllllllll}\n",
       "  & recur & subject\\_id\\_per\\_gc & disease & sex & ethnicity & race & smoking & age & months\\_surg\\_postop\\_colonoscopy & subject\\_id & TIN & PC1 & tissue & block\\_location & inflammation\\_status\\\\\n",
       "  & <chr> & <chr> & <chr> & <chr> & <chr> & <chr> & <int> & <int> & <int> & <chr> & <dbl> & <dbl> & <chr> & <chr> & <chr>\\\\\n",
       "\\hline\n",
       "\tPB12\\_770\\_A1 & Non-recurrent & 12-770                                       & CD & F & NH & WC      & 0 & 47 & 6 & 12\\_770     & 76.2 & -24.46333 & colon & colon & NI\\\\\n",
       "\tPB138\\_A8 & Recurrent     & 138                                          & CD & F & NH & WC      & 0 & 22 & 6 & 138        & 80.4 & -30.36808 & colon & colon & NI\\\\\n",
       "\tPB140\\_COLON & Recurrent     & 140 (604606)                                 & CD & M & NH & BAA     & 0 & 22 & 4 & 140        & 79.3 & -28.24646 & colon &       &   \\\\\n",
       "\tPB146\\_A2 & Recurrent     & 604935 (146) (17-0236-382)                   & CD & F & NH & Refused & 0 & 21 & 9 & 146        & 76.8 & -25.71356 & colon & colon & NI\\\\\n",
       "\tPB17\\_236\\_122\\_A5 & Recurrent     & (Hans' bx study) 17-0236-122\n",
       "SHARE - 600045 & CD & M & NH & WC      & 0 & 32 & 6 & 17\\_236\\_122 & 75.7 & -27.38536 & colon & colon & NI\\\\\n",
       "\tPB17\\_236\\_177\\_A6 & Non-recurrent & 17-0236-177                                  & CD & F & NH & WC      & 0 & 18 & 6 & 17\\_236\\_177 & 81.5 & -21.39823 & colon & colon & NI\\\\\n",
       "\\end{tabular}\n"
      ],
      "text/markdown": [
       "\n",
       "A data.frame: 6 × 15\n",
       "\n",
       "| <!--/--> | recur &lt;chr&gt; | subject_id_per_gc &lt;chr&gt; | disease &lt;chr&gt; | sex &lt;chr&gt; | ethnicity &lt;chr&gt; | race &lt;chr&gt; | smoking &lt;int&gt; | age &lt;int&gt; | months_surg_postop_colonoscopy &lt;int&gt; | subject_id &lt;chr&gt; | TIN &lt;dbl&gt; | PC1 &lt;dbl&gt; | tissue &lt;chr&gt; | block_location &lt;chr&gt; | inflammation_status &lt;chr&gt; |\n",
       "|---|---|---|---|---|---|---|---|---|---|---|---|---|---|---|---|\n",
       "| PB12_770_A1 | Non-recurrent | 12-770                                       | CD | F | NH | WC      | 0 | 47 | 6 | 12_770     | 76.2 | -24.46333 | colon | colon | NI |\n",
       "| PB138_A8 | Recurrent     | 138                                          | CD | F | NH | WC      | 0 | 22 | 6 | 138        | 80.4 | -30.36808 | colon | colon | NI |\n",
       "| PB140_COLON | Recurrent     | 140 (604606)                                 | CD | M | NH | BAA     | 0 | 22 | 4 | 140        | 79.3 | -28.24646 | colon | <!----> | <!----> |\n",
       "| PB146_A2 | Recurrent     | 604935 (146) (17-0236-382)                   | CD | F | NH | Refused | 0 | 21 | 9 | 146        | 76.8 | -25.71356 | colon | colon | NI |\n",
       "| PB17_236_122_A5 | Recurrent     | (Hans' bx study) 17-0236-122\n",
       "SHARE - 600045 | CD | M | NH | WC      | 0 | 32 | 6 | 17_236_122 | 75.7 | -27.38536 | colon | colon | NI |\n",
       "| PB17_236_177_A6 | Non-recurrent | 17-0236-177                                  | CD | F | NH | WC      | 0 | 18 | 6 | 17_236_177 | 81.5 | -21.39823 | colon | colon | NI |\n",
       "\n"
      ],
      "text/plain": [
       "                recur         subject_id_per_gc                           \n",
       "PB12_770_A1     Non-recurrent 12-770                                      \n",
       "PB138_A8        Recurrent     138                                         \n",
       "PB140_COLON     Recurrent     140 (604606)                                \n",
       "PB146_A2        Recurrent     604935 (146) (17-0236-382)                  \n",
       "PB17_236_122_A5 Recurrent     (Hans' bx study) 17-0236-122\\nSHARE - 600045\n",
       "PB17_236_177_A6 Non-recurrent 17-0236-177                                 \n",
       "                disease sex ethnicity race    smoking age\n",
       "PB12_770_A1     CD      F   NH        WC      0       47 \n",
       "PB138_A8        CD      F   NH        WC      0       22 \n",
       "PB140_COLON     CD      M   NH        BAA     0       22 \n",
       "PB146_A2        CD      F   NH        Refused 0       21 \n",
       "PB17_236_122_A5 CD      M   NH        WC      0       32 \n",
       "PB17_236_177_A6 CD      F   NH        WC      0       18 \n",
       "                months_surg_postop_colonoscopy subject_id TIN  PC1       tissue\n",
       "PB12_770_A1     6                              12_770     76.2 -24.46333 colon \n",
       "PB138_A8        6                              138        80.4 -30.36808 colon \n",
       "PB140_COLON     4                              140        79.3 -28.24646 colon \n",
       "PB146_A2        9                              146        76.8 -25.71356 colon \n",
       "PB17_236_122_A5 6                              17_236_122 75.7 -27.38536 colon \n",
       "PB17_236_177_A6 6                              17_236_177 81.5 -21.39823 colon \n",
       "                block_location inflammation_status\n",
       "PB12_770_A1     colon          NI                 \n",
       "PB138_A8        colon          NI                 \n",
       "PB140_COLON                                       \n",
       "PB146_A2        colon          NI                 \n",
       "PB17_236_122_A5 colon          NI                 \n",
       "PB17_236_177_A6 colon          NI                 "
      ]
     },
     "metadata": {},
     "output_type": "display_data"
    }
   ],
   "source": [
    "head(coldata)"
   ]
  },
  {
   "cell_type": "code",
   "execution_count": 4,
   "metadata": {
    "vscode": {
     "languageId": "r"
    }
   },
   "outputs": [
    {
     "data": {
      "text/html": [
       "TRUE"
      ],
      "text/latex": [
       "TRUE"
      ],
      "text/markdown": [
       "TRUE"
      ],
      "text/plain": [
       "[1] TRUE"
      ]
     },
     "metadata": {},
     "output_type": "display_data"
    },
    {
     "name": "stderr",
     "output_type": "stream",
     "text": [
      "converting counts to integer mode\n",
      "\n",
      "  Note: levels of factors in the design contain characters other than\n",
      "  letters, numbers, '_' and '.'. It is recommended (but not required) to use\n",
      "  only letters, numbers, and delimiters '_' or '.', as these are safe characters\n",
      "  for column names in R. [This is a message, not a warning or an error]\n",
      "\n"
     ]
    }
   ],
   "source": [
    "factor_cols = c('sex', 'recur', 'inflammation_status')\n",
    "for (col in factor_cols) {\n",
    "  coldata[,col] = as.factor(coldata[,col])\n",
    "}\n",
    "sex = coldata$sex\n",
    "source = coldata$source\n",
    "# tissue = coldata$tissue\n",
    "recur = coldata$recur\n",
    "inflammation_status = coldata$inflammation_status\n",
    "tin = coldata$TIN\n",
    "\n",
    "sample = rownames(coldata)\n",
    "\n",
    "#round counts to integers\n",
    "cts <- round(cts);\n",
    "\n",
    "#check if row names of coldata match colnames of cts\n",
    "all(rownames(coldata) == colnames(cts))\n",
    "\n",
    "#adjust for batch and sexBin\n",
    "design <- as.formula(~ recur)\n",
    "#create the dds object\n",
    "dds = DESeqDataSetFromMatrix(countData = cts, colData = coldata, design = design)\n",
    "\n",
    "vsd = vst(dds)\n",
    "mat = assay(vsd)\n",
    "#PCA of raw data\n",
    "pcaData <- plotPCA(vsd, intgroup=c(\"recur\"), ntop = 500, returnData=TRUE)\n",
    "percentVar <- round(100 * attr(pcaData, \"percentVar\"))\n"
   ]
  },
  {
   "cell_type": "code",
   "execution_count": 5,
   "metadata": {
    "vscode": {
     "languageId": "r"
    }
   },
   "outputs": [],
   "source": [
    "\n",
    "# #save the plot\n",
    "# png(\"results/i/pca_source_raw.png\", width=1024, height=512)\n",
    "# ggplot(pcaData, aes(PC1, PC2, color=source, shape=recur)) +\n",
    "#     geom_point(size=5) +\n",
    "#     #geom_text(aes(label=sample),hjust=0, vjust=0) +\n",
    "#     xlab(paste0(\"PC1: \",percentVar[1],\"% variance\")) +\n",
    "#     ylab(paste0(\"PC2: \",percentVar[2],\"% variance\")) + \n",
    "#     coord_fixed() +\n",
    "    \n",
    "#     theme(text = element_text(size = 24))\n",
    "# dev.off()"
   ]
  },
  {
   "cell_type": "code",
   "execution_count": 6,
   "metadata": {
    "vscode": {
     "languageId": "r"
    }
   },
   "outputs": [
    {
     "name": "stderr",
     "output_type": "stream",
     "text": [
      "Import genomic features from the file as a GRanges object ... \n",
      "OK\n",
      "\n",
      "Prepare the 'metadata' data frame ... \n",
      "OK\n",
      "\n",
      "Make the TxDb object ... \n",
      "Warning message in .get_cds_IDX(mcols0$type, mcols0$phase):\n",
      "“The \"phase\" metadata column contains non-NA values for features of type\n",
      "  stop_codon. This information was ignored.”\n",
      "OK\n",
      "\n",
      "'select()' returned 1:1 mapping between keys and columns\n",
      "\n"
     ]
    }
   ],
   "source": [
    "library('GenomicFeatures')\n",
    "#use the GenomicFeatures package to create a transcript database (txDb) file from our GENCODE annotation file, and use it to pull out the chromosomal coordinates for each of our transcripts (including which chromosome it is on)\n",
    "txdb = makeTxDbFromGFF('../../data/gencode.v39.annotation.gtf', dbxrefTag = \"gene_id\", organism = 'Homo sapiens')\n",
    "k <- keys(txdb, keytype = 'TXNAME')\n",
    "tx2gene <- AnnotationDbi::select(txdb, keys=k, columns=c('GENEID', 'TXCHROM', 'TXSTART', 'TXEND', 'TXSTRAND'), keytype='TXNAME')\n",
    "# make a subset of the list containing only the Ensembl gene IDs and the names of the chromosomes, and create a subset for all the genes on chromosomes X and Y\n",
    "tx2gene_short = tx2gene[,2:3]\n",
    "tx2gene_short = unique(tx2gene_short)\n",
    "tx2gene_short_xychrom = tx2gene_short[tx2gene_short$TXCHROM==\"chrX\" | tx2gene_short$TXCHROM==\"chrY\",]"
   ]
  },
  {
   "cell_type": "code",
   "execution_count": 7,
   "metadata": {
    "vscode": {
     "languageId": "r"
    }
   },
   "outputs": [
    {
     "data": {
      "text/html": [
       "<style>\n",
       ".list-inline {list-style: none; margin:0; padding: 0}\n",
       ".list-inline>li {display: inline-block}\n",
       ".list-inline>li:not(:last-child)::after {content: \"\\00b7\"; padding: 0 .5ex}\n",
       "</style>\n",
       "<ol class=list-inline><li>58219</li><li>41</li></ol>\n"
      ],
      "text/latex": [
       "\\begin{enumerate*}\n",
       "\\item 58219\n",
       "\\item 41\n",
       "\\end{enumerate*}\n"
      ],
      "text/markdown": [
       "1. 58219\n",
       "2. 41\n",
       "\n",
       "\n"
      ],
      "text/plain": [
       "[1] 58219    41"
      ]
     },
     "metadata": {},
     "output_type": "display_data"
    }
   ],
   "source": [
    "#now remove the rows from cts if they are present in 'GENEID' in tx2gene_short_xychrom\n",
    "cts <- cts[! match(rownames(cts), tx2gene_short_xychrom$GENEID, nomatch=0),]\n",
    "dim(cts)"
   ]
  },
  {
   "cell_type": "code",
   "execution_count": 8,
   "metadata": {
    "vscode": {
     "languageId": "r"
    }
   },
   "outputs": [
    {
     "data": {
      "text/plain": [
       "keep\n",
       "FALSE  TRUE \n",
       "29854 31260 "
      ]
     },
     "metadata": {},
     "output_type": "display_data"
    },
    {
     "name": "stderr",
     "output_type": "stream",
     "text": [
      "estimating size factors\n",
      "\n",
      "  Note: levels of factors in the design contain characters other than\n",
      "  letters, numbers, '_' and '.'. It is recommended (but not required) to use\n",
      "  only letters, numbers, and delimiters '_' or '.', as these are safe characters\n",
      "  for column names in R. [This is a message, not a warning or an error]\n",
      "\n",
      "estimating dispersions\n",
      "\n",
      "gene-wise dispersion estimates\n",
      "\n",
      "mean-dispersion relationship\n",
      "\n",
      "  Note: levels of factors in the design contain characters other than\n",
      "  letters, numbers, '_' and '.'. It is recommended (but not required) to use\n",
      "  only letters, numbers, and delimiters '_' or '.', as these are safe characters\n",
      "  for column names in R. [This is a message, not a warning or an error]\n",
      "\n",
      "final dispersion estimates\n",
      "\n",
      "  Note: levels of factors in the design contain characters other than\n",
      "  letters, numbers, '_' and '.'. It is recommended (but not required) to use\n",
      "  only letters, numbers, and delimiters '_' or '.', as these are safe characters\n",
      "  for column names in R. [This is a message, not a warning or an error]\n",
      "\n",
      "fitting model and testing\n",
      "\n",
      "  Note: levels of factors in the design contain characters other than\n",
      "  letters, numbers, '_' and '.'. It is recommended (but not required) to use\n",
      "  only letters, numbers, and delimiters '_' or '.', as these are safe characters\n",
      "  for column names in R. [This is a message, not a warning or an error]\n",
      "\n",
      "-- replacing outliers and refitting for 413 genes\n",
      "-- DESeq argument 'minReplicatesForReplace' = 7 \n",
      "-- original counts are preserved in counts(dds)\n",
      "\n",
      "estimating dispersions\n",
      "\n",
      "  Note: levels of factors in the design contain characters other than\n",
      "  letters, numbers, '_' and '.'. It is recommended (but not required) to use\n",
      "  only letters, numbers, and delimiters '_' or '.', as these are safe characters\n",
      "  for column names in R. [This is a message, not a warning or an error]\n",
      "\n",
      "fitting model and testing\n",
      "\n",
      "  Note: levels of factors in the design contain characters other than\n",
      "  letters, numbers, '_' and '.'. It is recommended (but not required) to use\n",
      "  only letters, numbers, and delimiters '_' or '.', as these are safe characters\n",
      "  for column names in R. [This is a message, not a warning or an error]\n",
      "\n"
     ]
    }
   ],
   "source": [
    "#DESeq on the raw data to identify control genes\n",
    "#filter genes for low expression with edgeR\n",
    "y <- DGEList(counts=counts(dds), group=recur)\n",
    "keep <- filterByExpr(y)\n",
    "table(keep)\n",
    "y <- y[keep,]\n",
    "dds <- dds[keep,]\n",
    "\n",
    "dds <- DESeq(dds)\n",
    "res <- results(dds)"
   ]
  },
  {
   "cell_type": "code",
   "execution_count": 9,
   "metadata": {
    "vscode": {
     "languageId": "r"
    }
   },
   "outputs": [
    {
     "data": {
      "text/plain": [
       "\n",
       "FALSE  TRUE \n",
       "14354 16906 "
      ]
     },
     "metadata": {},
     "output_type": "display_data"
    }
   ],
   "source": [
    "table(res$pvalue < 0.5)"
   ]
  },
  {
   "cell_type": "code",
   "execution_count": 10,
   "metadata": {
    "vscode": {
     "languageId": "r"
    }
   },
   "outputs": [],
   "source": [
    "set <- newSeqExpressionSet(counts(dds))\n",
    "set <- betweenLaneNormalization(set, which='upper')\n",
    "not_sig <- rownames(res)[which(res$pvalue > 0.5)]\n",
    "empirical <- rownames(set)[ rownames(set) %in% not_sig ]\n",
    "set <- RUVg(set, empirical, k=20)\n",
    "pdat <- pData(set)\n",
    "pdat$recur <- recur\n",
    "pdat$sex <- sex\n",
    "pdat$inf <- inflammation_status\n",
    "pdat$TIN <- tin\n",
    "pdat$source <- source"
   ]
  },
  {
   "cell_type": "code",
   "execution_count": 11,
   "metadata": {
    "vscode": {
     "languageId": "r"
    }
   },
   "outputs": [],
   "source": [
    "#write out the ruv factors to csv\n",
    "write.csv(pdat, file = \"../../results/recur/c/ruvg_runs/data_ruvg.csv\")"
   ]
  },
  {
   "cell_type": "code",
   "execution_count": 12,
   "metadata": {
    "vscode": {
     "languageId": "r"
    }
   },
   "outputs": [],
   "source": [
    "formula_list = list(\n",
    "~ sex + W_1 + recur, \n",
    "~ sex + W_1 + W_2 + recur, \n",
    "~ sex + W_1 + W_2 + W_3 + recur, \n",
    "~ sex + W_1 + W_2 + W_3 + W_4 + recur, \n",
    "~ sex + W_1 + W_2 + W_3 + W_4 + W_5 + recur, \n",
    "~ sex + W_1 + W_2 + W_3 + W_4 + W_5 + W_6 + recur, \n",
    "~ sex + W_1 + W_2 + W_3 + W_4 + W_5 + W_6 + W_7 + recur, \n",
    "~ sex + W_1 + W_2 + W_3 + W_4 + W_5 + W_6 + W_7 + W_8 + recur, \n",
    "~ sex + W_1 + W_2 + W_3 + W_4 + W_5 + W_6 + W_7 + W_8 + W_9 + recur, \n",
    "~ sex + W_1 + W_2 + W_3 + W_4 + W_5 + W_6 + W_7 + W_8 + W_9 + W_10 + recur,\n",
    "~ sex + W_1 + W_2 + W_3 + W_4 + W_5 + W_6 + W_7 + W_8 + W_9 + W_10 + W_11 + recur,\n",
    "~ sex + W_1 + W_2 + W_3 + W_4 + W_5 + W_6 + W_7 + W_8 + W_9 + W_10 + W_11 + W_12 + recur,\n",
    "~ sex + W_1 + W_2 + W_3 + W_4 + W_5 + W_6 + W_7 + W_8 + W_9 + W_10 + W_11 + W_12 + W_13 + recur,\n",
    "~ sex + W_1 + W_2 + W_3 + W_4 + W_5 + W_6 + W_7 + W_8 + W_9 + W_10 + W_11 + W_12 + W_13 + W_14 + recur,\n",
    "~ sex + W_1 + W_2 + W_3 + W_4 + W_5 + W_6 + W_7 + W_8 + W_9 + W_10 + W_11 + W_12 + W_13 + W_14 + + W_15 + recur,\n",
    "~ sex + W_1 + W_2 + W_3 + W_4 + W_5 + W_6 + W_7 + W_8 + W_9 + W_10 + W_11 + W_12 + W_13 + W_14 + + W_15 + W_16 + recur,\n",
    "~ sex + W_1 + W_2 + W_3 + W_4 + W_5 + W_6 + W_7 + W_8 + W_9 + W_10 + W_11 + W_12 + W_13 + W_14 + + W_15 + W_16 + W_17 + recur,\n",
    "~ sex + W_1 + W_2 + W_3 + W_4 + W_5 + W_6 + W_7 + W_8 + W_9 + W_10 + W_11 + W_12 + W_13 + W_14 + + W_15 + W_16 + W_17 + W_18 + recur,\n",
    "~ sex + W_1 + W_2 + W_3 + W_4 + W_5 + W_6 + W_7 + W_8 + W_9 + W_10 + W_11 + W_12 + W_13 + W_14 + + W_15 + W_16 + W_17 + W_18 + W_19 + recur,\n",
    "~ sex + W_1 + W_2 + W_3 + W_4 + W_5 + W_6 + W_7 + W_8 + W_9 + W_10 + W_11 + W_12 + W_13 + W_14 + + W_15 + W_16 + W_17 + W_18 + W_19 + W_20 + recur)\n"
   ]
  },
  {
   "cell_type": "code",
   "execution_count": 13,
   "metadata": {
    "vscode": {
     "languageId": "r"
    }
   },
   "outputs": [
    {
     "name": "stderr",
     "output_type": "stream",
     "text": [
      "converting counts to integer mode\n",
      "\n",
      "  Note: levels of factors in the design contain characters other than\n",
      "  letters, numbers, '_' and '.'. It is recommended (but not required) to use\n",
      "  only letters, numbers, and delimiters '_' or '.', as these are safe characters\n",
      "  for column names in R. [This is a message, not a warning or an error]\n",
      "\n",
      "estimating size factors\n",
      "\n",
      "  Note: levels of factors in the design contain characters other than\n",
      "  letters, numbers, '_' and '.'. It is recommended (but not required) to use\n",
      "  only letters, numbers, and delimiters '_' or '.', as these are safe characters\n",
      "  for column names in R. [This is a message, not a warning or an error]\n",
      "\n",
      "estimating dispersions\n",
      "\n",
      "gene-wise dispersion estimates\n",
      "\n",
      "mean-dispersion relationship\n",
      "\n",
      "  Note: levels of factors in the design contain characters other than\n",
      "  letters, numbers, '_' and '.'. It is recommended (but not required) to use\n",
      "  only letters, numbers, and delimiters '_' or '.', as these are safe characters\n",
      "  for column names in R. [This is a message, not a warning or an error]\n",
      "\n",
      "final dispersion estimates\n",
      "\n",
      "  Note: levels of factors in the design contain characters other than\n",
      "  letters, numbers, '_' and '.'. It is recommended (but not required) to use\n",
      "  only letters, numbers, and delimiters '_' or '.', as these are safe characters\n",
      "  for column names in R. [This is a message, not a warning or an error]\n",
      "\n",
      "fitting model and testing\n",
      "\n",
      "converting counts to integer mode\n",
      "\n",
      "  Note: levels of factors in the design contain characters other than\n",
      "  letters, numbers, '_' and '.'. It is recommended (but not required) to use\n",
      "  only letters, numbers, and delimiters '_' or '.', as these are safe characters\n",
      "  for column names in R. [This is a message, not a warning or an error]\n",
      "\n",
      "estimating size factors\n",
      "\n",
      "  Note: levels of factors in the design contain characters other than\n",
      "  letters, numbers, '_' and '.'. It is recommended (but not required) to use\n",
      "  only letters, numbers, and delimiters '_' or '.', as these are safe characters\n",
      "  for column names in R. [This is a message, not a warning or an error]\n",
      "\n",
      "estimating dispersions\n",
      "\n",
      "gene-wise dispersion estimates\n",
      "\n",
      "mean-dispersion relationship\n",
      "\n",
      "  Note: levels of factors in the design contain characters other than\n",
      "  letters, numbers, '_' and '.'. It is recommended (but not required) to use\n",
      "  only letters, numbers, and delimiters '_' or '.', as these are safe characters\n",
      "  for column names in R. [This is a message, not a warning or an error]\n",
      "\n",
      "final dispersion estimates\n",
      "\n",
      "  Note: levels of factors in the design contain characters other than\n",
      "  letters, numbers, '_' and '.'. It is recommended (but not required) to use\n",
      "  only letters, numbers, and delimiters '_' or '.', as these are safe characters\n",
      "  for column names in R. [This is a message, not a warning or an error]\n",
      "\n",
      "fitting model and testing\n",
      "\n",
      "converting counts to integer mode\n",
      "\n",
      "  Note: levels of factors in the design contain characters other than\n",
      "  letters, numbers, '_' and '.'. It is recommended (but not required) to use\n",
      "  only letters, numbers, and delimiters '_' or '.', as these are safe characters\n",
      "  for column names in R. [This is a message, not a warning or an error]\n",
      "\n",
      "estimating size factors\n",
      "\n",
      "  Note: levels of factors in the design contain characters other than\n",
      "  letters, numbers, '_' and '.'. It is recommended (but not required) to use\n",
      "  only letters, numbers, and delimiters '_' or '.', as these are safe characters\n",
      "  for column names in R. [This is a message, not a warning or an error]\n",
      "\n",
      "estimating dispersions\n",
      "\n",
      "gene-wise dispersion estimates\n",
      "\n",
      "mean-dispersion relationship\n",
      "\n",
      "  Note: levels of factors in the design contain characters other than\n",
      "  letters, numbers, '_' and '.'. It is recommended (but not required) to use\n",
      "  only letters, numbers, and delimiters '_' or '.', as these are safe characters\n",
      "  for column names in R. [This is a message, not a warning or an error]\n",
      "\n",
      "final dispersion estimates\n",
      "\n",
      "  Note: levels of factors in the design contain characters other than\n",
      "  letters, numbers, '_' and '.'. It is recommended (but not required) to use\n",
      "  only letters, numbers, and delimiters '_' or '.', as these are safe characters\n",
      "  for column names in R. [This is a message, not a warning or an error]\n",
      "\n",
      "fitting model and testing\n",
      "\n",
      "converting counts to integer mode\n",
      "\n",
      "  Note: levels of factors in the design contain characters other than\n",
      "  letters, numbers, '_' and '.'. It is recommended (but not required) to use\n",
      "  only letters, numbers, and delimiters '_' or '.', as these are safe characters\n",
      "  for column names in R. [This is a message, not a warning or an error]\n",
      "\n",
      "estimating size factors\n",
      "\n",
      "  Note: levels of factors in the design contain characters other than\n",
      "  letters, numbers, '_' and '.'. It is recommended (but not required) to use\n",
      "  only letters, numbers, and delimiters '_' or '.', as these are safe characters\n",
      "  for column names in R. [This is a message, not a warning or an error]\n",
      "\n",
      "estimating dispersions\n",
      "\n",
      "gene-wise dispersion estimates\n",
      "\n",
      "mean-dispersion relationship\n",
      "\n",
      "  Note: levels of factors in the design contain characters other than\n",
      "  letters, numbers, '_' and '.'. It is recommended (but not required) to use\n",
      "  only letters, numbers, and delimiters '_' or '.', as these are safe characters\n",
      "  for column names in R. [This is a message, not a warning or an error]\n",
      "\n",
      "final dispersion estimates\n",
      "\n",
      "  Note: levels of factors in the design contain characters other than\n",
      "  letters, numbers, '_' and '.'. It is recommended (but not required) to use\n",
      "  only letters, numbers, and delimiters '_' or '.', as these are safe characters\n",
      "  for column names in R. [This is a message, not a warning or an error]\n",
      "\n",
      "fitting model and testing\n",
      "\n",
      "converting counts to integer mode\n",
      "\n",
      "  Note: levels of factors in the design contain characters other than\n",
      "  letters, numbers, '_' and '.'. It is recommended (but not required) to use\n",
      "  only letters, numbers, and delimiters '_' or '.', as these are safe characters\n",
      "  for column names in R. [This is a message, not a warning or an error]\n",
      "\n",
      "estimating size factors\n",
      "\n",
      "  Note: levels of factors in the design contain characters other than\n",
      "  letters, numbers, '_' and '.'. It is recommended (but not required) to use\n",
      "  only letters, numbers, and delimiters '_' or '.', as these are safe characters\n",
      "  for column names in R. [This is a message, not a warning or an error]\n",
      "\n",
      "estimating dispersions\n",
      "\n",
      "gene-wise dispersion estimates\n",
      "\n",
      "mean-dispersion relationship\n",
      "\n",
      "  Note: levels of factors in the design contain characters other than\n",
      "  letters, numbers, '_' and '.'. It is recommended (but not required) to use\n",
      "  only letters, numbers, and delimiters '_' or '.', as these are safe characters\n",
      "  for column names in R. [This is a message, not a warning or an error]\n",
      "\n",
      "final dispersion estimates\n",
      "\n",
      "  Note: levels of factors in the design contain characters other than\n",
      "  letters, numbers, '_' and '.'. It is recommended (but not required) to use\n",
      "  only letters, numbers, and delimiters '_' or '.', as these are safe characters\n",
      "  for column names in R. [This is a message, not a warning or an error]\n",
      "\n",
      "fitting model and testing\n",
      "\n",
      "converting counts to integer mode\n",
      "\n",
      "  Note: levels of factors in the design contain characters other than\n",
      "  letters, numbers, '_' and '.'. It is recommended (but not required) to use\n",
      "  only letters, numbers, and delimiters '_' or '.', as these are safe characters\n",
      "  for column names in R. [This is a message, not a warning or an error]\n",
      "\n",
      "estimating size factors\n",
      "\n",
      "  Note: levels of factors in the design contain characters other than\n",
      "  letters, numbers, '_' and '.'. It is recommended (but not required) to use\n",
      "  only letters, numbers, and delimiters '_' or '.', as these are safe characters\n",
      "  for column names in R. [This is a message, not a warning or an error]\n",
      "\n",
      "estimating dispersions\n",
      "\n",
      "gene-wise dispersion estimates\n",
      "\n",
      "mean-dispersion relationship\n",
      "\n",
      "  Note: levels of factors in the design contain characters other than\n",
      "  letters, numbers, '_' and '.'. It is recommended (but not required) to use\n",
      "  only letters, numbers, and delimiters '_' or '.', as these are safe characters\n",
      "  for column names in R. [This is a message, not a warning or an error]\n",
      "\n",
      "final dispersion estimates\n",
      "\n",
      "  Note: levels of factors in the design contain characters other than\n",
      "  letters, numbers, '_' and '.'. It is recommended (but not required) to use\n",
      "  only letters, numbers, and delimiters '_' or '.', as these are safe characters\n",
      "  for column names in R. [This is a message, not a warning or an error]\n",
      "\n",
      "fitting model and testing\n",
      "\n",
      "converting counts to integer mode\n",
      "\n",
      "  Note: levels of factors in the design contain characters other than\n",
      "  letters, numbers, '_' and '.'. It is recommended (but not required) to use\n",
      "  only letters, numbers, and delimiters '_' or '.', as these are safe characters\n",
      "  for column names in R. [This is a message, not a warning or an error]\n",
      "\n",
      "estimating size factors\n",
      "\n",
      "  Note: levels of factors in the design contain characters other than\n",
      "  letters, numbers, '_' and '.'. It is recommended (but not required) to use\n",
      "  only letters, numbers, and delimiters '_' or '.', as these are safe characters\n",
      "  for column names in R. [This is a message, not a warning or an error]\n",
      "\n",
      "estimating dispersions\n",
      "\n",
      "gene-wise dispersion estimates\n",
      "\n",
      "mean-dispersion relationship\n",
      "\n",
      "  Note: levels of factors in the design contain characters other than\n",
      "  letters, numbers, '_' and '.'. It is recommended (but not required) to use\n",
      "  only letters, numbers, and delimiters '_' or '.', as these are safe characters\n",
      "  for column names in R. [This is a message, not a warning or an error]\n",
      "\n",
      "final dispersion estimates\n",
      "\n",
      "  Note: levels of factors in the design contain characters other than\n",
      "  letters, numbers, '_' and '.'. It is recommended (but not required) to use\n",
      "  only letters, numbers, and delimiters '_' or '.', as these are safe characters\n",
      "  for column names in R. [This is a message, not a warning or an error]\n",
      "\n",
      "fitting model and testing\n",
      "\n",
      "converting counts to integer mode\n",
      "\n",
      "  Note: levels of factors in the design contain characters other than\n",
      "  letters, numbers, '_' and '.'. It is recommended (but not required) to use\n",
      "  only letters, numbers, and delimiters '_' or '.', as these are safe characters\n",
      "  for column names in R. [This is a message, not a warning or an error]\n",
      "\n",
      "estimating size factors\n",
      "\n",
      "  Note: levels of factors in the design contain characters other than\n",
      "  letters, numbers, '_' and '.'. It is recommended (but not required) to use\n",
      "  only letters, numbers, and delimiters '_' or '.', as these are safe characters\n",
      "  for column names in R. [This is a message, not a warning or an error]\n",
      "\n",
      "estimating dispersions\n",
      "\n",
      "gene-wise dispersion estimates\n",
      "\n",
      "mean-dispersion relationship\n",
      "\n",
      "  Note: levels of factors in the design contain characters other than\n",
      "  letters, numbers, '_' and '.'. It is recommended (but not required) to use\n",
      "  only letters, numbers, and delimiters '_' or '.', as these are safe characters\n",
      "  for column names in R. [This is a message, not a warning or an error]\n",
      "\n",
      "final dispersion estimates\n",
      "\n",
      "  Note: levels of factors in the design contain characters other than\n",
      "  letters, numbers, '_' and '.'. It is recommended (but not required) to use\n",
      "  only letters, numbers, and delimiters '_' or '.', as these are safe characters\n",
      "  for column names in R. [This is a message, not a warning or an error]\n",
      "\n",
      "fitting model and testing\n",
      "\n",
      "3 rows did not converge in beta, labelled in mcols(object)$betaConv. Use larger maxit argument with nbinomWaldTest\n",
      "\n",
      "converting counts to integer mode\n",
      "\n",
      "  Note: levels of factors in the design contain characters other than\n",
      "  letters, numbers, '_' and '.'. It is recommended (but not required) to use\n",
      "  only letters, numbers, and delimiters '_' or '.', as these are safe characters\n",
      "  for column names in R. [This is a message, not a warning or an error]\n",
      "\n",
      "estimating size factors\n",
      "\n",
      "  Note: levels of factors in the design contain characters other than\n",
      "  letters, numbers, '_' and '.'. It is recommended (but not required) to use\n",
      "  only letters, numbers, and delimiters '_' or '.', as these are safe characters\n",
      "  for column names in R. [This is a message, not a warning or an error]\n",
      "\n",
      "estimating dispersions\n",
      "\n",
      "gene-wise dispersion estimates\n",
      "\n",
      "mean-dispersion relationship\n",
      "\n",
      "  Note: levels of factors in the design contain characters other than\n",
      "  letters, numbers, '_' and '.'. It is recommended (but not required) to use\n",
      "  only letters, numbers, and delimiters '_' or '.', as these are safe characters\n",
      "  for column names in R. [This is a message, not a warning or an error]\n",
      "\n",
      "final dispersion estimates\n",
      "\n",
      "  Note: levels of factors in the design contain characters other than\n",
      "  letters, numbers, '_' and '.'. It is recommended (but not required) to use\n",
      "  only letters, numbers, and delimiters '_' or '.', as these are safe characters\n",
      "  for column names in R. [This is a message, not a warning or an error]\n",
      "\n",
      "fitting model and testing\n",
      "\n",
      "7 rows did not converge in beta, labelled in mcols(object)$betaConv. Use larger maxit argument with nbinomWaldTest\n",
      "\n",
      "converting counts to integer mode\n",
      "\n",
      "  Note: levels of factors in the design contain characters other than\n",
      "  letters, numbers, '_' and '.'. It is recommended (but not required) to use\n",
      "  only letters, numbers, and delimiters '_' or '.', as these are safe characters\n",
      "  for column names in R. [This is a message, not a warning or an error]\n",
      "\n",
      "estimating size factors\n",
      "\n",
      "  Note: levels of factors in the design contain characters other than\n",
      "  letters, numbers, '_' and '.'. It is recommended (but not required) to use\n",
      "  only letters, numbers, and delimiters '_' or '.', as these are safe characters\n",
      "  for column names in R. [This is a message, not a warning or an error]\n",
      "\n",
      "estimating dispersions\n",
      "\n",
      "gene-wise dispersion estimates\n",
      "\n",
      "mean-dispersion relationship\n",
      "\n",
      "  Note: levels of factors in the design contain characters other than\n",
      "  letters, numbers, '_' and '.'. It is recommended (but not required) to use\n",
      "  only letters, numbers, and delimiters '_' or '.', as these are safe characters\n",
      "  for column names in R. [This is a message, not a warning or an error]\n",
      "\n",
      "final dispersion estimates\n",
      "\n",
      "  Note: levels of factors in the design contain characters other than\n",
      "  letters, numbers, '_' and '.'. It is recommended (but not required) to use\n",
      "  only letters, numbers, and delimiters '_' or '.', as these are safe characters\n",
      "  for column names in R. [This is a message, not a warning or an error]\n",
      "\n",
      "fitting model and testing\n",
      "\n",
      "7 rows did not converge in beta, labelled in mcols(object)$betaConv. Use larger maxit argument with nbinomWaldTest\n",
      "\n",
      "converting counts to integer mode\n",
      "\n",
      "  Note: levels of factors in the design contain characters other than\n",
      "  letters, numbers, '_' and '.'. It is recommended (but not required) to use\n",
      "  only letters, numbers, and delimiters '_' or '.', as these are safe characters\n",
      "  for column names in R. [This is a message, not a warning or an error]\n",
      "\n",
      "estimating size factors\n",
      "\n",
      "  Note: levels of factors in the design contain characters other than\n",
      "  letters, numbers, '_' and '.'. It is recommended (but not required) to use\n",
      "  only letters, numbers, and delimiters '_' or '.', as these are safe characters\n",
      "  for column names in R. [This is a message, not a warning or an error]\n",
      "\n",
      "estimating dispersions\n",
      "\n",
      "gene-wise dispersion estimates\n",
      "\n",
      "mean-dispersion relationship\n",
      "\n",
      "  Note: levels of factors in the design contain characters other than\n",
      "  letters, numbers, '_' and '.'. It is recommended (but not required) to use\n",
      "  only letters, numbers, and delimiters '_' or '.', as these are safe characters\n",
      "  for column names in R. [This is a message, not a warning or an error]\n",
      "\n",
      "final dispersion estimates\n",
      "\n",
      "  Note: levels of factors in the design contain characters other than\n",
      "  letters, numbers, '_' and '.'. It is recommended (but not required) to use\n",
      "  only letters, numbers, and delimiters '_' or '.', as these are safe characters\n",
      "  for column names in R. [This is a message, not a warning or an error]\n",
      "\n",
      "fitting model and testing\n",
      "\n"
     ]
    }
   ],
   "source": [
    "\n",
    "\n",
    "#create an empty dataframe to store the number of significant genes\n",
    "deg_counts = data.frame(matrix(ncol=20, nrow=0))\n",
    "colnames(deg_counts) = c(\"formula\", \"sig_genes\")\n",
    "\n",
    "for (x in seq_along(formula_list)) {\n",
    "    design_formula = formula(formula_list[[x]])\n",
    "    dds1 <- DESeqDataSetFromMatrix(countData=cts, colData=pdat, design = design_formula)\n",
    "    y <- DGEList(counts=counts(dds1), group=coldata$recur)\n",
    "    keep <- filterByExpr(y)\n",
    "    table(keep)\n",
    "    y <- y[keep,]\n",
    "    dds1 <- dds1[keep,]\n",
    "    dds1 <- DESeq(dds1)\n",
    "    res <- results(dds1)\n",
    "    res <- res[order(res$padj),]\n",
    "    #get the number of significant genes\n",
    "    sig_genes <- res[which(res$padj < 0.05),]\n",
    "    #save the number of significant genes to the dataframe\n",
    "    deg_counts = rbind(deg_counts, c(x, nrow(sig_genes)))\n",
    "    #save the results to a csv file\n",
    "    write.csv(res, paste0(\"../../results/recur/c/ruvg_runs/res5_\", x, \".csv\"))\n",
    "    \n",
    "}\n",
    "\n",
    "head(deg_counts, 10)"
   ]
  },
  {
   "cell_type": "code",
   "execution_count": null,
   "metadata": {
    "vscode": {
     "languageId": "r"
    }
   },
   "outputs": [
    {
     "data": {
      "text/html": [
       "<table class=\"dataframe\">\n",
       "<caption>A data.frame: 10 × 2</caption>\n",
       "<thead>\n",
       "\t<tr><th></th><th scope=col>formula</th><th scope=col>sig_genes</th></tr>\n",
       "\t<tr><th></th><th scope=col>&lt;int&gt;</th><th scope=col>&lt;int&gt;</th></tr>\n",
       "</thead>\n",
       "<tbody>\n",
       "\t<tr><th scope=row>11</th><td>11</td><td>283</td></tr>\n",
       "\t<tr><th scope=row>12</th><td>12</td><td>318</td></tr>\n",
       "\t<tr><th scope=row>13</th><td>13</td><td>416</td></tr>\n",
       "\t<tr><th scope=row>14</th><td>14</td><td>404</td></tr>\n",
       "\t<tr><th scope=row>15</th><td>15</td><td>519</td></tr>\n",
       "\t<tr><th scope=row>16</th><td>16</td><td>626</td></tr>\n",
       "\t<tr><th scope=row>17</th><td>17</td><td>700</td></tr>\n",
       "\t<tr><th scope=row>18</th><td>18</td><td>744</td></tr>\n",
       "\t<tr><th scope=row>19</th><td>19</td><td>813</td></tr>\n",
       "\t<tr><th scope=row>20</th><td>20</td><td>787</td></tr>\n",
       "</tbody>\n",
       "</table>\n"
      ],
      "text/latex": [
       "A data.frame: 10 × 2\n",
       "\\begin{tabular}{r|ll}\n",
       "  & formula & sig\\_genes\\\\\n",
       "  & <int> & <int>\\\\\n",
       "\\hline\n",
       "\t11 & 11 & 283\\\\\n",
       "\t12 & 12 & 318\\\\\n",
       "\t13 & 13 & 416\\\\\n",
       "\t14 & 14 & 404\\\\\n",
       "\t15 & 15 & 519\\\\\n",
       "\t16 & 16 & 626\\\\\n",
       "\t17 & 17 & 700\\\\\n",
       "\t18 & 18 & 744\\\\\n",
       "\t19 & 19 & 813\\\\\n",
       "\t20 & 20 & 787\\\\\n",
       "\\end{tabular}\n"
      ],
      "text/markdown": [
       "\n",
       "A data.frame: 10 × 2\n",
       "\n",
       "| <!--/--> | formula &lt;int&gt; | sig_genes &lt;int&gt; |\n",
       "|---|---|---|\n",
       "| 11 | 11 | 283 |\n",
       "| 12 | 12 | 318 |\n",
       "| 13 | 13 | 416 |\n",
       "| 14 | 14 | 404 |\n",
       "| 15 | 15 | 519 |\n",
       "| 16 | 16 | 626 |\n",
       "| 17 | 17 | 700 |\n",
       "| 18 | 18 | 744 |\n",
       "| 19 | 19 | 813 |\n",
       "| 20 | 20 | 787 |\n",
       "\n"
      ],
      "text/plain": [
       "   formula sig_genes\n",
       "11 11      283      \n",
       "12 12      318      \n",
       "13 13      416      \n",
       "14 14      404      \n",
       "15 15      519      \n",
       "16 16      626      \n",
       "17 17      700      \n",
       "18 18      744      \n",
       "19 19      813      \n",
       "20 20      787      "
      ]
     },
     "metadata": {},
     "output_type": "display_data"
    }
   ],
   "source": [
    "tail(deg_counts, 10)"
   ]
  },
  {
   "cell_type": "code",
   "execution_count": null,
   "metadata": {
    "vscode": {
     "languageId": "r"
    }
   },
   "outputs": [
    {
     "data": {
      "image/png": "[encoded data removed]",
      "text/plain": [
       "plot without title"
      ]
     },
     "metadata": {
      "image/png": {
       "height": 420,
       "width": 420
      }
     },
     "output_type": "display_data"
    }
   ],
   "source": [
    "colnames(deg_counts) = c(\"formula\", \"sig_genes\")\n",
    "#plot the number of significant genes vs the number of covariates\n",
    "ggplot(deg_counts, aes(x=formula, y=sig_genes)) +\n",
    "    geom_point(size=5) +\n",
    "    geom_line() +\n",
    "    xlab(\"Number of Covariates\") +\n",
    "    ylab(\"Number of Significant Genes\") +\n",
    "    theme(text = element_text(size = 24))"
   ]
  },
  {
   "cell_type": "code",
   "execution_count": 13,
   "metadata": {
    "vscode": {
     "languageId": "r"
    }
   },
   "outputs": [
    {
     "data": {
      "text/plain": [
       "~sex + W_1 + W_2 + W_3 + W_4 + W_5 + W_6 + W_7 + W_8 + W_9 + \n",
       "    W_10 + W_11 + W_12 + W_13 + W_14 + +W_15 + W_16 + W_17 + \n",
       "    W_18 + W_19 + recur"
      ]
     },
     "metadata": {},
     "output_type": "display_data"
    }
   ],
   "source": [
    "#use 18 covariates\n",
    "design_formula = formula(formula_list[[19]])\n",
    "design_formula"
   ]
  },
  {
   "cell_type": "code",
   "execution_count": 14,
   "metadata": {
    "vscode": {
     "languageId": "r"
    }
   },
   "outputs": [
    {
     "name": "stderr",
     "output_type": "stream",
     "text": [
      "converting counts to integer mode\n",
      "\n",
      "  Note: levels of factors in the design contain characters other than\n",
      "  letters, numbers, '_' and '.'. It is recommended (but not required) to use\n",
      "  only letters, numbers, and delimiters '_' or '.', as these are safe characters\n",
      "  for column names in R. [This is a message, not a warning or an error]\n",
      "\n"
     ]
    },
    {
     "data": {
      "text/plain": [
       "keep\n",
       "FALSE  TRUE \n",
       "27975 30244 "
      ]
     },
     "metadata": {},
     "output_type": "display_data"
    },
    {
     "name": "stderr",
     "output_type": "stream",
     "text": [
      "estimating size factors\n",
      "\n",
      "  Note: levels of factors in the design contain characters other than\n",
      "  letters, numbers, '_' and '.'. It is recommended (but not required) to use\n",
      "  only letters, numbers, and delimiters '_' or '.', as these are safe characters\n",
      "  for column names in R. [This is a message, not a warning or an error]\n",
      "\n",
      "estimating dispersions\n",
      "\n",
      "gene-wise dispersion estimates\n",
      "\n",
      "mean-dispersion relationship\n",
      "\n",
      "  Note: levels of factors in the design contain characters other than\n",
      "  letters, numbers, '_' and '.'. It is recommended (but not required) to use\n",
      "  only letters, numbers, and delimiters '_' or '.', as these are safe characters\n",
      "  for column names in R. [This is a message, not a warning or an error]\n",
      "\n",
      "final dispersion estimates\n",
      "\n",
      "  Note: levels of factors in the design contain characters other than\n",
      "  letters, numbers, '_' and '.'. It is recommended (but not required) to use\n",
      "  only letters, numbers, and delimiters '_' or '.', as these are safe characters\n",
      "  for column names in R. [This is a message, not a warning or an error]\n",
      "\n",
      "fitting model and testing\n",
      "\n",
      "60 rows did not converge in beta, labelled in mcols(object)$betaConv. Use larger maxit argument with nbinomWaldTest\n",
      "\n"
     ]
    }
   ],
   "source": [
    "dds = DESeqDataSetFromMatrix(countData=cts, colData=pdat, design = design_formula)\n",
    "#filter genes for low expression with edgeR\n",
    "y <- DGEList(counts=counts(dds), group=recur)\n",
    "keep <- filterByExpr(y)\n",
    "table(keep)\n",
    "y <- y[keep,]\n",
    "dds <- dds[keep,]\n",
    "#run DESeq\n",
    "dds <- DESeq(dds)\n",
    "res <- results(dds)"
   ]
  },
  {
   "cell_type": "code",
   "execution_count": 15,
   "metadata": {
    "vscode": {
     "languageId": "r"
    }
   },
   "outputs": [
    {
     "name": "stderr",
     "output_type": "stream",
     "text": [
      "\n",
      "Attaching package: ‘genefilter’\n",
      "\n",
      "\n",
      "The following object is masked _by_ ‘.GlobalEnv’:\n",
      "\n",
      "    varFilter\n",
      "\n",
      "\n",
      "The following object is masked from ‘package:readr’:\n",
      "\n",
      "    spec\n",
      "\n",
      "\n",
      "The following objects are masked from ‘package:MatrixGenerics’:\n",
      "\n",
      "    rowSds, rowVars\n",
      "\n",
      "\n",
      "The following objects are masked from ‘package:matrixStats’:\n",
      "\n",
      "    rowSds, rowVars\n",
      "\n",
      "\n"
     ]
    }
   ],
   "source": [
    "library('pheatmap')\n",
    "library('genefilter')\n",
    "#use RemoveBatchEffect to adjust for the identified covariates\n",
    "#first create variables for each of the RUV factors\n",
    "ruv1 = pdat$W_1\n",
    "ruv2 = pdat$W_2\n",
    "ruv3 = pdat$W_3\n",
    "ruv4 = pdat$W_4\n",
    "ruv5 = pdat$W_5\n",
    "ruv6 = pdat$W_6\n",
    "ruv7 = pdat$W_7\n",
    "ruv8 = pdat$W_8\n",
    "ruv9 = pdat$W_9\n",
    "ruv10 = pdat$W_10\n",
    "ruv11 = pdat$W_11\n",
    "ruv12 = pdat$W_12\n",
    "ruv13 = pdat$W_13\n",
    "ruv14 = pdat$W_14\n",
    "ruv15 = pdat$W_15\n",
    "ruv16 = pdat$W_16\n",
    "ruv17 = pdat$W_17\n",
    "ruv18 = pdat$W_18\n",
    "ruv19 = pdat$W_19\n",
    "\n",
    "#run RemoveBatchEffect using the RUV factors and sex\n",
    "vsd = vst(dds)\n",
    "mat= assay(vsd)\n",
    "assay(vsd) <- removeBatchEffect(assay(vsd), batch=sex, covariates=cbind(ruv1, ruv2, ruv3, ruv4, ruv5, ruv6, ruv7, ruv8, ruv9, ruv10, ruv11, ruv12, ruv13, ruv14, ruv15, ruv16, ruv17, ruv18, ruv19))"
   ]
  },
  {
   "cell_type": "code",
   "execution_count": 17,
   "metadata": {
    "vscode": {
     "languageId": "r"
    }
   },
   "outputs": [
    {
     "data": {
      "text/html": [
       "<strong>png:</strong> 2"
      ],
      "text/latex": [
       "\\textbf{png:} 2"
      ],
      "text/markdown": [
       "**png:** 2"
      ],
      "text/plain": [
       "png \n",
       "  2 "
      ]
     },
     "metadata": {},
     "output_type": "display_data"
    }
   ],
   "source": [
    "#plot a PCA of the adjusted data\n",
    "pcaData <- plotPCA(vsd, intgroup=c(\"recur\"), ntop = 500, returnData=TRUE)\n",
    "percentVar <- round(100 * attr(pcaData, \"percentVar\"))\n",
    "\n",
    "#save the plot\n",
    "png(\"results/c/pca_ruvg_corrected.png\", width=1024, height=1024)\n",
    "ggplot(pcaData, aes(PC1, PC2, color=inflammation_status, shape=recur)) +\n",
    "    geom_point(size=5) +\n",
    "    #geom_text(aes(label=sample),hjust=0, vjust=0) +\n",
    "    xlab(paste0(\"PC1: \",percentVar[1],\"% variance\")) +\n",
    "    ylab(paste0(\"PC2: \",percentVar[2],\"% variance\")) + \n",
    "    coord_fixed() +\n",
    "    \n",
    "    theme(text = element_text(size = 24))\n",
    "dev.off()"
   ]
  },
  {
   "cell_type": "code",
   "execution_count": 21,
   "metadata": {
    "vscode": {
     "languageId": "r"
    }
   },
   "outputs": [
    {
     "data": {
      "text/plain": [
       "log2 fold change (MLE): recur Recurrent vs Non.recurrent \n",
       "Wald test p-value: recur Recurrent vs Non.recurrent \n",
       "DataFrame with 6 rows and 7 columns\n",
       "                                 gene  baseMean log2FoldChange     lfcSE\n",
       "                          <character> <numeric>      <numeric> <numeric>\n",
       "ENSG00000149781.13 ENSG00000149781.13  748.2077       0.402831 0.0550133\n",
       "ENSG00000283537.2   ENSG00000283537.2   53.6663      11.216101 1.6699201\n",
       "ENSG00000026751.17 ENSG00000026751.17 1805.7035       0.494217 0.0860967\n",
       "ENSG00000122188.13 ENSG00000122188.13  899.5152       0.398828 0.0694072\n",
       "ENSG00000136143.16 ENSG00000136143.16  746.5610      -0.253959 0.0438884\n",
       "ENSG00000187664.9   ENSG00000187664.9  124.4072      -4.925317 0.8708563\n",
       "                        stat      pvalue        padj\n",
       "                   <numeric>   <numeric>   <numeric>\n",
       "ENSG00000149781.13   7.32243 2.43513e-13 7.07918e-09\n",
       "ENSG00000283537.2    6.71655 1.86078e-11 2.70474e-07\n",
       "ENSG00000026751.17   5.74026 9.45338e-09 5.49638e-05\n",
       "ENSG00000122188.13   5.74621 9.12680e-09 5.49638e-05\n",
       "ENSG00000136143.16  -5.78647 7.18811e-09 5.49638e-05\n",
       "ENSG00000187664.9   -5.65572 1.55197e-08 7.51954e-05"
      ]
     },
     "metadata": {},
     "output_type": "display_data"
    }
   ],
   "source": [
    "resOrdered <- res[order(res$padj),]\n",
    "resOrdered$gene <- rownames(resOrdered)\n",
    "resOrdered = resOrdered[,c(7, 1, 2, 3, 4, 5, 6)]\n",
    "head(resOrdered)"
   ]
  },
  {
   "cell_type": "code",
   "execution_count": 22,
   "metadata": {
    "vscode": {
     "languageId": "r"
    }
   },
   "outputs": [],
   "source": [
    "#make a list of the top 15 genes\n",
    "top15 <- resOrdered[1:15,]\n",
    "recur <- data.frame(recur=coldata$recur)\n",
    "rownames(recur) <- colnames(mat)\n",
    "mat15 <- mat[top15$gene,]\n",
    "#center the data\n",
    "mat15 <- mat15 - rowMeans(mat15)"
   ]
  },
  {
   "cell_type": "code",
   "execution_count": 23,
   "metadata": {
    "vscode": {
     "languageId": "r"
    }
   },
   "outputs": [
    {
     "name": "stderr",
     "output_type": "stream",
     "text": [
      "'select()' returned 1:1 mapping between keys and columns\n",
      "\n"
     ]
    },
    {
     "data": {
      "text/html": [
       "<table class=\"dataframe\">\n",
       "<caption>A matrix: 6 × 41 of type dbl</caption>\n",
       "<thead>\n",
       "\t<tr><th></th><th scope=col>PB12_770_A1</th><th scope=col>PB138_A8</th><th scope=col>PB140_COLON</th><th scope=col>PB146_A2</th><th scope=col>PB17_236_122_A5</th><th scope=col>PB17_236_177_A6</th><th scope=col>PB17_236_292_B2</th><th scope=col>PB17_236_387_A10</th><th scope=col>PB17_236_398_A2</th><th scope=col>PB17_236_520_A2</th><th scope=col>⋯</th><th scope=col>PB600444_A2</th><th scope=col>PB601102_A3</th><th scope=col>PB601990_A8</th><th scope=col>PB602717_A9</th><th scope=col>PB603387_A2</th><th scope=col>PB603967_A7</th><th scope=col>PB604520_A3</th><th scope=col>PB605312_A5</th><th scope=col>PB75_A10</th><th scope=col>PBCHAMP7_A12</th></tr>\n",
       "</thead>\n",
       "<tbody>\n",
       "\t<tr><th scope=row>FERMT3</th><td>-0.7510937</td><td> 0.3249750</td><td> 0.3277472</td><td> 0.3821316</td><td>-0.62266378</td><td>-0.2517798</td><td> 0.2314318</td><td>-0.4673792</td><td>-0.51300306</td><td> 0.16861463</td><td>⋯</td><td>-0.01658237</td><td>-0.3668822</td><td>-0.2437442</td><td>-0.1456490</td><td>-0.02950445</td><td> 0.2709670</td><td>-0.422292903</td><td>-0.7089087</td><td>-0.5738292</td><td> 0.5743894</td></tr>\n",
       "\t<tr><th scope=row>NA</th><td>-1.0111410</td><td>-1.0111410</td><td> 1.4590577</td><td>-1.0111410</td><td>-1.01114102</td><td>-1.0111410</td><td>-1.0111410</td><td> 1.0562515</td><td>-1.01114102</td><td>-1.01114102</td><td>⋯</td><td> 1.14711129</td><td> 1.1604861</td><td> 1.2882035</td><td> 1.2433581</td><td>-1.01114102</td><td>-1.0111410</td><td> 0.819564235</td><td>-0.5062618</td><td>-1.0111410</td><td>-1.0111410</td></tr>\n",
       "\t<tr><th scope=row>SLAMF7</th><td>-1.5319203</td><td> 0.4619804</td><td> 0.6576220</td><td> 0.1394215</td><td>-0.07947141</td><td>-0.7006812</td><td> 0.5012091</td><td>-0.6652370</td><td>-0.84395437</td><td>-0.63449251</td><td>⋯</td><td> 0.02523538</td><td>-0.6620506</td><td>-0.6479114</td><td>-1.0108806</td><td>-0.51213335</td><td> 1.1175265</td><td> 0.006795738</td><td>-0.7720085</td><td>-0.8488824</td><td> 0.4339631</td></tr>\n",
       "\t<tr><th scope=row>LAX1</th><td>-0.7384398</td><td> 0.1949079</td><td> 0.7841796</td><td> 0.2600180</td><td>-0.58402782</td><td>-0.5547324</td><td>-0.1605173</td><td>-0.6875512</td><td>-0.69550777</td><td>-0.38477126</td><td>⋯</td><td>-0.25998249</td><td>-0.1684362</td><td>-0.6411026</td><td>-0.5767867</td><td>-0.13229522</td><td> 1.0361546</td><td>-0.221319885</td><td>-0.7557723</td><td>-0.5795373</td><td> 0.5443262</td></tr>\n",
       "\t<tr><th scope=row>SUCLA2</th><td> 0.2027654</td><td>-0.1768142</td><td>-0.4738033</td><td>-0.2167849</td><td> 0.09179106</td><td> 0.3543726</td><td> 0.2749289</td><td> 0.4106331</td><td>-0.09847058</td><td> 0.06509136</td><td>⋯</td><td> 0.01240000</td><td>-0.4122660</td><td> 0.2877900</td><td> 0.1509653</td><td>-0.06936091</td><td>-0.3355511</td><td>-0.162408832</td><td> 0.2202813</td><td>-0.2045929</td><td>-0.4229938</td></tr>\n",
       "\t<tr><th scope=row>HAPLN4</th><td> 1.5516064</td><td>-1.9812658</td><td>-1.9812658</td><td>-1.9812658</td><td>-1.98126582</td><td> 0.5855538</td><td> 0.4066118</td><td>-1.9812658</td><td> 1.29276046</td><td> 0.87676949</td><td>⋯</td><td>-0.54964236</td><td> 1.9007916</td><td>-1.9812658</td><td> 1.0444594</td><td>-1.98126582</td><td> 0.4971795</td><td>-1.981265819</td><td>-1.9812658</td><td>-1.9812658</td><td> 0.6304947</td></tr>\n",
       "</tbody>\n",
       "</table>\n"
      ],
      "text/latex": [
       "A matrix: 6 × 41 of type dbl\n",
       "\\begin{tabular}{r|lllllllllllllllllllll}\n",
       "  & PB12\\_770\\_A1 & PB138\\_A8 & PB140\\_COLON & PB146\\_A2 & PB17\\_236\\_122\\_A5 & PB17\\_236\\_177\\_A6 & PB17\\_236\\_292\\_B2 & PB17\\_236\\_387\\_A10 & PB17\\_236\\_398\\_A2 & PB17\\_236\\_520\\_A2 & ⋯ & PB600444\\_A2 & PB601102\\_A3 & PB601990\\_A8 & PB602717\\_A9 & PB603387\\_A2 & PB603967\\_A7 & PB604520\\_A3 & PB605312\\_A5 & PB75\\_A10 & PBCHAMP7\\_A12\\\\\n",
       "\\hline\n",
       "\tFERMT3 & -0.7510937 &  0.3249750 &  0.3277472 &  0.3821316 & -0.62266378 & -0.2517798 &  0.2314318 & -0.4673792 & -0.51300306 &  0.16861463 & ⋯ & -0.01658237 & -0.3668822 & -0.2437442 & -0.1456490 & -0.02950445 &  0.2709670 & -0.422292903 & -0.7089087 & -0.5738292 &  0.5743894\\\\\n",
       "\tNA & -1.0111410 & -1.0111410 &  1.4590577 & -1.0111410 & -1.01114102 & -1.0111410 & -1.0111410 &  1.0562515 & -1.01114102 & -1.01114102 & ⋯ &  1.14711129 &  1.1604861 &  1.2882035 &  1.2433581 & -1.01114102 & -1.0111410 &  0.819564235 & -0.5062618 & -1.0111410 & -1.0111410\\\\\n",
       "\tSLAMF7 & -1.5319203 &  0.4619804 &  0.6576220 &  0.1394215 & -0.07947141 & -0.7006812 &  0.5012091 & -0.6652370 & -0.84395437 & -0.63449251 & ⋯ &  0.02523538 & -0.6620506 & -0.6479114 & -1.0108806 & -0.51213335 &  1.1175265 &  0.006795738 & -0.7720085 & -0.8488824 &  0.4339631\\\\\n",
       "\tLAX1 & -0.7384398 &  0.1949079 &  0.7841796 &  0.2600180 & -0.58402782 & -0.5547324 & -0.1605173 & -0.6875512 & -0.69550777 & -0.38477126 & ⋯ & -0.25998249 & -0.1684362 & -0.6411026 & -0.5767867 & -0.13229522 &  1.0361546 & -0.221319885 & -0.7557723 & -0.5795373 &  0.5443262\\\\\n",
       "\tSUCLA2 &  0.2027654 & -0.1768142 & -0.4738033 & -0.2167849 &  0.09179106 &  0.3543726 &  0.2749289 &  0.4106331 & -0.09847058 &  0.06509136 & ⋯ &  0.01240000 & -0.4122660 &  0.2877900 &  0.1509653 & -0.06936091 & -0.3355511 & -0.162408832 &  0.2202813 & -0.2045929 & -0.4229938\\\\\n",
       "\tHAPLN4 &  1.5516064 & -1.9812658 & -1.9812658 & -1.9812658 & -1.98126582 &  0.5855538 &  0.4066118 & -1.9812658 &  1.29276046 &  0.87676949 & ⋯ & -0.54964236 &  1.9007916 & -1.9812658 &  1.0444594 & -1.98126582 &  0.4971795 & -1.981265819 & -1.9812658 & -1.9812658 &  0.6304947\\\\\n",
       "\\end{tabular}\n"
      ],
      "text/markdown": [
       "\n",
       "A matrix: 6 × 41 of type dbl\n",
       "\n",
       "| <!--/--> | PB12_770_A1 | PB138_A8 | PB140_COLON | PB146_A2 | PB17_236_122_A5 | PB17_236_177_A6 | PB17_236_292_B2 | PB17_236_387_A10 | PB17_236_398_A2 | PB17_236_520_A2 | ⋯ | PB600444_A2 | PB601102_A3 | PB601990_A8 | PB602717_A9 | PB603387_A2 | PB603967_A7 | PB604520_A3 | PB605312_A5 | PB75_A10 | PBCHAMP7_A12 |\n",
       "|---|---|---|---|---|---|---|---|---|---|---|---|---|---|---|---|---|---|---|---|---|---|\n",
       "| FERMT3 | -0.7510937 |  0.3249750 |  0.3277472 |  0.3821316 | -0.62266378 | -0.2517798 |  0.2314318 | -0.4673792 | -0.51300306 |  0.16861463 | ⋯ | -0.01658237 | -0.3668822 | -0.2437442 | -0.1456490 | -0.02950445 |  0.2709670 | -0.422292903 | -0.7089087 | -0.5738292 |  0.5743894 |\n",
       "| NA | -1.0111410 | -1.0111410 |  1.4590577 | -1.0111410 | -1.01114102 | -1.0111410 | -1.0111410 |  1.0562515 | -1.01114102 | -1.01114102 | ⋯ |  1.14711129 |  1.1604861 |  1.2882035 |  1.2433581 | -1.01114102 | -1.0111410 |  0.819564235 | -0.5062618 | -1.0111410 | -1.0111410 |\n",
       "| SLAMF7 | -1.5319203 |  0.4619804 |  0.6576220 |  0.1394215 | -0.07947141 | -0.7006812 |  0.5012091 | -0.6652370 | -0.84395437 | -0.63449251 | ⋯ |  0.02523538 | -0.6620506 | -0.6479114 | -1.0108806 | -0.51213335 |  1.1175265 |  0.006795738 | -0.7720085 | -0.8488824 |  0.4339631 |\n",
       "| LAX1 | -0.7384398 |  0.1949079 |  0.7841796 |  0.2600180 | -0.58402782 | -0.5547324 | -0.1605173 | -0.6875512 | -0.69550777 | -0.38477126 | ⋯ | -0.25998249 | -0.1684362 | -0.6411026 | -0.5767867 | -0.13229522 |  1.0361546 | -0.221319885 | -0.7557723 | -0.5795373 |  0.5443262 |\n",
       "| SUCLA2 |  0.2027654 | -0.1768142 | -0.4738033 | -0.2167849 |  0.09179106 |  0.3543726 |  0.2749289 |  0.4106331 | -0.09847058 |  0.06509136 | ⋯ |  0.01240000 | -0.4122660 |  0.2877900 |  0.1509653 | -0.06936091 | -0.3355511 | -0.162408832 |  0.2202813 | -0.2045929 | -0.4229938 |\n",
       "| HAPLN4 |  1.5516064 | -1.9812658 | -1.9812658 | -1.9812658 | -1.98126582 |  0.5855538 |  0.4066118 | -1.9812658 |  1.29276046 |  0.87676949 | ⋯ | -0.54964236 |  1.9007916 | -1.9812658 |  1.0444594 | -1.98126582 |  0.4971795 | -1.981265819 | -1.9812658 | -1.9812658 |  0.6304947 |\n",
       "\n"
      ],
      "text/plain": [
       "       PB12_770_A1 PB138_A8   PB140_COLON PB146_A2   PB17_236_122_A5\n",
       "FERMT3 -0.7510937   0.3249750  0.3277472   0.3821316 -0.62266378    \n",
       "<NA>   -1.0111410  -1.0111410  1.4590577  -1.0111410 -1.01114102    \n",
       "SLAMF7 -1.5319203   0.4619804  0.6576220   0.1394215 -0.07947141    \n",
       "LAX1   -0.7384398   0.1949079  0.7841796   0.2600180 -0.58402782    \n",
       "SUCLA2  0.2027654  -0.1768142 -0.4738033  -0.2167849  0.09179106    \n",
       "HAPLN4  1.5516064  -1.9812658 -1.9812658  -1.9812658 -1.98126582    \n",
       "       PB17_236_177_A6 PB17_236_292_B2 PB17_236_387_A10 PB17_236_398_A2\n",
       "FERMT3 -0.2517798       0.2314318      -0.4673792       -0.51300306    \n",
       "<NA>   -1.0111410      -1.0111410       1.0562515       -1.01114102    \n",
       "SLAMF7 -0.7006812       0.5012091      -0.6652370       -0.84395437    \n",
       "LAX1   -0.5547324      -0.1605173      -0.6875512       -0.69550777    \n",
       "SUCLA2  0.3543726       0.2749289       0.4106331       -0.09847058    \n",
       "HAPLN4  0.5855538       0.4066118      -1.9812658        1.29276046    \n",
       "       PB17_236_520_A2 ⋯ PB600444_A2 PB601102_A3 PB601990_A8 PB602717_A9\n",
       "FERMT3  0.16861463     ⋯ -0.01658237 -0.3668822  -0.2437442  -0.1456490 \n",
       "<NA>   -1.01114102     ⋯  1.14711129  1.1604861   1.2882035   1.2433581 \n",
       "SLAMF7 -0.63449251     ⋯  0.02523538 -0.6620506  -0.6479114  -1.0108806 \n",
       "LAX1   -0.38477126     ⋯ -0.25998249 -0.1684362  -0.6411026  -0.5767867 \n",
       "SUCLA2  0.06509136     ⋯  0.01240000 -0.4122660   0.2877900   0.1509653 \n",
       "HAPLN4  0.87676949     ⋯ -0.54964236  1.9007916  -1.9812658   1.0444594 \n",
       "       PB603387_A2 PB603967_A7 PB604520_A3  PB605312_A5 PB75_A10   PBCHAMP7_A12\n",
       "FERMT3 -0.02950445  0.2709670  -0.422292903 -0.7089087  -0.5738292  0.5743894  \n",
       "<NA>   -1.01114102 -1.0111410   0.819564235 -0.5062618  -1.0111410 -1.0111410  \n",
       "SLAMF7 -0.51213335  1.1175265   0.006795738 -0.7720085  -0.8488824  0.4339631  \n",
       "LAX1   -0.13229522  1.0361546  -0.221319885 -0.7557723  -0.5795373  0.5443262  \n",
       "SUCLA2 -0.06936091 -0.3355511  -0.162408832  0.2202813  -0.2045929 -0.4229938  \n",
       "HAPLN4 -1.98126582  0.4971795  -1.981265819 -1.9812658  -1.9812658  0.6304947  "
      ]
     },
     "metadata": {},
     "output_type": "display_data"
    }
   ],
   "source": [
    "#rename the rownames of mat with gene symbols\n",
    "library(\"AnnotationDbi\")\n",
    "library(\"org.Hs.eg.db\")\n",
    "\n",
    "#remove the ENSEMBL version number\n",
    "rownames(mat15) <- gsub(\"\\\\..*\", \"\", rownames(mat15))\n",
    "rownames(mat15) <- mapIds(org.Hs.eg.db, keys=rownames(mat15), column=\"SYMBOL\", keytype=\"ENSEMBL\", multiVals=\"first\")\n",
    "head(mat15)"
   ]
  },
  {
   "cell_type": "code",
   "execution_count": 24,
   "metadata": {
    "vscode": {
     "languageId": "r"
    }
   },
   "outputs": [],
   "source": [
    "#sort each dataframe by recurrence\n",
    "#first sort the annotation data by recurrence while keeping it as a dataframe\n",
    "recur <- recur[order(recur$recur), , drop=FALSE]\n",
    "#then sort the matrix by the order of the annotation data by getting the rownames of the annotation data and reordering the columns of the matrix\n",
    "col_order = rownames(recur)\n",
    "mat15 <- mat15[,col_order]"
   ]
  },
  {
   "cell_type": "code",
   "execution_count": 25,
   "metadata": {
    "vscode": {
     "languageId": "r"
    }
   },
   "outputs": [],
   "source": [
    "#remove the sample names from the heatmap\n",
    "pheatmap(mat15, annotation_col=recur, cluster_cols=F, show_colnames=F, filename='../../results/recur/c/ruvg_runs/heatmap.png', height=10, width=10)"
   ]
  }
 ],
 "metadata": {
  "kernelspec": {
   "display_name": "R",
   "language": "R",
   "name": "ir"
  },
  "language_info": {
   "codemirror_mode": "r",
   "file_extension": ".r",
   "mimetype": "text/x-r-source",
   "name": "R",
   "pygments_lexer": "r",
   "version": "4.3.0"
  },
  "orig_nbformat": 4,
  "vscode": {
   "interpreter": {
    "hash": "916dbcbb3f70747c44a77c7bcd40155683ae19c65e1c03b4aa3499c5328201f1"
   }
  }
 },
 "nbformat": 4,
 "nbformat_minor": 2
}
