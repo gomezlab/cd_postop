{
 "cells": [
  {
   "cell_type": "code",
   "execution_count": 2,
   "metadata": {
    "vscode": {
     "languageId": "r"
    }
   },
   "outputs": [
    {
     "name": "stderr",
     "output_type": "stream",
     "text": [
      "Loading required package: ggplot2\n",
      "\n",
      "\n",
      "Attaching package: ‘plotly’\n",
      "\n",
      "\n",
      "The following object is masked from ‘package:ggplot2’:\n",
      "\n",
      "    last_plot\n",
      "\n",
      "\n",
      "The following object is masked from ‘package:XVector’:\n",
      "\n",
      "    slice\n",
      "\n",
      "\n",
      "The following object is masked from ‘package:AnnotationDbi’:\n",
      "\n",
      "    select\n",
      "\n",
      "\n",
      "The following object is masked from ‘package:IRanges’:\n",
      "\n",
      "    slice\n",
      "\n",
      "\n",
      "The following object is masked from ‘package:S4Vectors’:\n",
      "\n",
      "    rename\n",
      "\n",
      "\n",
      "The following object is masked from ‘package:stats’:\n",
      "\n",
      "    filter\n",
      "\n",
      "\n",
      "The following object is masked from ‘package:graphics’:\n",
      "\n",
      "    layout\n",
      "\n",
      "\n",
      "\n",
      "Attaching package: ‘plyr’\n",
      "\n",
      "\n",
      "The following objects are masked from ‘package:plotly’:\n",
      "\n",
      "    arrange, mutate, rename, summarise\n",
      "\n",
      "\n",
      "The following object is masked from ‘package:ShortRead’:\n",
      "\n",
      "    id\n",
      "\n",
      "\n",
      "The following object is masked from ‘package:matrixStats’:\n",
      "\n",
      "    count\n",
      "\n",
      "\n",
      "The following object is masked from ‘package:XVector’:\n",
      "\n",
      "    compact\n",
      "\n",
      "\n",
      "The following object is masked from ‘package:IRanges’:\n",
      "\n",
      "    desc\n",
      "\n",
      "\n",
      "The following object is masked from ‘package:S4Vectors’:\n",
      "\n",
      "    rename\n",
      "\n",
      "\n",
      "\n",
      "Attaching package: ‘dplyr’\n",
      "\n",
      "\n",
      "The following objects are masked from ‘package:plyr’:\n",
      "\n",
      "    arrange, count, desc, failwith, id, mutate, rename, summarise,\n",
      "    summarize\n",
      "\n",
      "\n",
      "The following object is masked from ‘package:ShortRead’:\n",
      "\n",
      "    id\n",
      "\n",
      "\n",
      "The following objects are masked from ‘package:GenomicAlignments’:\n",
      "\n",
      "    first, last\n",
      "\n",
      "\n",
      "The following object is masked from ‘package:matrixStats’:\n",
      "\n",
      "    count\n",
      "\n",
      "\n",
      "The following objects are masked from ‘package:GenomicRanges’:\n",
      "\n",
      "    intersect, setdiff, union\n",
      "\n",
      "\n",
      "The following objects are masked from ‘package:Biostrings’:\n",
      "\n",
      "    collapse, intersect, setdiff, setequal, union\n",
      "\n",
      "\n",
      "The following object is masked from ‘package:GenomeInfoDb’:\n",
      "\n",
      "    intersect\n",
      "\n",
      "\n",
      "The following object is masked from ‘package:XVector’:\n",
      "\n",
      "    slice\n",
      "\n",
      "\n",
      "The following object is masked from ‘package:AnnotationDbi’:\n",
      "\n",
      "    select\n",
      "\n",
      "\n",
      "The following objects are masked from ‘package:IRanges’:\n",
      "\n",
      "    collapse, desc, intersect, setdiff, slice, union\n",
      "\n",
      "\n",
      "The following objects are masked from ‘package:S4Vectors’:\n",
      "\n",
      "    first, intersect, rename, setdiff, setequal, union\n",
      "\n",
      "\n",
      "The following object is masked from ‘package:Biobase’:\n",
      "\n",
      "    combine\n",
      "\n",
      "\n",
      "The following objects are masked from ‘package:BiocGenerics’:\n",
      "\n",
      "    combine, intersect, setdiff, union\n",
      "\n",
      "\n",
      "The following objects are masked from ‘package:stats’:\n",
      "\n",
      "    filter, lag\n",
      "\n",
      "\n",
      "The following objects are masked from ‘package:base’:\n",
      "\n",
      "    intersect, setdiff, setequal, union\n",
      "\n",
      "\n",
      "Registered S3 method overwritten by 'GGally':\n",
      "  method from   \n",
      "  +.gg   ggplot2\n",
      "\n",
      "── \u001b[1mAttaching core tidyverse packages\u001b[22m ──────────────────────── tidyverse 2.0.0 ──\n",
      "\u001b[32m✔\u001b[39m \u001b[34mforcats  \u001b[39m 1.0.0     \u001b[32m✔\u001b[39m \u001b[34mstringr  \u001b[39m 1.5.0\n",
      "\u001b[32m✔\u001b[39m \u001b[34mlubridate\u001b[39m 1.9.2     \u001b[32m✔\u001b[39m \u001b[34mtibble   \u001b[39m 3.2.1\n",
      "\u001b[32m✔\u001b[39m \u001b[34mpurrr    \u001b[39m 1.0.1     \u001b[32m✔\u001b[39m \u001b[34mtidyr    \u001b[39m 1.3.0\n",
      "\u001b[32m✔\u001b[39m \u001b[34mreadr    \u001b[39m 2.1.4     \n",
      "── \u001b[1mConflicts\u001b[22m ────────────────────────────────────────── tidyverse_conflicts() ──\n",
      "\u001b[31m✖\u001b[39m \u001b[34mlubridate\u001b[39m::\u001b[32m%within%()\u001b[39m masks \u001b[34mIRanges\u001b[39m::%within%()\n",
      "\u001b[31m✖\u001b[39m \u001b[34mdplyr\u001b[39m::\u001b[32marrange()\u001b[39m      masks \u001b[34mplyr\u001b[39m::arrange(), \u001b[34mplotly\u001b[39m::arrange()\n",
      "\u001b[31m✖\u001b[39m \u001b[34mdplyr\u001b[39m::\u001b[32mcollapse()\u001b[39m     masks \u001b[34mBiostrings\u001b[39m::collapse(), \u001b[34mIRanges\u001b[39m::collapse()\n",
      "\u001b[31m✖\u001b[39m \u001b[34mdplyr\u001b[39m::\u001b[32mcombine()\u001b[39m      masks \u001b[34mBiobase\u001b[39m::combine(), \u001b[34mBiocGenerics\u001b[39m::combine()\n",
      "\u001b[31m✖\u001b[39m \u001b[34mpurrr\u001b[39m::\u001b[32mcompact()\u001b[39m      masks \u001b[34mplyr\u001b[39m::compact(), \u001b[34mXVector\u001b[39m::compact()\n",
      "\u001b[31m✖\u001b[39m \u001b[34mpurrr\u001b[39m::\u001b[32mcompose()\u001b[39m      masks \u001b[34mShortRead\u001b[39m::compose()\n",
      "\u001b[31m✖\u001b[39m \u001b[34mdplyr\u001b[39m::\u001b[32mcount()\u001b[39m        masks \u001b[34mplyr\u001b[39m::count(), \u001b[34mmatrixStats\u001b[39m::count()\n",
      "\u001b[31m✖\u001b[39m \u001b[34mdplyr\u001b[39m::\u001b[32mdesc()\u001b[39m         masks \u001b[34mplyr\u001b[39m::desc(), \u001b[34mIRanges\u001b[39m::desc()\n",
      "\u001b[31m✖\u001b[39m \u001b[34mtidyr\u001b[39m::\u001b[32mexpand()\u001b[39m       masks \u001b[34mS4Vectors\u001b[39m::expand()\n",
      "\u001b[31m✖\u001b[39m \u001b[34mdplyr\u001b[39m::\u001b[32mfailwith()\u001b[39m     masks \u001b[34mplyr\u001b[39m::failwith()\n",
      "\u001b[31m✖\u001b[39m \u001b[34mdplyr\u001b[39m::\u001b[32mfilter()\u001b[39m       masks \u001b[34mplotly\u001b[39m::filter(), \u001b[34mstats\u001b[39m::filter()\n",
      "\u001b[31m✖\u001b[39m \u001b[34mdplyr\u001b[39m::\u001b[32mfirst()\u001b[39m        masks \u001b[34mGenomicAlignments\u001b[39m::first(), \u001b[34mS4Vectors\u001b[39m::first()\n",
      "\u001b[31m✖\u001b[39m \u001b[34mdplyr\u001b[39m::\u001b[32mid()\u001b[39m           masks \u001b[34mplyr\u001b[39m::id(), \u001b[34mShortRead\u001b[39m::id()\n",
      "\u001b[31m✖\u001b[39m \u001b[34mdplyr\u001b[39m::\u001b[32mlag()\u001b[39m          masks \u001b[34mstats\u001b[39m::lag()\n",
      "\u001b[31m✖\u001b[39m \u001b[34mdplyr\u001b[39m::\u001b[32mlast()\u001b[39m         masks \u001b[34mGenomicAlignments\u001b[39m::last()\n",
      "\u001b[31m✖\u001b[39m \u001b[34mdplyr\u001b[39m::\u001b[32mmutate()\u001b[39m       masks \u001b[34mplyr\u001b[39m::mutate(), \u001b[34mplotly\u001b[39m::mutate()\n",
      "\u001b[31m✖\u001b[39m \u001b[34mggplot2\u001b[39m::\u001b[32mPosition()\u001b[39m   masks \u001b[34mBiocGenerics\u001b[39m::Position(), \u001b[34mbase\u001b[39m::Position()\n",
      "\u001b[31m✖\u001b[39m \u001b[34mpurrr\u001b[39m::\u001b[32mreduce()\u001b[39m       masks \u001b[34mGenomicRanges\u001b[39m::reduce(), \u001b[34mIRanges\u001b[39m::reduce()\n",
      "\u001b[31m✖\u001b[39m \u001b[34mdplyr\u001b[39m::\u001b[32mrename()\u001b[39m       masks \u001b[34mplyr\u001b[39m::rename(), \u001b[34mplotly\u001b[39m::rename(), \u001b[34mS4Vectors\u001b[39m::rename()\n",
      "\u001b[31m✖\u001b[39m \u001b[34mlubridate\u001b[39m::\u001b[32msecond()\u001b[39m   masks \u001b[34mGenomicAlignments\u001b[39m::second(), \u001b[34mS4Vectors\u001b[39m::second()\n",
      "\u001b[31m✖\u001b[39m \u001b[34mlubridate\u001b[39m::\u001b[32msecond<-()\u001b[39m masks \u001b[34mS4Vectors\u001b[39m::second<-()\n",
      "\u001b[31m✖\u001b[39m \u001b[34mdplyr\u001b[39m::\u001b[32mselect()\u001b[39m       masks \u001b[34mplotly\u001b[39m::select(), \u001b[34mAnnotationDbi\u001b[39m::select()\n",
      "\u001b[31m✖\u001b[39m \u001b[34mdplyr\u001b[39m::\u001b[32mslice()\u001b[39m        masks \u001b[34mplotly\u001b[39m::slice(), \u001b[34mXVector\u001b[39m::slice(), \u001b[34mIRanges\u001b[39m::slice()\n",
      "\u001b[31m✖\u001b[39m \u001b[34mdplyr\u001b[39m::\u001b[32msummarise()\u001b[39m    masks \u001b[34mplyr\u001b[39m::summarise(), \u001b[34mplotly\u001b[39m::summarise()\n",
      "\u001b[31m✖\u001b[39m \u001b[34mdplyr\u001b[39m::\u001b[32msummarize()\u001b[39m    masks \u001b[34mplyr\u001b[39m::summarize()\n",
      "\u001b[31m✖\u001b[39m \u001b[34mtibble\u001b[39m::\u001b[32mview()\u001b[39m        masks \u001b[34mShortRead\u001b[39m::view()\n",
      "\u001b[36mℹ\u001b[39m Use the conflicted package (\u001b[3m\u001b[34m<http://conflicted.r-lib.org/>\u001b[39m\u001b[23m) to force all conflicts to become errors\n",
      "\n",
      "Attaching package: ‘scales’\n",
      "\n",
      "\n",
      "The following object is masked from ‘package:purrr’:\n",
      "\n",
      "    discard\n",
      "\n",
      "\n",
      "The following object is masked from ‘package:readr’:\n",
      "\n",
      "    col_factor\n",
      "\n",
      "\n",
      "\n",
      "Attaching package: ‘reshape2’\n",
      "\n",
      "\n",
      "The following object is masked from ‘package:tidyr’:\n",
      "\n",
      "    smiths\n",
      "\n",
      "\n",
      "========================================\n",
      "circlize version 0.4.15\n",
      "CRAN page: https://cran.r-project.org/package=circlize\n",
      "Github page: https://github.com/jokergoo/circlize\n",
      "Documentation: https://jokergoo.github.io/circlize_book/book/\n",
      "\n",
      "If you use it in published research, please cite:\n",
      "Gu, Z. circlize implements and enhances circular visualization\n",
      "  in R. Bioinformatics 2014.\n",
      "\n",
      "This message can be suppressed by:\n",
      "  suppressPackageStartupMessages(library(circlize))\n",
      "========================================\n",
      "\n",
      "\n",
      "\n",
      "Attaching package: ‘gplots’\n",
      "\n",
      "\n",
      "The following object is masked from ‘package:IRanges’:\n",
      "\n",
      "    space\n",
      "\n",
      "\n",
      "The following object is masked from ‘package:S4Vectors’:\n",
      "\n",
      "    space\n",
      "\n",
      "\n",
      "The following object is masked from ‘package:stats’:\n",
      "\n",
      "    lowess\n",
      "\n",
      "\n",
      "Loading required package: grid\n",
      "\n",
      "\n",
      "Attaching package: ‘grid’\n",
      "\n",
      "\n",
      "The following object is masked from ‘package:Biostrings’:\n",
      "\n",
      "    pattern\n",
      "\n",
      "\n",
      "Loading required package: futile.logger\n",
      "\n",
      "'getOption(\"repos\")' replaces Bioconductor standard repositories, see\n",
      "'help(\"repositories\", package = \"BiocManager\")' for details.\n",
      "Replacement repositories:\n",
      "    CRAN: https://cloud.r-project.org\n",
      "\n",
      "Bioconductor version 3.17 (BiocManager 1.30.20), R 4.3.0 (2023-04-21)\n",
      "\n",
      "Warning message:\n",
      "“package(s) not installed when version(s) same as or greater than current; use\n",
      "  `force = TRUE` to re-install: 'DESeq2'”\n",
      "Installation paths not writeable, unable to update packages\n",
      "  path: /usr/lib/R/library\n",
      "  packages:\n",
      "    boot, foreign, Matrix\n",
      "  path: /usr/lib/R/site-library\n",
      "  packages:\n",
      "    RcppArmadillo\n",
      "\n",
      "Installing packages into ‘/home/kchen/R/x86_64-pc-linux-gnu-library/4.3’\n",
      "(as ‘lib’ is unspecified)\n",
      "\n",
      "'getOption(\"repos\")' replaces Bioconductor standard repositories, see\n",
      "'help(\"repositories\", package = \"BiocManager\")' for details.\n",
      "Replacement repositories:\n",
      "    CRAN: https://cloud.r-project.org\n",
      "\n",
      "Bioconductor version 3.17 (BiocManager 1.30.20), R 4.3.0 (2023-04-21)\n",
      "\n",
      "Warning message:\n",
      "“package(s) not installed when version(s) same as or greater than current; use\n",
      "  `force = TRUE` to re-install: 'edgeR' 'preprocessCore' 'limma'”\n",
      "Installation paths not writeable, unable to update packages\n",
      "  path: /usr/lib/R/library\n",
      "  packages:\n",
      "    boot, foreign, Matrix\n",
      "  path: /usr/lib/R/site-library\n",
      "  packages:\n",
      "    RcppArmadillo\n",
      "\n"
     ]
    }
   ],
   "source": [
    "library(\"AnnotationDbi\")\n",
    "library(\"org.Hs.eg.db\")\n",
    "library(RUVSeq)\n",
    "source(\"../downstreamAnalysis_RNAseqFunctions.R\")"
   ]
  },
  {
   "cell_type": "code",
   "execution_count": 3,
   "metadata": {
    "vscode": {
     "languageId": "r"
    }
   },
   "outputs": [
    {
     "data": {
      "text/html": [
       "<style>\n",
       ".list-inline {list-style: none; margin:0; padding: 0}\n",
       ".list-inline>li {display: inline-block}\n",
       ".list-inline>li:not(:last-child)::after {content: \"\\00b7\"; padding: 0 .5ex}\n",
       "</style>\n",
       "<ol class=list-inline><li>42</li><li>16</li></ol>\n"
      ],
      "text/latex": [
       "\\begin{enumerate*}\n",
       "\\item 42\n",
       "\\item 16\n",
       "\\end{enumerate*}\n"
      ],
      "text/markdown": [
       "1. 42\n",
       "2. 16\n",
       "\n",
       "\n"
      ],
      "text/plain": [
       "[1] 42 16"
      ]
     },
     "metadata": {},
     "output_type": "display_data"
    },
    {
     "data": {
      "text/html": [
       "<style>\n",
       ".list-inline {list-style: none; margin:0; padding: 0}\n",
       ".list-inline>li {display: inline-block}\n",
       ".list-inline>li:not(:last-child)::after {content: \"\\00b7\"; padding: 0 .5ex}\n",
       "</style>\n",
       "<ol class=list-inline><li>61114</li><li>42</li></ol>\n"
      ],
      "text/latex": [
       "\\begin{enumerate*}\n",
       "\\item 61114\n",
       "\\item 42\n",
       "\\end{enumerate*}\n"
      ],
      "text/markdown": [
       "1. 61114\n",
       "2. 42\n",
       "\n",
       "\n"
      ],
      "text/plain": [
       "[1] 61114    42"
      ]
     },
     "metadata": {},
     "output_type": "display_data"
    }
   ],
   "source": [
    "# Read in data\n",
    "cts = as.matrix(read.csv(\"../../data/cts_i.csv\", sep=',', row.names='gene'))\n",
    "coldata = read.csv('../../data/coldata_i.csv', sep=',', row.names='Sample_ID')\n",
    "\n",
    "cts = cts[,-which(colnames(cts) == 'PB17_236_257_A5')]\n",
    "coldata = coldata[-which(rownames(coldata) == 'PB17_236_257_A5'),]\n",
    "cts = cts[,-which(colnames(cts) == 'PB600298_A4')]\n",
    "coldata = coldata[-which(rownames(coldata) == 'PB600298_A4'),]\n",
    "cts = cts[,-which(colnames(cts) == 'PB43300_A1')]\n",
    "coldata = coldata[-which(rownames(coldata) == 'PB43300_A1'),]\n",
    "\n",
    "\n",
    "dim(coldata)\n",
    "dim(cts)\n"
   ]
  },
  {
   "cell_type": "code",
   "execution_count": 4,
   "metadata": {
    "vscode": {
     "languageId": "r"
    }
   },
   "outputs": [
    {
     "data": {
      "text/html": [
       "TRUE"
      ],
      "text/latex": [
       "TRUE"
      ],
      "text/markdown": [
       "TRUE"
      ],
      "text/plain": [
       "[1] TRUE"
      ]
     },
     "metadata": {},
     "output_type": "display_data"
    },
    {
     "name": "stderr",
     "output_type": "stream",
     "text": [
      "converting counts to integer mode\n",
      "\n",
      "  Note: levels of factors in the design contain characters other than\n",
      "  letters, numbers, '_' and '.'. It is recommended (but not required) to use\n",
      "  only letters, numbers, and delimiters '_' or '.', as these are safe characters\n",
      "  for column names in R. [This is a message, not a warning or an error]\n",
      "\n"
     ]
    }
   ],
   "source": [
    "factor_cols = c('sex', 'recur', 'inflammation_status', 'source')\n",
    "for (col in factor_cols) {\n",
    "  coldata[,col] = as.factor(coldata[,col])\n",
    "}\n",
    "sex = coldata$sex\n",
    "source = coldata$source\n",
    "# tissue = coldata$tissue\n",
    "recur = coldata$recur\n",
    "inflammation_status = coldata$inflammation_status\n",
    "tin = coldata$TIN\n",
    "\n",
    "sample = rownames(coldata)\n",
    "\n",
    "#round counts to integers\n",
    "cts <- round(cts);\n",
    "\n",
    "#check if row names of coldata match colnames of cts\n",
    "all(rownames(coldata) == colnames(cts))\n",
    "\n",
    "#adjust for batch and sexBin\n",
    "design <- as.formula(~ recur)\n",
    "#create the dds object\n",
    "dds = DESeqDataSetFromMatrix(countData = cts, colData = coldata, design = design)\n",
    "\n",
    "vsd = vst(dds)\n",
    "mat = assay(vsd)\n",
    "#PCA of raw data\n",
    "pcaData <- plotPCA(vsd, intgroup=c(\"recur\"), ntop = 500, returnData=TRUE)\n",
    "percentVar <- round(100 * attr(pcaData, \"percentVar\"))\n"
   ]
  },
  {
   "cell_type": "code",
   "execution_count": 5,
   "metadata": {
    "vscode": {
     "languageId": "r"
    }
   },
   "outputs": [],
   "source": [
    "\n",
    "# #save the plot\n",
    "# png(\"results/i/pca_source_raw.png\", width=1024, height=512)\n",
    "# ggplot(pcaData, aes(PC1, PC2, color=source, shape=recur)) +\n",
    "#     geom_point(size=5) +\n",
    "#     #geom_text(aes(label=sample),hjust=0, vjust=0) +\n",
    "#     xlab(paste0(\"PC1: \",percentVar[1],\"% variance\")) +\n",
    "#     ylab(paste0(\"PC2: \",percentVar[2],\"% variance\")) + \n",
    "#     coord_fixed() +\n",
    "    \n",
    "#     theme(text = element_text(size = 24))\n",
    "# dev.off()"
   ]
  },
  {
   "cell_type": "code",
   "execution_count": 6,
   "metadata": {
    "vscode": {
     "languageId": "r"
    }
   },
   "outputs": [
    {
     "name": "stderr",
     "output_type": "stream",
     "text": [
      "Import genomic features from the file as a GRanges object ... \n",
      "OK\n",
      "\n",
      "Prepare the 'metadata' data frame ... \n",
      "OK\n",
      "\n",
      "Make the TxDb object ... \n",
      "Warning message in .get_cds_IDX(mcols0$type, mcols0$phase):\n",
      "“The \"phase\" metadata column contains non-NA values for features of type\n",
      "  stop_codon. This information was ignored.”\n",
      "OK\n",
      "\n",
      "'select()' returned 1:1 mapping between keys and columns\n",
      "\n"
     ]
    }
   ],
   "source": [
    "library('GenomicFeatures')\n",
    "#use the GenomicFeatures package to create a transcript database (txDb) file from our GENCODE annotation file, and use it to pull out the chromosomal coordinates for each of our transcripts (including which chromosome it is on)\n",
    "txdb = makeTxDbFromGFF('../../data/gencode.v39.annotation.gtf', dbxrefTag = \"gene_id\", organism = 'Homo sapiens')\n",
    "k <- keys(txdb, keytype = 'TXNAME')\n",
    "tx2gene <- AnnotationDbi::select(txdb, keys=k, columns=c('GENEID', 'TXCHROM', 'TXSTART', 'TXEND', 'TXSTRAND'), keytype='TXNAME')\n",
    "# make a subset of the list containing only the Ensembl gene IDs and the names of the chromosomes, and create a subset for all the genes on chromosomes X and Y\n",
    "tx2gene_short = tx2gene[,2:3]\n",
    "tx2gene_short = unique(tx2gene_short)\n",
    "tx2gene_short_xychrom = tx2gene_short[tx2gene_short$TXCHROM==\"chrX\" | tx2gene_short$TXCHROM==\"chrY\",]"
   ]
  },
  {
   "cell_type": "code",
   "execution_count": 7,
   "metadata": {
    "vscode": {
     "languageId": "r"
    }
   },
   "outputs": [
    {
     "data": {
      "text/html": [
       "<style>\n",
       ".list-inline {list-style: none; margin:0; padding: 0}\n",
       ".list-inline>li {display: inline-block}\n",
       ".list-inline>li:not(:last-child)::after {content: \"\\00b7\"; padding: 0 .5ex}\n",
       "</style>\n",
       "<ol class=list-inline><li>58219</li><li>42</li></ol>\n"
      ],
      "text/latex": [
       "\\begin{enumerate*}\n",
       "\\item 58219\n",
       "\\item 42\n",
       "\\end{enumerate*}\n"
      ],
      "text/markdown": [
       "1. 58219\n",
       "2. 42\n",
       "\n",
       "\n"
      ],
      "text/plain": [
       "[1] 58219    42"
      ]
     },
     "metadata": {},
     "output_type": "display_data"
    }
   ],
   "source": [
    "#now remove the rows from cts if they are present in 'GENEID' in tx2gene_short_xychrom\n",
    "cts <- cts[! match(rownames(cts), tx2gene_short_xychrom$GENEID, nomatch=0),]\n",
    "dim(cts)"
   ]
  },
  {
   "cell_type": "code",
   "execution_count": 8,
   "metadata": {
    "vscode": {
     "languageId": "r"
    }
   },
   "outputs": [
    {
     "data": {
      "text/plain": [
       "keep\n",
       "FALSE  TRUE \n",
       "30087 31027 "
      ]
     },
     "metadata": {},
     "output_type": "display_data"
    },
    {
     "name": "stderr",
     "output_type": "stream",
     "text": [
      "estimating size factors\n",
      "\n",
      "  Note: levels of factors in the design contain characters other than\n",
      "  letters, numbers, '_' and '.'. It is recommended (but not required) to use\n",
      "  only letters, numbers, and delimiters '_' or '.', as these are safe characters\n",
      "  for column names in R. [This is a message, not a warning or an error]\n",
      "\n",
      "estimating dispersions\n",
      "\n",
      "gene-wise dispersion estimates\n",
      "\n",
      "mean-dispersion relationship\n",
      "\n",
      "  Note: levels of factors in the design contain characters other than\n",
      "  letters, numbers, '_' and '.'. It is recommended (but not required) to use\n",
      "  only letters, numbers, and delimiters '_' or '.', as these are safe characters\n",
      "  for column names in R. [This is a message, not a warning or an error]\n",
      "\n",
      "final dispersion estimates\n",
      "\n",
      "  Note: levels of factors in the design contain characters other than\n",
      "  letters, numbers, '_' and '.'. It is recommended (but not required) to use\n",
      "  only letters, numbers, and delimiters '_' or '.', as these are safe characters\n",
      "  for column names in R. [This is a message, not a warning or an error]\n",
      "\n",
      "fitting model and testing\n",
      "\n",
      "  Note: levels of factors in the design contain characters other than\n",
      "  letters, numbers, '_' and '.'. It is recommended (but not required) to use\n",
      "  only letters, numbers, and delimiters '_' or '.', as these are safe characters\n",
      "  for column names in R. [This is a message, not a warning or an error]\n",
      "\n",
      "-- replacing outliers and refitting for 151 genes\n",
      "-- DESeq argument 'minReplicatesForReplace' = 7 \n",
      "-- original counts are preserved in counts(dds)\n",
      "\n",
      "estimating dispersions\n",
      "\n",
      "  Note: levels of factors in the design contain characters other than\n",
      "  letters, numbers, '_' and '.'. It is recommended (but not required) to use\n",
      "  only letters, numbers, and delimiters '_' or '.', as these are safe characters\n",
      "  for column names in R. [This is a message, not a warning or an error]\n",
      "\n",
      "fitting model and testing\n",
      "\n",
      "  Note: levels of factors in the design contain characters other than\n",
      "  letters, numbers, '_' and '.'. It is recommended (but not required) to use\n",
      "  only letters, numbers, and delimiters '_' or '.', as these are safe characters\n",
      "  for column names in R. [This is a message, not a warning or an error]\n",
      "\n"
     ]
    }
   ],
   "source": [
    "#DESeq on the raw data to identify control genes\n",
    "#filter genes for low expression with edgeR\n",
    "y <- DGEList(counts=counts(dds), group=recur)\n",
    "keep <- filterByExpr(y)\n",
    "table(keep)\n",
    "y <- y[keep,]\n",
    "dds <- dds[keep,]\n",
    "\n",
    "dds <- DESeq(dds)\n",
    "res <- results(dds)"
   ]
  },
  {
   "cell_type": "code",
   "execution_count": 9,
   "metadata": {
    "vscode": {
     "languageId": "r"
    }
   },
   "outputs": [
    {
     "data": {
      "text/plain": [
       "\n",
       "FALSE  TRUE \n",
       "14351 16676 "
      ]
     },
     "metadata": {},
     "output_type": "display_data"
    }
   ],
   "source": [
    "table(res$pvalue < 0.5)"
   ]
  },
  {
   "cell_type": "code",
   "execution_count": 10,
   "metadata": {
    "vscode": {
     "languageId": "r"
    }
   },
   "outputs": [],
   "source": [
    "set <- newSeqExpressionSet(counts(dds))\n",
    "set <- betweenLaneNormalization(set, which='upper')\n",
    "not_sig <- rownames(res)[which(res$pvalue > 0.5)]\n",
    "empirical <- rownames(set)[ rownames(set) %in% not_sig ]\n",
    "set <- RUVg(set, empirical, k=20)\n",
    "pdat <- pData(set)\n",
    "pdat$recur <- recur\n",
    "pdat$sex <- sex\n",
    "pdat$inf <- inflammation_status\n",
    "pdat$source <- source"
   ]
  },
  {
   "cell_type": "code",
   "execution_count": 12,
   "metadata": {
    "vscode": {
     "languageId": "r"
    }
   },
   "outputs": [],
   "source": [
    "#write out the ruv factors to csv\n",
    "write.csv(pdat, file = \"../../results/recur/i/data_ruvg.csv\")"
   ]
  },
  {
   "cell_type": "code",
   "execution_count": 11,
   "metadata": {
    "vscode": {
     "languageId": "r"
    }
   },
   "outputs": [],
   "source": [
    "formula_list = list(\n",
    "~ sex + W_1 + recur, \n",
    "~ sex + W_1 + W_2 + recur, \n",
    "~ sex + W_1 + W_2 + W_3 + recur, \n",
    "~ sex + W_1 + W_2 + W_3 + W_4 + recur, \n",
    "~ sex + W_1 + W_2 + W_3 + W_4 + W_5 + recur, \n",
    "~ sex + W_1 + W_2 + W_3 + W_4 + W_5 + W_6 + recur, \n",
    "~ sex + W_1 + W_2 + W_3 + W_4 + W_5 + W_6 + W_7 + recur, \n",
    "~ sex + W_1 + W_2 + W_3 + W_4 + W_5 + W_6 + W_7 + W_8 + recur, \n",
    "~ sex + W_1 + W_2 + W_3 + W_4 + W_5 + W_6 + W_7 + W_8 + W_9 + recur, \n",
    "~ sex + W_1 + W_2 + W_3 + W_4 + W_5 + W_6 + W_7 + W_8 + W_9 + W_10 + recur,\n",
    "~ sex + W_1 + W_2 + W_3 + W_4 + W_5 + W_6 + W_7 + W_8 + W_9 + W_10 + W_11 + recur,\n",
    "~ sex + W_1 + W_2 + W_3 + W_4 + W_5 + W_6 + W_7 + W_8 + W_9 + W_10 + W_11 + W_12 + recur,\n",
    "~ sex + W_1 + W_2 + W_3 + W_4 + W_5 + W_6 + W_7 + W_8 + W_9 + W_10 + W_11 + W_12 + W_13 + recur,\n",
    "~ sex + W_1 + W_2 + W_3 + W_4 + W_5 + W_6 + W_7 + W_8 + W_9 + W_10 + W_11 + W_12 + W_13 + W_14 + recur,\n",
    "~ sex + W_1 + W_2 + W_3 + W_4 + W_5 + W_6 + W_7 + W_8 + W_9 + W_10 + W_11 + W_12 + W_13 + W_14 + + W_15 + recur,\n",
    "~ sex + W_1 + W_2 + W_3 + W_4 + W_5 + W_6 + W_7 + W_8 + W_9 + W_10 + W_11 + W_12 + W_13 + W_14 + + W_15 + W_16 + recur,\n",
    "~ sex + W_1 + W_2 + W_3 + W_4 + W_5 + W_6 + W_7 + W_8 + W_9 + W_10 + W_11 + W_12 + W_13 + W_14 + + W_15 + W_16 + W_17 + recur,\n",
    "~ sex + W_1 + W_2 + W_3 + W_4 + W_5 + W_6 + W_7 + W_8 + W_9 + W_10 + W_11 + W_12 + W_13 + W_14 + + W_15 + W_16 + W_17 + W_18 + recur,\n",
    "~ sex + W_1 + W_2 + W_3 + W_4 + W_5 + W_6 + W_7 + W_8 + W_9 + W_10 + W_11 + W_12 + W_13 + W_14 + + W_15 + W_16 + W_17 + W_18 + W_19 + recur,\n",
    "~ sex + W_1 + W_2 + W_3 + W_4 + W_5 + W_6 + W_7 + W_8 + W_9 + W_10 + W_11 + W_12 + W_13 + W_14 + + W_15 + W_16 + W_17 + W_18 + W_19 + W_20 + recur)\n"
   ]
  },
  {
   "cell_type": "code",
   "execution_count": 12,
   "metadata": {
    "vscode": {
     "languageId": "r"
    }
   },
   "outputs": [
    {
     "name": "stderr",
     "output_type": "stream",
     "text": [
      "converting counts to integer mode\n",
      "\n",
      "  Note: levels of factors in the design contain characters other than\n",
      "  letters, numbers, '_' and '.'. It is recommended (but not required) to use\n",
      "  only letters, numbers, and delimiters '_' or '.', as these are safe characters\n",
      "  for column names in R. [This is a message, not a warning or an error]\n",
      "\n",
      "estimating size factors\n",
      "\n",
      "  Note: levels of factors in the design contain characters other than\n",
      "  letters, numbers, '_' and '.'. It is recommended (but not required) to use\n",
      "  only letters, numbers, and delimiters '_' or '.', as these are safe characters\n",
      "  for column names in R. [This is a message, not a warning or an error]\n",
      "\n",
      "estimating dispersions\n",
      "\n",
      "gene-wise dispersion estimates\n",
      "\n",
      "mean-dispersion relationship\n",
      "\n",
      "  Note: levels of factors in the design contain characters other than\n",
      "  letters, numbers, '_' and '.'. It is recommended (but not required) to use\n",
      "  only letters, numbers, and delimiters '_' or '.', as these are safe characters\n",
      "  for column names in R. [This is a message, not a warning or an error]\n",
      "\n",
      "final dispersion estimates\n",
      "\n",
      "  Note: levels of factors in the design contain characters other than\n",
      "  letters, numbers, '_' and '.'. It is recommended (but not required) to use\n",
      "  only letters, numbers, and delimiters '_' or '.', as these are safe characters\n",
      "  for column names in R. [This is a message, not a warning or an error]\n",
      "\n",
      "fitting model and testing\n",
      "\n",
      "converting counts to integer mode\n",
      "\n",
      "  Note: levels of factors in the design contain characters other than\n",
      "  letters, numbers, '_' and '.'. It is recommended (but not required) to use\n",
      "  only letters, numbers, and delimiters '_' or '.', as these are safe characters\n",
      "  for column names in R. [This is a message, not a warning or an error]\n",
      "\n",
      "estimating size factors\n",
      "\n",
      "  Note: levels of factors in the design contain characters other than\n",
      "  letters, numbers, '_' and '.'. It is recommended (but not required) to use\n",
      "  only letters, numbers, and delimiters '_' or '.', as these are safe characters\n",
      "  for column names in R. [This is a message, not a warning or an error]\n",
      "\n",
      "estimating dispersions\n",
      "\n",
      "gene-wise dispersion estimates\n",
      "\n",
      "mean-dispersion relationship\n",
      "\n",
      "  Note: levels of factors in the design contain characters other than\n",
      "  letters, numbers, '_' and '.'. It is recommended (but not required) to use\n",
      "  only letters, numbers, and delimiters '_' or '.', as these are safe characters\n",
      "  for column names in R. [This is a message, not a warning or an error]\n",
      "\n",
      "final dispersion estimates\n",
      "\n",
      "  Note: levels of factors in the design contain characters other than\n",
      "  letters, numbers, '_' and '.'. It is recommended (but not required) to use\n",
      "  only letters, numbers, and delimiters '_' or '.', as these are safe characters\n",
      "  for column names in R. [This is a message, not a warning or an error]\n",
      "\n",
      "fitting model and testing\n",
      "\n",
      "converting counts to integer mode\n",
      "\n",
      "  Note: levels of factors in the design contain characters other than\n",
      "  letters, numbers, '_' and '.'. It is recommended (but not required) to use\n",
      "  only letters, numbers, and delimiters '_' or '.', as these are safe characters\n",
      "  for column names in R. [This is a message, not a warning or an error]\n",
      "\n",
      "estimating size factors\n",
      "\n",
      "  Note: levels of factors in the design contain characters other than\n",
      "  letters, numbers, '_' and '.'. It is recommended (but not required) to use\n",
      "  only letters, numbers, and delimiters '_' or '.', as these are safe characters\n",
      "  for column names in R. [This is a message, not a warning or an error]\n",
      "\n",
      "estimating dispersions\n",
      "\n",
      "gene-wise dispersion estimates\n",
      "\n",
      "mean-dispersion relationship\n",
      "\n",
      "  Note: levels of factors in the design contain characters other than\n",
      "  letters, numbers, '_' and '.'. It is recommended (but not required) to use\n",
      "  only letters, numbers, and delimiters '_' or '.', as these are safe characters\n",
      "  for column names in R. [This is a message, not a warning or an error]\n",
      "\n",
      "final dispersion estimates\n",
      "\n",
      "  Note: levels of factors in the design contain characters other than\n",
      "  letters, numbers, '_' and '.'. It is recommended (but not required) to use\n",
      "  only letters, numbers, and delimiters '_' or '.', as these are safe characters\n",
      "  for column names in R. [This is a message, not a warning or an error]\n",
      "\n",
      "fitting model and testing\n",
      "\n",
      "converting counts to integer mode\n",
      "\n",
      "  Note: levels of factors in the design contain characters other than\n",
      "  letters, numbers, '_' and '.'. It is recommended (but not required) to use\n",
      "  only letters, numbers, and delimiters '_' or '.', as these are safe characters\n",
      "  for column names in R. [This is a message, not a warning or an error]\n",
      "\n",
      "estimating size factors\n",
      "\n",
      "  Note: levels of factors in the design contain characters other than\n",
      "  letters, numbers, '_' and '.'. It is recommended (but not required) to use\n",
      "  only letters, numbers, and delimiters '_' or '.', as these are safe characters\n",
      "  for column names in R. [This is a message, not a warning or an error]\n",
      "\n",
      "estimating dispersions\n",
      "\n",
      "gene-wise dispersion estimates\n",
      "\n",
      "mean-dispersion relationship\n",
      "\n",
      "  Note: levels of factors in the design contain characters other than\n",
      "  letters, numbers, '_' and '.'. It is recommended (but not required) to use\n",
      "  only letters, numbers, and delimiters '_' or '.', as these are safe characters\n",
      "  for column names in R. [This is a message, not a warning or an error]\n",
      "\n",
      "final dispersion estimates\n",
      "\n",
      "  Note: levels of factors in the design contain characters other than\n",
      "  letters, numbers, '_' and '.'. It is recommended (but not required) to use\n",
      "  only letters, numbers, and delimiters '_' or '.', as these are safe characters\n",
      "  for column names in R. [This is a message, not a warning or an error]\n",
      "\n",
      "fitting model and testing\n",
      "\n",
      "converting counts to integer mode\n",
      "\n",
      "  Note: levels of factors in the design contain characters other than\n",
      "  letters, numbers, '_' and '.'. It is recommended (but not required) to use\n",
      "  only letters, numbers, and delimiters '_' or '.', as these are safe characters\n",
      "  for column names in R. [This is a message, not a warning or an error]\n",
      "\n",
      "estimating size factors\n",
      "\n",
      "  Note: levels of factors in the design contain characters other than\n",
      "  letters, numbers, '_' and '.'. It is recommended (but not required) to use\n",
      "  only letters, numbers, and delimiters '_' or '.', as these are safe characters\n",
      "  for column names in R. [This is a message, not a warning or an error]\n",
      "\n",
      "estimating dispersions\n",
      "\n",
      "gene-wise dispersion estimates\n",
      "\n",
      "mean-dispersion relationship\n",
      "\n",
      "  Note: levels of factors in the design contain characters other than\n",
      "  letters, numbers, '_' and '.'. It is recommended (but not required) to use\n",
      "  only letters, numbers, and delimiters '_' or '.', as these are safe characters\n",
      "  for column names in R. [This is a message, not a warning or an error]\n",
      "\n",
      "final dispersion estimates\n",
      "\n",
      "  Note: levels of factors in the design contain characters other than\n",
      "  letters, numbers, '_' and '.'. It is recommended (but not required) to use\n",
      "  only letters, numbers, and delimiters '_' or '.', as these are safe characters\n",
      "  for column names in R. [This is a message, not a warning or an error]\n",
      "\n",
      "fitting model and testing\n",
      "\n",
      "converting counts to integer mode\n",
      "\n",
      "  Note: levels of factors in the design contain characters other than\n",
      "  letters, numbers, '_' and '.'. It is recommended (but not required) to use\n",
      "  only letters, numbers, and delimiters '_' or '.', as these are safe characters\n",
      "  for column names in R. [This is a message, not a warning or an error]\n",
      "\n",
      "estimating size factors\n",
      "\n",
      "  Note: levels of factors in the design contain characters other than\n",
      "  letters, numbers, '_' and '.'. It is recommended (but not required) to use\n",
      "  only letters, numbers, and delimiters '_' or '.', as these are safe characters\n",
      "  for column names in R. [This is a message, not a warning or an error]\n",
      "\n",
      "estimating dispersions\n",
      "\n",
      "gene-wise dispersion estimates\n",
      "\n",
      "mean-dispersion relationship\n",
      "\n",
      "  Note: levels of factors in the design contain characters other than\n",
      "  letters, numbers, '_' and '.'. It is recommended (but not required) to use\n",
      "  only letters, numbers, and delimiters '_' or '.', as these are safe characters\n",
      "  for column names in R. [This is a message, not a warning or an error]\n",
      "\n",
      "final dispersion estimates\n",
      "\n",
      "  Note: levels of factors in the design contain characters other than\n",
      "  letters, numbers, '_' and '.'. It is recommended (but not required) to use\n",
      "  only letters, numbers, and delimiters '_' or '.', as these are safe characters\n",
      "  for column names in R. [This is a message, not a warning or an error]\n",
      "\n",
      "fitting model and testing\n",
      "\n",
      "converting counts to integer mode\n",
      "\n",
      "  Note: levels of factors in the design contain characters other than\n",
      "  letters, numbers, '_' and '.'. It is recommended (but not required) to use\n",
      "  only letters, numbers, and delimiters '_' or '.', as these are safe characters\n",
      "  for column names in R. [This is a message, not a warning or an error]\n",
      "\n",
      "estimating size factors\n",
      "\n",
      "  Note: levels of factors in the design contain characters other than\n",
      "  letters, numbers, '_' and '.'. It is recommended (but not required) to use\n",
      "  only letters, numbers, and delimiters '_' or '.', as these are safe characters\n",
      "  for column names in R. [This is a message, not a warning or an error]\n",
      "\n",
      "estimating dispersions\n",
      "\n",
      "gene-wise dispersion estimates\n",
      "\n",
      "mean-dispersion relationship\n",
      "\n",
      "  Note: levels of factors in the design contain characters other than\n",
      "  letters, numbers, '_' and '.'. It is recommended (but not required) to use\n",
      "  only letters, numbers, and delimiters '_' or '.', as these are safe characters\n",
      "  for column names in R. [This is a message, not a warning or an error]\n",
      "\n",
      "final dispersion estimates\n",
      "\n",
      "  Note: levels of factors in the design contain characters other than\n",
      "  letters, numbers, '_' and '.'. It is recommended (but not required) to use\n",
      "  only letters, numbers, and delimiters '_' or '.', as these are safe characters\n",
      "  for column names in R. [This is a message, not a warning or an error]\n",
      "\n",
      "fitting model and testing\n",
      "\n",
      "converting counts to integer mode\n",
      "\n",
      "  Note: levels of factors in the design contain characters other than\n",
      "  letters, numbers, '_' and '.'. It is recommended (but not required) to use\n",
      "  only letters, numbers, and delimiters '_' or '.', as these are safe characters\n",
      "  for column names in R. [This is a message, not a warning or an error]\n",
      "\n",
      "estimating size factors\n",
      "\n",
      "  Note: levels of factors in the design contain characters other than\n",
      "  letters, numbers, '_' and '.'. It is recommended (but not required) to use\n",
      "  only letters, numbers, and delimiters '_' or '.', as these are safe characters\n",
      "  for column names in R. [This is a message, not a warning or an error]\n",
      "\n",
      "estimating dispersions\n",
      "\n",
      "gene-wise dispersion estimates\n",
      "\n",
      "mean-dispersion relationship\n",
      "\n",
      "  Note: levels of factors in the design contain characters other than\n",
      "  letters, numbers, '_' and '.'. It is recommended (but not required) to use\n",
      "  only letters, numbers, and delimiters '_' or '.', as these are safe characters\n",
      "  for column names in R. [This is a message, not a warning or an error]\n",
      "\n",
      "final dispersion estimates\n",
      "\n",
      "  Note: levels of factors in the design contain characters other than\n",
      "  letters, numbers, '_' and '.'. It is recommended (but not required) to use\n",
      "  only letters, numbers, and delimiters '_' or '.', as these are safe characters\n",
      "  for column names in R. [This is a message, not a warning or an error]\n",
      "\n",
      "fitting model and testing\n",
      "\n",
      "1 rows did not converge in beta, labelled in mcols(object)$betaConv. Use larger maxit argument with nbinomWaldTest\n",
      "\n",
      "converting counts to integer mode\n",
      "\n",
      "  Note: levels of factors in the design contain characters other than\n",
      "  letters, numbers, '_' and '.'. It is recommended (but not required) to use\n",
      "  only letters, numbers, and delimiters '_' or '.', as these are safe characters\n",
      "  for column names in R. [This is a message, not a warning or an error]\n",
      "\n",
      "estimating size factors\n",
      "\n",
      "  Note: levels of factors in the design contain characters other than\n",
      "  letters, numbers, '_' and '.'. It is recommended (but not required) to use\n",
      "  only letters, numbers, and delimiters '_' or '.', as these are safe characters\n",
      "  for column names in R. [This is a message, not a warning or an error]\n",
      "\n",
      "estimating dispersions\n",
      "\n",
      "gene-wise dispersion estimates\n",
      "\n",
      "mean-dispersion relationship\n",
      "\n",
      "  Note: levels of factors in the design contain characters other than\n",
      "  letters, numbers, '_' and '.'. It is recommended (but not required) to use\n",
      "  only letters, numbers, and delimiters '_' or '.', as these are safe characters\n",
      "  for column names in R. [This is a message, not a warning or an error]\n",
      "\n",
      "final dispersion estimates\n",
      "\n",
      "  Note: levels of factors in the design contain characters other than\n",
      "  letters, numbers, '_' and '.'. It is recommended (but not required) to use\n",
      "  only letters, numbers, and delimiters '_' or '.', as these are safe characters\n",
      "  for column names in R. [This is a message, not a warning or an error]\n",
      "\n",
      "fitting model and testing\n",
      "\n",
      "2 rows did not converge in beta, labelled in mcols(object)$betaConv. Use larger maxit argument with nbinomWaldTest\n",
      "\n",
      "converting counts to integer mode\n",
      "\n",
      "  Note: levels of factors in the design contain characters other than\n",
      "  letters, numbers, '_' and '.'. It is recommended (but not required) to use\n",
      "  only letters, numbers, and delimiters '_' or '.', as these are safe characters\n",
      "  for column names in R. [This is a message, not a warning or an error]\n",
      "\n",
      "estimating size factors\n",
      "\n",
      "  Note: levels of factors in the design contain characters other than\n",
      "  letters, numbers, '_' and '.'. It is recommended (but not required) to use\n",
      "  only letters, numbers, and delimiters '_' or '.', as these are safe characters\n",
      "  for column names in R. [This is a message, not a warning or an error]\n",
      "\n",
      "estimating dispersions\n",
      "\n",
      "gene-wise dispersion estimates\n",
      "\n",
      "mean-dispersion relationship\n",
      "\n",
      "  Note: levels of factors in the design contain characters other than\n",
      "  letters, numbers, '_' and '.'. It is recommended (but not required) to use\n",
      "  only letters, numbers, and delimiters '_' or '.', as these are safe characters\n",
      "  for column names in R. [This is a message, not a warning or an error]\n",
      "\n",
      "final dispersion estimates\n",
      "\n",
      "  Note: levels of factors in the design contain characters other than\n",
      "  letters, numbers, '_' and '.'. It is recommended (but not required) to use\n",
      "  only letters, numbers, and delimiters '_' or '.', as these are safe characters\n",
      "  for column names in R. [This is a message, not a warning or an error]\n",
      "\n",
      "fitting model and testing\n",
      "\n",
      "7 rows did not converge in beta, labelled in mcols(object)$betaConv. Use larger maxit argument with nbinomWaldTest\n",
      "\n",
      "converting counts to integer mode\n",
      "\n",
      "  Note: levels of factors in the design contain characters other than\n",
      "  letters, numbers, '_' and '.'. It is recommended (but not required) to use\n",
      "  only letters, numbers, and delimiters '_' or '.', as these are safe characters\n",
      "  for column names in R. [This is a message, not a warning or an error]\n",
      "\n",
      "estimating size factors\n",
      "\n",
      "  Note: levels of factors in the design contain characters other than\n",
      "  letters, numbers, '_' and '.'. It is recommended (but not required) to use\n",
      "  only letters, numbers, and delimiters '_' or '.', as these are safe characters\n",
      "  for column names in R. [This is a message, not a warning or an error]\n",
      "\n",
      "estimating dispersions\n",
      "\n",
      "gene-wise dispersion estimates\n",
      "\n"
     ]
    }
   ],
   "source": [
    "\n",
    "\n",
    "#create an empty dataframe to store the number of significant genes\n",
    "deg_counts = data.frame(matrix(ncol=20, nrow=0))\n",
    "colnames(deg_counts) = c(\"formula\", \"sig_genes\")\n",
    "\n",
    "for (x in seq_along(formula_list)) {\n",
    "    design_formula = formula(formula_list[[x]])\n",
    "    dds1 <- DESeqDataSetFromMatrix(countData=cts, colData=pdat, design = design_formula)\n",
    "    y <- DGEList(counts=counts(dds1), group=coldata$recur)\n",
    "    keep <- filterByExpr(y)\n",
    "    table(keep)\n",
    "    y <- y[keep,]\n",
    "    dds1 <- dds1[keep,]\n",
    "    dds1 <- DESeq(dds1)\n",
    "    res <- results(dds1)\n",
    "    res <- res[order(res$padj),]\n",
    "    #get the number of significant genes\n",
    "    sig_genes <- res[which(res$padj < 0.05),]\n",
    "    #save the number of significant genes to the dataframe\n",
    "    deg_counts = rbind(deg_counts, c(x, nrow(sig_genes)))\n",
    "    #save the results to a csv file\n",
    "    write.csv(res, paste0(\"../../results/recur/i/ruvg_runs/res5_\", x, \".csv\"))\n",
    "    \n",
    "}\n",
    "\n",
    "head(deg_counts, 10)"
   ]
  },
  {
   "cell_type": "code",
   "execution_count": null,
   "metadata": {
    "vscode": {
     "languageId": "r"
    }
   },
   "outputs": [
    {
     "data": {
      "image/png": "[encoded data removed]",
      "text/plain": [
       "plot without title"
      ]
     },
     "metadata": {
      "image/png": {
       "height": 420,
       "width": 420
      }
     },
     "output_type": "display_data"
    }
   ],
   "source": [
    "colnames(deg_counts) = c(\"formula\", \"sig_genes\")\n",
    "#plot the number of significant genes vs the number of covariates\n",
    "ggplot(deg_counts, aes(x=formula, y=sig_genes)) +\n",
    "    geom_point(size=5) +\n",
    "    geom_line() +\n",
    "    xlab(\"Number of Covariates\") +\n",
    "    ylab(\"Number of Significant Genes\") +\n",
    "    theme(text = element_text(size = 24))"
   ]
  },
  {
   "cell_type": "code",
   "execution_count": 12,
   "metadata": {
    "vscode": {
     "languageId": "r"
    }
   },
   "outputs": [
    {
     "data": {
      "text/plain": [
       "~sex + W_1 + W_2 + W_3 + W_4 + W_5 + W_6 + W_7 + W_8 + W_9 + \n",
       "    W_10 + W_11 + W_12 + W_13 + W_14 + +W_15 + W_16 + W_17 + \n",
       "    W_18 + recur"
      ]
     },
     "metadata": {},
     "output_type": "display_data"
    }
   ],
   "source": [
    "#use 18 covariates\n",
    "design_formula = formula(formula_list[[18]])\n",
    "design_formula"
   ]
  },
  {
   "cell_type": "code",
   "execution_count": 13,
   "metadata": {
    "vscode": {
     "languageId": "r"
    }
   },
   "outputs": [
    {
     "name": "stderr",
     "output_type": "stream",
     "text": [
      "converting counts to integer mode\n",
      "\n",
      "  Note: levels of factors in the design contain characters other than\n",
      "  letters, numbers, '_' and '.'. It is recommended (but not required) to use\n",
      "  only letters, numbers, and delimiters '_' or '.', as these are safe characters\n",
      "  for column names in R. [This is a message, not a warning or an error]\n",
      "\n"
     ]
    },
    {
     "data": {
      "text/plain": [
       "keep\n",
       "FALSE  TRUE \n",
       "28254 29965 "
      ]
     },
     "metadata": {},
     "output_type": "display_data"
    },
    {
     "name": "stderr",
     "output_type": "stream",
     "text": [
      "estimating size factors\n",
      "\n",
      "  Note: levels of factors in the design contain characters other than\n",
      "  letters, numbers, '_' and '.'. It is recommended (but not required) to use\n",
      "  only letters, numbers, and delimiters '_' or '.', as these are safe characters\n",
      "  for column names in R. [This is a message, not a warning or an error]\n",
      "\n",
      "estimating dispersions\n",
      "\n",
      "gene-wise dispersion estimates\n",
      "\n",
      "mean-dispersion relationship\n",
      "\n",
      "  Note: levels of factors in the design contain characters other than\n",
      "  letters, numbers, '_' and '.'. It is recommended (but not required) to use\n",
      "  only letters, numbers, and delimiters '_' or '.', as these are safe characters\n",
      "  for column names in R. [This is a message, not a warning or an error]\n",
      "\n",
      "final dispersion estimates\n",
      "\n",
      "  Note: levels of factors in the design contain characters other than\n",
      "  letters, numbers, '_' and '.'. It is recommended (but not required) to use\n",
      "  only letters, numbers, and delimiters '_' or '.', as these are safe characters\n",
      "  for column names in R. [This is a message, not a warning or an error]\n",
      "\n",
      "fitting model and testing\n",
      "\n",
      "48 rows did not converge in beta, labelled in mcols(object)$betaConv. Use larger maxit argument with nbinomWaldTest\n",
      "\n"
     ]
    }
   ],
   "source": [
    "dds = DESeqDataSetFromMatrix(countData=cts, colData=pdat, design = design_formula)\n",
    "#filter genes for low expression with edgeR\n",
    "y <- DGEList(counts=counts(dds), group=recur)\n",
    "keep <- filterByExpr(y)\n",
    "table(keep)\n",
    "y <- y[keep,]\n",
    "dds <- dds[keep,]\n",
    "#run DESeq\n",
    "dds <- DESeq(dds)\n",
    "res <- results(dds)"
   ]
  },
  {
   "cell_type": "code",
   "execution_count": 14,
   "metadata": {
    "vscode": {
     "languageId": "r"
    }
   },
   "outputs": [
    {
     "name": "stderr",
     "output_type": "stream",
     "text": [
      "\n",
      "Attaching package: ‘genefilter’\n",
      "\n",
      "\n",
      "The following object is masked _by_ ‘.GlobalEnv’:\n",
      "\n",
      "    varFilter\n",
      "\n",
      "\n",
      "The following object is masked from ‘package:readr’:\n",
      "\n",
      "    spec\n",
      "\n",
      "\n",
      "The following objects are masked from ‘package:MatrixGenerics’:\n",
      "\n",
      "    rowSds, rowVars\n",
      "\n",
      "\n",
      "The following objects are masked from ‘package:matrixStats’:\n",
      "\n",
      "    rowSds, rowVars\n",
      "\n",
      "\n"
     ]
    }
   ],
   "source": [
    "library('pheatmap')\n",
    "library('genefilter')\n",
    "#use RemoveBatchEffect to adjust for the identified covariates\n",
    "#first create variables for each of the RUV factors\n",
    "ruv1 = pdat$W_1\n",
    "ruv2 = pdat$W_2\n",
    "ruv3 = pdat$W_3\n",
    "ruv4 = pdat$W_4\n",
    "ruv5 = pdat$W_5\n",
    "ruv6 = pdat$W_6\n",
    "ruv7 = pdat$W_7\n",
    "ruv8 = pdat$W_8\n",
    "ruv9 = pdat$W_9\n",
    "ruv10 = pdat$W_10\n",
    "ruv11 = pdat$W_11\n",
    "ruv12 = pdat$W_12\n",
    "ruv13 = pdat$W_13\n",
    "ruv14 = pdat$W_14\n",
    "ruv15 = pdat$W_15\n",
    "ruv16 = pdat$W_16\n",
    "ruv17 = pdat$W_17\n",
    "ruv18 = pdat$W_18\n",
    "\n",
    "#run RemoveBatchEffect using the RUV factors and sex\n",
    "vsd = vst(dds)\n",
    "mat= assay(vsd)\n",
    "assay(vsd) <- removeBatchEffect(assay(vsd), batch=sex, covariates=cbind(ruv1, ruv2, ruv3, ruv4, ruv5, ruv6, ruv7, ruv8, ruv9, ruv10, ruv11, ruv12, ruv13, ruv14, ruv15, ruv16, ruv17, ruv18))"
   ]
  },
  {
   "cell_type": "code",
   "execution_count": 16,
   "metadata": {
    "vscode": {
     "languageId": "r"
    }
   },
   "outputs": [
    {
     "data": {
      "text/html": [
       "<strong>png:</strong> 2"
      ],
      "text/latex": [
       "\\textbf{png:} 2"
      ],
      "text/markdown": [
       "**png:** 2"
      ],
      "text/plain": [
       "png \n",
       "  2 "
      ]
     },
     "metadata": {},
     "output_type": "display_data"
    }
   ],
   "source": [
    "#plot a PCA of the adjusted data\n",
    "pcaData <- plotPCA(vsd, intgroup=c(\"recur\"), ntop = 500, returnData=TRUE)\n",
    "percentVar <- round(100 * attr(pcaData, \"percentVar\"))\n",
    "\n",
    "#save the plot\n",
    "png(\"results/i/pca_ruvg_corrected.png\", width=1024, height=1024)\n",
    "ggplot(pcaData, aes(PC1, PC2, color=inflammation_status, shape=recur)) +\n",
    "    geom_point(size=5) +\n",
    "    #geom_text(aes(label=sample),hjust=0, vjust=0) +\n",
    "    xlab(paste0(\"PC1: \",percentVar[1],\"% variance\")) +\n",
    "    ylab(paste0(\"PC2: \",percentVar[2],\"% variance\")) + \n",
    "    coord_fixed() +\n",
    "    \n",
    "    theme(text = element_text(size = 24))\n",
    "dev.off()"
   ]
  },
  {
   "cell_type": "code",
   "execution_count": 20,
   "metadata": {
    "vscode": {
     "languageId": "r"
    }
   },
   "outputs": [
    {
     "data": {
      "text/plain": [
       "log2 fold change (MLE): recur Recurrent vs Non.recurrent \n",
       "Wald test p-value: recur Recurrent vs Non.recurrent \n",
       "DataFrame with 6 rows and 7 columns\n",
       "                                 gene  baseMean log2FoldChange     lfcSE\n",
       "                          <character> <numeric>      <numeric> <numeric>\n",
       "ENSG00000100368.15 ENSG00000100368.15  1408.336       0.539294 0.0768059\n",
       "ENSG00000137462.9   ENSG00000137462.9  1049.409       0.588285 0.0868936\n",
       "ENSG00000249437.8   ENSG00000249437.8  3875.876       0.353731 0.0533505\n",
       "ENSG00000185215.11 ENSG00000185215.11  4540.630       0.639195 0.0977397\n",
       "ENSG00000148926.10 ENSG00000148926.10   559.951       0.758926 0.1183117\n",
       "ENSG00000162551.14 ENSG00000162551.14   190.099       0.939503 0.1523298\n",
       "                        stat      pvalue        padj\n",
       "                   <numeric>   <numeric>   <numeric>\n",
       "ENSG00000100368.15   7.02152 2.19471e-12 5.68387e-08\n",
       "ENSG00000137462.9    6.77018 1.28627e-11 1.66558e-07\n",
       "ENSG00000249437.8    6.63033 3.34947e-11 2.89149e-07\n",
       "ENSG00000185215.11   6.53977 6.16133e-11 3.98915e-07\n",
       "ENSG00000148926.10   6.41463 1.41162e-10 7.31164e-07\n",
       "ENSG00000162551.14   6.16756 6.93520e-10 2.64211e-06"
      ]
     },
     "metadata": {},
     "output_type": "display_data"
    }
   ],
   "source": [
    "resOrdered <- res[order(res$padj),]\n",
    "resOrdered$gene <- rownames(resOrdered)\n",
    "resOrdered = resOrdered[,c(7, 1, 2, 3, 4, 5, 6)]\n",
    "head(resOrdered)"
   ]
  },
  {
   "cell_type": "code",
   "execution_count": 21,
   "metadata": {
    "vscode": {
     "languageId": "r"
    }
   },
   "outputs": [],
   "source": [
    "#make a list of the top 15 genes\n",
    "top15 <- resOrdered[1:15,]\n",
    "recur <- data.frame(recur=coldata$recur)\n",
    "rownames(recur) <- colnames(mat)\n",
    "mat15 <- mat[top15$gene,]\n",
    "#center the data\n",
    "mat15 <- mat15 - rowMeans(mat15)"
   ]
  },
  {
   "cell_type": "code",
   "execution_count": 22,
   "metadata": {
    "vscode": {
     "languageId": "r"
    }
   },
   "outputs": [
    {
     "name": "stderr",
     "output_type": "stream",
     "text": [
      "'select()' returned 1:1 mapping between keys and columns\n",
      "\n"
     ]
    },
    {
     "data": {
      "text/html": [
       "<table class=\"dataframe\">\n",
       "<caption>A matrix: 6 × 42 of type dbl</caption>\n",
       "<thead>\n",
       "\t<tr><th></th><th scope=col>PB12_770_A9</th><th scope=col>PB138_A3</th><th scope=col>PB140_ILEUM</th><th scope=col>PB146_A1</th><th scope=col>PB17_236_122_A1</th><th scope=col>PB17_236_177_A1</th><th scope=col>PB17_236_292_B1</th><th scope=col>PB17_236_387_A2</th><th scope=col>PB17_236_398_A3</th><th scope=col>PB17_236_520_A4</th><th scope=col>⋯</th><th scope=col>PB600444_A1</th><th scope=col>PB601102_A2</th><th scope=col>PB601990_A4</th><th scope=col>PB602717_A1</th><th scope=col>PB603387_A1</th><th scope=col>PB603967_A1</th><th scope=col>PB604520_A1</th><th scope=col>PB605312_A1</th><th scope=col>PB75_A2</th><th scope=col>PBCHAMP7_A2</th></tr>\n",
       "</thead>\n",
       "<tbody>\n",
       "\t<tr><th scope=row>CSF2RB</th><td> 0.52512344</td><td>2.8377624</td><td>-0.6021220</td><td>-0.1770484</td><td>-0.25796557</td><td>-0.06425362</td><td>0.2868785</td><td>-0.14921148</td><td> 0.2845260</td><td>-0.08435063</td><td>⋯</td><td>-0.4064393</td><td>-0.5568335</td><td>-1.3378116</td><td>-1.16610877</td><td>-0.67243669</td><td> 0.35995732</td><td>-0.83342252</td><td> 0.40257766</td><td>-0.4665220</td><td>0.71925940</td></tr>\n",
       "\t<tr><th scope=row>TLR2</th><td> 0.89179597</td><td>2.2636921</td><td>-1.0031877</td><td> 1.0939214</td><td>-0.55847127</td><td>-0.45627120</td><td>0.5294881</td><td> 0.11124168</td><td> 0.1302254</td><td> 0.11723288</td><td>⋯</td><td> 0.1591417</td><td> 0.7432911</td><td>-0.8464827</td><td>-1.60960695</td><td>-0.02181970</td><td>-0.62367929</td><td> 0.44506311</td><td>-0.37800864</td><td>-0.2652700</td><td>0.74323054</td></tr>\n",
       "\t<tr><th scope=row>NAIP</th><td>-0.02336788</td><td>0.6527014</td><td>-0.2458138</td><td> 0.6773074</td><td> 0.35933408</td><td>-0.26220355</td><td>0.1700708</td><td>-0.03627255</td><td>-0.2029344</td><td> 0.10937801</td><td>⋯</td><td> 0.2534548</td><td> 0.3474533</td><td>-0.6411854</td><td>-0.01508148</td><td> 0.31191087</td><td>-0.41542597</td><td>-0.03802279</td><td>-0.08339674</td><td> 0.3257464</td><td>0.06336752</td></tr>\n",
       "\t<tr><th scope=row>TNFAIP2</th><td> 0.55724426</td><td>1.8458881</td><td>-0.7173009</td><td> 1.3904475</td><td> 0.05184658</td><td>-0.53357675</td><td>0.2616403</td><td>-0.56162364</td><td> 0.2242787</td><td> 0.17617249</td><td>⋯</td><td> 0.1048737</td><td> 0.2863901</td><td>-0.7485523</td><td>-0.76144035</td><td>-0.33943981</td><td>-0.01836612</td><td> 0.03121163</td><td>-0.44461538</td><td>-0.4992836</td><td>0.05442324</td></tr>\n",
       "\t<tr><th scope=row>ADM</th><td> 1.13481914</td><td>1.7517084</td><td>-1.1143721</td><td> 1.5138080</td><td>-0.21274459</td><td>-0.36875478</td><td>0.9361534</td><td> 0.07809647</td><td> 1.2863198</td><td> 0.28126444</td><td>⋯</td><td>-0.2434752</td><td> 0.3774139</td><td>-1.0619564</td><td>-1.13557939</td><td>-0.06722303</td><td>-0.65886378</td><td> 0.22840164</td><td>-1.59898471</td><td>-1.0683988</td><td>0.79392085</td></tr>\n",
       "\t<tr><th scope=row>ALPL</th><td> 1.80656149</td><td>2.0649235</td><td>-0.4402806</td><td> 0.8126067</td><td>-0.52974084</td><td>-0.59631612</td><td>0.7498372</td><td> 0.33195363</td><td> 0.1525135</td><td>-0.29982614</td><td>⋯</td><td>-1.0131805</td><td> 0.8683495</td><td>-1.0037457</td><td>-0.99147772</td><td>-1.05779024</td><td>-0.58845978</td><td>-0.48711737</td><td>-0.29368516</td><td>-0.5780172</td><td>1.21870844</td></tr>\n",
       "</tbody>\n",
       "</table>\n"
      ],
      "text/latex": [
       "A matrix: 6 × 42 of type dbl\n",
       "\\begin{tabular}{r|lllllllllllllllllllll}\n",
       "  & PB12\\_770\\_A9 & PB138\\_A3 & PB140\\_ILEUM & PB146\\_A1 & PB17\\_236\\_122\\_A1 & PB17\\_236\\_177\\_A1 & PB17\\_236\\_292\\_B1 & PB17\\_236\\_387\\_A2 & PB17\\_236\\_398\\_A3 & PB17\\_236\\_520\\_A4 & ⋯ & PB600444\\_A1 & PB601102\\_A2 & PB601990\\_A4 & PB602717\\_A1 & PB603387\\_A1 & PB603967\\_A1 & PB604520\\_A1 & PB605312\\_A1 & PB75\\_A2 & PBCHAMP7\\_A2\\\\\n",
       "\\hline\n",
       "\tCSF2RB &  0.52512344 & 2.8377624 & -0.6021220 & -0.1770484 & -0.25796557 & -0.06425362 & 0.2868785 & -0.14921148 &  0.2845260 & -0.08435063 & ⋯ & -0.4064393 & -0.5568335 & -1.3378116 & -1.16610877 & -0.67243669 &  0.35995732 & -0.83342252 &  0.40257766 & -0.4665220 & 0.71925940\\\\\n",
       "\tTLR2 &  0.89179597 & 2.2636921 & -1.0031877 &  1.0939214 & -0.55847127 & -0.45627120 & 0.5294881 &  0.11124168 &  0.1302254 &  0.11723288 & ⋯ &  0.1591417 &  0.7432911 & -0.8464827 & -1.60960695 & -0.02181970 & -0.62367929 &  0.44506311 & -0.37800864 & -0.2652700 & 0.74323054\\\\\n",
       "\tNAIP & -0.02336788 & 0.6527014 & -0.2458138 &  0.6773074 &  0.35933408 & -0.26220355 & 0.1700708 & -0.03627255 & -0.2029344 &  0.10937801 & ⋯ &  0.2534548 &  0.3474533 & -0.6411854 & -0.01508148 &  0.31191087 & -0.41542597 & -0.03802279 & -0.08339674 &  0.3257464 & 0.06336752\\\\\n",
       "\tTNFAIP2 &  0.55724426 & 1.8458881 & -0.7173009 &  1.3904475 &  0.05184658 & -0.53357675 & 0.2616403 & -0.56162364 &  0.2242787 &  0.17617249 & ⋯ &  0.1048737 &  0.2863901 & -0.7485523 & -0.76144035 & -0.33943981 & -0.01836612 &  0.03121163 & -0.44461538 & -0.4992836 & 0.05442324\\\\\n",
       "\tADM &  1.13481914 & 1.7517084 & -1.1143721 &  1.5138080 & -0.21274459 & -0.36875478 & 0.9361534 &  0.07809647 &  1.2863198 &  0.28126444 & ⋯ & -0.2434752 &  0.3774139 & -1.0619564 & -1.13557939 & -0.06722303 & -0.65886378 &  0.22840164 & -1.59898471 & -1.0683988 & 0.79392085\\\\\n",
       "\tALPL &  1.80656149 & 2.0649235 & -0.4402806 &  0.8126067 & -0.52974084 & -0.59631612 & 0.7498372 &  0.33195363 &  0.1525135 & -0.29982614 & ⋯ & -1.0131805 &  0.8683495 & -1.0037457 & -0.99147772 & -1.05779024 & -0.58845978 & -0.48711737 & -0.29368516 & -0.5780172 & 1.21870844\\\\\n",
       "\\end{tabular}\n"
      ],
      "text/markdown": [
       "\n",
       "A matrix: 6 × 42 of type dbl\n",
       "\n",
       "| <!--/--> | PB12_770_A9 | PB138_A3 | PB140_ILEUM | PB146_A1 | PB17_236_122_A1 | PB17_236_177_A1 | PB17_236_292_B1 | PB17_236_387_A2 | PB17_236_398_A3 | PB17_236_520_A4 | ⋯ | PB600444_A1 | PB601102_A2 | PB601990_A4 | PB602717_A1 | PB603387_A1 | PB603967_A1 | PB604520_A1 | PB605312_A1 | PB75_A2 | PBCHAMP7_A2 |\n",
       "|---|---|---|---|---|---|---|---|---|---|---|---|---|---|---|---|---|---|---|---|---|---|\n",
       "| CSF2RB |  0.52512344 | 2.8377624 | -0.6021220 | -0.1770484 | -0.25796557 | -0.06425362 | 0.2868785 | -0.14921148 |  0.2845260 | -0.08435063 | ⋯ | -0.4064393 | -0.5568335 | -1.3378116 | -1.16610877 | -0.67243669 |  0.35995732 | -0.83342252 |  0.40257766 | -0.4665220 | 0.71925940 |\n",
       "| TLR2 |  0.89179597 | 2.2636921 | -1.0031877 |  1.0939214 | -0.55847127 | -0.45627120 | 0.5294881 |  0.11124168 |  0.1302254 |  0.11723288 | ⋯ |  0.1591417 |  0.7432911 | -0.8464827 | -1.60960695 | -0.02181970 | -0.62367929 |  0.44506311 | -0.37800864 | -0.2652700 | 0.74323054 |\n",
       "| NAIP | -0.02336788 | 0.6527014 | -0.2458138 |  0.6773074 |  0.35933408 | -0.26220355 | 0.1700708 | -0.03627255 | -0.2029344 |  0.10937801 | ⋯ |  0.2534548 |  0.3474533 | -0.6411854 | -0.01508148 |  0.31191087 | -0.41542597 | -0.03802279 | -0.08339674 |  0.3257464 | 0.06336752 |\n",
       "| TNFAIP2 |  0.55724426 | 1.8458881 | -0.7173009 |  1.3904475 |  0.05184658 | -0.53357675 | 0.2616403 | -0.56162364 |  0.2242787 |  0.17617249 | ⋯ |  0.1048737 |  0.2863901 | -0.7485523 | -0.76144035 | -0.33943981 | -0.01836612 |  0.03121163 | -0.44461538 | -0.4992836 | 0.05442324 |\n",
       "| ADM |  1.13481914 | 1.7517084 | -1.1143721 |  1.5138080 | -0.21274459 | -0.36875478 | 0.9361534 |  0.07809647 |  1.2863198 |  0.28126444 | ⋯ | -0.2434752 |  0.3774139 | -1.0619564 | -1.13557939 | -0.06722303 | -0.65886378 |  0.22840164 | -1.59898471 | -1.0683988 | 0.79392085 |\n",
       "| ALPL |  1.80656149 | 2.0649235 | -0.4402806 |  0.8126067 | -0.52974084 | -0.59631612 | 0.7498372 |  0.33195363 |  0.1525135 | -0.29982614 | ⋯ | -1.0131805 |  0.8683495 | -1.0037457 | -0.99147772 | -1.05779024 | -0.58845978 | -0.48711737 | -0.29368516 | -0.5780172 | 1.21870844 |\n",
       "\n"
      ],
      "text/plain": [
       "        PB12_770_A9 PB138_A3  PB140_ILEUM PB146_A1   PB17_236_122_A1\n",
       "CSF2RB   0.52512344 2.8377624 -0.6021220  -0.1770484 -0.25796557    \n",
       "TLR2     0.89179597 2.2636921 -1.0031877   1.0939214 -0.55847127    \n",
       "NAIP    -0.02336788 0.6527014 -0.2458138   0.6773074  0.35933408    \n",
       "TNFAIP2  0.55724426 1.8458881 -0.7173009   1.3904475  0.05184658    \n",
       "ADM      1.13481914 1.7517084 -1.1143721   1.5138080 -0.21274459    \n",
       "ALPL     1.80656149 2.0649235 -0.4402806   0.8126067 -0.52974084    \n",
       "        PB17_236_177_A1 PB17_236_292_B1 PB17_236_387_A2 PB17_236_398_A3\n",
       "CSF2RB  -0.06425362     0.2868785       -0.14921148      0.2845260     \n",
       "TLR2    -0.45627120     0.5294881        0.11124168      0.1302254     \n",
       "NAIP    -0.26220355     0.1700708       -0.03627255     -0.2029344     \n",
       "TNFAIP2 -0.53357675     0.2616403       -0.56162364      0.2242787     \n",
       "ADM     -0.36875478     0.9361534        0.07809647      1.2863198     \n",
       "ALPL    -0.59631612     0.7498372        0.33195363      0.1525135     \n",
       "        PB17_236_520_A4 ⋯ PB600444_A1 PB601102_A2 PB601990_A4 PB602717_A1\n",
       "CSF2RB  -0.08435063     ⋯ -0.4064393  -0.5568335  -1.3378116  -1.16610877\n",
       "TLR2     0.11723288     ⋯  0.1591417   0.7432911  -0.8464827  -1.60960695\n",
       "NAIP     0.10937801     ⋯  0.2534548   0.3474533  -0.6411854  -0.01508148\n",
       "TNFAIP2  0.17617249     ⋯  0.1048737   0.2863901  -0.7485523  -0.76144035\n",
       "ADM      0.28126444     ⋯ -0.2434752   0.3774139  -1.0619564  -1.13557939\n",
       "ALPL    -0.29982614     ⋯ -1.0131805   0.8683495  -1.0037457  -0.99147772\n",
       "        PB603387_A1 PB603967_A1 PB604520_A1 PB605312_A1 PB75_A2    PBCHAMP7_A2\n",
       "CSF2RB  -0.67243669  0.35995732 -0.83342252  0.40257766 -0.4665220 0.71925940 \n",
       "TLR2    -0.02181970 -0.62367929  0.44506311 -0.37800864 -0.2652700 0.74323054 \n",
       "NAIP     0.31191087 -0.41542597 -0.03802279 -0.08339674  0.3257464 0.06336752 \n",
       "TNFAIP2 -0.33943981 -0.01836612  0.03121163 -0.44461538 -0.4992836 0.05442324 \n",
       "ADM     -0.06722303 -0.65886378  0.22840164 -1.59898471 -1.0683988 0.79392085 \n",
       "ALPL    -1.05779024 -0.58845978 -0.48711737 -0.29368516 -0.5780172 1.21870844 "
      ]
     },
     "metadata": {},
     "output_type": "display_data"
    }
   ],
   "source": [
    "#rename the rownames of mat with gene symbols\n",
    "library(\"AnnotationDbi\")\n",
    "library(\"org.Hs.eg.db\")\n",
    "\n",
    "#remove the ENSEMBL version number\n",
    "rownames(mat15) <- gsub(\"\\\\..*\", \"\", rownames(mat15))\n",
    "rownames(mat15) <- mapIds(org.Hs.eg.db, keys=rownames(mat15), column=\"SYMBOL\", keytype=\"ENSEMBL\", multiVals=\"first\")\n",
    "head(mat15)"
   ]
  },
  {
   "cell_type": "code",
   "execution_count": 23,
   "metadata": {
    "vscode": {
     "languageId": "r"
    }
   },
   "outputs": [],
   "source": [
    "#sort each dataframe by recurrence\n",
    "#first sort the annotation data by recurrence while keeping it as a dataframe\n",
    "recur <- recur[order(recur$recur), , drop=FALSE]\n",
    "#then sort the matrix by the order of the annotation data by getting the rownames of the annotation data and reordering the columns of the matrix\n",
    "col_order = rownames(recur)\n",
    "mat15 <- mat15[,col_order]"
   ]
  },
  {
   "cell_type": "code",
   "execution_count": 24,
   "metadata": {
    "vscode": {
     "languageId": "r"
    }
   },
   "outputs": [],
   "source": [
    "#remove the sample names from the heatmap\n",
    "pheatmap(mat15, annotation_col=recur, cluster_cols=F, show_colnames=F, filename='../../results/recur/i/ruvg_runs/heatmap.png', height=10, width=10)"
   ]
  },
  {
   "cell_type": "code",
   "execution_count": 60,
   "metadata": {
    "vscode": {
     "languageId": "r"
    }
   },
   "outputs": [
    {
     "name": "stderr",
     "output_type": "stream",
     "text": [
      "converting counts to integer mode\n",
      "\n",
      "  Note: levels of factors in the design contain characters other than\n",
      "  letters, numbers, '_' and '.'. It is recommended (but not required) to use\n",
      "  only letters, numbers, and delimiters '_' or '.', as these are safe characters\n",
      "  for column names in R. [This is a message, not a warning or an error]\n",
      "\n"
     ]
    },
    {
     "data": {
      "text/plain": [
       "keep\n",
       "FALSE  TRUE \n",
       "30087 31027 "
      ]
     },
     "metadata": {},
     "output_type": "display_data"
    },
    {
     "name": "stderr",
     "output_type": "stream",
     "text": [
      "estimating size factors\n",
      "\n",
      "  Note: levels of factors in the design contain characters other than\n",
      "  letters, numbers, '_' and '.'. It is recommended (but not required) to use\n",
      "  only letters, numbers, and delimiters '_' or '.', as these are safe characters\n",
      "  for column names in R. [This is a message, not a warning or an error]\n",
      "\n",
      "estimating dispersions\n",
      "\n",
      "gene-wise dispersion estimates\n",
      "\n",
      "mean-dispersion relationship\n",
      "\n",
      "  Note: levels of factors in the design contain characters other than\n",
      "  letters, numbers, '_' and '.'. It is recommended (but not required) to use\n",
      "  only letters, numbers, and delimiters '_' or '.', as these are safe characters\n",
      "  for column names in R. [This is a message, not a warning or an error]\n",
      "\n",
      "final dispersion estimates\n",
      "\n",
      "  Note: levels of factors in the design contain characters other than\n",
      "  letters, numbers, '_' and '.'. It is recommended (but not required) to use\n",
      "  only letters, numbers, and delimiters '_' or '.', as these are safe characters\n",
      "  for column names in R. [This is a message, not a warning or an error]\n",
      "\n",
      "fitting model and testing\n",
      "\n"
     ]
    },
    {
     "data": {
      "text/plain": [
       "\n",
       "FALSE  TRUE \n",
       "17667  7946 "
      ]
     },
     "metadata": {},
     "output_type": "display_data"
    }
   ],
   "source": [
    "#adjust for sex and RUV factors\n",
    "design <- as.formula(~ sex + W_1 + W_2 + W_3 + W_4 + W_5 + recur)\n",
    "#create the dds object\n",
    "dds = DESeqDataSetFromMatrix(countData = cts, colData = pdat, design = design)\n",
    "\n",
    "#filter genes for low expression with edgeR\n",
    "y <- DGEList(counts=counts(dds), group=recur)\n",
    "keep <- filterByExpr(y)\n",
    "table(keep)\n",
    "y <- y[keep,]\n",
    "dds <- dds[keep,]\n",
    "\n",
    "#run DESeq\n",
    "dds <- DESeq(dds)\n",
    "res <- results(dds)\n"
   ]
  },
  {
   "cell_type": "code",
   "execution_count": 61,
   "metadata": {
    "vscode": {
     "languageId": "r"
    }
   },
   "outputs": [
    {
     "data": {
      "text/plain": [
       "\n",
       "FALSE  TRUE \n",
       "25006   607 "
      ]
     },
     "metadata": {},
     "output_type": "display_data"
    }
   ],
   "source": [
    "table(res$padj < 0.05)\n"
   ]
  },
  {
   "cell_type": "code",
   "execution_count": 63,
   "metadata": {
    "vscode": {
     "languageId": "r"
    }
   },
   "outputs": [
    {
     "data": {
      "text/plain": [
       "log2 fold change (MLE): recur Recurrent vs Non.recurrent \n",
       "Wald test p-value: recur Recurrent vs Non.recurrent \n",
       "DataFrame with 6 rows and 6 columns\n",
       "                    baseMean log2FoldChange     lfcSE      stat      pvalue\n",
       "                   <numeric>      <numeric> <numeric> <numeric>   <numeric>\n",
       "ENSG00000075618.18   476.349       0.572330 0.0916091   6.24753 4.17003e-10\n",
       "ENSG00000185215.11  4541.105       0.686794 0.1109233   6.19161 5.95514e-10\n",
       "ENSG00000160255.18  1823.288       0.534797 0.0920382   5.81060 6.22486e-09\n",
       "ENSG00000090402.8  19287.383      -0.723901 0.1312680  -5.51468 3.49421e-08\n",
       "ENSG00000100368.15  1408.487       0.615353 0.1188780   5.17634 2.26282e-07\n",
       "ENSG00000149781.13   739.985       0.358620 0.0692847   5.17603 2.26656e-07\n",
       "                          padj\n",
       "                     <numeric>\n",
       "ENSG00000075618.18 7.62644e-06\n",
       "ENSG00000185215.11 7.62644e-06\n",
       "ENSG00000160255.18 5.31458e-05\n",
       "ENSG00000090402.8  2.23743e-04\n",
       "ENSG00000100368.15 8.29333e-04\n",
       "ENSG00000149781.13 8.29333e-04"
      ]
     },
     "metadata": {},
     "output_type": "display_data"
    }
   ],
   "source": [
    "resOrdered <- res[order(res$padj),]\n",
    "head(resOrdered)"
   ]
  },
  {
   "cell_type": "code",
   "execution_count": 64,
   "metadata": {
    "vscode": {
     "languageId": "r"
    }
   },
   "outputs": [],
   "source": [
    "#save the results to csv\n",
    "write.csv(resOrdered, file=\"../../results/recur/i/ruvg_runs/res_ruvg9_5.csv\")"
   ]
  },
  {
   "cell_type": "code",
   "execution_count": 3,
   "metadata": {
    "vscode": {
     "languageId": "r"
    }
   },
   "outputs": [],
   "source": [
    "\n",
    "\n",
    "# Calculate the average gene expression of each genes and take the top 5000 highest expressed\n",
    "nc <- as.data.frame(assay(vsd))\n",
    "nc$avg_exp <- rowSums(nc,na.rm=TRUE) / ncol(nc) # x should be your normalized matrix\n",
    "nc <- arrange(nc, -avg_exp)%>%dplyr::select(-avg_exp)\n",
    "nc <- nc[1:5000,]\n",
    "\n",
    "# Calculate the variance of each genes, and choose the lowest 1000 genes as the negative control gene\n",
    "nc$row_stv <- rowSds(as.matrix(nc))/(rowSums(nc,na.rm=TRUE) / ncol(nc))\n",
    "nc <- arrange(nc, row_stv) %>% dplyr::select(-row_stv)\n",
    "nc <- nc[1:1000,]\n",
    "##The newSeqExpressionSet is given the raw count matrix, phenotypic data, and then the names of the samples \n",
    "# Create a new Expression Set and perform an upper quartile normalization\n",
    "nc <- round(nc*1000)\n",
    "set <- newSeqExpressionSet(as.matrix(nc),phenoData = data.frame(colData(dds),row.names=colnames(nc)))\n",
    "\n",
    "\n",
    "##Run RUV\n",
    "set_ruv<- RUVg(set, rownames(nc), k=10)\n",
    "# Save the phenotype data\n",
    "ruv_data <- pData(set_ruv)\n"
   ]
  },
  {
   "cell_type": "code",
   "execution_count": null,
   "metadata": {
    "vscode": {
     "languageId": "r"
    }
   },
   "outputs": [],
   "source": [
    "\n",
    "plotRLE(set_ruv, outline=FALSE, ylim=c(-0.1, 0.1), col=as.numeric(as.factor(coldata$disease)))\n",
    "# dev.off()\n",
    "#plot RLE plots for ruv factors 1-10\n",
    "for (x in 1:10) {\n",
    "    set_ruv <- RUVg(set, rownames(nc), k=x)\n",
    "    png(sprintf('results/i/rle_%s.png', x))\n",
    "    plotRLE(set_ruv, outline=FALSE, ylim=c(-0.1, 0.1), col=as.numeric(as.factor(coldata$disease)))\n",
    "    dev.off()\n",
    "}\n"
   ]
  },
  {
   "cell_type": "code",
   "execution_count": 23,
   "metadata": {
    "vscode": {
     "languageId": "r"
    }
   },
   "outputs": [
    {
     "name": "stderr",
     "output_type": "stream",
     "text": [
      "converting counts to integer mode\n",
      "\n",
      "  Note: levels of factors in the design contain characters other than\n",
      "  letters, numbers, '_' and '.'. It is recommended (but not required) to use\n",
      "  only letters, numbers, and delimiters '_' or '.', as these are safe characters\n",
      "  for column names in R. [This is a message, not a warning or an error]\n",
      "\n",
      "estimating size factors\n",
      "\n",
      "  Note: levels of factors in the design contain characters other than\n",
      "  letters, numbers, '_' and '.'. It is recommended (but not required) to use\n",
      "  only letters, numbers, and delimiters '_' or '.', as these are safe characters\n",
      "  for column names in R. [This is a message, not a warning or an error]\n",
      "\n",
      "estimating dispersions\n",
      "\n",
      "gene-wise dispersion estimates\n",
      "\n",
      "mean-dispersion relationship\n",
      "\n",
      "  Note: levels of factors in the design contain characters other than\n",
      "  letters, numbers, '_' and '.'. It is recommended (but not required) to use\n",
      "  only letters, numbers, and delimiters '_' or '.', as these are safe characters\n",
      "  for column names in R. [This is a message, not a warning or an error]\n",
      "\n",
      "final dispersion estimates\n",
      "\n",
      "  Note: levels of factors in the design contain characters other than\n",
      "  letters, numbers, '_' and '.'. It is recommended (but not required) to use\n",
      "  only letters, numbers, and delimiters '_' or '.', as these are safe characters\n",
      "  for column names in R. [This is a message, not a warning or an error]\n",
      "\n",
      "fitting model and testing\n",
      "\n",
      "converting counts to integer mode\n",
      "\n",
      "  Note: levels of factors in the design contain characters other than\n",
      "  letters, numbers, '_' and '.'. It is recommended (but not required) to use\n",
      "  only letters, numbers, and delimiters '_' or '.', as these are safe characters\n",
      "  for column names in R. [This is a message, not a warning or an error]\n",
      "\n",
      "estimating size factors\n",
      "\n",
      "  Note: levels of factors in the design contain characters other than\n",
      "  letters, numbers, '_' and '.'. It is recommended (but not required) to use\n",
      "  only letters, numbers, and delimiters '_' or '.', as these are safe characters\n",
      "  for column names in R. [This is a message, not a warning or an error]\n",
      "\n",
      "estimating dispersions\n",
      "\n",
      "gene-wise dispersion estimates\n",
      "\n",
      "mean-dispersion relationship\n",
      "\n",
      "  Note: levels of factors in the design contain characters other than\n",
      "  letters, numbers, '_' and '.'. It is recommended (but not required) to use\n",
      "  only letters, numbers, and delimiters '_' or '.', as these are safe characters\n",
      "  for column names in R. [This is a message, not a warning or an error]\n",
      "\n",
      "final dispersion estimates\n",
      "\n",
      "  Note: levels of factors in the design contain characters other than\n",
      "  letters, numbers, '_' and '.'. It is recommended (but not required) to use\n",
      "  only letters, numbers, and delimiters '_' or '.', as these are safe characters\n",
      "  for column names in R. [This is a message, not a warning or an error]\n",
      "\n",
      "fitting model and testing\n",
      "\n",
      "converting counts to integer mode\n",
      "\n",
      "  Note: levels of factors in the design contain characters other than\n",
      "  letters, numbers, '_' and '.'. It is recommended (but not required) to use\n",
      "  only letters, numbers, and delimiters '_' or '.', as these are safe characters\n",
      "  for column names in R. [This is a message, not a warning or an error]\n",
      "\n",
      "estimating size factors\n",
      "\n",
      "  Note: levels of factors in the design contain characters other than\n",
      "  letters, numbers, '_' and '.'. It is recommended (but not required) to use\n",
      "  only letters, numbers, and delimiters '_' or '.', as these are safe characters\n",
      "  for column names in R. [This is a message, not a warning or an error]\n",
      "\n",
      "estimating dispersions\n",
      "\n",
      "gene-wise dispersion estimates\n",
      "\n",
      "mean-dispersion relationship\n",
      "\n",
      "  Note: levels of factors in the design contain characters other than\n",
      "  letters, numbers, '_' and '.'. It is recommended (but not required) to use\n",
      "  only letters, numbers, and delimiters '_' or '.', as these are safe characters\n",
      "  for column names in R. [This is a message, not a warning or an error]\n",
      "\n",
      "final dispersion estimates\n",
      "\n",
      "  Note: levels of factors in the design contain characters other than\n",
      "  letters, numbers, '_' and '.'. It is recommended (but not required) to use\n",
      "  only letters, numbers, and delimiters '_' or '.', as these are safe characters\n",
      "  for column names in R. [This is a message, not a warning or an error]\n",
      "\n",
      "fitting model and testing\n",
      "\n",
      "converting counts to integer mode\n",
      "\n",
      "  Note: levels of factors in the design contain characters other than\n",
      "  letters, numbers, '_' and '.'. It is recommended (but not required) to use\n",
      "  only letters, numbers, and delimiters '_' or '.', as these are safe characters\n",
      "  for column names in R. [This is a message, not a warning or an error]\n",
      "\n",
      "estimating size factors\n",
      "\n",
      "  Note: levels of factors in the design contain characters other than\n",
      "  letters, numbers, '_' and '.'. It is recommended (but not required) to use\n",
      "  only letters, numbers, and delimiters '_' or '.', as these are safe characters\n",
      "  for column names in R. [This is a message, not a warning or an error]\n",
      "\n",
      "estimating dispersions\n",
      "\n",
      "gene-wise dispersion estimates\n",
      "\n",
      "mean-dispersion relationship\n",
      "\n",
      "  Note: levels of factors in the design contain characters other than\n",
      "  letters, numbers, '_' and '.'. It is recommended (but not required) to use\n",
      "  only letters, numbers, and delimiters '_' or '.', as these are safe characters\n",
      "  for column names in R. [This is a message, not a warning or an error]\n",
      "\n",
      "final dispersion estimates\n",
      "\n",
      "  Note: levels of factors in the design contain characters other than\n",
      "  letters, numbers, '_' and '.'. It is recommended (but not required) to use\n",
      "  only letters, numbers, and delimiters '_' or '.', as these are safe characters\n",
      "  for column names in R. [This is a message, not a warning or an error]\n",
      "\n",
      "fitting model and testing\n",
      "\n",
      "1 rows did not converge in beta, labelled in mcols(object)$betaConv. Use larger maxit argument with nbinomWaldTest\n",
      "\n",
      "converting counts to integer mode\n",
      "\n",
      "  Note: levels of factors in the design contain characters other than\n",
      "  letters, numbers, '_' and '.'. It is recommended (but not required) to use\n",
      "  only letters, numbers, and delimiters '_' or '.', as these are safe characters\n",
      "  for column names in R. [This is a message, not a warning or an error]\n",
      "\n",
      "estimating size factors\n",
      "\n",
      "  Note: levels of factors in the design contain characters other than\n",
      "  letters, numbers, '_' and '.'. It is recommended (but not required) to use\n",
      "  only letters, numbers, and delimiters '_' or '.', as these are safe characters\n",
      "  for column names in R. [This is a message, not a warning or an error]\n",
      "\n",
      "estimating dispersions\n",
      "\n",
      "gene-wise dispersion estimates\n",
      "\n",
      "mean-dispersion relationship\n",
      "\n",
      "  Note: levels of factors in the design contain characters other than\n",
      "  letters, numbers, '_' and '.'. It is recommended (but not required) to use\n",
      "  only letters, numbers, and delimiters '_' or '.', as these are safe characters\n",
      "  for column names in R. [This is a message, not a warning or an error]\n",
      "\n",
      "final dispersion estimates\n",
      "\n",
      "  Note: levels of factors in the design contain characters other than\n",
      "  letters, numbers, '_' and '.'. It is recommended (but not required) to use\n",
      "  only letters, numbers, and delimiters '_' or '.', as these are safe characters\n",
      "  for column names in R. [This is a message, not a warning or an error]\n",
      "\n",
      "fitting model and testing\n",
      "\n",
      "1 rows did not converge in beta, labelled in mcols(object)$betaConv. Use larger maxit argument with nbinomWaldTest\n",
      "\n",
      "converting counts to integer mode\n",
      "\n",
      "  Note: levels of factors in the design contain characters other than\n",
      "  letters, numbers, '_' and '.'. It is recommended (but not required) to use\n",
      "  only letters, numbers, and delimiters '_' or '.', as these are safe characters\n",
      "  for column names in R. [This is a message, not a warning or an error]\n",
      "\n",
      "estimating size factors\n",
      "\n",
      "  Note: levels of factors in the design contain characters other than\n",
      "  letters, numbers, '_' and '.'. It is recommended (but not required) to use\n",
      "  only letters, numbers, and delimiters '_' or '.', as these are safe characters\n",
      "  for column names in R. [This is a message, not a warning or an error]\n",
      "\n",
      "estimating dispersions\n",
      "\n",
      "gene-wise dispersion estimates\n",
      "\n",
      "mean-dispersion relationship\n",
      "\n",
      "  Note: levels of factors in the design contain characters other than\n",
      "  letters, numbers, '_' and '.'. It is recommended (but not required) to use\n",
      "  only letters, numbers, and delimiters '_' or '.', as these are safe characters\n",
      "  for column names in R. [This is a message, not a warning or an error]\n",
      "\n",
      "final dispersion estimates\n",
      "\n",
      "  Note: levels of factors in the design contain characters other than\n",
      "  letters, numbers, '_' and '.'. It is recommended (but not required) to use\n",
      "  only letters, numbers, and delimiters '_' or '.', as these are safe characters\n",
      "  for column names in R. [This is a message, not a warning or an error]\n",
      "\n",
      "fitting model and testing\n",
      "\n",
      "2 rows did not converge in beta, labelled in mcols(object)$betaConv. Use larger maxit argument with nbinomWaldTest\n",
      "\n",
      "converting counts to integer mode\n",
      "\n",
      "  Note: levels of factors in the design contain characters other than\n",
      "  letters, numbers, '_' and '.'. It is recommended (but not required) to use\n",
      "  only letters, numbers, and delimiters '_' or '.', as these are safe characters\n",
      "  for column names in R. [This is a message, not a warning or an error]\n",
      "\n",
      "estimating size factors\n",
      "\n",
      "  Note: levels of factors in the design contain characters other than\n",
      "  letters, numbers, '_' and '.'. It is recommended (but not required) to use\n",
      "  only letters, numbers, and delimiters '_' or '.', as these are safe characters\n",
      "  for column names in R. [This is a message, not a warning or an error]\n",
      "\n",
      "estimating dispersions\n",
      "\n",
      "gene-wise dispersion estimates\n",
      "\n",
      "mean-dispersion relationship\n",
      "\n",
      "  Note: levels of factors in the design contain characters other than\n",
      "  letters, numbers, '_' and '.'. It is recommended (but not required) to use\n",
      "  only letters, numbers, and delimiters '_' or '.', as these are safe characters\n",
      "  for column names in R. [This is a message, not a warning or an error]\n",
      "\n",
      "final dispersion estimates\n",
      "\n",
      "  Note: levels of factors in the design contain characters other than\n",
      "  letters, numbers, '_' and '.'. It is recommended (but not required) to use\n",
      "  only letters, numbers, and delimiters '_' or '.', as these are safe characters\n",
      "  for column names in R. [This is a message, not a warning or an error]\n",
      "\n",
      "fitting model and testing\n",
      "\n",
      "5 rows did not converge in beta, labelled in mcols(object)$betaConv. Use larger maxit argument with nbinomWaldTest\n",
      "\n",
      "converting counts to integer mode\n",
      "\n",
      "  Note: levels of factors in the design contain characters other than\n",
      "  letters, numbers, '_' and '.'. It is recommended (but not required) to use\n",
      "  only letters, numbers, and delimiters '_' or '.', as these are safe characters\n",
      "  for column names in R. [This is a message, not a warning or an error]\n",
      "\n",
      "estimating size factors\n",
      "\n",
      "  Note: levels of factors in the design contain characters other than\n",
      "  letters, numbers, '_' and '.'. It is recommended (but not required) to use\n",
      "  only letters, numbers, and delimiters '_' or '.', as these are safe characters\n",
      "  for column names in R. [This is a message, not a warning or an error]\n",
      "\n",
      "estimating dispersions\n",
      "\n",
      "gene-wise dispersion estimates\n",
      "\n",
      "mean-dispersion relationship\n",
      "\n",
      "  Note: levels of factors in the design contain characters other than\n",
      "  letters, numbers, '_' and '.'. It is recommended (but not required) to use\n",
      "  only letters, numbers, and delimiters '_' or '.', as these are safe characters\n",
      "  for column names in R. [This is a message, not a warning or an error]\n",
      "\n",
      "final dispersion estimates\n",
      "\n",
      "  Note: levels of factors in the design contain characters other than\n",
      "  letters, numbers, '_' and '.'. It is recommended (but not required) to use\n",
      "  only letters, numbers, and delimiters '_' or '.', as these are safe characters\n",
      "  for column names in R. [This is a message, not a warning or an error]\n",
      "\n",
      "fitting model and testing\n",
      "\n",
      "8 rows did not converge in beta, labelled in mcols(object)$betaConv. Use larger maxit argument with nbinomWaldTest\n",
      "\n",
      "converting counts to integer mode\n",
      "\n",
      "  Note: levels of factors in the design contain characters other than\n",
      "  letters, numbers, '_' and '.'. It is recommended (but not required) to use\n",
      "  only letters, numbers, and delimiters '_' or '.', as these are safe characters\n",
      "  for column names in R. [This is a message, not a warning or an error]\n",
      "\n",
      "estimating size factors\n",
      "\n",
      "  Note: levels of factors in the design contain characters other than\n",
      "  letters, numbers, '_' and '.'. It is recommended (but not required) to use\n",
      "  only letters, numbers, and delimiters '_' or '.', as these are safe characters\n",
      "  for column names in R. [This is a message, not a warning or an error]\n",
      "\n",
      "estimating dispersions\n",
      "\n",
      "gene-wise dispersion estimates\n",
      "\n",
      "mean-dispersion relationship\n",
      "\n",
      "  Note: levels of factors in the design contain characters other than\n",
      "  letters, numbers, '_' and '.'. It is recommended (but not required) to use\n",
      "  only letters, numbers, and delimiters '_' or '.', as these are safe characters\n",
      "  for column names in R. [This is a message, not a warning or an error]\n",
      "\n",
      "final dispersion estimates\n",
      "\n",
      "  Note: levels of factors in the design contain characters other than\n",
      "  letters, numbers, '_' and '.'. It is recommended (but not required) to use\n",
      "  only letters, numbers, and delimiters '_' or '.', as these are safe characters\n",
      "  for column names in R. [This is a message, not a warning or an error]\n",
      "\n",
      "fitting model and testing\n",
      "\n",
      "8 rows did not converge in beta, labelled in mcols(object)$betaConv. Use larger maxit argument with nbinomWaldTest\n",
      "\n",
      "converting counts to integer mode\n",
      "\n",
      "  Note: levels of factors in the design contain characters other than\n",
      "  letters, numbers, '_' and '.'. It is recommended (but not required) to use\n",
      "  only letters, numbers, and delimiters '_' or '.', as these are safe characters\n",
      "  for column names in R. [This is a message, not a warning or an error]\n",
      "\n",
      "estimating size factors\n",
      "\n",
      "  Note: levels of factors in the design contain characters other than\n",
      "  letters, numbers, '_' and '.'. It is recommended (but not required) to use\n",
      "  only letters, numbers, and delimiters '_' or '.', as these are safe characters\n",
      "  for column names in R. [This is a message, not a warning or an error]\n",
      "\n",
      "estimating dispersions\n",
      "\n",
      "gene-wise dispersion estimates\n",
      "\n",
      "mean-dispersion relationship\n",
      "\n",
      "  Note: levels of factors in the design contain characters other than\n",
      "  letters, numbers, '_' and '.'. It is recommended (but not required) to use\n",
      "  only letters, numbers, and delimiters '_' or '.', as these are safe characters\n",
      "  for column names in R. [This is a message, not a warning or an error]\n",
      "\n",
      "final dispersion estimates\n",
      "\n",
      "  Note: levels of factors in the design contain characters other than\n",
      "  letters, numbers, '_' and '.'. It is recommended (but not required) to use\n",
      "  only letters, numbers, and delimiters '_' or '.', as these are safe characters\n",
      "  for column names in R. [This is a message, not a warning or an error]\n",
      "\n",
      "fitting model and testing\n",
      "\n",
      "8 rows did not converge in beta, labelled in mcols(object)$betaConv. Use larger maxit argument with nbinomWaldTest\n",
      "\n"
     ]
    },
    {
     "data": {
      "text/html": [
       "<table class=\"dataframe\">\n",
       "<caption>A data.frame: 10 × 2</caption>\n",
       "<thead>\n",
       "\t<tr><th></th><th scope=col>X1L</th><th scope=col>X12L</th></tr>\n",
       "\t<tr><th></th><th scope=col>&lt;int&gt;</th><th scope=col>&lt;int&gt;</th></tr>\n",
       "</thead>\n",
       "<tbody>\n",
       "\t<tr><th scope=row>1</th><td> 1</td><td>12</td></tr>\n",
       "\t<tr><th scope=row>2</th><td> 2</td><td>11</td></tr>\n",
       "\t<tr><th scope=row>3</th><td> 3</td><td> 4</td></tr>\n",
       "\t<tr><th scope=row>4</th><td> 4</td><td> 4</td></tr>\n",
       "\t<tr><th scope=row>5</th><td> 5</td><td> 7</td></tr>\n",
       "\t<tr><th scope=row>6</th><td> 6</td><td> 1</td></tr>\n",
       "\t<tr><th scope=row>7</th><td> 7</td><td> 1</td></tr>\n",
       "\t<tr><th scope=row>8</th><td> 8</td><td> 1</td></tr>\n",
       "\t<tr><th scope=row>9</th><td> 9</td><td> 1</td></tr>\n",
       "\t<tr><th scope=row>10</th><td>10</td><td> 1</td></tr>\n",
       "</tbody>\n",
       "</table>\n"
      ],
      "text/latex": [
       "A data.frame: 10 × 2\n",
       "\\begin{tabular}{r|ll}\n",
       "  & X1L & X12L\\\\\n",
       "  & <int> & <int>\\\\\n",
       "\\hline\n",
       "\t1 &  1 & 12\\\\\n",
       "\t2 &  2 & 11\\\\\n",
       "\t3 &  3 &  4\\\\\n",
       "\t4 &  4 &  4\\\\\n",
       "\t5 &  5 &  7\\\\\n",
       "\t6 &  6 &  1\\\\\n",
       "\t7 &  7 &  1\\\\\n",
       "\t8 &  8 &  1\\\\\n",
       "\t9 &  9 &  1\\\\\n",
       "\t10 & 10 &  1\\\\\n",
       "\\end{tabular}\n"
      ],
      "text/markdown": [
       "\n",
       "A data.frame: 10 × 2\n",
       "\n",
       "| <!--/--> | X1L &lt;int&gt; | X12L &lt;int&gt; |\n",
       "|---|---|---|\n",
       "| 1 |  1 | 12 |\n",
       "| 2 |  2 | 11 |\n",
       "| 3 |  3 |  4 |\n",
       "| 4 |  4 |  4 |\n",
       "| 5 |  5 |  7 |\n",
       "| 6 |  6 |  1 |\n",
       "| 7 |  7 |  1 |\n",
       "| 8 |  8 |  1 |\n",
       "| 9 |  9 |  1 |\n",
       "| 10 | 10 |  1 |\n",
       "\n"
      ],
      "text/plain": [
       "   X1L X12L\n",
       "1   1  12  \n",
       "2   2  11  \n",
       "3   3   4  \n",
       "4   4   4  \n",
       "5   5   7  \n",
       "6   6   1  \n",
       "7   7   1  \n",
       "8   8   1  \n",
       "9   9   1  \n",
       "10 10   1  "
      ]
     },
     "metadata": {},
     "output_type": "display_data"
    }
   ],
   "source": [
    "factor_cols = c('sex', 'recur')\n",
    "for (col in factor_cols) {\n",
    "  ruv_data[,col] = as.factor(ruv_data[,col])\n",
    "}\n",
    "sex = ruv_data$sex\n",
    "recur = ruv_data$recur\n",
    "tin = ruv_data$TIN\n",
    "inflammation_status = ruv_data$inflammation_status\n",
    "\n",
    "formula_list = list(\n",
    "~ sex + inflammation_status + W_1 + recur, \n",
    "~ sex + inflammation_status + W_1 + W_2 + recur, \n",
    "~ sex + inflammation_status + W_1 + W_2 + W_3 + recur, \n",
    "~ sex + inflammation_status + W_1 + W_2 + W_3 + W_4 + recur, \n",
    "~ sex + inflammation_status + W_1 + W_2 + W_3 + W_4 + W_5 + recur, \n",
    "~ sex + inflammation_status + W_1 + W_2 + W_3 + W_4 + W_5 + W_6 + recur, \n",
    "~ sex + inflammation_status + W_1 + W_2 + W_3 + W_4 + W_5 + W_6 + W_7 + recur, \n",
    "~ sex + inflammation_status + W_1 + W_2 + W_3 + W_4 + W_5 + W_6 + W_7 + W_8 + recur, \n",
    "~ sex + inflammation_status + W_1 + W_2 + W_3 + W_4 + W_5 + W_6 + W_7 + W_8 + W_9 + recur, \n",
    "~ sex + inflammation_status + W_1 + W_2 + W_3 + W_4 + W_5 + W_6 + W_7 + W_8 + W_9 + W_10 + recur)\n",
    "\n",
    "\n",
    "#create an empty dataframe to store the number of significant genes\n",
    "deg_counts = data.frame(matrix(ncol=10, nrow=0))\n",
    "colnames(deg_counts) = c(\"formula\", \"sig_genes\")\n",
    "\n",
    "for (x in seq_along(formula_list)) {\n",
    "    design_formula = formula(formula_list[[x]])\n",
    "    dds1 <- DESeqDataSetFromMatrix(countData=cts, colData=ruv_data, design = design_formula)\n",
    "    y <- DGEList(counts=counts(dds1), group=coldata$recur)\n",
    "    keep <- filterByExpr(y)\n",
    "    table(keep)\n",
    "    y <- y[keep,]\n",
    "    dds1 <- dds1[keep,]\n",
    "    dds1 <- DESeq(dds1)\n",
    "    res <- results(dds1)\n",
    "    res <- res[order(res$padj),]\n",
    "    #get the number of significant genes\n",
    "    sig_genes <- res[which(res$padj < 0.05),]\n",
    "    #save the number of significant genes to the dataframe\n",
    "    deg_counts = rbind(deg_counts, c(x, nrow(sig_genes)))\n",
    "}\n",
    "\n",
    "head(deg_counts, 10)"
   ]
  },
  {
   "cell_type": "code",
   "execution_count": 10,
   "metadata": {
    "vscode": {
     "languageId": "r"
    }
   },
   "outputs": [
    {
     "name": "stderr",
     "output_type": "stream",
     "text": [
      "converting counts to integer mode\n",
      "\n",
      "  Note: levels of factors in the design contain characters other than\n",
      "  letters, numbers, '_' and '.'. It is recommended (but not required) to use\n",
      "  only letters, numbers, and delimiters '_' or '.', as these are safe characters\n",
      "  for column names in R. [This is a message, not a warning or an error]\n",
      "\n"
     ]
    },
    {
     "data": {
      "text/html": [
       "<strong>png:</strong> 2"
      ],
      "text/latex": [
       "\\textbf{png:} 2"
      ],
      "text/markdown": [
       "**png:** 2"
      ],
      "text/plain": [
       "png \n",
       "  2 "
      ]
     },
     "metadata": {},
     "output_type": "display_data"
    }
   ],
   "source": [
    "\n",
    "#RLE plot\n",
    "# png(\"results/i/rle_1.png\")\n",
    "# plotRLE(set_ruv, outline=FALSE, ylim=c(-0.1, 0.1), col=as.numeric(as.factor(coldata$status)))\n",
    "# dev.off()\n",
    "ruv_data<-pData(set_ruv)\n",
    "\n",
    "factor_cols = c('sex', 'inflammation_status', 'recur')\n",
    "for (col in factor_cols) {\n",
    "  ruv_data[,col] = as.factor(ruv_data[,col])\n",
    "}\n",
    "sex = ruv_data$sex\n",
    "tissue = ruv_data$tissue\n",
    "inflammation_status = ruv_data$inflammation_status\n",
    "recur = ruv_data$recur\n",
    "tin = ruv_data$TIN\n",
    "\n",
    "w_1 = ruv_data$W_1\n",
    "\n",
    "dds1 <- DESeqDataSetFromMatrix(countData=cts, colData=ruv_data, design = ~sex + inflammation_status + W_1 + recur)\n",
    "vsd = vst(dds1)\n",
    "mat= assay(vsd)\n",
    "assay(vsd) <- removeBatchEffect(assay(vsd), batch=sex, batch2=inflammation_status, covariates=cbind(w_1))\n",
    "\n",
    "#save the PCA, accounting for sex, tin score, and the RUV factor (W_1)\n",
    "pcaData <- plotPCA(vsd, intgroup=c(\"recur\"), ntop = 500, returnData=TRUE)\n",
    "percentVar <- round(100 * attr(pcaData, \"percentVar\"))\n",
    "\n",
    "png(\"results/i/pca_w1_infl_corrected.png\", width=1024, height=512)\n",
    "ggplot(pcaData, aes(PC1, PC2, color=recur)) +\n",
    "    geom_point(size=5) +\n",
    "    # geom_text(aes(label=sample),hjust=0, vjust=0) +\n",
    "    xlab(paste0(\"PC1: \",percentVar[1],\"% variance\")) +\n",
    "    ylab(paste0(\"PC2: \",percentVar[2],\"% variance\")) + \n",
    "    coord_fixed() +\n",
    "    # scale_color_manual(values = c(\"Non-recurrent\" = \"#0066cc\", \"Recurrent\" = \"#990000\")) + \n",
    "    theme(text = element_text(size = 24))\n",
    "dev.off()\n",
    "\n",
    "#write out the matrix to csv\n",
    "write.csv(mat, file=\"results/i/data_ruv1.csv\")"
   ]
  },
  {
   "cell_type": "code",
   "execution_count": 11,
   "metadata": {
    "vscode": {
     "languageId": "r"
    }
   },
   "outputs": [
    {
     "data": {
      "text/html": [
       "<strong>png:</strong> 2"
      ],
      "text/latex": [
       "\\textbf{png:} 2"
      ],
      "text/markdown": [
       "**png:** 2"
      ],
      "text/plain": [
       "png \n",
       "  2 "
      ]
     },
     "metadata": {},
     "output_type": "display_data"
    }
   ],
   "source": [
    "png(\"results/i/pca_w1_source_corrected.png\", width=1024, height=512)\n",
    "ggplot(pcaData, aes(PC1, PC2, color=source)) +\n",
    "    geom_point(size=5) +\n",
    "    # geom_text(aes(label=sample),hjust=0, vjust=0) +\n",
    "    xlab(paste0(\"PC1: \",percentVar[1],\"% variance\")) +\n",
    "    ylab(paste0(\"PC2: \",percentVar[2],\"% variance\")) + \n",
    "    coord_fixed() +\n",
    "    # scale_color_manual(values = c(\"Non-recurrent\" = \"#0066cc\", \"Recurrent\" = \"#990000\")) + \n",
    "    theme(text = element_text(size = 24))\n",
    "dev.off()"
   ]
  },
  {
   "cell_type": "code",
   "execution_count": 25,
   "metadata": {
    "vscode": {
     "languageId": "r"
    }
   },
   "outputs": [
    {
     "name": "stderr",
     "output_type": "stream",
     "text": [
      "converting counts to integer mode\n",
      "\n",
      "  Note: levels of factors in the design contain characters other than\n",
      "  letters, numbers, '_' and '.'. It is recommended (but not required) to use\n",
      "  only letters, numbers, and delimiters '_' or '.', as these are safe characters\n",
      "  for column names in R. [This is a message, not a warning or an error]\n",
      "\n"
     ]
    },
    {
     "data": {
      "text/plain": [
       "keep\n",
       "FALSE  TRUE \n",
       "30087 31027 "
      ]
     },
     "metadata": {},
     "output_type": "display_data"
    },
    {
     "name": "stderr",
     "output_type": "stream",
     "text": [
      "estimating size factors\n",
      "\n",
      "  Note: levels of factors in the design contain characters other than\n",
      "  letters, numbers, '_' and '.'. It is recommended (but not required) to use\n",
      "  only letters, numbers, and delimiters '_' or '.', as these are safe characters\n",
      "  for column names in R. [This is a message, not a warning or an error]\n",
      "\n",
      "estimating dispersions\n",
      "\n",
      "gene-wise dispersion estimates\n",
      "\n",
      "mean-dispersion relationship\n",
      "\n",
      "  Note: levels of factors in the design contain characters other than\n",
      "  letters, numbers, '_' and '.'. It is recommended (but not required) to use\n",
      "  only letters, numbers, and delimiters '_' or '.', as these are safe characters\n",
      "  for column names in R. [This is a message, not a warning or an error]\n",
      "\n",
      "final dispersion estimates\n",
      "\n",
      "  Note: levels of factors in the design contain characters other than\n",
      "  letters, numbers, '_' and '.'. It is recommended (but not required) to use\n",
      "  only letters, numbers, and delimiters '_' or '.', as these are safe characters\n",
      "  for column names in R. [This is a message, not a warning or an error]\n",
      "\n",
      "fitting model and testing\n",
      "\n"
     ]
    },
    {
     "data": {
      "text/plain": [
       "log2 fold change (MLE): recur Recurrent vs Non-recurrent \n",
       "Wald test p-value: recur Recurrent vs Non.recurrent \n",
       "DataFrame with 6 rows and 7 columns\n",
       "                                 gene  baseMean log2FoldChange     lfcSE\n",
       "                          <character> <numeric>      <numeric> <numeric>\n",
       "ENSG00000198019.13 ENSG00000198019.13  129.4259       1.341187  0.258688\n",
       "ENSG00000255398.3   ENSG00000255398.3  312.7256       2.940584  0.559086\n",
       "ENSG00000276085.1   ENSG00000276085.1   78.5554       1.858028  0.355389\n",
       "ENSG00000185215.11 ENSG00000185215.11 4541.1053       0.682521  0.133846\n",
       "ENSG00000091106.19 ENSG00000091106.19  127.1549       0.899212  0.184106\n",
       "ENSG00000115956.10 ENSG00000115956.10 1560.4577       1.306197  0.272382\n",
       "                        stat      pvalue       padj\n",
       "                   <numeric>   <numeric>  <numeric>\n",
       "ENSG00000198019.13   5.18458 2.16507e-07 0.00197866\n",
       "ENSG00000255398.3    5.25963 1.44349e-07 0.00197866\n",
       "ENSG00000276085.1    5.22816 1.71205e-07 0.00197866\n",
       "ENSG00000185215.11   5.09929 3.40935e-07 0.00233686\n",
       "ENSG00000091106.19   4.88421 1.03843e-06 0.00569411\n",
       "ENSG00000115956.10   4.79545 1.62308e-06 0.00635715"
      ]
     },
     "metadata": {},
     "output_type": "display_data"
    }
   ],
   "source": [
    "#now the DESeq analysis\n",
    "dds1 <- DESeqDataSetFromMatrix(countData=cts,colData=ruv_data,design = ~sex + inflammation_status + W_1 + recur)\n",
    "#filter out lowly expressed genes\n",
    "y <- DGEList(counts=counts(dds1), group=coldata$recur)\n",
    "keep <- filterByExpr(y)\n",
    "table(keep)\n",
    "y <- y[keep,]\n",
    "dds1 <- dds1[keep,]\n",
    "#run DESeq\n",
    "dds1 <- DESeq(dds1)\n",
    "#get the results, with nonIBD as the reference\n",
    "res <- results(dds1, contrast=c('recur', 'Recurrent', 'Non-recurrent'))\n",
    "#order the results by adjusted p-value\n",
    "resOrdered <- res[order(res$padj),]\n",
    "#create a column named gene which is the gene name\n",
    "resOrdered$gene = rownames(resOrdered)\n",
    "#set gene as the first column by making the last column the first column\n",
    "resOrdered = resOrdered[,c(7, 1, 2, 3, 4, 5, 6)]\n",
    "head(resOrdered)\n",
    "\n",
    "write.csv(resOrdered, file=\"results/i/res_ruv1_infl.csv\")"
   ]
  },
  {
   "cell_type": "code",
   "execution_count": null,
   "metadata": {
    "vscode": {
     "languageId": "r"
    }
   },
   "outputs": [],
   "source": []
  }
 ],
 "metadata": {
  "kernelspec": {
   "display_name": "R",
   "language": "R",
   "name": "ir"
  },
  "language_info": {
   "codemirror_mode": "r",
   "file_extension": ".r",
   "mimetype": "text/x-r-source",
   "name": "R",
   "pygments_lexer": "r",
   "version": "4.3.0"
  },
  "orig_nbformat": 4,
  "vscode": {
   "interpreter": {
    "hash": "916dbcbb3f70747c44a77c7bcd40155683ae19c65e1c03b4aa3499c5328201f1"
   }
  }
 },
 "nbformat": 4,
 "nbformat_minor": 2
}
