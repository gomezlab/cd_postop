{
 "cells": [
  {
   "cell_type": "code",
   "execution_count": 1,
   "metadata": {
    "vscode": {
     "languageId": "r"
    }
   },
   "outputs": [
    {
     "name": "stderr",
     "output_type": "stream",
     "text": [
      "Loading required package: ggplot2\n",
      "\n",
      "Loading required package: ggrepel\n",
      "\n",
      "── \u001b[1mAttaching core tidyverse packages\u001b[22m ──────────────────────── tidyverse 2.0.0 ──\n",
      "\u001b[32m✔\u001b[39m \u001b[34mdplyr    \u001b[39m 1.1.2     \u001b[32m✔\u001b[39m \u001b[34mreadr    \u001b[39m 2.1.4\n",
      "\u001b[32m✔\u001b[39m \u001b[34mforcats  \u001b[39m 1.0.0     \u001b[32m✔\u001b[39m \u001b[34mstringr  \u001b[39m 1.5.0\n",
      "\u001b[32m✔\u001b[39m \u001b[34mlubridate\u001b[39m 1.9.2     \u001b[32m✔\u001b[39m \u001b[34mtibble   \u001b[39m 3.2.1\n",
      "\u001b[32m✔\u001b[39m \u001b[34mpurrr    \u001b[39m 1.0.1     \u001b[32m✔\u001b[39m \u001b[34mtidyr    \u001b[39m 1.3.0\n",
      "── \u001b[1mConflicts\u001b[22m ────────────────────────────────────────── tidyverse_conflicts() ──\n",
      "\u001b[31m✖\u001b[39m \u001b[34mdplyr\u001b[39m::\u001b[32mfilter()\u001b[39m masks \u001b[34mstats\u001b[39m::filter()\n",
      "\u001b[31m✖\u001b[39m \u001b[34mdplyr\u001b[39m::\u001b[32mlag()\u001b[39m    masks \u001b[34mstats\u001b[39m::lag()\n",
      "\u001b[36mℹ\u001b[39m Use the conflicted package (\u001b[3m\u001b[34m<http://conflicted.r-lib.org/>\u001b[39m\u001b[23m) to force all conflicts to become errors\n"
     ]
    }
   ],
   "source": [
    "# %%\n",
    "library(EnhancedVolcano)\n",
    "library(tidyverse)\n",
    "library(dplyr)\n",
    "# %%\n"
   ]
  },
  {
   "cell_type": "code",
   "execution_count": 8,
   "metadata": {
    "vscode": {
     "languageId": "r"
    }
   },
   "outputs": [],
   "source": [
    "\n",
    "# %%\n",
    "res <- read.csv('../../results/recur/i/ruvg_runs/res5_18_symbol.csv')\n",
    "# if res$'gene' starts with 'ENSG' then drop the row and save to new dataframe res2\n",
    "res <- res %>% \n",
    "  filter(!grepl('ENSG', symbol))\n",
    "\n",
    "# res <- res[res$log2FoldChange > -6.5,]\n",
    "# res <- res[res$log2FoldChange < 6.5,]\n"
   ]
  },
  {
   "cell_type": "code",
   "execution_count": 9,
   "metadata": {
    "vscode": {
     "languageId": "r"
    }
   },
   "outputs": [],
   "source": [
    "#if log2FoldChange is > 2, then change to 2\n",
    "res$log2FoldChange[res$log2FoldChange > 2] <- 2\n",
    "res$log2FoldChange[res$log2FoldChange < -2] <- -2"
   ]
  },
  {
   "cell_type": "code",
   "execution_count": 10,
   "metadata": {
    "vscode": {
     "languageId": "r"
    }
   },
   "outputs": [
    {
     "data": {
      "text/html": [
       "<table class=\"dataframe\">\n",
       "<caption>A data.frame: 6 × 9</caption>\n",
       "<thead>\n",
       "\t<tr><th></th><th scope=col>symbol</th><th scope=col>baseMean</th><th scope=col>log2FoldChange</th><th scope=col>lfcSE</th><th scope=col>stat</th><th scope=col>pvalue</th><th scope=col>padj</th><th scope=col>symbol.1</th><th scope=col>biotype</th></tr>\n",
       "\t<tr><th></th><th scope=col>&lt;chr&gt;</th><th scope=col>&lt;dbl&gt;</th><th scope=col>&lt;dbl&gt;</th><th scope=col>&lt;dbl&gt;</th><th scope=col>&lt;dbl&gt;</th><th scope=col>&lt;dbl&gt;</th><th scope=col>&lt;dbl&gt;</th><th scope=col>&lt;chr&gt;</th><th scope=col>&lt;chr&gt;</th></tr>\n",
       "</thead>\n",
       "<tbody>\n",
       "\t<tr><th scope=row>1</th><td>CSF2RB </td><td>1408.3360</td><td>0.5392939</td><td>0.07680589</td><td>7.021517</td><td>2.194714e-12</td><td>5.683870e-08</td><td>CSF2RB </td><td> protein_coding</td></tr>\n",
       "\t<tr><th scope=row>2</th><td>TLR2   </td><td>1049.4085</td><td>0.5882847</td><td>0.08689356</td><td>6.770175</td><td>1.286265e-11</td><td>1.665585e-07</td><td>TLR2   </td><td> protein_coding</td></tr>\n",
       "\t<tr><th scope=row>3</th><td>NAIP   </td><td>3875.8760</td><td>0.3537311</td><td>0.05335049</td><td>6.630326</td><td>3.349470e-11</td><td>2.891486e-07</td><td>NAIP   </td><td> protein_coding</td></tr>\n",
       "\t<tr><th scope=row>4</th><td>TNFAIP2</td><td>4540.6300</td><td>0.6391949</td><td>0.09773965</td><td>6.539771</td><td>6.161327e-11</td><td>3.989151e-07</td><td>TNFAIP2</td><td> protein_coding</td></tr>\n",
       "\t<tr><th scope=row>5</th><td>ADM    </td><td> 559.9506</td><td>0.7589262</td><td>0.11831170</td><td>6.414633</td><td>1.411623e-10</td><td>7.311642e-07</td><td>ADM    </td><td> protein_coding</td></tr>\n",
       "\t<tr><th scope=row>6</th><td>ALPL   </td><td> 190.0987</td><td>0.9395030</td><td>0.15232978</td><td>6.167560</td><td>6.935198e-10</td><td>2.642111e-06</td><td>ALPL   </td><td> protein_coding</td></tr>\n",
       "</tbody>\n",
       "</table>\n"
      ],
      "text/latex": [
       "A data.frame: 6 × 9\n",
       "\\begin{tabular}{r|lllllllll}\n",
       "  & symbol & baseMean & log2FoldChange & lfcSE & stat & pvalue & padj & symbol.1 & biotype\\\\\n",
       "  & <chr> & <dbl> & <dbl> & <dbl> & <dbl> & <dbl> & <dbl> & <chr> & <chr>\\\\\n",
       "\\hline\n",
       "\t1 & CSF2RB  & 1408.3360 & 0.5392939 & 0.07680589 & 7.021517 & 2.194714e-12 & 5.683870e-08 & CSF2RB  &  protein\\_coding\\\\\n",
       "\t2 & TLR2    & 1049.4085 & 0.5882847 & 0.08689356 & 6.770175 & 1.286265e-11 & 1.665585e-07 & TLR2    &  protein\\_coding\\\\\n",
       "\t3 & NAIP    & 3875.8760 & 0.3537311 & 0.05335049 & 6.630326 & 3.349470e-11 & 2.891486e-07 & NAIP    &  protein\\_coding\\\\\n",
       "\t4 & TNFAIP2 & 4540.6300 & 0.6391949 & 0.09773965 & 6.539771 & 6.161327e-11 & 3.989151e-07 & TNFAIP2 &  protein\\_coding\\\\\n",
       "\t5 & ADM     &  559.9506 & 0.7589262 & 0.11831170 & 6.414633 & 1.411623e-10 & 7.311642e-07 & ADM     &  protein\\_coding\\\\\n",
       "\t6 & ALPL    &  190.0987 & 0.9395030 & 0.15232978 & 6.167560 & 6.935198e-10 & 2.642111e-06 & ALPL    &  protein\\_coding\\\\\n",
       "\\end{tabular}\n"
      ],
      "text/markdown": [
       "\n",
       "A data.frame: 6 × 9\n",
       "\n",
       "| <!--/--> | symbol &lt;chr&gt; | baseMean &lt;dbl&gt; | log2FoldChange &lt;dbl&gt; | lfcSE &lt;dbl&gt; | stat &lt;dbl&gt; | pvalue &lt;dbl&gt; | padj &lt;dbl&gt; | symbol.1 &lt;chr&gt; | biotype &lt;chr&gt; |\n",
       "|---|---|---|---|---|---|---|---|---|---|\n",
       "| 1 | CSF2RB  | 1408.3360 | 0.5392939 | 0.07680589 | 7.021517 | 2.194714e-12 | 5.683870e-08 | CSF2RB  |  protein_coding |\n",
       "| 2 | TLR2    | 1049.4085 | 0.5882847 | 0.08689356 | 6.770175 | 1.286265e-11 | 1.665585e-07 | TLR2    |  protein_coding |\n",
       "| 3 | NAIP    | 3875.8760 | 0.3537311 | 0.05335049 | 6.630326 | 3.349470e-11 | 2.891486e-07 | NAIP    |  protein_coding |\n",
       "| 4 | TNFAIP2 | 4540.6300 | 0.6391949 | 0.09773965 | 6.539771 | 6.161327e-11 | 3.989151e-07 | TNFAIP2 |  protein_coding |\n",
       "| 5 | ADM     |  559.9506 | 0.7589262 | 0.11831170 | 6.414633 | 1.411623e-10 | 7.311642e-07 | ADM     |  protein_coding |\n",
       "| 6 | ALPL    |  190.0987 | 0.9395030 | 0.15232978 | 6.167560 | 6.935198e-10 | 2.642111e-06 | ALPL    |  protein_coding |\n",
       "\n"
      ],
      "text/plain": [
       "  symbol  baseMean  log2FoldChange lfcSE      stat     pvalue      \n",
       "1 CSF2RB  1408.3360 0.5392939      0.07680589 7.021517 2.194714e-12\n",
       "2 TLR2    1049.4085 0.5882847      0.08689356 6.770175 1.286265e-11\n",
       "3 NAIP    3875.8760 0.3537311      0.05335049 6.630326 3.349470e-11\n",
       "4 TNFAIP2 4540.6300 0.6391949      0.09773965 6.539771 6.161327e-11\n",
       "5 ADM      559.9506 0.7589262      0.11831170 6.414633 1.411623e-10\n",
       "6 ALPL     190.0987 0.9395030      0.15232978 6.167560 6.935198e-10\n",
       "  padj         symbol.1 biotype        \n",
       "1 5.683870e-08 CSF2RB    protein_coding\n",
       "2 1.665585e-07 TLR2      protein_coding\n",
       "3 2.891486e-07 NAIP      protein_coding\n",
       "4 3.989151e-07 TNFAIP2   protein_coding\n",
       "5 7.311642e-07 ADM       protein_coding\n",
       "6 2.642111e-06 ALPL      protein_coding"
      ]
     },
     "metadata": {},
     "output_type": "display_data"
    }
   ],
   "source": [
    "head(res)"
   ]
  },
  {
   "cell_type": "code",
   "execution_count": 12,
   "metadata": {
    "vscode": {
     "languageId": "r"
    }
   },
   "outputs": [
    {
     "data": {
      "text/html": [
       "<strong>png:</strong> 2"
      ],
      "text/latex": [
       "\\textbf{png:} 2"
      ],
      "text/markdown": [
       "**png:** 2"
      ],
      "text/plain": [
       "png \n",
       "  2 "
      ]
     },
     "metadata": {},
     "output_type": "display_data"
    }
   ],
   "source": [
    "\n",
    "png('../../results/recur/i/res5_18_volcano.png', width=1440, height=1440)\n",
    "EnhancedVolcano(res,\n",
    "    titleLabSize = 40,\n",
    "    subtitleLabSize = 30,\n",
    "    captionLabSize = 30,\n",
    "    axisLabSize = 30,\n",
    "    legendLabSize = 30,\n",
    "    title = \"Recurrent vs Non-Recurrent\",\n",
    "    subtitle = bquote(Ileum),\n",
    "    lab = res$symbol,\n",
    "    # selectLab = c('HCAR3', 'MUC1', 'CXCL8', 'AQP9', 'MMP1', 'CXCL5', 'DUOX2', 'CHI3L1', 'MUC6', 'IL1B', 'TM4SF4', 'GSTA2'),\n",
    "    x = 'log2FoldChange',\n",
    "    y = 'padj',\n",
    "    legendLabels = c(\"NS\", \"p-adj\", \"L2FC\", \"p < 0.05 and L2FC > 1.5\"),\n",
    "    pCutoff = 0.05,\n",
    "    FCcutoff = 0.5,\n",
    "    pointSize = 3.0,\n",
    "    labSize = 14.0,\n",
    "    col = c(\"#e6f2ff\", \"#b3d9ff\", \"#b3d9ff\", \"#0066cc\"),\n",
    "    # colGradient = c('#990000', '#0066cc'))\n",
    "    #y axis scale from -0.05 to 2\n",
    "    ylim = c(-0.05, 7.5),\n",
    "    xlim = c(-2.1, 2.1))\n",
    "dev.off()"
   ]
  },
  {
   "cell_type": "code",
   "execution_count": 3,
   "metadata": {
    "vscode": {
     "languageId": "r"
    }
   },
   "outputs": [],
   "source": [
    "\n",
    "# %%\n",
    "res <- read.csv('../../results/recur/c/ruvg_runs/res5_19_symbol.csv')\n",
    "#if res$'gene' starts with 'ENSG' then drop the row and save to new dataframe res2\n",
    "res <- res %>% \n",
    "  filter(!grepl('ENSG', symbol))\n"
   ]
  },
  {
   "cell_type": "code",
   "execution_count": 4,
   "metadata": {
    "vscode": {
     "languageId": "r"
    }
   },
   "outputs": [
    {
     "data": {
      "text/html": [
       "<table class=\"dataframe\">\n",
       "<caption>A data.frame: 6 × 9</caption>\n",
       "<thead>\n",
       "\t<tr><th></th><th scope=col>symbol</th><th scope=col>baseMean</th><th scope=col>log2FoldChange</th><th scope=col>lfcSE</th><th scope=col>stat</th><th scope=col>pvalue</th><th scope=col>padj</th><th scope=col>symbol.1</th><th scope=col>biotype</th></tr>\n",
       "\t<tr><th></th><th scope=col>&lt;chr&gt;</th><th scope=col>&lt;dbl&gt;</th><th scope=col>&lt;dbl&gt;</th><th scope=col>&lt;dbl&gt;</th><th scope=col>&lt;dbl&gt;</th><th scope=col>&lt;dbl&gt;</th><th scope=col>&lt;dbl&gt;</th><th scope=col>&lt;chr&gt;</th><th scope=col>&lt;chr&gt;</th></tr>\n",
       "</thead>\n",
       "<tbody>\n",
       "\t<tr><th scope=row>1</th><td>FERMT3</td><td> 748.20765</td><td> 0.4028313</td><td>0.05501330</td><td> 7.322434</td><td>2.435134e-13</td><td>7.079178e-09</td><td>FERMT3</td><td> protein_coding</td></tr>\n",
       "\t<tr><th scope=row>2</th><td>SLAMF7</td><td>1805.70349</td><td> 0.4942168</td><td>0.08609665</td><td> 5.740256</td><td>9.453376e-09</td><td>5.496382e-05</td><td>SLAMF7</td><td> protein_coding</td></tr>\n",
       "\t<tr><th scope=row>3</th><td>LAX1  </td><td> 899.51521</td><td> 0.3988282</td><td>0.06940721</td><td> 5.746206</td><td>9.126800e-09</td><td>5.496382e-05</td><td>LAX1  </td><td> protein_coding</td></tr>\n",
       "\t<tr><th scope=row>4</th><td>SUCLA2</td><td> 746.56103</td><td>-0.2539591</td><td>0.04388843</td><td>-5.786470</td><td>7.188107e-09</td><td>5.496382e-05</td><td>SUCLA2</td><td> protein_coding</td></tr>\n",
       "\t<tr><th scope=row>5</th><td>HAPLN4</td><td> 124.40716</td><td>-2.0000000</td><td>0.87085635</td><td>-5.655717</td><td>1.551967e-08</td><td>7.519539e-05</td><td>HAPLN4</td><td> protein_coding</td></tr>\n",
       "\t<tr><th scope=row>6</th><td>CST7  </td><td>  87.76657</td><td> 0.7645570</td><td>0.13699552</td><td> 5.580890</td><td>2.392906e-08</td><td>9.937738e-05</td><td>CST7  </td><td> protein_coding</td></tr>\n",
       "</tbody>\n",
       "</table>\n"
      ],
      "text/latex": [
       "A data.frame: 6 × 9\n",
       "\\begin{tabular}{r|lllllllll}\n",
       "  & symbol & baseMean & log2FoldChange & lfcSE & stat & pvalue & padj & symbol.1 & biotype\\\\\n",
       "  & <chr> & <dbl> & <dbl> & <dbl> & <dbl> & <dbl> & <dbl> & <chr> & <chr>\\\\\n",
       "\\hline\n",
       "\t1 & FERMT3 &  748.20765 &  0.4028313 & 0.05501330 &  7.322434 & 2.435134e-13 & 7.079178e-09 & FERMT3 &  protein\\_coding\\\\\n",
       "\t2 & SLAMF7 & 1805.70349 &  0.4942168 & 0.08609665 &  5.740256 & 9.453376e-09 & 5.496382e-05 & SLAMF7 &  protein\\_coding\\\\\n",
       "\t3 & LAX1   &  899.51521 &  0.3988282 & 0.06940721 &  5.746206 & 9.126800e-09 & 5.496382e-05 & LAX1   &  protein\\_coding\\\\\n",
       "\t4 & SUCLA2 &  746.56103 & -0.2539591 & 0.04388843 & -5.786470 & 7.188107e-09 & 5.496382e-05 & SUCLA2 &  protein\\_coding\\\\\n",
       "\t5 & HAPLN4 &  124.40716 & -2.0000000 & 0.87085635 & -5.655717 & 1.551967e-08 & 7.519539e-05 & HAPLN4 &  protein\\_coding\\\\\n",
       "\t6 & CST7   &   87.76657 &  0.7645570 & 0.13699552 &  5.580890 & 2.392906e-08 & 9.937738e-05 & CST7   &  protein\\_coding\\\\\n",
       "\\end{tabular}\n"
      ],
      "text/markdown": [
       "\n",
       "A data.frame: 6 × 9\n",
       "\n",
       "| <!--/--> | symbol &lt;chr&gt; | baseMean &lt;dbl&gt; | log2FoldChange &lt;dbl&gt; | lfcSE &lt;dbl&gt; | stat &lt;dbl&gt; | pvalue &lt;dbl&gt; | padj &lt;dbl&gt; | symbol.1 &lt;chr&gt; | biotype &lt;chr&gt; |\n",
       "|---|---|---|---|---|---|---|---|---|---|\n",
       "| 1 | FERMT3 |  748.20765 |  0.4028313 | 0.05501330 |  7.322434 | 2.435134e-13 | 7.079178e-09 | FERMT3 |  protein_coding |\n",
       "| 2 | SLAMF7 | 1805.70349 |  0.4942168 | 0.08609665 |  5.740256 | 9.453376e-09 | 5.496382e-05 | SLAMF7 |  protein_coding |\n",
       "| 3 | LAX1   |  899.51521 |  0.3988282 | 0.06940721 |  5.746206 | 9.126800e-09 | 5.496382e-05 | LAX1   |  protein_coding |\n",
       "| 4 | SUCLA2 |  746.56103 | -0.2539591 | 0.04388843 | -5.786470 | 7.188107e-09 | 5.496382e-05 | SUCLA2 |  protein_coding |\n",
       "| 5 | HAPLN4 |  124.40716 | -2.0000000 | 0.87085635 | -5.655717 | 1.551967e-08 | 7.519539e-05 | HAPLN4 |  protein_coding |\n",
       "| 6 | CST7   |   87.76657 |  0.7645570 | 0.13699552 |  5.580890 | 2.392906e-08 | 9.937738e-05 | CST7   |  protein_coding |\n",
       "\n"
      ],
      "text/plain": [
       "  symbol baseMean   log2FoldChange lfcSE      stat      pvalue      \n",
       "1 FERMT3  748.20765  0.4028313     0.05501330  7.322434 2.435134e-13\n",
       "2 SLAMF7 1805.70349  0.4942168     0.08609665  5.740256 9.453376e-09\n",
       "3 LAX1    899.51521  0.3988282     0.06940721  5.746206 9.126800e-09\n",
       "4 SUCLA2  746.56103 -0.2539591     0.04388843 -5.786470 7.188107e-09\n",
       "5 HAPLN4  124.40716 -2.0000000     0.87085635 -5.655717 1.551967e-08\n",
       "6 CST7     87.76657  0.7645570     0.13699552  5.580890 2.392906e-08\n",
       "  padj         symbol.1 biotype        \n",
       "1 7.079178e-09 FERMT3    protein_coding\n",
       "2 5.496382e-05 SLAMF7    protein_coding\n",
       "3 5.496382e-05 LAX1      protein_coding\n",
       "4 5.496382e-05 SUCLA2    protein_coding\n",
       "5 7.519539e-05 HAPLN4    protein_coding\n",
       "6 9.937738e-05 CST7      protein_coding"
      ]
     },
     "metadata": {},
     "output_type": "display_data"
    },
    {
     "data": {
      "text/html": [
       "<strong>png:</strong> 2"
      ],
      "text/latex": [
       "\\textbf{png:} 2"
      ],
      "text/markdown": [
       "**png:** 2"
      ],
      "text/plain": [
       "png \n",
       "  2 "
      ]
     },
     "metadata": {},
     "output_type": "display_data"
    }
   ],
   "source": [
    "\n",
    "# res <- res[res$log2FoldChange > -6.5,]\n",
    "# res <- res[res$log2FoldChange < 6.5,]\n",
    "\n",
    "#if log2FoldChange is > 2, then change to 2\n",
    "res$log2FoldChange[res$log2FoldChange > 2] <- 2\n",
    "res$log2FoldChange[res$log2FoldChange < -2] <- -2\n",
    "head(res)\n",
    "\n",
    "png('../../results/recur/c/ruvg_runs/res5_19_volcano.png', width=1440, height=1440)\n",
    "EnhancedVolcano(res,\n",
    "    titleLabSize = 40,\n",
    "    subtitleLabSize = 30,\n",
    "    captionLabSize = 30,\n",
    "    axisLabSize = 30,\n",
    "    legendLabSize = 30,\n",
    "    title = \"Recurrent vs Non-Recurrent\",\n",
    "    subtitle = bquote(Colon),\n",
    "    lab = res$symbol,\n",
    "    # selectLab = c('HCAR3', 'MUC1', 'CXCL8', 'AQP9', 'MMP1', 'CXCL5', 'DUOX2', 'CHI3L1', 'MUC6', 'IL1B', 'TM4SF4', 'GSTA2'),\n",
    "    x = 'log2FoldChange',\n",
    "    y = 'padj',\n",
    "    legendLabels = c(\"NS\", \"p-adj\", \"L2FC\", \"p < 0.05 and L2FC > 1.5\"),\n",
    "    pCutoff = 0.05,\n",
    "    FCcutoff = 0.5,\n",
    "    pointSize = 3.0,\n",
    "    labSize = 14.0,\n",
    "    col = c(\"#e6f2ff\", \"#b3d9ff\", \"#b3d9ff\", \"#0066cc\"),\n",
    "    # colGradient = c('#990000', '#0066cc'))\n",
    "    #y axis scale from -0.05 to 2\n",
    "    ylim = c(-0.05, 4.5),\n",
    "    xlim = c(-2.5, 2.5))\n",
    "dev.off()"
   ]
  },
  {
   "cell_type": "code",
   "execution_count": null,
   "metadata": {
    "vscode": {
     "languageId": "r"
    }
   },
   "outputs": [],
   "source": []
  }
 ],
 "metadata": {
  "kernelspec": {
   "display_name": "R",
   "language": "R",
   "name": "ir"
  },
  "language_info": {
   "codemirror_mode": "r",
   "file_extension": ".r",
   "mimetype": "text/x-r-source",
   "name": "R",
   "pygments_lexer": "r",
   "version": "4.3.0"
  },
  "orig_nbformat": 4
 },
 "nbformat": 4,
 "nbformat_minor": 2
}
