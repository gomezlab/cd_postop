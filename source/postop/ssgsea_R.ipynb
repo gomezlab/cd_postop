{
 "cells": [
  {
   "cell_type": "code",
   "execution_count": 3,
   "metadata": {
    "vscode": {
     "languageId": "r"
    }
   },
   "outputs": [
    {
     "name": "stderr",
     "output_type": "stream",
     "text": [
      "Warning message:\n",
      "“replacing previous import ‘utils::findMatches’ by ‘S4Vectors::findMatches’ when loading ‘AnnotationDbi’”\n",
      "Warning message:\n",
      "“multiple methods tables found for ‘acbind’”\n",
      "Warning message:\n",
      "“multiple methods tables found for ‘arbind’”\n",
      "── \u001b[1mAttaching core tidyverse packages\u001b[22m ──────────────────────── tidyverse 2.0.0 ──\n",
      "\u001b[32m✔\u001b[39m \u001b[34mdplyr    \u001b[39m 1.1.2     \u001b[32m✔\u001b[39m \u001b[34mreadr    \u001b[39m 2.1.4\n",
      "\u001b[32m✔\u001b[39m \u001b[34mforcats  \u001b[39m 1.0.0     \u001b[32m✔\u001b[39m \u001b[34mstringr  \u001b[39m 1.5.0\n",
      "\u001b[32m✔\u001b[39m \u001b[34mlubridate\u001b[39m 1.9.2     \u001b[32m✔\u001b[39m \u001b[34mtibble   \u001b[39m 3.2.1\n",
      "\u001b[32m✔\u001b[39m \u001b[34mpurrr    \u001b[39m 1.0.1     \u001b[32m✔\u001b[39m \u001b[34mtidyr    \u001b[39m 1.3.0\n",
      "── \u001b[1mConflicts\u001b[22m ────────────────────────────────────────── tidyverse_conflicts() ──\n",
      "\u001b[31m✖\u001b[39m \u001b[34mdplyr\u001b[39m::\u001b[32mfilter()\u001b[39m masks \u001b[34mstats\u001b[39m::filter()\n",
      "\u001b[31m✖\u001b[39m \u001b[34mdplyr\u001b[39m::\u001b[32mlag()\u001b[39m    masks \u001b[34mstats\u001b[39m::lag()\n",
      "\u001b[36mℹ\u001b[39m Use the conflicted package (\u001b[3m\u001b[34m<http://conflicted.r-lib.org/>\u001b[39m\u001b[23m) to force all conflicts to become errors\n",
      "Loading required package: BiocGenerics\n",
      "\n",
      "\n",
      "Attaching package: ‘BiocGenerics’\n",
      "\n",
      "\n",
      "The following objects are masked from ‘package:lubridate’:\n",
      "\n",
      "    intersect, setdiff, union\n",
      "\n",
      "\n",
      "The following objects are masked from ‘package:dplyr’:\n",
      "\n",
      "    combine, intersect, setdiff, union\n",
      "\n",
      "\n",
      "The following objects are masked from ‘package:stats’:\n",
      "\n",
      "    IQR, mad, sd, var, xtabs\n",
      "\n",
      "\n",
      "The following objects are masked from ‘package:base’:\n",
      "\n",
      "    anyDuplicated, aperm, append, as.data.frame, basename, cbind,\n",
      "    colnames, dirname, do.call, duplicated, eval, evalq, Filter, Find,\n",
      "    get, grep, grepl, intersect, is.unsorted, lapply, Map, mapply,\n",
      "    match, mget, order, paste, pmax, pmax.int, pmin, pmin.int,\n",
      "    Position, rank, rbind, Reduce, rownames, sapply, setdiff, sort,\n",
      "    table, tapply, union, unique, unsplit, which.max, which.min\n",
      "\n",
      "\n",
      "Loading required package: Biobase\n",
      "\n",
      "Welcome to Bioconductor\n",
      "\n",
      "    Vignettes contain introductory material; view with\n",
      "    'browseVignettes()'. To cite Bioconductor, see\n",
      "    'citation(\"Biobase\")', and for packages 'citation(\"pkgname\")'.\n",
      "\n",
      "\n",
      "Loading required package: annotate\n",
      "\n",
      "Loading required package: AnnotationDbi\n",
      "\n",
      "Loading required package: stats4\n",
      "\n",
      "Loading required package: IRanges\n",
      "\n",
      "Loading required package: S4Vectors\n",
      "\n",
      "\n",
      "Attaching package: ‘S4Vectors’\n",
      "\n",
      "\n",
      "The following objects are masked from ‘package:lubridate’:\n",
      "\n",
      "    second, second<-\n",
      "\n",
      "\n",
      "The following objects are masked from ‘package:dplyr’:\n",
      "\n",
      "    first, rename\n",
      "\n",
      "\n",
      "The following object is masked from ‘package:tidyr’:\n",
      "\n",
      "    expand\n",
      "\n",
      "\n",
      "The following object is masked from ‘package:utils’:\n",
      "\n",
      "    findMatches\n",
      "\n",
      "\n",
      "The following objects are masked from ‘package:base’:\n",
      "\n",
      "    expand.grid, I, unname\n",
      "\n",
      "\n",
      "\n",
      "Attaching package: ‘IRanges’\n",
      "\n",
      "\n",
      "The following object is masked from ‘package:lubridate’:\n",
      "\n",
      "    %within%\n",
      "\n",
      "\n",
      "The following objects are masked from ‘package:dplyr’:\n",
      "\n",
      "    collapse, desc, slice\n",
      "\n",
      "\n",
      "The following object is masked from ‘package:purrr’:\n",
      "\n",
      "    reduce\n",
      "\n",
      "\n",
      "\n",
      "Attaching package: ‘AnnotationDbi’\n",
      "\n",
      "\n",
      "The following object is masked from ‘package:dplyr’:\n",
      "\n",
      "    select\n",
      "\n",
      "\n",
      "Loading required package: XML\n",
      "\n",
      "Loading required package: graph\n",
      "\n",
      "\n",
      "Attaching package: ‘graph’\n",
      "\n",
      "\n",
      "The following object is masked from ‘package:XML’:\n",
      "\n",
      "    addNode\n",
      "\n",
      "\n",
      "The following object is masked from ‘package:stringr’:\n",
      "\n",
      "    boundary\n",
      "\n",
      "\n"
     ]
    }
   ],
   "source": [
    "library(GSVA)\n",
    "library(ggplot2)\n",
    "library(tidyverse)\n",
    "library(GSEABase)"
   ]
  },
  {
   "cell_type": "code",
   "execution_count": 4,
   "metadata": {
    "vscode": {
     "languageId": "r"
    }
   },
   "outputs": [],
   "source": [
    "#read in the gmt file 'h.all.v2022.1.Hs.symbols.gmt'\n",
    "hall_gmt <- getGmt(\"../../data/h.all.v2022.1.Hs.symbols.gmt\")\n",
    "# kegg_gmt <- getGmt('../pathways/c2.cp.kegg.v2022.1.Hs.symbols.gmt')\n",
    "# reactome_gmt <- getGmt('../pathways/c2.cp.reactome.v2022.1.Hs.symbols.gmt')\n",
    "# go_gmt <- getGmt('../pathways/c5.go.v2022.1.Hs.symbols.gmt')\n"
   ]
  },
  {
   "cell_type": "code",
   "execution_count": 5,
   "metadata": {
    "vscode": {
     "languageId": "r"
    }
   },
   "outputs": [
    {
     "data": {
      "text/html": [
       "<table class=\"dataframe\">\n",
       "<caption>A matrix: 6 × 110 of type dbl</caption>\n",
       "<thead>\n",
       "\t<tr><th></th><th scope=col>PB630</th><th scope=col>PB447</th><th scope=col>PB495</th><th scope=col>PB53</th><th scope=col>PB269</th><th scope=col>PB283</th><th scope=col>PB504</th><th scope=col>PB511</th><th scope=col>PB465</th><th scope=col>PB512</th><th scope=col>⋯</th><th scope=col>PB98</th><th scope=col>PB43</th><th scope=col>PB22</th><th scope=col>PB36</th><th scope=col>PB27</th><th scope=col>PB42</th><th scope=col>PB30</th><th scope=col>PB209</th><th scope=col>PB185</th><th scope=col>PB183</th></tr>\n",
       "</thead>\n",
       "<tbody>\n",
       "\t<tr><th scope=row>MTMR4</th><td> 9.483897</td><td> 9.497924</td><td> 9.333433</td><td> 9.871328</td><td> 9.836447</td><td> 9.537993</td><td> 9.597342</td><td> 9.584142</td><td> 9.394411</td><td> 9.017114</td><td>⋯</td><td>10.368008</td><td> 9.945046</td><td> 9.855554</td><td>10.082031</td><td> 9.642219</td><td> 9.845943</td><td>10.105639</td><td>10.363029</td><td> 9.843811</td><td> 9.840605</td></tr>\n",
       "\t<tr><th scope=row>PRSS12</th><td> 8.891477</td><td> 9.011260</td><td> 9.847424</td><td> 9.644706</td><td> 9.917819</td><td> 8.886567</td><td> 9.931347</td><td> 9.640697</td><td> 9.059871</td><td> 8.618347</td><td>⋯</td><td>10.191439</td><td> 9.338319</td><td> 8.996724</td><td> 8.865719</td><td> 8.797422</td><td> 9.777835</td><td> 9.550606</td><td>10.104517</td><td> 9.815741</td><td>10.561937</td></tr>\n",
       "\t<tr><th scope=row>DDX17</th><td>12.856533</td><td>12.837915</td><td>12.975712</td><td>13.119767</td><td>12.767480</td><td>13.129723</td><td>12.608573</td><td>13.173122</td><td>12.934829</td><td>12.642038</td><td>⋯</td><td>13.345516</td><td>13.143468</td><td>13.154451</td><td>13.141142</td><td>13.322691</td><td>12.834954</td><td>13.616634</td><td>13.377267</td><td>13.253180</td><td>12.908166</td></tr>\n",
       "\t<tr><th scope=row>ENSG00000271581</th><td> 8.726077</td><td> 7.677307</td><td> 7.582410</td><td> 7.544472</td><td> 7.937896</td><td> 5.550828</td><td> 8.086534</td><td> 8.195045</td><td> 8.264832</td><td> 8.517240</td><td>⋯</td><td> 5.417205</td><td> 4.714137</td><td> 4.670301</td><td> 5.660560</td><td> 5.275381</td><td> 5.869843</td><td> 4.952951</td><td> 5.004445</td><td> 6.459341</td><td> 5.355416</td></tr>\n",
       "\t<tr><th scope=row>ENSG00000278932</th><td> 5.199832</td><td> 5.359607</td><td> 5.756295</td><td> 4.615177</td><td> 5.192146</td><td> 3.799865</td><td> 5.993220</td><td> 6.040232</td><td> 5.303497</td><td> 5.818910</td><td>⋯</td><td> 6.180999</td><td> 5.336404</td><td> 4.670301</td><td> 6.264802</td><td> 5.610089</td><td> 4.950192</td><td> 6.587896</td><td> 7.894331</td><td> 5.695441</td><td> 5.621831</td></tr>\n",
       "\t<tr><th scope=row>ARL1</th><td>11.094774</td><td>10.932397</td><td>11.029950</td><td>10.880340</td><td>11.097539</td><td>10.655337</td><td>10.984808</td><td>10.636008</td><td>10.489147</td><td>11.203030</td><td>⋯</td><td>10.829856</td><td>11.340180</td><td>10.971718</td><td> 9.446835</td><td>10.780571</td><td>11.443271</td><td>10.668160</td><td>10.495729</td><td>10.625162</td><td>10.978886</td></tr>\n",
       "</tbody>\n",
       "</table>\n"
      ],
      "text/latex": [
       "A matrix: 6 × 110 of type dbl\n",
       "\\begin{tabular}{r|lllllllllllllllllllll}\n",
       "  & PB630 & PB447 & PB495 & PB53 & PB269 & PB283 & PB504 & PB511 & PB465 & PB512 & ⋯ & PB98 & PB43 & PB22 & PB36 & PB27 & PB42 & PB30 & PB209 & PB185 & PB183\\\\\n",
       "\\hline\n",
       "\tMTMR4 &  9.483897 &  9.497924 &  9.333433 &  9.871328 &  9.836447 &  9.537993 &  9.597342 &  9.584142 &  9.394411 &  9.017114 & ⋯ & 10.368008 &  9.945046 &  9.855554 & 10.082031 &  9.642219 &  9.845943 & 10.105639 & 10.363029 &  9.843811 &  9.840605\\\\\n",
       "\tPRSS12 &  8.891477 &  9.011260 &  9.847424 &  9.644706 &  9.917819 &  8.886567 &  9.931347 &  9.640697 &  9.059871 &  8.618347 & ⋯ & 10.191439 &  9.338319 &  8.996724 &  8.865719 &  8.797422 &  9.777835 &  9.550606 & 10.104517 &  9.815741 & 10.561937\\\\\n",
       "\tDDX17 & 12.856533 & 12.837915 & 12.975712 & 13.119767 & 12.767480 & 13.129723 & 12.608573 & 13.173122 & 12.934829 & 12.642038 & ⋯ & 13.345516 & 13.143468 & 13.154451 & 13.141142 & 13.322691 & 12.834954 & 13.616634 & 13.377267 & 13.253180 & 12.908166\\\\\n",
       "\tENSG00000271581 &  8.726077 &  7.677307 &  7.582410 &  7.544472 &  7.937896 &  5.550828 &  8.086534 &  8.195045 &  8.264832 &  8.517240 & ⋯ &  5.417205 &  4.714137 &  4.670301 &  5.660560 &  5.275381 &  5.869843 &  4.952951 &  5.004445 &  6.459341 &  5.355416\\\\\n",
       "\tENSG00000278932 &  5.199832 &  5.359607 &  5.756295 &  4.615177 &  5.192146 &  3.799865 &  5.993220 &  6.040232 &  5.303497 &  5.818910 & ⋯ &  6.180999 &  5.336404 &  4.670301 &  6.264802 &  5.610089 &  4.950192 &  6.587896 &  7.894331 &  5.695441 &  5.621831\\\\\n",
       "\tARL1 & 11.094774 & 10.932397 & 11.029950 & 10.880340 & 11.097539 & 10.655337 & 10.984808 & 10.636008 & 10.489147 & 11.203030 & ⋯ & 10.829856 & 11.340180 & 10.971718 &  9.446835 & 10.780571 & 11.443271 & 10.668160 & 10.495729 & 10.625162 & 10.978886\\\\\n",
       "\\end{tabular}\n"
      ],
      "text/markdown": [
       "\n",
       "A matrix: 6 × 110 of type dbl\n",
       "\n",
       "| <!--/--> | PB630 | PB447 | PB495 | PB53 | PB269 | PB283 | PB504 | PB511 | PB465 | PB512 | ⋯ | PB98 | PB43 | PB22 | PB36 | PB27 | PB42 | PB30 | PB209 | PB185 | PB183 |\n",
       "|---|---|---|---|---|---|---|---|---|---|---|---|---|---|---|---|---|---|---|---|---|---|\n",
       "| MTMR4 |  9.483897 |  9.497924 |  9.333433 |  9.871328 |  9.836447 |  9.537993 |  9.597342 |  9.584142 |  9.394411 |  9.017114 | ⋯ | 10.368008 |  9.945046 |  9.855554 | 10.082031 |  9.642219 |  9.845943 | 10.105639 | 10.363029 |  9.843811 |  9.840605 |\n",
       "| PRSS12 |  8.891477 |  9.011260 |  9.847424 |  9.644706 |  9.917819 |  8.886567 |  9.931347 |  9.640697 |  9.059871 |  8.618347 | ⋯ | 10.191439 |  9.338319 |  8.996724 |  8.865719 |  8.797422 |  9.777835 |  9.550606 | 10.104517 |  9.815741 | 10.561937 |\n",
       "| DDX17 | 12.856533 | 12.837915 | 12.975712 | 13.119767 | 12.767480 | 13.129723 | 12.608573 | 13.173122 | 12.934829 | 12.642038 | ⋯ | 13.345516 | 13.143468 | 13.154451 | 13.141142 | 13.322691 | 12.834954 | 13.616634 | 13.377267 | 13.253180 | 12.908166 |\n",
       "| ENSG00000271581 |  8.726077 |  7.677307 |  7.582410 |  7.544472 |  7.937896 |  5.550828 |  8.086534 |  8.195045 |  8.264832 |  8.517240 | ⋯ |  5.417205 |  4.714137 |  4.670301 |  5.660560 |  5.275381 |  5.869843 |  4.952951 |  5.004445 |  6.459341 |  5.355416 |\n",
       "| ENSG00000278932 |  5.199832 |  5.359607 |  5.756295 |  4.615177 |  5.192146 |  3.799865 |  5.993220 |  6.040232 |  5.303497 |  5.818910 | ⋯ |  6.180999 |  5.336404 |  4.670301 |  6.264802 |  5.610089 |  4.950192 |  6.587896 |  7.894331 |  5.695441 |  5.621831 |\n",
       "| ARL1 | 11.094774 | 10.932397 | 11.029950 | 10.880340 | 11.097539 | 10.655337 | 10.984808 | 10.636008 | 10.489147 | 11.203030 | ⋯ | 10.829856 | 11.340180 | 10.971718 |  9.446835 | 10.780571 | 11.443271 | 10.668160 | 10.495729 | 10.625162 | 10.978886 |\n",
       "\n"
      ],
      "text/plain": [
       "                PB630     PB447     PB495     PB53      PB269     PB283    \n",
       "MTMR4            9.483897  9.497924  9.333433  9.871328  9.836447  9.537993\n",
       "PRSS12           8.891477  9.011260  9.847424  9.644706  9.917819  8.886567\n",
       "DDX17           12.856533 12.837915 12.975712 13.119767 12.767480 13.129723\n",
       "ENSG00000271581  8.726077  7.677307  7.582410  7.544472  7.937896  5.550828\n",
       "ENSG00000278932  5.199832  5.359607  5.756295  4.615177  5.192146  3.799865\n",
       "ARL1            11.094774 10.932397 11.029950 10.880340 11.097539 10.655337\n",
       "                PB504     PB511     PB465     PB512     ⋯ PB98      PB43     \n",
       "MTMR4            9.597342  9.584142  9.394411  9.017114 ⋯ 10.368008  9.945046\n",
       "PRSS12           9.931347  9.640697  9.059871  8.618347 ⋯ 10.191439  9.338319\n",
       "DDX17           12.608573 13.173122 12.934829 12.642038 ⋯ 13.345516 13.143468\n",
       "ENSG00000271581  8.086534  8.195045  8.264832  8.517240 ⋯  5.417205  4.714137\n",
       "ENSG00000278932  5.993220  6.040232  5.303497  5.818910 ⋯  6.180999  5.336404\n",
       "ARL1            10.984808 10.636008 10.489147 11.203030 ⋯ 10.829856 11.340180\n",
       "                PB22      PB36      PB27      PB42      PB30      PB209    \n",
       "MTMR4            9.855554 10.082031  9.642219  9.845943 10.105639 10.363029\n",
       "PRSS12           8.996724  8.865719  8.797422  9.777835  9.550606 10.104517\n",
       "DDX17           13.154451 13.141142 13.322691 12.834954 13.616634 13.377267\n",
       "ENSG00000271581  4.670301  5.660560  5.275381  5.869843  4.952951  5.004445\n",
       "ENSG00000278932  4.670301  6.264802  5.610089  4.950192  6.587896  7.894331\n",
       "ARL1            10.971718  9.446835 10.780571 11.443271 10.668160 10.495729\n",
       "                PB185     PB183    \n",
       "MTMR4            9.843811  9.840605\n",
       "PRSS12           9.815741 10.561937\n",
       "DDX17           13.253180 12.908166\n",
       "ENSG00000271581  6.459341  5.355416\n",
       "ENSG00000278932  5.695441  5.621831\n",
       "ARL1            10.625162 10.978886"
      ]
     },
     "metadata": {},
     "output_type": "display_data"
    }
   ],
   "source": [
    "#read in the data, which has been normalized using RemoveBatchEffect and RUV factors\n",
    "cts = as.matrix(read.csv(\"../results/postop/ruvg_runs/rbe_data5_13.csv\", sep=',', row.names=1))\n",
    "head(cts)\n"
   ]
  },
  {
   "cell_type": "code",
   "execution_count": 6,
   "metadata": {
    "vscode": {
     "languageId": "r"
    }
   },
   "outputs": [
    {
     "data": {
      "text/html": [
       "<table class=\"dataframe\">\n",
       "<caption>A matrix: 6 × 110 of type dbl</caption>\n",
       "<thead>\n",
       "\t<tr><th></th><th scope=col>PB630</th><th scope=col>PB447</th><th scope=col>PB495</th><th scope=col>PB53</th><th scope=col>PB269</th><th scope=col>PB283</th><th scope=col>PB504</th><th scope=col>PB511</th><th scope=col>PB465</th><th scope=col>PB512</th><th scope=col>⋯</th><th scope=col>PB98</th><th scope=col>PB43</th><th scope=col>PB22</th><th scope=col>PB36</th><th scope=col>PB27</th><th scope=col>PB42</th><th scope=col>PB30</th><th scope=col>PB209</th><th scope=col>PB185</th><th scope=col>PB183</th></tr>\n",
       "</thead>\n",
       "<tbody>\n",
       "\t<tr><th scope=row>HALLMARK_TNFA_SIGNALING_VIA_NFKB</th><td>-0.222823016</td><td> 0.24530737</td><td>-0.200695295</td><td> 0.03847172</td><td>-0.46082132</td><td> 0.53167258</td><td>-0.1322298</td><td>-0.35831908</td><td>-0.49045149</td><td>-0.19355119</td><td>⋯</td><td>-0.22933983</td><td> 0.09145733</td><td> 0.24895005</td><td> 0.02809445</td><td> 0.29657134</td><td> 0.17449012</td><td>-0.4167014</td><td>-0.212693350</td><td> 0.2519306</td><td>0.38072876</td></tr>\n",
       "\t<tr><th scope=row>HALLMARK_HYPOXIA</th><td>-0.004002057</td><td> 0.09042256</td><td> 0.002824665</td><td> 0.16515044</td><td>-0.07237476</td><td> 0.34048810</td><td> 0.1122920</td><td>-0.13352885</td><td>-0.31744778</td><td>-0.07526911</td><td>⋯</td><td> 0.12532098</td><td>-0.03397295</td><td> 0.10498086</td><td> 0.15183095</td><td> 0.07878272</td><td>-0.13642077</td><td>-0.1682634</td><td>-0.124141782</td><td> 0.2668720</td><td>0.20395547</td></tr>\n",
       "\t<tr><th scope=row>HALLMARK_CHOLESTEROL_HOMEOSTASIS</th><td> 0.117845243</td><td> 0.17108940</td><td> 0.343023651</td><td>-0.05167217</td><td> 0.18258610</td><td> 0.42163839</td><td> 0.5156762</td><td>-0.13903982</td><td>-0.11519908</td><td> 0.37132603</td><td>⋯</td><td> 0.22967104</td><td> 0.11936243</td><td>-0.19746508</td><td>-0.26392773</td><td>-0.17464134</td><td>-0.02362912</td><td>-0.3651412</td><td> 0.282693141</td><td> 0.3550191</td><td>0.27909761</td></tr>\n",
       "\t<tr><th scope=row>HALLMARK_MITOTIC_SPINDLE</th><td>-0.469543693</td><td>-0.12597780</td><td> 0.003808033</td><td>-0.40029975</td><td>-0.24827117</td><td>-0.07668204</td><td>-0.3112218</td><td>-0.09845688</td><td>-0.31969426</td><td>-0.31125586</td><td>⋯</td><td> 0.08745311</td><td> 0.25049032</td><td> 0.17850570</td><td> 0.15538176</td><td> 0.23991580</td><td> 0.15600340</td><td> 0.2622579</td><td> 0.349546177</td><td>-0.1121911</td><td>0.04019585</td></tr>\n",
       "\t<tr><th scope=row>HALLMARK_WNT_BETA_CATENIN_SIGNALING</th><td>-0.103034502</td><td>-0.22836724</td><td>-0.500115299</td><td>-0.36294097</td><td>-0.24647236</td><td> 0.14635062</td><td>-0.2552767</td><td>-0.11075161</td><td> 0.05263381</td><td>-0.31186698</td><td>⋯</td><td> 0.27068284</td><td> 0.05984790</td><td> 0.05331762</td><td> 0.46903700</td><td> 0.32231614</td><td>-0.45193739</td><td> 0.1001644</td><td> 0.210225205</td><td> 0.3801100</td><td>0.09526702</td></tr>\n",
       "\t<tr><th scope=row>HALLMARK_TGF_BETA_SIGNALING</th><td>-0.441286564</td><td>-0.30622965</td><td>-0.366297572</td><td>-0.04068004</td><td>-0.37349684</td><td> 0.22496383</td><td>-0.1474963</td><td>-0.53601170</td><td>-0.54831035</td><td>-0.34695748</td><td>⋯</td><td> 0.34369632</td><td> 0.23693458</td><td> 0.38502281</td><td> 0.17764669</td><td> 0.34877602</td><td> 0.01881224</td><td> 0.1202048</td><td> 0.001161828</td><td> 0.4868839</td><td>0.51603353</td></tr>\n",
       "</tbody>\n",
       "</table>\n"
      ],
      "text/latex": [
       "A matrix: 6 × 110 of type dbl\n",
       "\\begin{tabular}{r|lllllllllllllllllllll}\n",
       "  & PB630 & PB447 & PB495 & PB53 & PB269 & PB283 & PB504 & PB511 & PB465 & PB512 & ⋯ & PB98 & PB43 & PB22 & PB36 & PB27 & PB42 & PB30 & PB209 & PB185 & PB183\\\\\n",
       "\\hline\n",
       "\tHALLMARK\\_TNFA\\_SIGNALING\\_VIA\\_NFKB & -0.222823016 &  0.24530737 & -0.200695295 &  0.03847172 & -0.46082132 &  0.53167258 & -0.1322298 & -0.35831908 & -0.49045149 & -0.19355119 & ⋯ & -0.22933983 &  0.09145733 &  0.24895005 &  0.02809445 &  0.29657134 &  0.17449012 & -0.4167014 & -0.212693350 &  0.2519306 & 0.38072876\\\\\n",
       "\tHALLMARK\\_HYPOXIA & -0.004002057 &  0.09042256 &  0.002824665 &  0.16515044 & -0.07237476 &  0.34048810 &  0.1122920 & -0.13352885 & -0.31744778 & -0.07526911 & ⋯ &  0.12532098 & -0.03397295 &  0.10498086 &  0.15183095 &  0.07878272 & -0.13642077 & -0.1682634 & -0.124141782 &  0.2668720 & 0.20395547\\\\\n",
       "\tHALLMARK\\_CHOLESTEROL\\_HOMEOSTASIS &  0.117845243 &  0.17108940 &  0.343023651 & -0.05167217 &  0.18258610 &  0.42163839 &  0.5156762 & -0.13903982 & -0.11519908 &  0.37132603 & ⋯ &  0.22967104 &  0.11936243 & -0.19746508 & -0.26392773 & -0.17464134 & -0.02362912 & -0.3651412 &  0.282693141 &  0.3550191 & 0.27909761\\\\\n",
       "\tHALLMARK\\_MITOTIC\\_SPINDLE & -0.469543693 & -0.12597780 &  0.003808033 & -0.40029975 & -0.24827117 & -0.07668204 & -0.3112218 & -0.09845688 & -0.31969426 & -0.31125586 & ⋯ &  0.08745311 &  0.25049032 &  0.17850570 &  0.15538176 &  0.23991580 &  0.15600340 &  0.2622579 &  0.349546177 & -0.1121911 & 0.04019585\\\\\n",
       "\tHALLMARK\\_WNT\\_BETA\\_CATENIN\\_SIGNALING & -0.103034502 & -0.22836724 & -0.500115299 & -0.36294097 & -0.24647236 &  0.14635062 & -0.2552767 & -0.11075161 &  0.05263381 & -0.31186698 & ⋯ &  0.27068284 &  0.05984790 &  0.05331762 &  0.46903700 &  0.32231614 & -0.45193739 &  0.1001644 &  0.210225205 &  0.3801100 & 0.09526702\\\\\n",
       "\tHALLMARK\\_TGF\\_BETA\\_SIGNALING & -0.441286564 & -0.30622965 & -0.366297572 & -0.04068004 & -0.37349684 &  0.22496383 & -0.1474963 & -0.53601170 & -0.54831035 & -0.34695748 & ⋯ &  0.34369632 &  0.23693458 &  0.38502281 &  0.17764669 &  0.34877602 &  0.01881224 &  0.1202048 &  0.001161828 &  0.4868839 & 0.51603353\\\\\n",
       "\\end{tabular}\n"
      ],
      "text/markdown": [
       "\n",
       "A matrix: 6 × 110 of type dbl\n",
       "\n",
       "| <!--/--> | PB630 | PB447 | PB495 | PB53 | PB269 | PB283 | PB504 | PB511 | PB465 | PB512 | ⋯ | PB98 | PB43 | PB22 | PB36 | PB27 | PB42 | PB30 | PB209 | PB185 | PB183 |\n",
       "|---|---|---|---|---|---|---|---|---|---|---|---|---|---|---|---|---|---|---|---|---|---|\n",
       "| HALLMARK_TNFA_SIGNALING_VIA_NFKB | -0.222823016 |  0.24530737 | -0.200695295 |  0.03847172 | -0.46082132 |  0.53167258 | -0.1322298 | -0.35831908 | -0.49045149 | -0.19355119 | ⋯ | -0.22933983 |  0.09145733 |  0.24895005 |  0.02809445 |  0.29657134 |  0.17449012 | -0.4167014 | -0.212693350 |  0.2519306 | 0.38072876 |\n",
       "| HALLMARK_HYPOXIA | -0.004002057 |  0.09042256 |  0.002824665 |  0.16515044 | -0.07237476 |  0.34048810 |  0.1122920 | -0.13352885 | -0.31744778 | -0.07526911 | ⋯ |  0.12532098 | -0.03397295 |  0.10498086 |  0.15183095 |  0.07878272 | -0.13642077 | -0.1682634 | -0.124141782 |  0.2668720 | 0.20395547 |\n",
       "| HALLMARK_CHOLESTEROL_HOMEOSTASIS |  0.117845243 |  0.17108940 |  0.343023651 | -0.05167217 |  0.18258610 |  0.42163839 |  0.5156762 | -0.13903982 | -0.11519908 |  0.37132603 | ⋯ |  0.22967104 |  0.11936243 | -0.19746508 | -0.26392773 | -0.17464134 | -0.02362912 | -0.3651412 |  0.282693141 |  0.3550191 | 0.27909761 |\n",
       "| HALLMARK_MITOTIC_SPINDLE | -0.469543693 | -0.12597780 |  0.003808033 | -0.40029975 | -0.24827117 | -0.07668204 | -0.3112218 | -0.09845688 | -0.31969426 | -0.31125586 | ⋯ |  0.08745311 |  0.25049032 |  0.17850570 |  0.15538176 |  0.23991580 |  0.15600340 |  0.2622579 |  0.349546177 | -0.1121911 | 0.04019585 |\n",
       "| HALLMARK_WNT_BETA_CATENIN_SIGNALING | -0.103034502 | -0.22836724 | -0.500115299 | -0.36294097 | -0.24647236 |  0.14635062 | -0.2552767 | -0.11075161 |  0.05263381 | -0.31186698 | ⋯ |  0.27068284 |  0.05984790 |  0.05331762 |  0.46903700 |  0.32231614 | -0.45193739 |  0.1001644 |  0.210225205 |  0.3801100 | 0.09526702 |\n",
       "| HALLMARK_TGF_BETA_SIGNALING | -0.441286564 | -0.30622965 | -0.366297572 | -0.04068004 | -0.37349684 |  0.22496383 | -0.1474963 | -0.53601170 | -0.54831035 | -0.34695748 | ⋯ |  0.34369632 |  0.23693458 |  0.38502281 |  0.17764669 |  0.34877602 |  0.01881224 |  0.1202048 |  0.001161828 |  0.4868839 | 0.51603353 |\n",
       "\n"
      ],
      "text/plain": [
       "                                    PB630        PB447       PB495       \n",
       "HALLMARK_TNFA_SIGNALING_VIA_NFKB    -0.222823016  0.24530737 -0.200695295\n",
       "HALLMARK_HYPOXIA                    -0.004002057  0.09042256  0.002824665\n",
       "HALLMARK_CHOLESTEROL_HOMEOSTASIS     0.117845243  0.17108940  0.343023651\n",
       "HALLMARK_MITOTIC_SPINDLE            -0.469543693 -0.12597780  0.003808033\n",
       "HALLMARK_WNT_BETA_CATENIN_SIGNALING -0.103034502 -0.22836724 -0.500115299\n",
       "HALLMARK_TGF_BETA_SIGNALING         -0.441286564 -0.30622965 -0.366297572\n",
       "                                    PB53        PB269       PB283      \n",
       "HALLMARK_TNFA_SIGNALING_VIA_NFKB     0.03847172 -0.46082132  0.53167258\n",
       "HALLMARK_HYPOXIA                     0.16515044 -0.07237476  0.34048810\n",
       "HALLMARK_CHOLESTEROL_HOMEOSTASIS    -0.05167217  0.18258610  0.42163839\n",
       "HALLMARK_MITOTIC_SPINDLE            -0.40029975 -0.24827117 -0.07668204\n",
       "HALLMARK_WNT_BETA_CATENIN_SIGNALING -0.36294097 -0.24647236  0.14635062\n",
       "HALLMARK_TGF_BETA_SIGNALING         -0.04068004 -0.37349684  0.22496383\n",
       "                                    PB504      PB511       PB465      \n",
       "HALLMARK_TNFA_SIGNALING_VIA_NFKB    -0.1322298 -0.35831908 -0.49045149\n",
       "HALLMARK_HYPOXIA                     0.1122920 -0.13352885 -0.31744778\n",
       "HALLMARK_CHOLESTEROL_HOMEOSTASIS     0.5156762 -0.13903982 -0.11519908\n",
       "HALLMARK_MITOTIC_SPINDLE            -0.3112218 -0.09845688 -0.31969426\n",
       "HALLMARK_WNT_BETA_CATENIN_SIGNALING -0.2552767 -0.11075161  0.05263381\n",
       "HALLMARK_TGF_BETA_SIGNALING         -0.1474963 -0.53601170 -0.54831035\n",
       "                                    PB512       ⋯ PB98        PB43       \n",
       "HALLMARK_TNFA_SIGNALING_VIA_NFKB    -0.19355119 ⋯ -0.22933983  0.09145733\n",
       "HALLMARK_HYPOXIA                    -0.07526911 ⋯  0.12532098 -0.03397295\n",
       "HALLMARK_CHOLESTEROL_HOMEOSTASIS     0.37132603 ⋯  0.22967104  0.11936243\n",
       "HALLMARK_MITOTIC_SPINDLE            -0.31125586 ⋯  0.08745311  0.25049032\n",
       "HALLMARK_WNT_BETA_CATENIN_SIGNALING -0.31186698 ⋯  0.27068284  0.05984790\n",
       "HALLMARK_TGF_BETA_SIGNALING         -0.34695748 ⋯  0.34369632  0.23693458\n",
       "                                    PB22        PB36        PB27       \n",
       "HALLMARK_TNFA_SIGNALING_VIA_NFKB     0.24895005  0.02809445  0.29657134\n",
       "HALLMARK_HYPOXIA                     0.10498086  0.15183095  0.07878272\n",
       "HALLMARK_CHOLESTEROL_HOMEOSTASIS    -0.19746508 -0.26392773 -0.17464134\n",
       "HALLMARK_MITOTIC_SPINDLE             0.17850570  0.15538176  0.23991580\n",
       "HALLMARK_WNT_BETA_CATENIN_SIGNALING  0.05331762  0.46903700  0.32231614\n",
       "HALLMARK_TGF_BETA_SIGNALING          0.38502281  0.17764669  0.34877602\n",
       "                                    PB42        PB30       PB209       \n",
       "HALLMARK_TNFA_SIGNALING_VIA_NFKB     0.17449012 -0.4167014 -0.212693350\n",
       "HALLMARK_HYPOXIA                    -0.13642077 -0.1682634 -0.124141782\n",
       "HALLMARK_CHOLESTEROL_HOMEOSTASIS    -0.02362912 -0.3651412  0.282693141\n",
       "HALLMARK_MITOTIC_SPINDLE             0.15600340  0.2622579  0.349546177\n",
       "HALLMARK_WNT_BETA_CATENIN_SIGNALING -0.45193739  0.1001644  0.210225205\n",
       "HALLMARK_TGF_BETA_SIGNALING          0.01881224  0.1202048  0.001161828\n",
       "                                    PB185      PB183     \n",
       "HALLMARK_TNFA_SIGNALING_VIA_NFKB     0.2519306 0.38072876\n",
       "HALLMARK_HYPOXIA                     0.2668720 0.20395547\n",
       "HALLMARK_CHOLESTEROL_HOMEOSTASIS     0.3550191 0.27909761\n",
       "HALLMARK_MITOTIC_SPINDLE            -0.1121911 0.04019585\n",
       "HALLMARK_WNT_BETA_CATENIN_SIGNALING  0.3801100 0.09526702\n",
       "HALLMARK_TGF_BETA_SIGNALING          0.4868839 0.51603353"
      ]
     },
     "metadata": {},
     "output_type": "display_data"
    }
   ],
   "source": [
    "hall_gsva <- gsva(cts, hall_gmt, kcdf = 'Gaussian', mx.diff = TRUE, verbose = FALSE)\n",
    "head(hall_gsva)"
   ]
  },
  {
   "cell_type": "code",
   "execution_count": 7,
   "metadata": {
    "vscode": {
     "languageId": "r"
    }
   },
   "outputs": [
    {
     "ename": "ERROR",
     "evalue": "Error in h(simpleError(msg, call)): error in evaluating the argument 'gset.idx.list' in selecting a method for function 'gsva': object 'kegg_gmt' not found\n",
     "output_type": "error",
     "traceback": [
      "Error in h(simpleError(msg, call)): error in evaluating the argument 'gset.idx.list' in selecting a method for function 'gsva': object 'kegg_gmt' not found\nTraceback:\n",
      "1. gsva(cts, kegg_gmt, kcdf = \"Gaussian\", mx.diff = TRUE, verbose = FALSE)",
      "2. .handleSimpleError(function (cond) \n . .Internal(C_tryCatchHelper(addr, 1L, cond)), \"object 'kegg_gmt' not found\", \n .     base::quote(eval(expr, envir, enclos)))",
      "3. h(simpleError(msg, call))"
     ]
    }
   ],
   "source": [
    "# kegg_gsva <- gsva(cts, kegg_gmt, kcdf = 'Gaussian', mx.diff = TRUE, verbose = FALSE)\n",
    "# reactome_gsva <- gsva(cts, reactome_gmt, kcdf = 'Gaussian', mx.diff = TRUE, verbose = FALSE)\n",
    "# go_gsva <- gsva(cts, go_gmt, kcdf = 'Gaussian', mx.diff = TRUE, verbose = FALSE)"
   ]
  },
  {
   "cell_type": "code",
   "execution_count": 8,
   "metadata": {
    "vscode": {
     "languageId": "r"
    }
   },
   "outputs": [],
   "source": [
    "# write.csv(kegg_gsva, file='pathways/kegg_paths.csv')\n",
    "# write.csv(reactome_gsva, file='pathways/reactome_paths.csv')\n",
    "# write.csv(go_gsva, file='pathways/go_paths.csv')\n",
    "write.csv(hall_gsva, file='../../results/post_op/hall_paths.csv')"
   ]
  },
  {
   "cell_type": "code",
   "execution_count": 9,
   "metadata": {
    "vscode": {
     "languageId": "r"
    }
   },
   "outputs": [
    {
     "ename": "ERROR",
     "evalue": "Error in h(simpleError(msg, call)): error in evaluating the argument 'gset.idx.list' in selecting a method for function 'gsva': object 'gmt' not found\n",
     "output_type": "error",
     "traceback": [
      "Error in h(simpleError(msg, call)): error in evaluating the argument 'gset.idx.list' in selecting a method for function 'gsva': object 'gmt' not found\nTraceback:\n",
      "1. gsva(cts, gmt, kcdf = \"Gaussian\", mx.diff = TRUE, verbose = FALSE)",
      "2. .handleSimpleError(function (cond) \n . .Internal(C_tryCatchHelper(addr, 1L, cond)), \"object 'gmt' not found\", \n .     base::quote(eval(expr, envir, enclos)))",
      "3. h(simpleError(msg, call))"
     ]
    }
   ],
   "source": [
    "#run gsva\n",
    "gsva_results <- gsva(cts, gmt, kcdf = 'Gaussian', mx.diff = TRUE, verbose = FALSE)\n",
    "head(gsva_results)\n",
    "#write out the results\n",
    "write.csv(gsva_results, file = '../../data/ssgsea_vst.csv')"
   ]
  },
  {
   "cell_type": "code",
   "execution_count": null,
   "metadata": {
    "vscode": {
     "languageId": "r"
    }
   },
   "outputs": [],
   "source": []
  }
 ],
 "metadata": {
  "kernelspec": {
   "display_name": "R",
   "language": "R",
   "name": "ir"
  },
  "language_info": {
   "codemirror_mode": "r",
   "file_extension": ".r",
   "mimetype": "text/x-r-source",
   "name": "R",
   "pygments_lexer": "r",
   "version": "4.3.0"
  },
  "orig_nbformat": 4
 },
 "nbformat": 4,
 "nbformat_minor": 2
}
