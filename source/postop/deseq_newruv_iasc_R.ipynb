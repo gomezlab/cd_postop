{
 "cells": [
  {
   "cell_type": "code",
   "execution_count": 1,
   "metadata": {
    "vscode": {
     "languageId": "r"
    }
   },
   "outputs": [
    {
     "name": "stderr",
     "output_type": "stream",
     "text": [
      "Loading required package: stats4\n",
      "\n",
      "Loading required package: BiocGenerics\n",
      "\n",
      "\n",
      "Attaching package: ‘BiocGenerics’\n",
      "\n",
      "\n",
      "The following objects are masked from ‘package:stats’:\n",
      "\n",
      "    IQR, mad, sd, var, xtabs\n",
      "\n",
      "\n",
      "The following objects are masked from ‘package:base’:\n",
      "\n",
      "    anyDuplicated, aperm, append, as.data.frame, basename, cbind,\n",
      "    colnames, dirname, do.call, duplicated, eval, evalq, Filter, Find,\n",
      "    get, grep, grepl, intersect, is.unsorted, lapply, Map, mapply,\n",
      "    match, mget, order, paste, pmax, pmax.int, pmin, pmin.int,\n",
      "    Position, rank, rbind, Reduce, rownames, sapply, setdiff, sort,\n",
      "    table, tapply, union, unique, unsplit, which.max, which.min\n",
      "\n",
      "\n",
      "Loading required package: Biobase\n",
      "\n",
      "Welcome to Bioconductor\n",
      "\n",
      "    Vignettes contain introductory material; view with\n",
      "    'browseVignettes()'. To cite Bioconductor, see\n",
      "    'citation(\"Biobase\")', and for packages 'citation(\"pkgname\")'.\n",
      "\n",
      "\n",
      "Loading required package: IRanges\n",
      "\n",
      "Loading required package: S4Vectors\n",
      "\n",
      "\n",
      "Attaching package: ‘S4Vectors’\n",
      "\n",
      "\n",
      "The following object is masked from ‘package:utils’:\n",
      "\n",
      "    findMatches\n",
      "\n",
      "\n",
      "The following objects are masked from ‘package:base’:\n",
      "\n",
      "    expand.grid, I, unname\n",
      "\n",
      "\n",
      "\n",
      "\n",
      "Loading required package: EDASeq\n",
      "\n",
      "Loading required package: ShortRead\n",
      "\n",
      "Loading required package: BiocParallel\n",
      "\n",
      "Loading required package: Biostrings\n",
      "\n",
      "Loading required package: XVector\n",
      "\n",
      "Loading required package: GenomeInfoDb\n",
      "\n",
      "\n",
      "Attaching package: ‘Biostrings’\n",
      "\n",
      "\n",
      "The following object is masked from ‘package:base’:\n",
      "\n",
      "    strsplit\n",
      "\n",
      "\n",
      "Loading required package: Rsamtools\n",
      "\n",
      "Loading required package: GenomicRanges\n",
      "\n",
      "Loading required package: GenomicAlignments\n",
      "\n",
      "Loading required package: SummarizedExperiment\n",
      "\n",
      "Loading required package: MatrixGenerics\n",
      "\n",
      "Loading required package: matrixStats\n",
      "\n",
      "\n",
      "Attaching package: ‘matrixStats’\n",
      "\n",
      "\n",
      "The following objects are masked from ‘package:Biobase’:\n",
      "\n",
      "    anyMissing, rowMedians\n",
      "\n",
      "\n",
      "\n",
      "Attaching package: ‘MatrixGenerics’\n",
      "\n",
      "\n",
      "The following objects are masked from ‘package:matrixStats’:\n",
      "\n",
      "    colAlls, colAnyNAs, colAnys, colAvgsPerRowSet, colCollapse,\n",
      "    colCounts, colCummaxs, colCummins, colCumprods, colCumsums,\n",
      "    colDiffs, colIQRDiffs, colIQRs, colLogSumExps, colMadDiffs,\n",
      "    colMads, colMaxs, colMeans2, colMedians, colMins, colOrderStats,\n",
      "    colProds, colQuantiles, colRanges, colRanks, colSdDiffs, colSds,\n",
      "    colSums2, colTabulates, colVarDiffs, colVars, colWeightedMads,\n",
      "    colWeightedMeans, colWeightedMedians, colWeightedSds,\n",
      "    colWeightedVars, rowAlls, rowAnyNAs, rowAnys, rowAvgsPerColSet,\n",
      "    rowCollapse, rowCounts, rowCummaxs, rowCummins, rowCumprods,\n",
      "    rowCumsums, rowDiffs, rowIQRDiffs, rowIQRs, rowLogSumExps,\n",
      "    rowMadDiffs, rowMads, rowMaxs, rowMeans2, rowMedians, rowMins,\n",
      "    rowOrderStats, rowProds, rowQuantiles, rowRanges, rowRanks,\n",
      "    rowSdDiffs, rowSds, rowSums2, rowTabulates, rowVarDiffs, rowVars,\n",
      "    rowWeightedMads, rowWeightedMeans, rowWeightedMedians,\n",
      "    rowWeightedSds, rowWeightedVars\n",
      "\n",
      "\n",
      "The following object is masked from ‘package:Biobase’:\n",
      "\n",
      "    rowMedians\n",
      "\n",
      "\n",
      "Loading required package: edgeR\n",
      "\n",
      "Loading required package: limma\n",
      "\n",
      "\n",
      "Attaching package: ‘limma’\n",
      "\n",
      "\n",
      "The following object is masked from ‘package:BiocGenerics’:\n",
      "\n",
      "    plotMA\n",
      "\n",
      "\n",
      "Loading required package: ggplot2\n",
      "\n",
      "\n",
      "Attaching package: ‘plotly’\n",
      "\n",
      "\n",
      "The following object is masked from ‘package:ggplot2’:\n",
      "\n",
      "    last_plot\n",
      "\n",
      "\n",
      "The following object is masked from ‘package:XVector’:\n",
      "\n",
      "    slice\n",
      "\n",
      "\n",
      "The following object is masked from ‘package:AnnotationDbi’:\n",
      "\n",
      "    select\n",
      "\n",
      "\n",
      "The following object is masked from ‘package:IRanges’:\n",
      "\n",
      "    slice\n",
      "\n",
      "\n",
      "The following object is masked from ‘package:S4Vectors’:\n",
      "\n",
      "    rename\n",
      "\n",
      "\n",
      "The following object is masked from ‘package:stats’:\n",
      "\n",
      "    filter\n",
      "\n",
      "\n",
      "The following object is masked from ‘package:graphics’:\n",
      "\n",
      "    layout\n",
      "\n",
      "\n",
      "\n",
      "Attaching package: ‘plyr’\n",
      "\n",
      "\n",
      "The following objects are masked from ‘package:plotly’:\n",
      "\n",
      "    arrange, mutate, rename, summarise\n",
      "\n",
      "\n",
      "The following object is masked from ‘package:ShortRead’:\n",
      "\n",
      "    id\n",
      "\n",
      "\n",
      "The following object is masked from ‘package:matrixStats’:\n",
      "\n",
      "    count\n",
      "\n",
      "\n",
      "The following object is masked from ‘package:XVector’:\n",
      "\n",
      "    compact\n",
      "\n",
      "\n",
      "The following object is masked from ‘package:IRanges’:\n",
      "\n",
      "    desc\n",
      "\n",
      "\n",
      "The following object is masked from ‘package:S4Vectors’:\n",
      "\n",
      "    rename\n",
      "\n",
      "\n",
      "\n",
      "Attaching package: ‘dplyr’\n",
      "\n",
      "\n",
      "The following objects are masked from ‘package:plyr’:\n",
      "\n",
      "    arrange, count, desc, failwith, id, mutate, rename, summarise,\n",
      "    summarize\n",
      "\n",
      "\n",
      "The following object is masked from ‘package:ShortRead’:\n",
      "\n",
      "    id\n",
      "\n",
      "\n",
      "The following objects are masked from ‘package:GenomicAlignments’:\n",
      "\n",
      "    first, last\n",
      "\n",
      "\n",
      "The following object is masked from ‘package:matrixStats’:\n",
      "\n",
      "    count\n",
      "\n",
      "\n",
      "The following objects are masked from ‘package:GenomicRanges’:\n",
      "\n",
      "    intersect, setdiff, union\n",
      "\n",
      "\n",
      "The following objects are masked from ‘package:Biostrings’:\n",
      "\n",
      "    collapse, intersect, setdiff, setequal, union\n",
      "\n",
      "\n",
      "The following object is masked from ‘package:GenomeInfoDb’:\n",
      "\n",
      "    intersect\n",
      "\n",
      "\n",
      "The following object is masked from ‘package:XVector’:\n",
      "\n",
      "    slice\n",
      "\n",
      "\n",
      "The following object is masked from ‘package:AnnotationDbi’:\n",
      "\n",
      "    select\n",
      "\n",
      "\n",
      "The following objects are masked from ‘package:IRanges’:\n",
      "\n",
      "    collapse, desc, intersect, setdiff, slice, union\n",
      "\n",
      "\n",
      "The following objects are masked from ‘package:S4Vectors’:\n",
      "\n",
      "    first, intersect, rename, setdiff, setequal, union\n",
      "\n",
      "\n",
      "The following object is masked from ‘package:Biobase’:\n",
      "\n",
      "    combine\n",
      "\n",
      "\n",
      "The following objects are masked from ‘package:BiocGenerics’:\n",
      "\n",
      "    combine, intersect, setdiff, union\n",
      "\n",
      "\n",
      "The following objects are masked from ‘package:stats’:\n",
      "\n",
      "    filter, lag\n",
      "\n",
      "\n",
      "The following objects are masked from ‘package:base’:\n",
      "\n",
      "    intersect, setdiff, setequal, union\n",
      "\n",
      "\n",
      "Registered S3 method overwritten by 'GGally':\n",
      "  method from   \n",
      "  +.gg   ggplot2\n",
      "\n",
      "── \u001b[1mAttaching core tidyverse packages\u001b[22m ──────────────────────── tidyverse 2.0.0 ──\n",
      "\u001b[32m✔\u001b[39m \u001b[34mforcats  \u001b[39m 1.0.0     \u001b[32m✔\u001b[39m \u001b[34mstringr  \u001b[39m 1.5.0\n",
      "\u001b[32m✔\u001b[39m \u001b[34mlubridate\u001b[39m 1.9.2     \u001b[32m✔\u001b[39m \u001b[34mtibble   \u001b[39m 3.2.1\n",
      "\u001b[32m✔\u001b[39m \u001b[34mpurrr    \u001b[39m 1.0.1     \u001b[32m✔\u001b[39m \u001b[34mtidyr    \u001b[39m 1.3.0\n",
      "\u001b[32m✔\u001b[39m \u001b[34mreadr    \u001b[39m 2.1.4     \n",
      "── \u001b[1mConflicts\u001b[22m ────────────────────────────────────────── tidyverse_conflicts() ──\n",
      "\u001b[31m✖\u001b[39m \u001b[34mlubridate\u001b[39m::\u001b[32m%within%()\u001b[39m masks \u001b[34mIRanges\u001b[39m::%within%()\n",
      "\u001b[31m✖\u001b[39m \u001b[34mdplyr\u001b[39m::\u001b[32marrange()\u001b[39m      masks \u001b[34mplyr\u001b[39m::arrange(), \u001b[34mplotly\u001b[39m::arrange()\n",
      "\u001b[31m✖\u001b[39m \u001b[34mdplyr\u001b[39m::\u001b[32mcollapse()\u001b[39m     masks \u001b[34mBiostrings\u001b[39m::collapse(), \u001b[34mIRanges\u001b[39m::collapse()\n",
      "\u001b[31m✖\u001b[39m \u001b[34mdplyr\u001b[39m::\u001b[32mcombine()\u001b[39m      masks \u001b[34mBiobase\u001b[39m::combine(), \u001b[34mBiocGenerics\u001b[39m::combine()\n",
      "\u001b[31m✖\u001b[39m \u001b[34mpurrr\u001b[39m::\u001b[32mcompact()\u001b[39m      masks \u001b[34mplyr\u001b[39m::compact(), \u001b[34mXVector\u001b[39m::compact()\n",
      "\u001b[31m✖\u001b[39m \u001b[34mpurrr\u001b[39m::\u001b[32mcompose()\u001b[39m      masks \u001b[34mShortRead\u001b[39m::compose()\n",
      "\u001b[31m✖\u001b[39m \u001b[34mdplyr\u001b[39m::\u001b[32mcount()\u001b[39m        masks \u001b[34mplyr\u001b[39m::count(), \u001b[34mmatrixStats\u001b[39m::count()\n",
      "\u001b[31m✖\u001b[39m \u001b[34mdplyr\u001b[39m::\u001b[32mdesc()\u001b[39m         masks \u001b[34mplyr\u001b[39m::desc(), \u001b[34mIRanges\u001b[39m::desc()\n",
      "\u001b[31m✖\u001b[39m \u001b[34mtidyr\u001b[39m::\u001b[32mexpand()\u001b[39m       masks \u001b[34mS4Vectors\u001b[39m::expand()\n",
      "\u001b[31m✖\u001b[39m \u001b[34mdplyr\u001b[39m::\u001b[32mfailwith()\u001b[39m     masks \u001b[34mplyr\u001b[39m::failwith()\n",
      "\u001b[31m✖\u001b[39m \u001b[34mdplyr\u001b[39m::\u001b[32mfilter()\u001b[39m       masks \u001b[34mplotly\u001b[39m::filter(), \u001b[34mstats\u001b[39m::filter()\n",
      "\u001b[31m✖\u001b[39m \u001b[34mdplyr\u001b[39m::\u001b[32mfirst()\u001b[39m        masks \u001b[34mGenomicAlignments\u001b[39m::first(), \u001b[34mS4Vectors\u001b[39m::first()\n",
      "\u001b[31m✖\u001b[39m \u001b[34mdplyr\u001b[39m::\u001b[32mid()\u001b[39m           masks \u001b[34mplyr\u001b[39m::id(), \u001b[34mShortRead\u001b[39m::id()\n",
      "\u001b[31m✖\u001b[39m \u001b[34mdplyr\u001b[39m::\u001b[32mlag()\u001b[39m          masks \u001b[34mstats\u001b[39m::lag()\n",
      "\u001b[31m✖\u001b[39m \u001b[34mdplyr\u001b[39m::\u001b[32mlast()\u001b[39m         masks \u001b[34mGenomicAlignments\u001b[39m::last()\n",
      "\u001b[31m✖\u001b[39m \u001b[34mdplyr\u001b[39m::\u001b[32mmutate()\u001b[39m       masks \u001b[34mplyr\u001b[39m::mutate(), \u001b[34mplotly\u001b[39m::mutate()\n",
      "\u001b[31m✖\u001b[39m \u001b[34mggplot2\u001b[39m::\u001b[32mPosition()\u001b[39m   masks \u001b[34mBiocGenerics\u001b[39m::Position(), \u001b[34mbase\u001b[39m::Position()\n",
      "\u001b[31m✖\u001b[39m \u001b[34mpurrr\u001b[39m::\u001b[32mreduce()\u001b[39m       masks \u001b[34mGenomicRanges\u001b[39m::reduce(), \u001b[34mIRanges\u001b[39m::reduce()\n",
      "\u001b[31m✖\u001b[39m \u001b[34mdplyr\u001b[39m::\u001b[32mrename()\u001b[39m       masks \u001b[34mplyr\u001b[39m::rename(), \u001b[34mplotly\u001b[39m::rename(), \u001b[34mS4Vectors\u001b[39m::rename()\n",
      "\u001b[31m✖\u001b[39m \u001b[34mlubridate\u001b[39m::\u001b[32msecond()\u001b[39m   masks \u001b[34mGenomicAlignments\u001b[39m::second(), \u001b[34mS4Vectors\u001b[39m::second()\n",
      "\u001b[31m✖\u001b[39m \u001b[34mlubridate\u001b[39m::\u001b[32msecond<-()\u001b[39m masks \u001b[34mS4Vectors\u001b[39m::second<-()\n",
      "\u001b[31m✖\u001b[39m \u001b[34mdplyr\u001b[39m::\u001b[32mselect()\u001b[39m       masks \u001b[34mplotly\u001b[39m::select(), \u001b[34mAnnotationDbi\u001b[39m::select()\n",
      "\u001b[31m✖\u001b[39m \u001b[34mdplyr\u001b[39m::\u001b[32mslice()\u001b[39m        masks \u001b[34mplotly\u001b[39m::slice(), \u001b[34mXVector\u001b[39m::slice(), \u001b[34mIRanges\u001b[39m::slice()\n",
      "\u001b[31m✖\u001b[39m \u001b[34mdplyr\u001b[39m::\u001b[32msummarise()\u001b[39m    masks \u001b[34mplyr\u001b[39m::summarise(), \u001b[34mplotly\u001b[39m::summarise()\n",
      "\u001b[31m✖\u001b[39m \u001b[34mdplyr\u001b[39m::\u001b[32msummarize()\u001b[39m    masks \u001b[34mplyr\u001b[39m::summarize()\n",
      "\u001b[31m✖\u001b[39m \u001b[34mtibble\u001b[39m::\u001b[32mview()\u001b[39m        masks \u001b[34mShortRead\u001b[39m::view()\n",
      "\u001b[36mℹ\u001b[39m Use the conflicted package (\u001b[3m\u001b[34m<http://conflicted.r-lib.org/>\u001b[39m\u001b[23m) to force all conflicts to become errors\n",
      "\n",
      "Attaching package: ‘scales’\n",
      "\n",
      "\n",
      "The following object is masked from ‘package:purrr’:\n",
      "\n",
      "    discard\n",
      "\n",
      "\n",
      "The following object is masked from ‘package:readr’:\n",
      "\n",
      "    col_factor\n",
      "\n",
      "\n",
      "\n",
      "Attaching package: ‘reshape2’\n",
      "\n",
      "\n",
      "The following object is masked from ‘package:tidyr’:\n",
      "\n",
      "    smiths\n",
      "\n",
      "\n",
      "========================================\n",
      "circlize version 0.4.15\n",
      "CRAN page: https://cran.r-project.org/package=circlize\n",
      "Github page: https://github.com/jokergoo/circlize\n",
      "Documentation: https://jokergoo.github.io/circlize_book/book/\n",
      "\n",
      "If you use it in published research, please cite:\n",
      "Gu, Z. circlize implements and enhances circular visualization\n",
      "  in R. Bioinformatics 2014.\n",
      "\n",
      "This message can be suppressed by:\n",
      "  suppressPackageStartupMessages(library(circlize))\n",
      "========================================\n",
      "\n",
      "\n",
      "\n",
      "Attaching package: ‘gplots’\n",
      "\n",
      "\n",
      "The following object is masked from ‘package:IRanges’:\n",
      "\n",
      "    space\n",
      "\n",
      "\n",
      "The following object is masked from ‘package:S4Vectors’:\n",
      "\n",
      "    space\n",
      "\n",
      "\n",
      "The following object is masked from ‘package:stats’:\n",
      "\n",
      "    lowess\n",
      "\n",
      "\n",
      "Loading required package: grid\n",
      "\n",
      "\n",
      "Attaching package: ‘grid’\n",
      "\n",
      "\n",
      "The following object is masked from ‘package:Biostrings’:\n",
      "\n",
      "    pattern\n",
      "\n",
      "\n",
      "Loading required package: futile.logger\n",
      "\n",
      "'getOption(\"repos\")' replaces Bioconductor standard repositories, see\n",
      "'help(\"repositories\", package = \"BiocManager\")' for details.\n",
      "Replacement repositories:\n",
      "    CRAN: https://cloud.r-project.org\n",
      "\n",
      "Bioconductor version 3.17 (BiocManager 1.30.20), R 4.3.0 (2023-04-21)\n",
      "\n",
      "Warning message:\n",
      "“package(s) not installed when version(s) same as or greater than current; use\n",
      "  `force = TRUE` to re-install: 'DESeq2'”\n",
      "Installation paths not writeable, unable to update packages\n",
      "  path: /usr/lib/R/library\n",
      "  packages:\n",
      "    boot, foreign, Matrix\n",
      "  path: /usr/lib/R/site-library\n",
      "  packages:\n",
      "    RcppArmadillo\n",
      "\n",
      "Installing packages into ‘/home/kchen/R/x86_64-pc-linux-gnu-library/4.3’\n",
      "(as ‘lib’ is unspecified)\n",
      "\n",
      "'getOption(\"repos\")' replaces Bioconductor standard repositories, see\n",
      "'help(\"repositories\", package = \"BiocManager\")' for details.\n",
      "Replacement repositories:\n",
      "    CRAN: https://cloud.r-project.org\n",
      "\n",
      "Bioconductor version 3.17 (BiocManager 1.30.20), R 4.3.0 (2023-04-21)\n",
      "\n",
      "Warning message:\n",
      "“package(s) not installed when version(s) same as or greater than current; use\n",
      "  `force = TRUE` to re-install: 'edgeR' 'preprocessCore' 'limma'”\n",
      "Installation paths not writeable, unable to update packages\n",
      "  path: /usr/lib/R/library\n",
      "  packages:\n",
      "    boot, foreign, Matrix\n",
      "  path: /usr/lib/R/site-library\n",
      "  packages:\n",
      "    RcppArmadillo\n",
      "\n"
     ]
    }
   ],
   "source": [
    "library(\"AnnotationDbi\")\n",
    "library(\"org.Hs.eg.db\")\n",
    "library(RUVSeq)\n",
    "source(\"../downstreamAnalysis_RNAseqFunctions.R\")"
   ]
  },
  {
   "cell_type": "code",
   "execution_count": 2,
   "metadata": {
    "vscode": {
     "languageId": "r"
    }
   },
   "outputs": [
    {
     "data": {
      "text/html": [
       "<style>\n",
       ".list-inline {list-style: none; margin:0; padding: 0}\n",
       ".list-inline>li {display: inline-block}\n",
       ".list-inline>li:not(:last-child)::after {content: \"\\00b7\"; padding: 0 .5ex}\n",
       "</style>\n",
       "<ol class=list-inline><li>110</li><li>111</li></ol>\n"
      ],
      "text/latex": [
       "\\begin{enumerate*}\n",
       "\\item 110\n",
       "\\item 111\n",
       "\\end{enumerate*}\n"
      ],
      "text/markdown": [
       "1. 110\n",
       "2. 111\n",
       "\n",
       "\n"
      ],
      "text/plain": [
       "[1] 110 111"
      ]
     },
     "metadata": {},
     "output_type": "display_data"
    },
    {
     "data": {
      "text/html": [
       "<style>\n",
       ".list-inline {list-style: none; margin:0; padding: 0}\n",
       ".list-inline>li {display: inline-block}\n",
       ".list-inline>li:not(:last-child)::after {content: \"\\00b7\"; padding: 0 .5ex}\n",
       "</style>\n",
       "<ol class=list-inline><li>14664</li><li>110</li></ol>\n"
      ],
      "text/latex": [
       "\\begin{enumerate*}\n",
       "\\item 14664\n",
       "\\item 110\n",
       "\\end{enumerate*}\n"
      ],
      "text/markdown": [
       "1. 14664\n",
       "2. 110\n",
       "\n",
       "\n"
      ],
      "text/plain": [
       "[1] 14664   110"
      ]
     },
     "metadata": {},
     "output_type": "display_data"
    }
   ],
   "source": [
    "# Read in data\n",
    "\n",
    "cts = as.matrix(read.csv(\"../../data/cts_nsqip.csv\", sep=',', row.names=1))\n",
    "coldata = read.csv('../../data/coldata_nsqip.csv', sep=',', row.names=1)\n",
    "\n",
    "dim(coldata)\n",
    "dim(cts)\n"
   ]
  },
  {
   "cell_type": "code",
   "execution_count": 3,
   "metadata": {
    "vscode": {
     "languageId": "r"
    }
   },
   "outputs": [
    {
     "data": {
      "text/plain": [
       "\n",
       " No Yes \n",
       " 99  11 "
      ]
     },
     "metadata": {},
     "output_type": "display_data"
    }
   ],
   "source": [
    "table(coldata$IASC)"
   ]
  },
  {
   "cell_type": "code",
   "execution_count": 4,
   "metadata": {
    "vscode": {
     "languageId": "r"
    }
   },
   "outputs": [
    {
     "data": {
      "text/html": [
       "<style>\n",
       ".list-inline {list-style: none; margin:0; padding: 0}\n",
       ".list-inline>li {display: inline-block}\n",
       ".list-inline>li:not(:last-child)::after {content: \"\\00b7\"; padding: 0 .5ex}\n",
       "</style>\n",
       "<ol class=list-inline><li>101</li><li>111</li></ol>\n"
      ],
      "text/latex": [
       "\\begin{enumerate*}\n",
       "\\item 101\n",
       "\\item 111\n",
       "\\end{enumerate*}\n"
      ],
      "text/markdown": [
       "1. 101\n",
       "2. 111\n",
       "\n",
       "\n"
      ],
      "text/plain": [
       "[1] 101 111"
      ]
     },
     "metadata": {},
     "output_type": "display_data"
    },
    {
     "data": {
      "text/html": [
       "<style>\n",
       ".list-inline {list-style: none; margin:0; padding: 0}\n",
       ".list-inline>li {display: inline-block}\n",
       ".list-inline>li:not(:last-child)::after {content: \"\\00b7\"; padding: 0 .5ex}\n",
       "</style>\n",
       "<ol class=list-inline><li>14664</li><li>101</li></ol>\n"
      ],
      "text/latex": [
       "\\begin{enumerate*}\n",
       "\\item 14664\n",
       "\\item 101\n",
       "\\end{enumerate*}\n"
      ],
      "text/markdown": [
       "1. 14664\n",
       "2. 101\n",
       "\n",
       "\n"
      ],
      "text/plain": [
       "[1] 14664   101"
      ]
     },
     "metadata": {},
     "output_type": "display_data"
    }
   ],
   "source": [
    "#find rows where IASC is 'No' and SSI is 'Yes' and remove them\n",
    "coldata = coldata[!(coldata$IASC == 'No' & coldata$SSI == 'Yes'),]\n",
    "cts = cts[,rownames(coldata)]\n",
    "dim(coldata)\n",
    "dim(cts)"
   ]
  },
  {
   "cell_type": "code",
   "execution_count": 5,
   "metadata": {
    "vscode": {
     "languageId": "r"
    }
   },
   "outputs": [
    {
     "data": {
      "text/html": [
       "TRUE"
      ],
      "text/latex": [
       "TRUE"
      ],
      "text/markdown": [
       "TRUE"
      ],
      "text/plain": [
       "[1] TRUE"
      ]
     },
     "metadata": {},
     "output_type": "display_data"
    },
    {
     "name": "stderr",
     "output_type": "stream",
     "text": [
      "converting counts to integer mode\n",
      "\n"
     ]
    }
   ],
   "source": [
    "factor_cols = c('sex', 'disease', 'batch', 'SSI', 'IASC', 'SSI_IASC')\n",
    "for (col in factor_cols) {\n",
    "  coldata[,col] = as.factor(coldata[,col])\n",
    "}\n",
    "\n",
    "sex = coldata$sex\n",
    "SSI = coldata$SSI\n",
    "any = coldata$any\n",
    "IASC = coldata$IASC\n",
    "batch = coldata$batch\n",
    "full_batch = coldata$fullBatch\n",
    "subtype = coldata$subtype\n",
    "tin = coldata$TIN_med_new\n",
    "# date = coldata$sampleDate\n",
    "disease = coldata$disease\n",
    "\n",
    "sample = rownames(coldata)\n",
    "\n",
    "#round counts to integers\n",
    "cts <- round(cts);\n",
    "\n",
    "#check if row names of coldata match colnames of cts\n",
    "all(rownames(coldata) == colnames(cts))\n",
    "\n",
    "#adjust for batch and sexBin\n",
    "design <- as.formula(~ IASC)\n",
    "#create the dds object\n",
    "dds = DESeqDataSetFromMatrix(countData = cts, colData = coldata, design = design)"
   ]
  },
  {
   "cell_type": "code",
   "execution_count": 6,
   "metadata": {
    "vscode": {
     "languageId": "r"
    }
   },
   "outputs": [],
   "source": [
    "\n",
    "# #save the plot\n",
    "# png(\"results/i/pca_source_raw.png\", width=1024, height=512)\n",
    "# ggplot(pcaData, aes(PC1, PC2, color=source, shape=recur)) +\n",
    "#     geom_point(size=5) +\n",
    "#     #geom_text(aes(label=sample),hjust=0, vjust=0) +\n",
    "#     xlab(paste0(\"PC1: \",percentVar[1],\"% variance\")) +\n",
    "#     ylab(paste0(\"PC2: \",percentVar[2],\"% variance\")) + \n",
    "#     coord_fixed() +\n",
    "    \n",
    "#     theme(text = element_text(size = 24))\n",
    "# dev.off()"
   ]
  },
  {
   "cell_type": "code",
   "execution_count": 7,
   "metadata": {
    "vscode": {
     "languageId": "r"
    }
   },
   "outputs": [
    {
     "name": "stderr",
     "output_type": "stream",
     "text": [
      "Import genomic features from the file as a GRanges object ... \n",
      "OK\n",
      "\n",
      "Prepare the 'metadata' data frame ... \n",
      "OK\n",
      "\n",
      "Make the TxDb object ... \n",
      "Warning message in .get_cds_IDX(mcols0$type, mcols0$phase):\n",
      "“The \"phase\" metadata column contains non-NA values for features of type\n",
      "  stop_codon. This information was ignored.”\n",
      "OK\n",
      "\n",
      "'select()' returned 1:1 mapping between keys and columns\n",
      "\n"
     ]
    }
   ],
   "source": [
    "library('GenomicFeatures')\n",
    "#use the GenomicFeatures package to create a transcript database (txDb) file from our GENCODE annotation file, and use it to pull out the chromosomal coordinates for each of our transcripts (including which chromosome it is on)\n",
    "txdb = makeTxDbFromGFF('../../data/gencode.v39.annotation.gtf', dbxrefTag = \"gene_id\", organism = 'Homo sapiens')\n",
    "k <- keys(txdb, keytype = 'TXNAME')\n",
    "tx2gene <- AnnotationDbi::select(txdb, keys=k, columns=c('GENEID', 'TXCHROM', 'TXSTART', 'TXEND', 'TXSTRAND'), keytype='TXNAME')\n",
    "# make a subset of the list containing only the Ensembl gene IDs and the names of the chromosomes, and create a subset for all the genes on chromosomes X and Y\n",
    "tx2gene_short = tx2gene[,2:3]\n",
    "tx2gene_short = unique(tx2gene_short)\n",
    "tx2gene_short_xychrom = tx2gene_short[tx2gene_short$TXCHROM==\"chrX\" | tx2gene_short$TXCHROM==\"chrY\",]"
   ]
  },
  {
   "cell_type": "code",
   "execution_count": 8,
   "metadata": {
    "vscode": {
     "languageId": "r"
    }
   },
   "outputs": [
    {
     "data": {
      "text/html": [
       "<style>\n",
       ".list-inline {list-style: none; margin:0; padding: 0}\n",
       ".list-inline>li {display: inline-block}\n",
       ".list-inline>li:not(:last-child)::after {content: \"\\00b7\"; padding: 0 .5ex}\n",
       "</style>\n",
       "<ol class=list-inline><li>14664</li><li>101</li></ol>\n"
      ],
      "text/latex": [
       "\\begin{enumerate*}\n",
       "\\item 14664\n",
       "\\item 101\n",
       "\\end{enumerate*}\n"
      ],
      "text/markdown": [
       "1. 14664\n",
       "2. 101\n",
       "\n",
       "\n"
      ],
      "text/plain": [
       "[1] 14664   101"
      ]
     },
     "metadata": {},
     "output_type": "display_data"
    }
   ],
   "source": [
    "#now remove the rows from cts if they are present in 'GENEID' in tx2gene_short_xychrom\n",
    "cts <- cts[! match(rownames(cts), tx2gene_short_xychrom$GENEID, nomatch=0),]\n",
    "dim(cts)"
   ]
  },
  {
   "cell_type": "code",
   "execution_count": 9,
   "metadata": {
    "vscode": {
     "languageId": "r"
    }
   },
   "outputs": [
    {
     "data": {
      "text/plain": [
       "keep\n",
       " TRUE \n",
       "14664 "
      ]
     },
     "metadata": {},
     "output_type": "display_data"
    },
    {
     "name": "stderr",
     "output_type": "stream",
     "text": [
      "estimating size factors\n",
      "\n",
      "estimating dispersions\n",
      "\n",
      "gene-wise dispersion estimates\n",
      "\n",
      "mean-dispersion relationship\n",
      "\n",
      "final dispersion estimates\n",
      "\n",
      "fitting model and testing\n",
      "\n",
      "-- replacing outliers and refitting for 58 genes\n",
      "-- DESeq argument 'minReplicatesForReplace' = 7 \n",
      "-- original counts are preserved in counts(dds)\n",
      "\n",
      "estimating dispersions\n",
      "\n",
      "fitting model and testing\n",
      "\n"
     ]
    },
    {
     "data": {
      "text/plain": [
       "\n",
       "FALSE  TRUE \n",
       " 8113  6551 "
      ]
     },
     "metadata": {},
     "output_type": "display_data"
    }
   ],
   "source": [
    "#DESeq on the raw data to identify control genes\n",
    "#filter genes for low expression with edgeR\n",
    "y <- DGEList(counts=counts(dds), group=IASC)\n",
    "keep <- filterByExpr(y)\n",
    "table(keep)\n",
    "y <- y[keep,]\n",
    "dds <- dds[keep,]\n",
    "\n",
    "dds <- DESeq(dds)\n",
    "res <- results(dds)\n",
    "table(res$pvalue < 0.5)"
   ]
  },
  {
   "cell_type": "code",
   "execution_count": 10,
   "metadata": {
    "vscode": {
     "languageId": "r"
    }
   },
   "outputs": [],
   "source": [
    "set <- newSeqExpressionSet(counts(dds))\n",
    "set <- betweenLaneNormalization(set, which='upper')\n",
    "not_sig <- rownames(res)[which(res$pvalue > 0.5)]\n",
    "empirical <- rownames(set)[ rownames(set) %in% not_sig ]\n",
    "set <- RUVg(set, empirical, k=20)\n",
    "pdat <- pData(set)\n",
    "pdat$IASC <- IASC\n",
    "pdat$sex <- sex"
   ]
  },
  {
   "cell_type": "code",
   "execution_count": 11,
   "metadata": {
    "vscode": {
     "languageId": "r"
    }
   },
   "outputs": [
    {
     "name": "stderr",
     "output_type": "stream",
     "text": [
      "converting counts to integer mode\n",
      "\n",
      "estimating size factors\n",
      "\n",
      "estimating dispersions\n",
      "\n",
      "gene-wise dispersion estimates\n",
      "\n",
      "mean-dispersion relationship\n",
      "\n",
      "final dispersion estimates\n",
      "\n",
      "fitting model and testing\n",
      "\n",
      "converting counts to integer mode\n",
      "\n",
      "estimating size factors\n",
      "\n",
      "estimating dispersions\n",
      "\n",
      "gene-wise dispersion estimates\n",
      "\n",
      "mean-dispersion relationship\n",
      "\n",
      "final dispersion estimates\n",
      "\n",
      "fitting model and testing\n",
      "\n",
      "converting counts to integer mode\n",
      "\n",
      "estimating size factors\n",
      "\n",
      "estimating dispersions\n",
      "\n",
      "gene-wise dispersion estimates\n",
      "\n",
      "mean-dispersion relationship\n",
      "\n",
      "final dispersion estimates\n",
      "\n",
      "fitting model and testing\n",
      "\n",
      "converting counts to integer mode\n",
      "\n",
      "estimating size factors\n",
      "\n",
      "estimating dispersions\n",
      "\n",
      "gene-wise dispersion estimates\n",
      "\n",
      "mean-dispersion relationship\n",
      "\n",
      "final dispersion estimates\n",
      "\n",
      "fitting model and testing\n",
      "\n",
      "converting counts to integer mode\n",
      "\n",
      "estimating size factors\n",
      "\n",
      "estimating dispersions\n",
      "\n",
      "gene-wise dispersion estimates\n",
      "\n",
      "mean-dispersion relationship\n",
      "\n",
      "final dispersion estimates\n",
      "\n",
      "fitting model and testing\n",
      "\n",
      "converting counts to integer mode\n",
      "\n",
      "estimating size factors\n",
      "\n",
      "estimating dispersions\n",
      "\n",
      "gene-wise dispersion estimates\n",
      "\n",
      "mean-dispersion relationship\n",
      "\n",
      "final dispersion estimates\n",
      "\n",
      "fitting model and testing\n",
      "\n",
      "converting counts to integer mode\n",
      "\n",
      "estimating size factors\n",
      "\n",
      "estimating dispersions\n",
      "\n",
      "gene-wise dispersion estimates\n",
      "\n",
      "mean-dispersion relationship\n",
      "\n",
      "final dispersion estimates\n",
      "\n",
      "fitting model and testing\n",
      "\n",
      "converting counts to integer mode\n",
      "\n",
      "estimating size factors\n",
      "\n",
      "estimating dispersions\n",
      "\n",
      "gene-wise dispersion estimates\n",
      "\n",
      "mean-dispersion relationship\n",
      "\n",
      "final dispersion estimates\n",
      "\n",
      "fitting model and testing\n",
      "\n",
      "converting counts to integer mode\n",
      "\n",
      "estimating size factors\n",
      "\n",
      "estimating dispersions\n",
      "\n",
      "gene-wise dispersion estimates\n",
      "\n",
      "mean-dispersion relationship\n",
      "\n",
      "final dispersion estimates\n",
      "\n",
      "fitting model and testing\n",
      "\n",
      "converting counts to integer mode\n",
      "\n",
      "estimating size factors\n",
      "\n",
      "estimating dispersions\n",
      "\n",
      "gene-wise dispersion estimates\n",
      "\n",
      "mean-dispersion relationship\n",
      "\n",
      "final dispersion estimates\n",
      "\n",
      "fitting model and testing\n",
      "\n",
      "converting counts to integer mode\n",
      "\n",
      "estimating size factors\n",
      "\n",
      "estimating dispersions\n",
      "\n",
      "gene-wise dispersion estimates\n",
      "\n",
      "mean-dispersion relationship\n",
      "\n",
      "final dispersion estimates\n",
      "\n",
      "fitting model and testing\n",
      "\n",
      "converting counts to integer mode\n",
      "\n",
      "estimating size factors\n",
      "\n",
      "estimating dispersions\n",
      "\n",
      "gene-wise dispersion estimates\n",
      "\n",
      "mean-dispersion relationship\n",
      "\n",
      "final dispersion estimates\n",
      "\n",
      "fitting model and testing\n",
      "\n",
      "converting counts to integer mode\n",
      "\n",
      "estimating size factors\n",
      "\n",
      "estimating dispersions\n",
      "\n",
      "gene-wise dispersion estimates\n",
      "\n",
      "mean-dispersion relationship\n",
      "\n",
      "final dispersion estimates\n",
      "\n",
      "fitting model and testing\n",
      "\n",
      "converting counts to integer mode\n",
      "\n",
      "estimating size factors\n",
      "\n",
      "estimating dispersions\n",
      "\n",
      "gene-wise dispersion estimates\n",
      "\n",
      "mean-dispersion relationship\n",
      "\n",
      "final dispersion estimates\n",
      "\n",
      "fitting model and testing\n",
      "\n",
      "converting counts to integer mode\n",
      "\n",
      "estimating size factors\n",
      "\n",
      "estimating dispersions\n",
      "\n",
      "gene-wise dispersion estimates\n",
      "\n",
      "mean-dispersion relationship\n",
      "\n",
      "final dispersion estimates\n",
      "\n",
      "fitting model and testing\n",
      "\n",
      "converting counts to integer mode\n",
      "\n",
      "estimating size factors\n",
      "\n",
      "estimating dispersions\n",
      "\n",
      "gene-wise dispersion estimates\n",
      "\n",
      "mean-dispersion relationship\n",
      "\n",
      "final dispersion estimates\n",
      "\n",
      "fitting model and testing\n",
      "\n",
      "converting counts to integer mode\n",
      "\n",
      "estimating size factors\n",
      "\n",
      "estimating dispersions\n",
      "\n",
      "gene-wise dispersion estimates\n",
      "\n",
      "mean-dispersion relationship\n",
      "\n",
      "final dispersion estimates\n",
      "\n",
      "fitting model and testing\n",
      "\n",
      "converting counts to integer mode\n",
      "\n",
      "estimating size factors\n",
      "\n",
      "estimating dispersions\n",
      "\n",
      "gene-wise dispersion estimates\n",
      "\n",
      "mean-dispersion relationship\n",
      "\n",
      "final dispersion estimates\n",
      "\n",
      "fitting model and testing\n",
      "\n",
      "converting counts to integer mode\n",
      "\n",
      "estimating size factors\n",
      "\n",
      "estimating dispersions\n",
      "\n",
      "gene-wise dispersion estimates\n",
      "\n",
      "mean-dispersion relationship\n",
      "\n",
      "final dispersion estimates\n",
      "\n",
      "fitting model and testing\n",
      "\n",
      "converting counts to integer mode\n",
      "\n",
      "estimating size factors\n",
      "\n",
      "estimating dispersions\n",
      "\n",
      "gene-wise dispersion estimates\n",
      "\n",
      "mean-dispersion relationship\n",
      "\n",
      "final dispersion estimates\n",
      "\n",
      "fitting model and testing\n",
      "\n"
     ]
    },
    {
     "data": {
      "text/html": [
       "<table class=\"dataframe\">\n",
       "<caption>A data.frame: 10 × 2</caption>\n",
       "<thead>\n",
       "\t<tr><th></th><th scope=col>X1L</th><th scope=col>X3L</th></tr>\n",
       "\t<tr><th></th><th scope=col>&lt;int&gt;</th><th scope=col>&lt;int&gt;</th></tr>\n",
       "</thead>\n",
       "<tbody>\n",
       "\t<tr><th scope=row>1</th><td> 1</td><td> 3</td></tr>\n",
       "\t<tr><th scope=row>2</th><td> 2</td><td> 5</td></tr>\n",
       "\t<tr><th scope=row>3</th><td> 3</td><td> 4</td></tr>\n",
       "\t<tr><th scope=row>4</th><td> 4</td><td> 5</td></tr>\n",
       "\t<tr><th scope=row>5</th><td> 5</td><td>16</td></tr>\n",
       "\t<tr><th scope=row>6</th><td> 6</td><td>20</td></tr>\n",
       "\t<tr><th scope=row>7</th><td> 7</td><td>19</td></tr>\n",
       "\t<tr><th scope=row>8</th><td> 8</td><td>11</td></tr>\n",
       "\t<tr><th scope=row>9</th><td> 9</td><td>19</td></tr>\n",
       "\t<tr><th scope=row>10</th><td>10</td><td>36</td></tr>\n",
       "</tbody>\n",
       "</table>\n"
      ],
      "text/latex": [
       "A data.frame: 10 × 2\n",
       "\\begin{tabular}{r|ll}\n",
       "  & X1L & X3L\\\\\n",
       "  & <int> & <int>\\\\\n",
       "\\hline\n",
       "\t1 &  1 &  3\\\\\n",
       "\t2 &  2 &  5\\\\\n",
       "\t3 &  3 &  4\\\\\n",
       "\t4 &  4 &  5\\\\\n",
       "\t5 &  5 & 16\\\\\n",
       "\t6 &  6 & 20\\\\\n",
       "\t7 &  7 & 19\\\\\n",
       "\t8 &  8 & 11\\\\\n",
       "\t9 &  9 & 19\\\\\n",
       "\t10 & 10 & 36\\\\\n",
       "\\end{tabular}\n"
      ],
      "text/markdown": [
       "\n",
       "A data.frame: 10 × 2\n",
       "\n",
       "| <!--/--> | X1L &lt;int&gt; | X3L &lt;int&gt; |\n",
       "|---|---|---|\n",
       "| 1 |  1 |  3 |\n",
       "| 2 |  2 |  5 |\n",
       "| 3 |  3 |  4 |\n",
       "| 4 |  4 |  5 |\n",
       "| 5 |  5 | 16 |\n",
       "| 6 |  6 | 20 |\n",
       "| 7 |  7 | 19 |\n",
       "| 8 |  8 | 11 |\n",
       "| 9 |  9 | 19 |\n",
       "| 10 | 10 | 36 |\n",
       "\n"
      ],
      "text/plain": [
       "   X1L X3L\n",
       "1   1   3 \n",
       "2   2   5 \n",
       "3   3   4 \n",
       "4   4   5 \n",
       "5   5  16 \n",
       "6   6  20 \n",
       "7   7  19 \n",
       "8   8  11 \n",
       "9   9  19 \n",
       "10 10  36 "
      ]
     },
     "metadata": {},
     "output_type": "display_data"
    }
   ],
   "source": [
    "formula_list = list(\n",
    "~ sex + W_1 + IASC, \n",
    "~ sex + W_1 + W_2 + IASC, \n",
    "~ sex + W_1 + W_2 + W_3 + IASC, \n",
    "~ sex + W_1 + W_2 + W_3 + W_4 + IASC, \n",
    "~ sex + W_1 + W_2 + W_3 + W_4 + W_5 + IASC, \n",
    "~ sex + W_1 + W_2 + W_3 + W_4 + W_5 + W_6 + IASC, \n",
    "~ sex + W_1 + W_2 + W_3 + W_4 + W_5 + W_6 + W_7 + IASC, \n",
    "~ sex + W_1 + W_2 + W_3 + W_4 + W_5 + W_6 + W_7 + W_8 + IASC, \n",
    "~ sex + W_1 + W_2 + W_3 + W_4 + W_5 + W_6 + W_7 + W_8 + W_9 + IASC, \n",
    "~ sex + W_1 + W_2 + W_3 + W_4 + W_5 + W_6 + W_7 + W_8 + W_9 + W_10 + IASC,\n",
    "~ sex + W_1 + W_2 + W_3 + W_4 + W_5 + W_6 + W_7 + W_8 + W_9 + W_10 + W_11 + IASC,\n",
    "~ sex + W_1 + W_2 + W_3 + W_4 + W_5 + W_6 + W_7 + W_8 + W_9 + W_10 + W_11 + W_12 + IASC,\n",
    "~ sex + W_1 + W_2 + W_3 + W_4 + W_5 + W_6 + W_7 + W_8 + W_9 + W_10 + W_11 + W_12 + W_13 + IASC,\n",
    "~ sex + W_1 + W_2 + W_3 + W_4 + W_5 + W_6 + W_7 + W_8 + W_9 + W_10 + W_11 + W_12 + W_13 + W_14 + IASC,\n",
    "~ sex + W_1 + W_2 + W_3 + W_4 + W_5 + W_6 + W_7 + W_8 + W_9 + W_10 + W_11 + W_12 + W_13 + W_14 + + W_15 + IASC,\n",
    "~ sex + W_1 + W_2 + W_3 + W_4 + W_5 + W_6 + W_7 + W_8 + W_9 + W_10 + W_11 + W_12 + W_13 + W_14 + + W_15 + W_16 + IASC,\n",
    "~ sex + W_1 + W_2 + W_3 + W_4 + W_5 + W_6 + W_7 + W_8 + W_9 + W_10 + W_11 + W_12 + W_13 + W_14 + + W_15 + W_16 + W_17 + IASC,\n",
    "~ sex + W_1 + W_2 + W_3 + W_4 + W_5 + W_6 + W_7 + W_8 + W_9 + W_10 + W_11 + W_12 + W_13 + W_14 + + W_15 + W_16 + W_17 + W_18 + IASC,\n",
    "~ sex + W_1 + W_2 + W_3 + W_4 + W_5 + W_6 + W_7 + W_8 + W_9 + W_10 + W_11 + W_12 + W_13 + W_14 + + W_15 + W_16 + W_17 + W_18 + W_19 + IASC,\n",
    "~ sex + W_1 + W_2 + W_3 + W_4 + W_5 + W_6 + W_7 + W_8 + W_9 + W_10 + W_11 + W_12 + W_13 + W_14 + + W_15 + W_16 + W_17 + W_18 + W_19 + W_20 + IASC)\n",
    "\n",
    "\n",
    "\n",
    "#create an empty dataframe to store the number of significant genes\n",
    "deg_counts = data.frame(matrix(ncol=20, nrow=0))\n",
    "colnames(deg_counts) = c(\"formula\", \"sig_genes\")\n",
    "\n",
    "for (x in seq_along(formula_list)) {\n",
    "    design_formula = formula(formula_list[[x]])\n",
    "    dds1 <- DESeqDataSetFromMatrix(countData=cts, colData=pdat, design = design_formula)\n",
    "    y <- DGEList(counts=counts(dds1), group=coldata$IASC)\n",
    "    keep <- filterByExpr(y)\n",
    "    table(keep)\n",
    "    y <- y[keep,]\n",
    "    dds1 <- dds1[keep,]\n",
    "    dds1 <- DESeq(dds1)\n",
    "    res <- results(dds1)\n",
    "    res <- res[order(res$padj),]\n",
    "    #get the number of significant genes\n",
    "    sig_genes <- res[which(res$padj < 0.05),]\n",
    "    #save the number of significant genes to the dataframe\n",
    "    deg_counts = rbind(deg_counts, c(x, nrow(sig_genes)))\n",
    "    #save the results to a csv file\n",
    "    write.csv(res, paste0(\"../../results/postop/ruvg_runs_iasc/res5_\", x, \".csv\"))\n",
    "    \n",
    "}\n",
    "\n",
    "head(deg_counts, 10)"
   ]
  },
  {
   "cell_type": "code",
   "execution_count": 12,
   "metadata": {
    "vscode": {
     "languageId": "r"
    }
   },
   "outputs": [
    {
     "data": {
      "image/png": "[encoded data removed]",
      "text/plain": [
       "plot without title"
      ]
     },
     "metadata": {
      "image/png": {
       "height": 420,
       "width": 420
      }
     },
     "output_type": "display_data"
    }
   ],
   "source": [
    "colnames(deg_counts) = c(\"formula\", \"sig_genes\")\n",
    "#plot the number of significant genes vs the number of covariates\n",
    "ggplot(deg_counts, aes(x=formula, y=sig_genes)) +\n",
    "    geom_point(size=5) +\n",
    "    geom_line() +\n",
    "    xlab(\"Number of Covariates\") +\n",
    "    ylab(\"Number of Significant Genes\") +\n",
    "    theme(text = element_text(size = 24))\n",
    "#save the plot\n",
    "ggsave(\"../../results/post_op/ruvg_runs_iasc/deg_counts5.png\", width=10, height=10)"
   ]
  },
  {
   "cell_type": "code",
   "execution_count": 13,
   "metadata": {
    "vscode": {
     "languageId": "r"
    }
   },
   "outputs": [
    {
     "data": {
      "text/plain": [
       "~sex + W_1 + W_2 + W_3 + W_4 + W_5 + W_6 + W_7 + W_8 + W_9 + \n",
       "    W_10 + W_11 + W_12 + W_13 + W_14 + +W_15 + IASC"
      ]
     },
     "metadata": {},
     "output_type": "display_data"
    },
    {
     "name": "stderr",
     "output_type": "stream",
     "text": [
      "converting counts to integer mode\n",
      "\n"
     ]
    },
    {
     "data": {
      "text/plain": [
       "keep\n",
       " TRUE \n",
       "14664 "
      ]
     },
     "metadata": {},
     "output_type": "display_data"
    },
    {
     "name": "stderr",
     "output_type": "stream",
     "text": [
      "estimating size factors\n",
      "\n",
      "estimating dispersions\n",
      "\n",
      "gene-wise dispersion estimates\n",
      "\n",
      "mean-dispersion relationship\n",
      "\n",
      "final dispersion estimates\n",
      "\n",
      "fitting model and testing\n",
      "\n"
     ]
    },
    {
     "data": {
      "text/plain": [
       "log2 fold change (MLE): IASC Yes vs No \n",
       "Wald test p-value: IASC Yes vs No \n",
       "DataFrame with 6 rows and 6 columns\n",
       "         baseMean log2FoldChange     lfcSE      stat      pvalue      padj\n",
       "        <numeric>      <numeric> <numeric> <numeric>   <numeric> <numeric>\n",
       "WIPF1    837.1032       0.361564 0.0774726   4.66699 3.05639e-06 0.0207186\n",
       "TMEM156   78.6647       0.622040 0.1353664   4.59523 4.32268e-06 0.0207186\n",
       "PASK     251.8464       0.423760 0.0899447   4.71134 2.46091e-06 0.0207186\n",
       "STK17B  1888.1272       0.408139 0.0914514   4.46291 8.08556e-06 0.0290656\n",
       "PARP1   1514.4946       0.264214 0.0605985   4.36008 1.30013e-05 0.0373890\n",
       "TAGAP    261.7412       0.483547 0.1124104   4.30162 1.69556e-05 0.0406342"
      ]
     },
     "metadata": {},
     "output_type": "display_data"
    }
   ],
   "source": [
    "#use 4 covariates\n",
    "design_formula = formula(formula_list[[15]])\n",
    "design_formula\n",
    "dds = DESeqDataSetFromMatrix(countData=cts, colData=pdat, design = design_formula)\n",
    "#filter genes for low expression with edgeR\n",
    "y <- DGEList(counts=counts(dds), group=IASC)\n",
    "keep <- filterByExpr(y)\n",
    "table(keep)\n",
    "y <- y[keep,]\n",
    "dds <- dds[keep,]\n",
    "#run DESeq\n",
    "dds <- DESeq(dds)\n",
    "res <- results(dds)\n",
    "resOrdered <- res[order(res$padj),]\n",
    "head(resOrdered)"
   ]
  },
  {
   "cell_type": "code",
   "execution_count": 14,
   "metadata": {
    "vscode": {
     "languageId": "r"
    }
   },
   "outputs": [
    {
     "name": "stderr",
     "output_type": "stream",
     "text": [
      "\n",
      "Attaching package: ‘genefilter’\n",
      "\n",
      "\n",
      "The following object is masked _by_ ‘.GlobalEnv’:\n",
      "\n",
      "    varFilter\n",
      "\n",
      "\n",
      "The following object is masked from ‘package:readr’:\n",
      "\n",
      "    spec\n",
      "\n",
      "\n",
      "The following objects are masked from ‘package:MatrixGenerics’:\n",
      "\n",
      "    rowSds, rowVars\n",
      "\n",
      "\n",
      "The following objects are masked from ‘package:matrixStats’:\n",
      "\n",
      "    rowSds, rowVars\n",
      "\n",
      "\n"
     ]
    },
    {
     "data": {
      "text/plain": [
       "log2 fold change (MLE): IASC Yes vs No \n",
       "Wald test p-value: IASC Yes vs No \n",
       "DataFrame with 6 rows and 7 columns\n",
       "               gene  baseMean log2FoldChange     lfcSE      stat      pvalue\n",
       "        <character> <numeric>      <numeric> <numeric> <numeric>   <numeric>\n",
       "WIPF1         WIPF1  837.1032       0.361564 0.0774726   4.66699 3.05639e-06\n",
       "TMEM156     TMEM156   78.6647       0.622040 0.1353664   4.59523 4.32268e-06\n",
       "PASK           PASK  251.8464       0.423760 0.0899447   4.71134 2.46091e-06\n",
       "STK17B       STK17B 1888.1272       0.408139 0.0914514   4.46291 8.08556e-06\n",
       "PARP1         PARP1 1514.4946       0.264214 0.0605985   4.36008 1.30013e-05\n",
       "TAGAP         TAGAP  261.7412       0.483547 0.1124104   4.30162 1.69556e-05\n",
       "             padj\n",
       "        <numeric>\n",
       "WIPF1   0.0207186\n",
       "TMEM156 0.0207186\n",
       "PASK    0.0207186\n",
       "STK17B  0.0290656\n",
       "PARP1   0.0373890\n",
       "TAGAP   0.0406342"
      ]
     },
     "metadata": {},
     "output_type": "display_data"
    }
   ],
   "source": [
    "library('pheatmap')\n",
    "library('genefilter')\n",
    "#use RemoveBatchEffect to adjust for the identified covariates\n",
    "#first create variables for each of the RUV factors\n",
    "ruv1 = pdat$W_1\n",
    "ruv2 = pdat$W_2\n",
    "ruv3 = pdat$W_3\n",
    "ruv4 = pdat$W_4\n",
    "ruv5 = pdat$W_5\n",
    "ruv6 = pdat$W_6\n",
    "ruv7 = pdat$W_7\n",
    "ruv8 = pdat$W_8\n",
    "ruv9 = pdat$W_9\n",
    "ruv10 = pdat$W_10\n",
    "ruv11 = pdat$W_11\n",
    "ruv12 = pdat$W_12\n",
    "ruv13 = pdat$W_13\n",
    "\n",
    "#run RemoveBatchEffect using the RUV factors and sex\n",
    "vsd = vst(dds)\n",
    "mat= assay(vsd)\n",
    "assay(vsd) <- removeBatchEffect(assay(vsd), batch=sex, covariates=cbind(ruv1, ruv2, ruv3, ruv4, ruv5, ruv6, ruv7, ruv8, ruv9, ruv10, ruv11, ruv12, ruv13))\n",
    "resOrdered <- res[order(res$padj),]\n",
    "resOrdered$gene <- rownames(resOrdered)\n",
    "resOrdered = resOrdered[,c(7, 1, 2, 3, 4, 5, 6)]\n",
    "head(resOrdered)\n"
   ]
  },
  {
   "cell_type": "code",
   "execution_count": 15,
   "metadata": {
    "vscode": {
     "languageId": "r"
    }
   },
   "outputs": [
    {
     "ename": "ERROR",
     "evalue": "Error in `.rowNamesDF<-`(x, value = value): invalid 'row.names' length\n",
     "output_type": "error",
     "traceback": [
      "Error in `.rowNamesDF<-`(x, value = value): invalid 'row.names' length\nTraceback:\n",
      "1. `rownames<-`(`*tmp*`, value = c(\"PB630\", \"PB447\", \"PB495\", \"PB53\", \n . \"PB269\", \"PB283\", \"PB504\", \"PB511\", \"PB465\", \"PB512\", \"PB480\", \n . \"PB545\", \"PB531\", \"PB532\", \"PB564\", \"PB571\", \"PB580\", \"PB565\", \n . \"PB588\", \"PB611\", \"PB80\", \"PB628\", \"PB641\", \"PB43200\", \"PB188\", \n . \"PB205\", \"PB220\", \"PB73\", \"PB87\", \"PB107\", \"PB120\", \"PB131\", \n . \"PB134\", \"PB152\", \"PB153\", \"PB157\", \"PB158\", \"PB187\", \"PB189\", \n . \"PB197\", \"PB198\", \"PB204\", \"PB208\", \"PB215\", \"PB218\", \"PB221\", \n . \"PB223\", \"PB224\", \"PB233\", \"PB236\", \"PB250\", \"PB272\", \"PB274\", \n . \"PB280\", \"PB290\", \"PB298\", \"PB299\", \"PB302\", \"PB305\", \"PB308\", \n . \"PB313\", \"PB326\", \"PB360\", \"PB40800\", \"PB42000\", \"PB422\", \"PB43100\", \n . \"PB44000\", \"PB51\", \"PB63\", \"PB69\", \"PB72\", \"PB79\", \"PB91\", \"PB96\", \n . \"PB97\", \"PB271\", \"PB206\", \"PB216\", \"PB130\", \"PB319\", \"PB420\", \n . \"PB31\", \"PB181\", \"PB49\", \"PB40700\", \"PB32\", \"PB39\", \"PB50\", \"PB48\", \n . \"PB54\", \"PB98\", \"PB43\", \"PB22\", \"PB36\", \"PB27\", \"PB42\", \"PB30\", \n . \"PB209\", \"PB185\", \"PB183\"))",
      "2. `rownames<-`(`*tmp*`, value = c(\"PB630\", \"PB447\", \"PB495\", \"PB53\", \n . \"PB269\", \"PB283\", \"PB504\", \"PB511\", \"PB465\", \"PB512\", \"PB480\", \n . \"PB545\", \"PB531\", \"PB532\", \"PB564\", \"PB571\", \"PB580\", \"PB565\", \n . \"PB588\", \"PB611\", \"PB80\", \"PB628\", \"PB641\", \"PB43200\", \"PB188\", \n . \"PB205\", \"PB220\", \"PB73\", \"PB87\", \"PB107\", \"PB120\", \"PB131\", \n . \"PB134\", \"PB152\", \"PB153\", \"PB157\", \"PB158\", \"PB187\", \"PB189\", \n . \"PB197\", \"PB198\", \"PB204\", \"PB208\", \"PB215\", \"PB218\", \"PB221\", \n . \"PB223\", \"PB224\", \"PB233\", \"PB236\", \"PB250\", \"PB272\", \"PB274\", \n . \"PB280\", \"PB290\", \"PB298\", \"PB299\", \"PB302\", \"PB305\", \"PB308\", \n . \"PB313\", \"PB326\", \"PB360\", \"PB40800\", \"PB42000\", \"PB422\", \"PB43100\", \n . \"PB44000\", \"PB51\", \"PB63\", \"PB69\", \"PB72\", \"PB79\", \"PB91\", \"PB96\", \n . \"PB97\", \"PB271\", \"PB206\", \"PB216\", \"PB130\", \"PB319\", \"PB420\", \n . \"PB31\", \"PB181\", \"PB49\", \"PB40700\", \"PB32\", \"PB39\", \"PB50\", \"PB48\", \n . \"PB54\", \"PB98\", \"PB43\", \"PB22\", \"PB36\", \"PB27\", \"PB42\", \"PB30\", \n . \"PB209\", \"PB185\", \"PB183\"))",
      "3. `row.names<-`(`*tmp*`, value = value)",
      "4. `row.names<-.data.frame`(`*tmp*`, value = value)",
      "5. `.rowNamesDF<-`(x, value = value)",
      "6. stop(\"invalid 'row.names' length\")"
     ]
    }
   ],
   "source": [
    "#make a list of the top 15 genes\n",
    "top15 <- resOrdered[1:15,]\n",
    "recur <- data.frame(recur=coldata$recur)\n",
    "rownames(recur) <- colnames(mat)\n",
    "mat15 <- mat[top15$gene,]\n",
    "#center the data\n",
    "mat15 <- mat15 - rowMeans(mat15)\n",
    "head(mat15)"
   ]
  },
  {
   "cell_type": "code",
   "execution_count": null,
   "metadata": {
    "vscode": {
     "languageId": "r"
    }
   },
   "outputs": [],
   "source": [
    "#sort each dataframe by recurrence\n",
    "#first sort the annotation data by recurrence while keeping it as a dataframe\n",
    "recur <- recur[order(recur$recur), , drop=FALSE]\n",
    "#then sort the matrix by the order of the annotation data by getting the rownames of the annotation data and reordering the columns of the matrix\n",
    "col_order = rownames(recur)\n",
    "mat15 <- mat15[,col_order]\n",
    "#remove the sample names from the heatmap\n",
    "pheatmap(mat15, annotation_col=recur, cluster_cols=F, show_colnames=F, filename='../../results/post_op/ruvg_runs_iasc/heatmap.png', height=10, width=10)"
   ]
  },
  {
   "cell_type": "code",
   "execution_count": null,
   "metadata": {
    "vscode": {
     "languageId": "r"
    }
   },
   "outputs": [],
   "source": [
    "formula_list = list(\n",
    "~ sex + W_1 + iasc, \n",
    "~ sex + W_1 + W_2 + iasc, \n",
    "~ sex + W_1 + W_2 + W_3 + iasc, \n",
    "~ sex + W_1 + W_2 + W_3 + W_4 + iasc, \n",
    "~ sex + W_1 + W_2 + W_3 + W_4 + W_5 + iasc, \n",
    "~ sex + W_1 + W_2 + W_3 + W_4 + W_5 + W_6 + iasc, \n",
    "~ sex + W_1 + W_2 + W_3 + W_4 + W_5 + W_6 + W_7 + iasc, \n",
    "~ sex + W_1 + W_2 + W_3 + W_4 + W_5 + W_6 + W_7 + W_8 + iasc, \n",
    "~ sex + W_1 + W_2 + W_3 + W_4 + W_5 + W_6 + W_7 + W_8 + W_9 + iasc, \n",
    "~ sex + W_1 + W_2 + W_3 + W_4 + W_5 + W_6 + W_7 + W_8 + W_9 + W_10 + iasc,\n",
    "~ sex + W_1 + W_2 + W_3 + W_4 + W_5 + W_6 + W_7 + W_8 + W_9 + W_10 + W_11 + iasc,\n",
    "~ sex + W_1 + W_2 + W_3 + W_4 + W_5 + W_6 + W_7 + W_8 + W_9 + W_10 + W_11 + W_12 + iasc,\n",
    "~ sex + W_1 + W_2 + W_3 + W_4 + W_5 + W_6 + W_7 + W_8 + W_9 + W_10 + W_11 + W_12 + W_13 + iasc,\n",
    "~ sex + W_1 + W_2 + W_3 + W_4 + W_5 + W_6 + W_7 + W_8 + W_9 + W_10 + W_11 + W_12 + W_13 + W_14 + iasc,\n",
    "~ sex + W_1 + W_2 + W_3 + W_4 + W_5 + W_6 + W_7 + W_8 + W_9 + W_10 + W_11 + W_12 + W_13 + W_14 + + W_15 + iasc,\n",
    "~ sex + W_1 + W_2 + W_3 + W_4 + W_5 + W_6 + W_7 + W_8 + W_9 + W_10 + W_11 + W_12 + W_13 + W_14 + + W_15 + W_16 + iasc,\n",
    "~ sex + W_1 + W_2 + W_3 + W_4 + W_5 + W_6 + W_7 + W_8 + W_9 + W_10 + W_11 + W_12 + W_13 + W_14 + + W_15 + W_16 + W_17 + iasc,\n",
    "~ sex + W_1 + W_2 + W_3 + W_4 + W_5 + W_6 + W_7 + W_8 + W_9 + W_10 + W_11 + W_12 + W_13 + W_14 + + W_15 + W_16 + W_17 + W_18 + iasc,\n",
    "~ sex + W_1 + W_2 + W_3 + W_4 + W_5 + W_6 + W_7 + W_8 + W_9 + W_10 + W_11 + W_12 + W_13 + W_14 + + W_15 + W_16 + W_17 + W_18 + W_19 + iasc,\n",
    "~ sex + W_1 + W_2 + W_3 + W_4 + W_5 + W_6 + W_7 + W_8 + W_9 + W_10 + W_11 + W_12 + W_13 + W_14 + + W_15 + W_16 + W_17 + W_18 + W_19 + W_20 + iasc)\n",
    "\n",
    "\n",
    "\n",
    "#create an empty dataframe to store the number of significant genes\n",
    "deg_counts = data.frame(matrix(ncol=20, nrow=0))\n",
    "colnames(deg_counts) = c(\"formula\", \"sig_genes\")\n",
    "\n",
    "for (x in seq_along(formula_list)) {\n",
    "    design_formula = formula(formula_list[[x]])\n",
    "    dds1 <- DESeqDataSetFromMatrix(countData=cts, colData=pdat, design = design_formula)\n",
    "    y <- DGEList(counts=counts(dds1), group=coldata$iasc)\n",
    "    keep <- filterByExpr(y)\n",
    "    table(keep)\n",
    "    y <- y[keep,]\n",
    "    dds1 <- dds1[keep,]\n",
    "    dds1 <- DESeq(dds1)\n",
    "    res <- results(dds1)\n",
    "    res <- res[order(res$padj),]\n",
    "    #get the number of significant genes\n",
    "    sig_genes <- res[which(res$padj < 0.05),]\n",
    "    #save the number of significant genes to the dataframe\n",
    "    deg_counts = rbind(deg_counts, c(x, nrow(sig_genes)))\n",
    "    #save the results to a csv file\n",
    "    write.csv(res, paste0(\"results/ruvg_runs/res5_\", x, \"_iasc.csv\"))\n",
    "}\n",
    "\n",
    "head(deg_counts, 10)\n",
    "colnames(deg_counts) = c(\"formula\", \"sig_genes\")\n",
    "#plot the number of significant genes vs the number of covariates\n",
    "ggplot(deg_counts, aes(x=formula, y=sig_genes)) +\n",
    "    geom_point(size=5) +\n",
    "    geom_line() +\n",
    "    xlab(\"Number of Covariates\") +\n",
    "    ylab(\"Number of Significant Genes\") +\n",
    "    theme(text = element_text(size = 24))\n",
    "#save the plot\n",
    "ggsave(\"../../results/post_op/ruvg_runs_iasc/deg_counts5_iasc.png\", width=10, height=10)\n"
   ]
  },
  {
   "cell_type": "code",
   "execution_count": null,
   "metadata": {
    "vscode": {
     "languageId": "r"
    }
   },
   "outputs": [],
   "source": [
    "#use 18 covariates\n",
    "design_formula = formula(formula_list[[13]])\n",
    "design_formula\n",
    "dds = DESeqDataSetFromMatrix(countData=cts, colData=pdat, design = design_formula)\n",
    "#filter genes for low expreiascon with edgeR\n",
    "y <- DGEList(counts=counts(dds), group=recur)\n",
    "keep <- filterByExpr(y)\n",
    "table(keep)\n",
    "y <- y[keep,]\n",
    "dds <- dds[keep,]\n",
    "#run DESeq\n",
    "dds <- DESeq(dds)\n",
    "res <- results(dds)\n",
    "\n",
    "library('pheatmap')\n",
    "library('genefilter')\n",
    "#use RemoveBatchEffect to adjust for the identified covariates\n",
    "#first create variables for each of the RUV factors\n",
    "ruv1 = pdat$W_1\n",
    "ruv2 = pdat$W_2\n",
    "ruv3 = pdat$W_3\n",
    "ruv4 = pdat$W_4\n",
    "ruv5 = pdat$W_5\n",
    "ruv6 = pdat$W_6\n",
    "ruv7 = pdat$W_7\n",
    "ruv8 = pdat$W_8\n",
    "ruv9 = pdat$W_9\n",
    "ruv10 = pdat$W_10\n",
    "ruv11 = pdat$W_11\n",
    "ruv12 = pdat$W_12\n",
    "ruv13 = pdat$W_13\n",
    "\n",
    "#run RemoveBatchEffect using the RUV factors and sex\n",
    "vsd = vst(dds)\n",
    "mat= assay(vsd)\n",
    "assay(vsd) <- removeBatchEffect(assay(vsd), batch=sex, covariates=cbind(ruv1, ruv2, ruv3, ruv4, ruv5, ruv6, ruv7, ruv8, ruv9, ruv10, ruv11, ruv12, ruv13))\n",
    "resOrdered <- res[order(res$padj),]\n",
    "resOrdered$gene <- rownames(resOrdered)\n",
    "resOrdered = resOrdered[,c(7, 1, 2, 3, 4, 5, 6)]\n",
    "head(resOrdered)\n",
    "\n",
    "#make a list of the top 15 genes\n",
    "top15 <- resOrdered[1:15,]\n",
    "recur <- data.frame(recur=coldata$recur)\n",
    "rownames(recur) <- colnames(mat)\n",
    "mat15 <- mat[top15$gene,]\n",
    "#center the data\n",
    "mat15 <- mat15 - rowMeans(mat15)\n",
    "head(mat15)\n",
    "#sort each dataframe by recurrence\n",
    "#first sort the annotation data by recurrence while keeping it as a dataframe\n",
    "recur <- recur[order(recur$recur), , drop=FALSE]\n",
    "#then sort the matrix by the order of the annotation data by getting the rownames of the annotation data and reordering the columns of the matrix\n",
    "col_order = rownames(recur)\n",
    "mat15 <- mat15[,col_order]\n",
    "#remove the sample names from the heatmap\n",
    "pheatmap(mat15, annotation_col=recur, cluster_cols=F, show_colnames=F, filename='../../results/post_op/ruvg_runs_iasc/heatmap.png', height=10, width=10)"
   ]
  },
  {
   "cell_type": "code",
   "execution_count": null,
   "metadata": {
    "vscode": {
     "languageId": "r"
    }
   },
   "outputs": [],
   "source": [
    "#make a PCA plot using the adjusted counts\n",
    "pcaData <- plotPCA(vsd, intgroup=c(\"SSI_IASC\"), returnData=TRUE)\n",
    "percentVar <- round(100 * attr(pcaData, \"percentVar\"))\n",
    "#save the plot\n",
    "png(\"../../results/post_op/ruvg_runs_iasc/pca_ssi_iasc.png\", width=1024, height=512)\n",
    "ggplot(pcaData, aes(PC1, PC2, color=SSI_IASC, shape=disease)) +\n",
    "    geom_point(size=5) +\n",
    "    #geom_text(aes(label=sample),hjust=0, vjust=0) +\n",
    "    xlab(paste0(\"PC1: \",percentVar[1],\"% variance\")) +\n",
    "    ylab(paste0(\"PC2: \",percentVar[2],\"% variance\")) + \n",
    "    coord_fixed() +\n",
    "    \n",
    "    theme(text = element_text(size = 24))"
   ]
  }
 ],
 "metadata": {
  "kernelspec": {
   "display_name": "R",
   "language": "R",
   "name": "ir"
  },
  "language_info": {
   "codemirror_mode": "r",
   "file_extension": ".r",
   "mimetype": "text/x-r-source",
   "name": "R",
   "pygments_lexer": "r",
   "version": "4.3.0"
  },
  "orig_nbformat": 4,
  "vscode": {
   "interpreter": {
    "hash": "916dbcbb3f70747c44a77c7bcd40155683ae19c65e1c03b4aa3499c5328201f1"
   }
  }
 },
 "nbformat": 4,
 "nbformat_minor": 2
}
