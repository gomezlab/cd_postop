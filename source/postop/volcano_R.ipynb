{
 "cells": [
  {
   "cell_type": "code",
   "execution_count": 1,
   "metadata": {
    "vscode": {
     "languageId": "r"
    }
   },
   "outputs": [
    {
     "name": "stderr",
     "output_type": "stream",
     "text": [
      "Loading required package: ggplot2\n",
      "\n",
      "Loading required package: ggrepel\n",
      "\n",
      "── \u001b[1mAttaching core tidyverse packages\u001b[22m ──────────────────────── tidyverse 2.0.0 ──\n",
      "\u001b[32m✔\u001b[39m \u001b[34mdplyr    \u001b[39m 1.1.2     \u001b[32m✔\u001b[39m \u001b[34mreadr    \u001b[39m 2.1.4\n",
      "\u001b[32m✔\u001b[39m \u001b[34mforcats  \u001b[39m 1.0.0     \u001b[32m✔\u001b[39m \u001b[34mstringr  \u001b[39m 1.5.0\n",
      "\u001b[32m✔\u001b[39m \u001b[34mlubridate\u001b[39m 1.9.2     \u001b[32m✔\u001b[39m \u001b[34mtibble   \u001b[39m 3.2.1\n",
      "\u001b[32m✔\u001b[39m \u001b[34mpurrr    \u001b[39m 1.0.1     \u001b[32m✔\u001b[39m \u001b[34mtidyr    \u001b[39m 1.3.0\n",
      "── \u001b[1mConflicts\u001b[22m ────────────────────────────────────────── tidyverse_conflicts() ──\n",
      "\u001b[31m✖\u001b[39m \u001b[34mdplyr\u001b[39m::\u001b[32mfilter()\u001b[39m masks \u001b[34mstats\u001b[39m::filter()\n",
      "\u001b[31m✖\u001b[39m \u001b[34mdplyr\u001b[39m::\u001b[32mlag()\u001b[39m    masks \u001b[34mstats\u001b[39m::lag()\n",
      "\u001b[36mℹ\u001b[39m Use the conflicted package (\u001b[3m\u001b[34m<http://conflicted.r-lib.org/>\u001b[39m\u001b[23m) to force all conflicts to become errors\n"
     ]
    }
   ],
   "source": [
    "# %%\n",
    "library(EnhancedVolcano)\n",
    "library(tidyverse)\n",
    "library(dplyr)\n",
    "# %%\n"
   ]
  },
  {
   "cell_type": "code",
   "execution_count": 2,
   "metadata": {
    "vscode": {
     "languageId": "r"
    }
   },
   "outputs": [
    {
     "data": {
      "text/html": [
       "<table class=\"dataframe\">\n",
       "<caption>A data.frame: 6 × 7</caption>\n",
       "<thead>\n",
       "\t<tr><th></th><th scope=col>X</th><th scope=col>baseMean</th><th scope=col>log2FoldChange</th><th scope=col>lfcSE</th><th scope=col>stat</th><th scope=col>pvalue</th><th scope=col>padj</th></tr>\n",
       "\t<tr><th></th><th scope=col>&lt;chr&gt;</th><th scope=col>&lt;dbl&gt;</th><th scope=col>&lt;dbl&gt;</th><th scope=col>&lt;dbl&gt;</th><th scope=col>&lt;dbl&gt;</th><th scope=col>&lt;dbl&gt;</th><th scope=col>&lt;dbl&gt;</th></tr>\n",
       "</thead>\n",
       "<tbody>\n",
       "\t<tr><th scope=row>1</th><td>STK17B         </td><td>2014.0395</td><td> 0.4409476</td><td>0.07175090</td><td> 6.145534</td><td>7.969489e-10</td><td>1.145933e-05</td></tr>\n",
       "\t<tr><th scope=row>2</th><td>WIPF1          </td><td> 854.2593</td><td> 0.3455430</td><td>0.05943076</td><td> 5.814211</td><td>6.092054e-09</td><td>4.379882e-05</td></tr>\n",
       "\t<tr><th scope=row>3</th><td>UGCG           </td><td>1400.7641</td><td> 0.3690945</td><td>0.06660289</td><td> 5.541719</td><td>2.995165e-08</td><td>1.399744e-04</td></tr>\n",
       "\t<tr><th scope=row>4</th><td>ENSG00000261553</td><td> 221.2103</td><td> 1.0088513</td><td>0.18357439</td><td> 5.495599</td><td>3.893857e-08</td><td>1.399744e-04</td></tr>\n",
       "\t<tr><th scope=row>5</th><td>PHACTR1        </td><td> 104.2846</td><td> 0.4820264</td><td>0.09001793</td><td> 5.354782</td><td>8.565972e-08</td><td>2.463402e-04</td></tr>\n",
       "\t<tr><th scope=row>6</th><td>CHMP2A         </td><td>2146.0711</td><td>-0.1945606</td><td>0.03726152</td><td>-5.221489</td><td>1.774899e-07</td><td>3.328163e-04</td></tr>\n",
       "</tbody>\n",
       "</table>\n"
      ],
      "text/latex": [
       "A data.frame: 6 × 7\n",
       "\\begin{tabular}{r|lllllll}\n",
       "  & X & baseMean & log2FoldChange & lfcSE & stat & pvalue & padj\\\\\n",
       "  & <chr> & <dbl> & <dbl> & <dbl> & <dbl> & <dbl> & <dbl>\\\\\n",
       "\\hline\n",
       "\t1 & STK17B          & 2014.0395 &  0.4409476 & 0.07175090 &  6.145534 & 7.969489e-10 & 1.145933e-05\\\\\n",
       "\t2 & WIPF1           &  854.2593 &  0.3455430 & 0.05943076 &  5.814211 & 6.092054e-09 & 4.379882e-05\\\\\n",
       "\t3 & UGCG            & 1400.7641 &  0.3690945 & 0.06660289 &  5.541719 & 2.995165e-08 & 1.399744e-04\\\\\n",
       "\t4 & ENSG00000261553 &  221.2103 &  1.0088513 & 0.18357439 &  5.495599 & 3.893857e-08 & 1.399744e-04\\\\\n",
       "\t5 & PHACTR1         &  104.2846 &  0.4820264 & 0.09001793 &  5.354782 & 8.565972e-08 & 2.463402e-04\\\\\n",
       "\t6 & CHMP2A          & 2146.0711 & -0.1945606 & 0.03726152 & -5.221489 & 1.774899e-07 & 3.328163e-04\\\\\n",
       "\\end{tabular}\n"
      ],
      "text/markdown": [
       "\n",
       "A data.frame: 6 × 7\n",
       "\n",
       "| <!--/--> | X &lt;chr&gt; | baseMean &lt;dbl&gt; | log2FoldChange &lt;dbl&gt; | lfcSE &lt;dbl&gt; | stat &lt;dbl&gt; | pvalue &lt;dbl&gt; | padj &lt;dbl&gt; |\n",
       "|---|---|---|---|---|---|---|---|\n",
       "| 1 | STK17B          | 2014.0395 |  0.4409476 | 0.07175090 |  6.145534 | 7.969489e-10 | 1.145933e-05 |\n",
       "| 2 | WIPF1           |  854.2593 |  0.3455430 | 0.05943076 |  5.814211 | 6.092054e-09 | 4.379882e-05 |\n",
       "| 3 | UGCG            | 1400.7641 |  0.3690945 | 0.06660289 |  5.541719 | 2.995165e-08 | 1.399744e-04 |\n",
       "| 4 | ENSG00000261553 |  221.2103 |  1.0088513 | 0.18357439 |  5.495599 | 3.893857e-08 | 1.399744e-04 |\n",
       "| 5 | PHACTR1         |  104.2846 |  0.4820264 | 0.09001793 |  5.354782 | 8.565972e-08 | 2.463402e-04 |\n",
       "| 6 | CHMP2A          | 2146.0711 | -0.1945606 | 0.03726152 | -5.221489 | 1.774899e-07 | 3.328163e-04 |\n",
       "\n"
      ],
      "text/plain": [
       "  X               baseMean  log2FoldChange lfcSE      stat      pvalue      \n",
       "1 STK17B          2014.0395  0.4409476     0.07175090  6.145534 7.969489e-10\n",
       "2 WIPF1            854.2593  0.3455430     0.05943076  5.814211 6.092054e-09\n",
       "3 UGCG            1400.7641  0.3690945     0.06660289  5.541719 2.995165e-08\n",
       "4 ENSG00000261553  221.2103  1.0088513     0.18357439  5.495599 3.893857e-08\n",
       "5 PHACTR1          104.2846  0.4820264     0.09001793  5.354782 8.565972e-08\n",
       "6 CHMP2A          2146.0711 -0.1945606     0.03726152 -5.221489 1.774899e-07\n",
       "  padj        \n",
       "1 1.145933e-05\n",
       "2 4.379882e-05\n",
       "3 1.399744e-04\n",
       "4 1.399744e-04\n",
       "5 2.463402e-04\n",
       "6 3.328163e-04"
      ]
     },
     "metadata": {},
     "output_type": "display_data"
    }
   ],
   "source": [
    "res <- read.csv('results/ruvg_runs/res5_17.csv')\n",
    "head(res)\n"
   ]
  },
  {
   "cell_type": "code",
   "execution_count": 13,
   "metadata": {
    "vscode": {
     "languageId": "r"
    }
   },
   "outputs": [],
   "source": [
    "#drop rows for column 'X' if they start with 'ENSG'\n",
    "res <- res %>% filter(!grepl('^ENSG', X))"
   ]
  },
  {
   "cell_type": "code",
   "execution_count": 14,
   "metadata": {
    "vscode": {
     "languageId": "r"
    }
   },
   "outputs": [
    {
     "data": {
      "text/html": [
       "<strong>png:</strong> 2"
      ],
      "text/latex": [
       "\\textbf{png:} 2"
      ],
      "text/markdown": [
       "**png:** 2"
      ],
      "text/plain": [
       "png \n",
       "  2 "
      ]
     },
     "metadata": {},
     "output_type": "display_data"
    }
   ],
   "source": [
    "\n",
    "\n",
    "#if res$'gene' starts with 'ENSG' then drop the row and save to new dataframe res2\n",
    "# res <- res %>% \n",
    "#   filter(!grepl('ENSG', gene))\n",
    "\n",
    "# res <- res[res$log2FoldChange > -6.5,]\n",
    "# res <- res[res$log2FoldChange < 6.5,]\n",
    "\n",
    "\n",
    "png('results/ruvg_runs/volcano5_17.png', width=1440, height=1440)\n",
    "EnhancedVolcano(res,\n",
    "    titleLabSize = 40,\n",
    "    subtitleLabSize = 30,\n",
    "    captionLabSize = 30,\n",
    "    axisLabSize = 30,\n",
    "    legendLabSize = 30,\n",
    "    title = \"Surgical Site Infection vs No Surgical Site Infection\",\n",
    "    subtitle = bquote(\"Colonic tissue\"),\n",
    "    lab = res$X,\n",
    "    # selectLab = c('HCAR3', 'MUC1', 'CXCL8', 'AQP9', 'MMP1', 'CXCL5', 'DUOX2', 'CHI3L1', 'MUC6', 'IL1B', 'TM4SF4', 'GSTA2'),\n",
    "    x = \"log2FoldChange\",\n",
    "    y = \"padj\",\n",
    "    legendLabels = c(\"NS\", \"p-adj\", \"L2FC\", \"p < 0.05 and L2FC > 1.5\"),\n",
    "    pCutoff = 0.1,\n",
    "    FCcutoff = 0.5,\n",
    "    pointSize = 3.0,\n",
    "    labSize = 16.0,\n",
    "    col = c(\"#e6f2ff\", \"#b3d9ff\", \"#b3d9ff\", \"#0066cc\"),\n",
    "    # colGradient = c('#990000', '#0066cc'))\n",
    "    #y axis scale from -0.05 to 2\n",
    "    ylim = c(0, 4),\n",
    "    xlim = c(-1.5, 1.5))\n",
    "dev.off()"
   ]
  },
  {
   "cell_type": "code",
   "execution_count": null,
   "metadata": {
    "vscode": {
     "languageId": "r"
    }
   },
   "outputs": [],
   "source": []
  },
  {
   "cell_type": "code",
   "execution_count": 34,
   "metadata": {
    "vscode": {
     "languageId": "r"
    }
   },
   "outputs": [
    {
     "name": "stderr",
     "output_type": "stream",
     "text": [
      "Warning message:\n",
      "“One or more p-values is 0. Converting to 10^-1 * current lowest non-zero p-value...”\n"
     ]
    },
    {
     "data": {
      "text/html": [
       "<strong>png:</strong> 2"
      ],
      "text/latex": [
       "\\textbf{png:} 2"
      ],
      "text/markdown": [
       "**png:** 2"
      ],
      "text/plain": [
       "png \n",
       "  2 "
      ]
     },
     "metadata": {},
     "output_type": "display_data"
    }
   ],
   "source": [
    "\n",
    "# %%\n",
    "res <- read.csv('results/deg_novo/deg_4iasc.csv')\n",
    "#if res$'gene' starts with 'ENSG' then drop the row and save to new dataframe res2\n",
    "# res <- res %>% \n",
    "#   filter(!grepl('ENSG', gene))\n",
    "\n",
    "# res <- res[res$log2FoldChange > -6.5,]\n",
    "# res <- res[res$log2FoldChange < 6.5,]\n",
    "\n",
    "\n",
    "png('results/volcano_iasc.png', width=1440, height=1440)\n",
    "EnhancedVolcano(res,\n",
    "    titleLabSize = 40,\n",
    "    subtitleLabSize = 30,\n",
    "    captionLabSize = 30,\n",
    "    axisLabSize = 30,\n",
    "    legendLabSize = 30,\n",
    "    title = \"IASC vs No IASC\",\n",
    "    subtitle = bquote('Colon - all samples'),\n",
    "    lab = res$gene,\n",
    "    # selectLab = c('HCAR3', 'MUC1', 'CXCL8', 'AQP9', 'MMP1', 'CXCL5', 'DUOX2', 'CHI3L1', 'MUC6', 'IL1B', 'TM4SF4', 'GSTA2'),\n",
    "    x = 'log2FoldChange',\n",
    "    y = 'padj',\n",
    "    legendLabels = c(\"NS\", \"p-adj\", \"L2FC\", \"p < 0.05 and L2FC > 1.5\"),\n",
    "    pCutoff = 0.05,\n",
    "    FCcutoff = 0.5,\n",
    "    pointSize = 3.0,\n",
    "    labSize = 16.0,\n",
    "    col = c(\"#e6f2ff\", \"#b3d9ff\", \"#b3d9ff\", \"#0066cc\"),\n",
    "    # colGradient = c('#990000', '#0066cc'))\n",
    "    #y axis scale from -0.05 to 2\n",
    "    ylim = c(0, 3),\n",
    "    xlim = c(-1.5, 1.5))\n",
    "dev.off()"
   ]
  },
  {
   "cell_type": "code",
   "execution_count": null,
   "metadata": {
    "vscode": {
     "languageId": "r"
    }
   },
   "outputs": [],
   "source": []
  },
  {
   "cell_type": "code",
   "execution_count": 35,
   "metadata": {
    "vscode": {
     "languageId": "r"
    }
   },
   "outputs": [
    {
     "data": {
      "text/html": [
       "<strong>png:</strong> 2"
      ],
      "text/latex": [
       "\\textbf{png:} 2"
      ],
      "text/markdown": [
       "**png:** 2"
      ],
      "text/plain": [
       "png \n",
       "  2 "
      ]
     },
     "metadata": {},
     "output_type": "display_data"
    }
   ],
   "source": [
    "# %%\n",
    "res <- read.csv('results/novo_cd/degs/deg_4.csv')\n",
    "#if res$'gene' starts with 'ENSG' then drop the row and save to new dataframe res2\n",
    "# res <- res %>% \n",
    "#   filter(!grepl('ENSG', gene))\n",
    "\n",
    "# res <- res[res$log2FoldChange > -6.5,]\n",
    "# res <- res[res$log2FoldChange < 6.5,]\n",
    "\n",
    "\n",
    "png('results/volcano_inf_cd.png', width=1440, height=1440)\n",
    "EnhancedVolcano(res,\n",
    "    titleLabSize = 40,\n",
    "    subtitleLabSize = 30,\n",
    "    captionLabSize = 30,\n",
    "    axisLabSize = 30,\n",
    "    legendLabSize = 30,\n",
    "    title = \"Surgical Site Infection vs No Surgical Site Infection\",\n",
    "    subtitle = bquote('Colon - CD'),\n",
    "    lab = res$gene,\n",
    "    # selectLab = c('HCAR3', 'MUC1', 'CXCL8', 'AQP9', 'MMP1', 'CXCL5', 'DUOX2', 'CHI3L1', 'MUC6', 'IL1B', 'TM4SF4', 'GSTA2'),\n",
    "    x = 'log2FoldChange',\n",
    "    y = 'padj',\n",
    "    legendLabels = c(\"NS\", \"p-adj\", \"L2FC\", \"p < 0.05 and L2FC > 1.5\"),\n",
    "    pCutoff = 0.05,\n",
    "    FCcutoff = 0.5,\n",
    "    pointSize = 3.0,\n",
    "    labSize = 16.0,\n",
    "    col = c(\"#e6f2ff\", \"#b3d9ff\", \"#b3d9ff\", \"#0066cc\"),\n",
    "    # colGradient = c('#990000', '#0066cc'))\n",
    "    #y axis scale from -0.05 to 2\n",
    "    ylim = c(0, 3),\n",
    "    xlim = c(-1.5, 1.5))\n",
    "dev.off()"
   ]
  },
  {
   "cell_type": "code",
   "execution_count": 36,
   "metadata": {
    "vscode": {
     "languageId": "r"
    }
   },
   "outputs": [
    {
     "data": {
      "text/html": [
       "<strong>png:</strong> 2"
      ],
      "text/latex": [
       "\\textbf{png:} 2"
      ],
      "text/markdown": [
       "**png:** 2"
      ],
      "text/plain": [
       "png \n",
       "  2 "
      ]
     },
     "metadata": {},
     "output_type": "display_data"
    }
   ],
   "source": [
    "\n",
    "# %%\n",
    "res <- read.csv('results/novo_cd/degs/deg_6iasc.csv')\n",
    "#if res$'gene' starts with 'ENSG' then drop the row and save to new dataframe res2\n",
    "# res <- res %>% \n",
    "#   filter(!grepl('ENSG', gene))\n",
    "\n",
    "# res <- res[res$log2FoldChange > -6.5,]\n",
    "# res <- res[res$log2FoldChange < 6.5,]\n",
    "\n",
    "\n",
    "png('results/volcano_iasc_cd.png', width=1440, height=1440)\n",
    "EnhancedVolcano(res,\n",
    "    titleLabSize = 40,\n",
    "    subtitleLabSize = 30,\n",
    "    captionLabSize = 30,\n",
    "    axisLabSize = 30,\n",
    "    legendLabSize = 30,\n",
    "    title = \"IASC vs No IASC\",\n",
    "    subtitle = bquote('Colon - CD'),\n",
    "    lab = res$gene,\n",
    "    # selectLab = c('HCAR3', 'MUC1', 'CXCL8', 'AQP9', 'MMP1', 'CXCL5', 'DUOX2', 'CHI3L1', 'MUC6', 'IL1B', 'TM4SF4', 'GSTA2'),\n",
    "    x = 'log2FoldChange',\n",
    "    y = 'padj',\n",
    "    legendLabels = c(\"NS\", \"p-adj\", \"L2FC\", \"p < 0.05 and L2FC > 1.5\"),\n",
    "    pCutoff = 0.1,\n",
    "    FCcutoff = 0.5,\n",
    "    pointSize = 3.0,\n",
    "    labSize = 16.0,\n",
    "    col = c(\"#e6f2ff\", \"#b3d9ff\", \"#b3d9ff\", \"#0066cc\"),\n",
    "    # colGradient = c('#990000', '#0066cc'))\n",
    "    #y axis scale from -0.05 to 2\n",
    "    ylim = c(0, 3),\n",
    "    xlim = c(-1.5, 1.5))\n",
    "dev.off()"
   ]
  },
  {
   "cell_type": "code",
   "execution_count": null,
   "metadata": {
    "vscode": {
     "languageId": "r"
    }
   },
   "outputs": [],
   "source": []
  },
  {
   "cell_type": "code",
   "execution_count": 11,
   "metadata": {
    "vscode": {
     "languageId": "r"
    }
   },
   "outputs": [
    {
     "data": {
      "text/html": [
       "<strong>png:</strong> 2"
      ],
      "text/latex": [
       "\\textbf{png:} 2"
      ],
      "text/markdown": [
       "**png:** 2"
      ],
      "text/plain": [
       "png \n",
       "  2 "
      ]
     },
     "metadata": {},
     "output_type": "display_data"
    }
   ],
   "source": [
    "\n",
    "# %%\n",
    "res <- read.csv('results/res_ruv9_inf_cd.csv')\n",
    "#if res$'gene' starts with 'ENSG' then drop the row and save to new dataframe res2\n",
    "# res <- res %>% \n",
    "#   filter(!grepl('ENSG', gene))\n",
    "\n",
    "# res <- res[res$log2FoldChange > -6.5,]\n",
    "# res <- res[res$log2FoldChange < 6.5,]\n",
    "\n",
    "\n",
    "png('results/volcano_inf_cd.png', width=1440, height=1440)\n",
    "EnhancedVolcano(res,\n",
    "    titleLabSize = 40,\n",
    "    subtitleLabSize = 30,\n",
    "    captionLabSize = 30,\n",
    "    axisLabSize = 30,\n",
    "    legendLabSize = 30,\n",
    "    title = \"Complication vs No Complication\",\n",
    "    subtitle = bquote(Colon),\n",
    "    lab = res$gene,\n",
    "    # selectLab = c('HCAR3', 'MUC1', 'CXCL8', 'AQP9', 'MMP1', 'CXCL5', 'DUOX2', 'CHI3L1', 'MUC6', 'IL1B', 'TM4SF4', 'GSTA2'),\n",
    "    x = 'log2FoldChange',\n",
    "    y = 'padj',\n",
    "    legendLabels = c(\"NS\", \"p-adj\", \"L2FC\", \"p < 0.05 and L2FC > 1.5\"),\n",
    "    pCutoff = 0.1,\n",
    "    FCcutoff = 0.5,\n",
    "    pointSize = 3.0,\n",
    "    labSize = 16.0,\n",
    "    col = c(\"#e6f2ff\", \"#b3d9ff\", \"#b3d9ff\", \"#0066cc\"),\n",
    "    # colGradient = c('#990000', '#0066cc'))\n",
    "    #y axis scale from -0.05 to 2\n",
    "    ylim = c(0, 3),\n",
    "    xlim = c(-1.5, 1.5))\n",
    "dev.off()"
   ]
  },
  {
   "cell_type": "code",
   "execution_count": null,
   "metadata": {
    "vscode": {
     "languageId": "r"
    }
   },
   "outputs": [],
   "source": []
  }
 ],
 "metadata": {
  "kernelspec": {
   "display_name": "R",
   "language": "R",
   "name": "ir"
  },
  "language_info": {
   "codemirror_mode": "r",
   "file_extension": ".r",
   "mimetype": "text/x-r-source",
   "name": "R",
   "pygments_lexer": "r",
   "version": "4.3.0"
  },
  "orig_nbformat": 4
 },
 "nbformat": 4,
 "nbformat_minor": 2
}
