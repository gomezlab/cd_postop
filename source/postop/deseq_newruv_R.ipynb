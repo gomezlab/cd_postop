{
 "cells": [
  {
   "cell_type": "code",
   "execution_count": 1,
   "metadata": {
    "vscode": {
     "languageId": "r"
    }
   },
   "outputs": [
    {
     "name": "stderr",
     "output_type": "stream",
     "text": [
      "Loading required package: stats4\n",
      "\n",
      "Loading required package: BiocGenerics\n",
      "\n",
      "\n",
      "Attaching package: ‘BiocGenerics’\n",
      "\n",
      "\n",
      "The following objects are masked from ‘package:stats’:\n",
      "\n",
      "    IQR, mad, sd, var, xtabs\n",
      "\n",
      "\n",
      "The following objects are masked from ‘package:base’:\n",
      "\n",
      "    anyDuplicated, aperm, append, as.data.frame, basename, cbind,\n",
      "    colnames, dirname, do.call, duplicated, eval, evalq, Filter, Find,\n",
      "    get, grep, grepl, intersect, is.unsorted, lapply, Map, mapply,\n",
      "    match, mget, order, paste, pmax, pmax.int, pmin, pmin.int,\n",
      "    Position, rank, rbind, Reduce, rownames, sapply, setdiff, sort,\n",
      "    table, tapply, union, unique, unsplit, which.max, which.min\n",
      "\n",
      "\n",
      "Loading required package: Biobase\n",
      "\n",
      "Welcome to Bioconductor\n",
      "\n",
      "    Vignettes contain introductory material; view with\n",
      "    'browseVignettes()'. To cite Bioconductor, see\n",
      "    'citation(\"Biobase\")', and for packages 'citation(\"pkgname\")'.\n",
      "\n",
      "\n",
      "Loading required package: IRanges\n",
      "\n",
      "Loading required package: S4Vectors\n",
      "\n",
      "\n",
      "Attaching package: ‘S4Vectors’\n",
      "\n",
      "\n",
      "The following object is masked from ‘package:utils’:\n",
      "\n",
      "    findMatches\n",
      "\n",
      "\n",
      "The following objects are masked from ‘package:base’:\n",
      "\n",
      "    expand.grid, I, unname\n",
      "\n",
      "\n",
      "Warning message:\n",
      "“replacing previous import ‘utils::findMatches’ by ‘S4Vectors::findMatches’ when loading ‘AnnotationDbi’”\n",
      "\n",
      "\n",
      "Loading required package: EDASeq\n",
      "\n",
      "Loading required package: ShortRead\n",
      "\n",
      "Loading required package: BiocParallel\n",
      "\n",
      "Loading required package: Biostrings\n",
      "\n",
      "Loading required package: XVector\n",
      "\n",
      "Loading required package: GenomeInfoDb\n",
      "\n",
      "\n",
      "Attaching package: ‘Biostrings’\n",
      "\n",
      "\n",
      "The following object is masked from ‘package:base’:\n",
      "\n",
      "    strsplit\n",
      "\n",
      "\n",
      "Loading required package: Rsamtools\n",
      "\n",
      "Loading required package: GenomicRanges\n",
      "\n",
      "Loading required package: GenomicAlignments\n",
      "\n",
      "Loading required package: SummarizedExperiment\n",
      "\n",
      "Loading required package: MatrixGenerics\n",
      "\n",
      "Loading required package: matrixStats\n",
      "\n",
      "\n",
      "Attaching package: ‘matrixStats’\n",
      "\n",
      "\n",
      "The following objects are masked from ‘package:Biobase’:\n",
      "\n",
      "    anyMissing, rowMedians\n",
      "\n",
      "\n",
      "\n",
      "Attaching package: ‘MatrixGenerics’\n",
      "\n",
      "\n",
      "The following objects are masked from ‘package:matrixStats’:\n",
      "\n",
      "    colAlls, colAnyNAs, colAnys, colAvgsPerRowSet, colCollapse,\n",
      "    colCounts, colCummaxs, colCummins, colCumprods, colCumsums,\n",
      "    colDiffs, colIQRDiffs, colIQRs, colLogSumExps, colMadDiffs,\n",
      "    colMads, colMaxs, colMeans2, colMedians, colMins, colOrderStats,\n",
      "    colProds, colQuantiles, colRanges, colRanks, colSdDiffs, colSds,\n",
      "    colSums2, colTabulates, colVarDiffs, colVars, colWeightedMads,\n",
      "    colWeightedMeans, colWeightedMedians, colWeightedSds,\n",
      "    colWeightedVars, rowAlls, rowAnyNAs, rowAnys, rowAvgsPerColSet,\n",
      "    rowCollapse, rowCounts, rowCummaxs, rowCummins, rowCumprods,\n",
      "    rowCumsums, rowDiffs, rowIQRDiffs, rowIQRs, rowLogSumExps,\n",
      "    rowMadDiffs, rowMads, rowMaxs, rowMeans2, rowMedians, rowMins,\n",
      "    rowOrderStats, rowProds, rowQuantiles, rowRanges, rowRanks,\n",
      "    rowSdDiffs, rowSds, rowSums2, rowTabulates, rowVarDiffs, rowVars,\n",
      "    rowWeightedMads, rowWeightedMeans, rowWeightedMedians,\n",
      "    rowWeightedSds, rowWeightedVars\n",
      "\n",
      "\n",
      "The following object is masked from ‘package:Biobase’:\n",
      "\n",
      "    rowMedians\n",
      "\n",
      "\n",
      "Warning message:\n",
      "“multiple methods tables found for ‘acbind’”\n",
      "Warning message:\n",
      "“multiple methods tables found for ‘arbind’”\n",
      "Loading required package: edgeR\n",
      "\n",
      "Loading required package: limma\n",
      "\n",
      "\n",
      "Attaching package: ‘limma’\n",
      "\n",
      "\n",
      "The following object is masked from ‘package:BiocGenerics’:\n",
      "\n",
      "    plotMA\n",
      "\n",
      "\n",
      "Loading required package: ggplot2\n",
      "\n",
      "\n",
      "Attaching package: ‘plotly’\n",
      "\n",
      "\n",
      "The following object is masked from ‘package:ggplot2’:\n",
      "\n",
      "    last_plot\n",
      "\n",
      "\n",
      "The following object is masked from ‘package:XVector’:\n",
      "\n",
      "    slice\n",
      "\n",
      "\n",
      "The following object is masked from ‘package:AnnotationDbi’:\n",
      "\n",
      "    select\n",
      "\n",
      "\n",
      "The following object is masked from ‘package:IRanges’:\n",
      "\n",
      "    slice\n",
      "\n",
      "\n",
      "The following object is masked from ‘package:S4Vectors’:\n",
      "\n",
      "    rename\n",
      "\n",
      "\n",
      "The following object is masked from ‘package:stats’:\n",
      "\n",
      "    filter\n",
      "\n",
      "\n",
      "The following object is masked from ‘package:graphics’:\n",
      "\n",
      "    layout\n",
      "\n",
      "\n",
      "\n",
      "Attaching package: ‘plyr’\n",
      "\n",
      "\n",
      "The following objects are masked from ‘package:plotly’:\n",
      "\n",
      "    arrange, mutate, rename, summarise\n",
      "\n",
      "\n",
      "The following object is masked from ‘package:ShortRead’:\n",
      "\n",
      "    id\n",
      "\n",
      "\n",
      "The following object is masked from ‘package:matrixStats’:\n",
      "\n",
      "    count\n",
      "\n",
      "\n",
      "The following object is masked from ‘package:XVector’:\n",
      "\n",
      "    compact\n",
      "\n",
      "\n",
      "The following object is masked from ‘package:IRanges’:\n",
      "\n",
      "    desc\n",
      "\n",
      "\n",
      "The following object is masked from ‘package:S4Vectors’:\n",
      "\n",
      "    rename\n",
      "\n",
      "\n",
      "\n",
      "Attaching package: ‘dplyr’\n",
      "\n",
      "\n",
      "The following objects are masked from ‘package:plyr’:\n",
      "\n",
      "    arrange, count, desc, failwith, id, mutate, rename, summarise,\n",
      "    summarize\n",
      "\n",
      "\n",
      "The following object is masked from ‘package:ShortRead’:\n",
      "\n",
      "    id\n",
      "\n",
      "\n",
      "The following objects are masked from ‘package:GenomicAlignments’:\n",
      "\n",
      "    first, last\n",
      "\n",
      "\n",
      "The following object is masked from ‘package:matrixStats’:\n",
      "\n",
      "    count\n",
      "\n",
      "\n",
      "The following objects are masked from ‘package:GenomicRanges’:\n",
      "\n",
      "    intersect, setdiff, union\n",
      "\n",
      "\n",
      "The following objects are masked from ‘package:Biostrings’:\n",
      "\n",
      "    collapse, intersect, setdiff, setequal, union\n",
      "\n",
      "\n",
      "The following object is masked from ‘package:GenomeInfoDb’:\n",
      "\n",
      "    intersect\n",
      "\n",
      "\n",
      "The following object is masked from ‘package:XVector’:\n",
      "\n",
      "    slice\n",
      "\n",
      "\n",
      "The following object is masked from ‘package:AnnotationDbi’:\n",
      "\n",
      "    select\n",
      "\n",
      "\n",
      "The following objects are masked from ‘package:IRanges’:\n",
      "\n",
      "    collapse, desc, intersect, setdiff, slice, union\n",
      "\n",
      "\n",
      "The following objects are masked from ‘package:S4Vectors’:\n",
      "\n",
      "    first, intersect, rename, setdiff, setequal, union\n",
      "\n",
      "\n",
      "The following object is masked from ‘package:Biobase’:\n",
      "\n",
      "    combine\n",
      "\n",
      "\n",
      "The following objects are masked from ‘package:BiocGenerics’:\n",
      "\n",
      "    combine, intersect, setdiff, union\n",
      "\n",
      "\n",
      "The following objects are masked from ‘package:stats’:\n",
      "\n",
      "    filter, lag\n",
      "\n",
      "\n",
      "The following objects are masked from ‘package:base’:\n",
      "\n",
      "    intersect, setdiff, setequal, union\n",
      "\n",
      "\n",
      "Registered S3 method overwritten by 'GGally':\n",
      "  method from   \n",
      "  +.gg   ggplot2\n",
      "\n",
      "── \u001b[1mAttaching core tidyverse packages\u001b[22m ──────────────────────── tidyverse 2.0.0 ──\n",
      "\u001b[32m✔\u001b[39m \u001b[34mforcats  \u001b[39m 1.0.0     \u001b[32m✔\u001b[39m \u001b[34mstringr  \u001b[39m 1.5.0\n",
      "\u001b[32m✔\u001b[39m \u001b[34mlubridate\u001b[39m 1.9.2     \u001b[32m✔\u001b[39m \u001b[34mtibble   \u001b[39m 3.2.1\n",
      "\u001b[32m✔\u001b[39m \u001b[34mpurrr    \u001b[39m 1.0.1     \u001b[32m✔\u001b[39m \u001b[34mtidyr    \u001b[39m 1.3.0\n",
      "\u001b[32m✔\u001b[39m \u001b[34mreadr    \u001b[39m 2.1.4     \n",
      "── \u001b[1mConflicts\u001b[22m ────────────────────────────────────────── tidyverse_conflicts() ──\n",
      "\u001b[31m✖\u001b[39m \u001b[34mlubridate\u001b[39m::\u001b[32m%within%()\u001b[39m masks \u001b[34mIRanges\u001b[39m::%within%()\n",
      "\u001b[31m✖\u001b[39m \u001b[34mdplyr\u001b[39m::\u001b[32marrange()\u001b[39m      masks \u001b[34mplyr\u001b[39m::arrange(), \u001b[34mplotly\u001b[39m::arrange()\n",
      "\u001b[31m✖\u001b[39m \u001b[34mdplyr\u001b[39m::\u001b[32mcollapse()\u001b[39m     masks \u001b[34mBiostrings\u001b[39m::collapse(), \u001b[34mIRanges\u001b[39m::collapse()\n",
      "\u001b[31m✖\u001b[39m \u001b[34mdplyr\u001b[39m::\u001b[32mcombine()\u001b[39m      masks \u001b[34mBiobase\u001b[39m::combine(), \u001b[34mBiocGenerics\u001b[39m::combine()\n",
      "\u001b[31m✖\u001b[39m \u001b[34mpurrr\u001b[39m::\u001b[32mcompact()\u001b[39m      masks \u001b[34mplyr\u001b[39m::compact(), \u001b[34mXVector\u001b[39m::compact()\n",
      "\u001b[31m✖\u001b[39m \u001b[34mpurrr\u001b[39m::\u001b[32mcompose()\u001b[39m      masks \u001b[34mShortRead\u001b[39m::compose()\n",
      "\u001b[31m✖\u001b[39m \u001b[34mdplyr\u001b[39m::\u001b[32mcount()\u001b[39m        masks \u001b[34mplyr\u001b[39m::count(), \u001b[34mmatrixStats\u001b[39m::count()\n",
      "\u001b[31m✖\u001b[39m \u001b[34mdplyr\u001b[39m::\u001b[32mdesc()\u001b[39m         masks \u001b[34mplyr\u001b[39m::desc(), \u001b[34mIRanges\u001b[39m::desc()\n",
      "\u001b[31m✖\u001b[39m \u001b[34mtidyr\u001b[39m::\u001b[32mexpand()\u001b[39m       masks \u001b[34mS4Vectors\u001b[39m::expand()\n",
      "\u001b[31m✖\u001b[39m \u001b[34mdplyr\u001b[39m::\u001b[32mfailwith()\u001b[39m     masks \u001b[34mplyr\u001b[39m::failwith()\n",
      "\u001b[31m✖\u001b[39m \u001b[34mdplyr\u001b[39m::\u001b[32mfilter()\u001b[39m       masks \u001b[34mplotly\u001b[39m::filter(), \u001b[34mstats\u001b[39m::filter()\n",
      "\u001b[31m✖\u001b[39m \u001b[34mdplyr\u001b[39m::\u001b[32mfirst()\u001b[39m        masks \u001b[34mGenomicAlignments\u001b[39m::first(), \u001b[34mS4Vectors\u001b[39m::first()\n",
      "\u001b[31m✖\u001b[39m \u001b[34mdplyr\u001b[39m::\u001b[32mid()\u001b[39m           masks \u001b[34mplyr\u001b[39m::id(), \u001b[34mShortRead\u001b[39m::id()\n",
      "\u001b[31m✖\u001b[39m \u001b[34mdplyr\u001b[39m::\u001b[32mlag()\u001b[39m          masks \u001b[34mstats\u001b[39m::lag()\n",
      "\u001b[31m✖\u001b[39m \u001b[34mdplyr\u001b[39m::\u001b[32mlast()\u001b[39m         masks \u001b[34mGenomicAlignments\u001b[39m::last()\n",
      "\u001b[31m✖\u001b[39m \u001b[34mdplyr\u001b[39m::\u001b[32mmutate()\u001b[39m       masks \u001b[34mplyr\u001b[39m::mutate(), \u001b[34mplotly\u001b[39m::mutate()\n",
      "\u001b[31m✖\u001b[39m \u001b[34mggplot2\u001b[39m::\u001b[32mPosition()\u001b[39m   masks \u001b[34mBiocGenerics\u001b[39m::Position(), \u001b[34mbase\u001b[39m::Position()\n",
      "\u001b[31m✖\u001b[39m \u001b[34mpurrr\u001b[39m::\u001b[32mreduce()\u001b[39m       masks \u001b[34mGenomicRanges\u001b[39m::reduce(), \u001b[34mIRanges\u001b[39m::reduce()\n",
      "\u001b[31m✖\u001b[39m \u001b[34mdplyr\u001b[39m::\u001b[32mrename()\u001b[39m       masks \u001b[34mplyr\u001b[39m::rename(), \u001b[34mplotly\u001b[39m::rename(), \u001b[34mS4Vectors\u001b[39m::rename()\n",
      "\u001b[31m✖\u001b[39m \u001b[34mlubridate\u001b[39m::\u001b[32msecond()\u001b[39m   masks \u001b[34mGenomicAlignments\u001b[39m::second(), \u001b[34mS4Vectors\u001b[39m::second()\n",
      "\u001b[31m✖\u001b[39m \u001b[34mlubridate\u001b[39m::\u001b[32msecond<-()\u001b[39m masks \u001b[34mS4Vectors\u001b[39m::second<-()\n",
      "\u001b[31m✖\u001b[39m \u001b[34mdplyr\u001b[39m::\u001b[32mselect()\u001b[39m       masks \u001b[34mplotly\u001b[39m::select(), \u001b[34mAnnotationDbi\u001b[39m::select()\n",
      "\u001b[31m✖\u001b[39m \u001b[34mdplyr\u001b[39m::\u001b[32mslice()\u001b[39m        masks \u001b[34mplotly\u001b[39m::slice(), \u001b[34mXVector\u001b[39m::slice(), \u001b[34mIRanges\u001b[39m::slice()\n",
      "\u001b[31m✖\u001b[39m \u001b[34mdplyr\u001b[39m::\u001b[32msummarise()\u001b[39m    masks \u001b[34mplyr\u001b[39m::summarise(), \u001b[34mplotly\u001b[39m::summarise()\n",
      "\u001b[31m✖\u001b[39m \u001b[34mdplyr\u001b[39m::\u001b[32msummarize()\u001b[39m    masks \u001b[34mplyr\u001b[39m::summarize()\n",
      "\u001b[31m✖\u001b[39m \u001b[34mtibble\u001b[39m::\u001b[32mview()\u001b[39m        masks \u001b[34mShortRead\u001b[39m::view()\n",
      "\u001b[36mℹ\u001b[39m Use the conflicted package (\u001b[3m\u001b[34m<http://conflicted.r-lib.org/>\u001b[39m\u001b[23m) to force all conflicts to become errors\n",
      "\n",
      "Attaching package: ‘scales’\n",
      "\n",
      "\n",
      "The following object is masked from ‘package:purrr’:\n",
      "\n",
      "    discard\n",
      "\n",
      "\n",
      "The following object is masked from ‘package:readr’:\n",
      "\n",
      "    col_factor\n",
      "\n",
      "\n",
      "\n",
      "Attaching package: ‘reshape2’\n",
      "\n",
      "\n",
      "The following object is masked from ‘package:tidyr’:\n",
      "\n",
      "    smiths\n",
      "\n",
      "\n",
      "========================================\n",
      "circlize version 0.4.15\n",
      "CRAN page: https://cran.r-project.org/package=circlize\n",
      "Github page: https://github.com/jokergoo/circlize\n",
      "Documentation: https://jokergoo.github.io/circlize_book/book/\n",
      "\n",
      "If you use it in published research, please cite:\n",
      "Gu, Z. circlize implements and enhances circular visualization\n",
      "  in R. Bioinformatics 2014.\n",
      "\n",
      "This message can be suppressed by:\n",
      "  suppressPackageStartupMessages(library(circlize))\n",
      "========================================\n",
      "\n",
      "\n",
      "\n",
      "Attaching package: ‘gplots’\n",
      "\n",
      "\n",
      "The following object is masked from ‘package:IRanges’:\n",
      "\n",
      "    space\n",
      "\n",
      "\n",
      "The following object is masked from ‘package:S4Vectors’:\n",
      "\n",
      "    space\n",
      "\n",
      "\n",
      "The following object is masked from ‘package:stats’:\n",
      "\n",
      "    lowess\n",
      "\n",
      "\n",
      "Loading required package: grid\n",
      "\n",
      "\n",
      "Attaching package: ‘grid’\n",
      "\n",
      "\n",
      "The following object is masked from ‘package:Biostrings’:\n",
      "\n",
      "    pattern\n",
      "\n",
      "\n",
      "Loading required package: futile.logger\n",
      "\n"
     ]
    }
   ],
   "source": [
    "library(\"AnnotationDbi\")\n",
    "library(\"org.Hs.eg.db\")\n",
    "library(RUVSeq)\n",
    "source(\"downstreamAnalysis_RNAseqFunctions.R\")"
   ]
  },
  {
   "cell_type": "code",
   "execution_count": 2,
   "metadata": {
    "vscode": {
     "languageId": "r"
    }
   },
   "outputs": [],
   "source": [
    "# Read in data\n",
    "\n",
    "cts = as.matrix(read.csv(\"../../data/cts_nsqip.csv\", sep=',', row.names=1))\n",
    "coldata = read.csv('../../data/coldata_nsqip.csv', sep=',', row.names=1)\n",
    "\n",
    "dim(coldata)\n",
    "dim(cts)\n"
   ]
  },
  {
   "cell_type": "code",
   "execution_count": null,
   "metadata": {
    "vscode": {
     "languageId": "r"
    }
   },
   "outputs": [
    {
     "data": {
      "text/html": [
       "TRUE"
      ],
      "text/latex": [
       "TRUE"
      ],
      "text/markdown": [
       "TRUE"
      ],
      "text/plain": [
       "[1] TRUE"
      ]
     },
     "metadata": {},
     "output_type": "display_data"
    },
    {
     "name": "stderr",
     "output_type": "stream",
     "text": [
      "converting counts to integer mode\n",
      "\n"
     ]
    }
   ],
   "source": [
    "factor_cols = c('sex', 'disease', 'batch', 'SSI', 'IASC')\n",
    "for (col in factor_cols) {\n",
    "  coldata[,col] = as.factor(coldata[,col])\n",
    "}\n",
    "\n",
    "sex = coldata$sex\n",
    "SSI = coldata$SSI\n",
    "any = coldata$any\n",
    "iasc = coldata$IASC\n",
    "batch = coldata$batch\n",
    "full_batch = coldata$fullBatch\n",
    "subtype = coldata$subtype\n",
    "tin = coldata$TIN_med_new\n",
    "# date = coldata$sampleDate\n",
    "disease = coldata$disease\n",
    "\n",
    "sample = rownames(coldata)\n",
    "\n",
    "#round counts to integers\n",
    "cts <- round(cts);\n",
    "\n",
    "#check if row names of coldata match colnames of cts\n",
    "all(rownames(coldata) == colnames(cts))\n",
    "\n",
    "#adjust for batch and sexBin\n",
    "design <- as.formula(~ SSI)\n",
    "#create the dds object\n",
    "dds = DESeqDataSetFromMatrix(countData = cts, colData = coldata, design = design)"
   ]
  },
  {
   "cell_type": "code",
   "execution_count": null,
   "metadata": {
    "vscode": {
     "languageId": "r"
    }
   },
   "outputs": [],
   "source": [
    "\n",
    "# #save the plot\n",
    "# png(\"results/i/pca_source_raw.png\", width=1024, height=512)\n",
    "# ggplot(pcaData, aes(PC1, PC2, color=source, shape=recur)) +\n",
    "#     geom_point(size=5) +\n",
    "#     #geom_text(aes(label=sample),hjust=0, vjust=0) +\n",
    "#     xlab(paste0(\"PC1: \",percentVar[1],\"% variance\")) +\n",
    "#     ylab(paste0(\"PC2: \",percentVar[2],\"% variance\")) + \n",
    "#     coord_fixed() +\n",
    "    \n",
    "#     theme(text = element_text(size = 24))\n",
    "# dev.off()"
   ]
  },
  {
   "cell_type": "code",
   "execution_count": null,
   "metadata": {
    "vscode": {
     "languageId": "r"
    }
   },
   "outputs": [
    {
     "name": "stderr",
     "output_type": "stream",
     "text": [
      "Import genomic features from the file as a GRanges object ... \n",
      "OK\n",
      "\n",
      "Prepare the 'metadata' data frame ... \n",
      "OK\n",
      "\n",
      "Make the TxDb object ... \n",
      "Warning message in .get_cds_IDX(mcols0$type, mcols0$phase):\n",
      "“The \"phase\" metadata column contains non-NA values for features of type\n",
      "  stop_codon. This information was ignored.”\n",
      "OK\n",
      "\n",
      "'select()' returned 1:1 mapping between keys and columns\n",
      "\n"
     ]
    }
   ],
   "source": [
    "library('GenomicFeatures')\n",
    "#use the GenomicFeatures package to create a transcript database (txDb) file from our GENCODE annotation file, and use it to pull out the chromosomal coordinates for each of our transcripts (including which chromosome it is on)\n",
    "txdb = makeTxDbFromGFF('../../data/gencode.v39.annotation.gtf', dbxrefTag = \"gene_id\", organism = 'Homo sapiens')\n",
    "k <- keys(txdb, keytype = 'TXNAME')\n",
    "tx2gene <- AnnotationDbi::select(txdb, keys=k, columns=c('GENEID', 'TXCHROM', 'TXSTART', 'TXEND', 'TXSTRAND'), keytype='TXNAME')\n",
    "# make a subset of the list containing only the Ensembl gene IDs and the names of the chromosomes, and create a subset for all the genes on chromosomes X and Y\n",
    "tx2gene_short = tx2gene[,2:3]\n",
    "tx2gene_short = unique(tx2gene_short)\n",
    "tx2gene_short_xychrom = tx2gene_short[tx2gene_short$TXCHROM==\"chrX\" | tx2gene_short$TXCHROM==\"chrY\",]"
   ]
  },
  {
   "cell_type": "code",
   "execution_count": null,
   "metadata": {
    "vscode": {
     "languageId": "r"
    }
   },
   "outputs": [
    {
     "data": {
      "text/html": [
       "<style>\n",
       ".list-inline {list-style: none; margin:0; padding: 0}\n",
       ".list-inline>li {display: inline-block}\n",
       ".list-inline>li:not(:last-child)::after {content: \"\\00b7\"; padding: 0 .5ex}\n",
       "</style>\n",
       "<ol class=list-inline><li>14664</li><li>110</li></ol>\n"
      ],
      "text/latex": [
       "\\begin{enumerate*}\n",
       "\\item 14664\n",
       "\\item 110\n",
       "\\end{enumerate*}\n"
      ],
      "text/markdown": [
       "1. 14664\n",
       "2. 110\n",
       "\n",
       "\n"
      ],
      "text/plain": [
       "[1] 14664   110"
      ]
     },
     "metadata": {},
     "output_type": "display_data"
    }
   ],
   "source": [
    "#now remove the rows from cts if they are present in 'GENEID' in tx2gene_short_xychrom\n",
    "cts <- cts[! match(rownames(cts), tx2gene_short_xychrom$GENEID, nomatch=0),]\n",
    "dim(cts)"
   ]
  },
  {
   "cell_type": "code",
   "execution_count": null,
   "metadata": {
    "vscode": {
     "languageId": "r"
    }
   },
   "outputs": [
    {
     "data": {
      "text/plain": [
       "keep\n",
       " TRUE \n",
       "14664 "
      ]
     },
     "metadata": {},
     "output_type": "display_data"
    },
    {
     "name": "stderr",
     "output_type": "stream",
     "text": [
      "estimating size factors\n",
      "\n",
      "estimating dispersions\n",
      "\n",
      "gene-wise dispersion estimates\n",
      "\n",
      "mean-dispersion relationship\n",
      "\n",
      "final dispersion estimates\n",
      "\n",
      "fitting model and testing\n",
      "\n",
      "-- replacing outliers and refitting for 54 genes\n",
      "-- DESeq argument 'minReplicatesForReplace' = 7 \n",
      "-- original counts are preserved in counts(dds)\n",
      "\n",
      "estimating dispersions\n",
      "\n",
      "fitting model and testing\n",
      "\n"
     ]
    },
    {
     "data": {
      "text/plain": [
       "\n",
       "FALSE  TRUE \n",
       " 6523  8141 "
      ]
     },
     "metadata": {},
     "output_type": "display_data"
    }
   ],
   "source": [
    "#DESeq on the raw data to identify control genes\n",
    "#filter genes for low expression with edgeR\n",
    "y <- DGEList(counts=counts(dds), group=SSI)\n",
    "keep <- filterByExpr(y)\n",
    "table(keep)\n",
    "y <- y[keep,]\n",
    "dds <- dds[keep,]\n",
    "\n",
    "dds <- DESeq(dds)\n",
    "res <- results(dds)\n",
    "table(res$pvalue < 0.5)"
   ]
  },
  {
   "cell_type": "code",
   "execution_count": null,
   "metadata": {
    "vscode": {
     "languageId": "r"
    }
   },
   "outputs": [],
   "source": [
    "set <- newSeqExpressionSet(counts(dds))\n",
    "set <- betweenLaneNormalization(set, which='upper')\n",
    "not_sig <- rownames(res)[which(res$pvalue > 0.5)]\n",
    "empirical <- rownames(set)[ rownames(set) %in% not_sig ]\n",
    "set <- RUVg(set, empirical, k=20)\n",
    "pdat <- pData(set)\n",
    "pdat$SSI <- SSI\n",
    "pdat$sex <- sex"
   ]
  },
  {
   "cell_type": "code",
   "execution_count": null,
   "metadata": {
    "vscode": {
     "languageId": "r"
    }
   },
   "outputs": [],
   "source": [
    "# # Read in data back in to get the XY genes back\n",
    "# cts = as.matrix(read.csv(\"../../data/cts_nsqip.csv\", sep=',', row.names=1))\n",
    "# #round counts to integers\n",
    "# cts <- round(cts);\n",
    "\n",
    "# #check if row names of coldata match colnames of cts\n",
    "# all(rownames(coldata) == colnames(cts))"
   ]
  },
  {
   "cell_type": "code",
   "execution_count": null,
   "metadata": {
    "vscode": {
     "languageId": "r"
    }
   },
   "outputs": [],
   "source": [
    "formula_list = list(\n",
    "~ sex + W_1 + SSI, \n",
    "~ sex + W_1 + W_2 + SSI, \n",
    "~ sex + W_1 + W_2 + W_3 + SSI, \n",
    "~ sex + W_1 + W_2 + W_3 + W_4 + SSI, \n",
    "~ sex + W_1 + W_2 + W_3 + W_4 + W_5 + SSI, \n",
    "~ sex + W_1 + W_2 + W_3 + W_4 + W_5 + W_6 + SSI, \n",
    "~ sex + W_1 + W_2 + W_3 + W_4 + W_5 + W_6 + W_7 + SSI, \n",
    "~ sex + W_1 + W_2 + W_3 + W_4 + W_5 + W_6 + W_7 + W_8 + SSI, \n",
    "~ sex + W_1 + W_2 + W_3 + W_4 + W_5 + W_6 + W_7 + W_8 + W_9 + SSI, \n",
    "~ sex + W_1 + W_2 + W_3 + W_4 + W_5 + W_6 + W_7 + W_8 + W_9 + W_10 + SSI,\n",
    "~ sex + W_1 + W_2 + W_3 + W_4 + W_5 + W_6 + W_7 + W_8 + W_9 + W_10 + W_11 + SSI,\n",
    "~ sex + W_1 + W_2 + W_3 + W_4 + W_5 + W_6 + W_7 + W_8 + W_9 + W_10 + W_11 + W_12 + SSI,\n",
    "~ sex + W_1 + W_2 + W_3 + W_4 + W_5 + W_6 + W_7 + W_8 + W_9 + W_10 + W_11 + W_12 + W_13 + SSI,\n",
    "~ sex + W_1 + W_2 + W_3 + W_4 + W_5 + W_6 + W_7 + W_8 + W_9 + W_10 + W_11 + W_12 + W_13 + W_14 + SSI,\n",
    "~ sex + W_1 + W_2 + W_3 + W_4 + W_5 + W_6 + W_7 + W_8 + W_9 + W_10 + W_11 + W_12 + W_13 + W_14 + + W_15 + SSI,\n",
    "~ sex + W_1 + W_2 + W_3 + W_4 + W_5 + W_6 + W_7 + W_8 + W_9 + W_10 + W_11 + W_12 + W_13 + W_14 + + W_15 + W_16 + SSI,\n",
    "~ sex + W_1 + W_2 + W_3 + W_4 + W_5 + W_6 + W_7 + W_8 + W_9 + W_10 + W_11 + W_12 + W_13 + W_14 + + W_15 + W_16 + W_17 + SSI,\n",
    "~ sex + W_1 + W_2 + W_3 + W_4 + W_5 + W_6 + W_7 + W_8 + W_9 + W_10 + W_11 + W_12 + W_13 + W_14 + + W_15 + W_16 + W_17 + W_18 + SSI,\n",
    "~ sex + W_1 + W_2 + W_3 + W_4 + W_5 + W_6 + W_7 + W_8 + W_9 + W_10 + W_11 + W_12 + W_13 + W_14 + + W_15 + W_16 + W_17 + W_18 + W_19 + SSI,\n",
    "~ sex + W_1 + W_2 + W_3 + W_4 + W_5 + W_6 + W_7 + W_8 + W_9 + W_10 + W_11 + W_12 + W_13 + W_14 + + W_15 + W_16 + W_17 + W_18 + W_19 + W_20 + SSI)\n",
    "\n",
    "\n"
   ]
  },
  {
   "cell_type": "code",
   "execution_count": null,
   "metadata": {
    "vscode": {
     "languageId": "r"
    }
   },
   "outputs": [],
   "source": [
    "\n",
    "#create an empty dataframe to store the number of significant genes\n",
    "deg_counts = data.frame(matrix(ncol=20, nrow=0))\n",
    "colnames(deg_counts) = c(\"formula\", \"sig_genes\")\n",
    "\n",
    "for (x in seq_along(formula_list)) {\n",
    "    design_formula = formula(formula_list[[x]])\n",
    "    dds1 <- DESeqDataSetFromMatrix(countData=cts, colData=pdat, design = design_formula)\n",
    "    y <- DGEList(counts=counts(dds1), group=coldata$SSI)\n",
    "    keep <- filterByExpr(y)\n",
    "    table(keep)\n",
    "    y <- y[keep,]\n",
    "    dds1 <- dds1[keep,]\n",
    "    dds1 <- DESeq(dds1)\n",
    "    res <- results(dds1)\n",
    "    res <- res[order(res$padj),]\n",
    "    #get the number of significant genes\n",
    "    sig_genes <- res[which(res$padj < 0.05),]\n",
    "    #save the number of significant genes to the dataframe\n",
    "    deg_counts = rbind(deg_counts, c(x, nrow(sig_genes)))\n",
    "    #save the results to a csv file\n",
    "    write.csv(res, paste0(\"../../results/post_op/ruvg_runs/res5_\", x, \".csv\"))\n",
    "}\n",
    "\n",
    "head(deg_counts, 10)"
   ]
  },
  {
   "cell_type": "code",
   "execution_count": 11,
   "metadata": {
    "vscode": {
     "languageId": "r"
    }
   },
   "outputs": [
    {
     "data": {
      "image/png": "[encoded data removed]",
      "text/plain": [
       "plot without title"
      ]
     },
     "metadata": {
      "image/png": {
       "height": 420,
       "width": 420
      }
     },
     "output_type": "display_data"
    }
   ],
   "source": [
    "colnames(deg_counts) = c(\"formula\", \"sig_genes\")\n",
    "#plot the number of significant genes vs the number of covariates\n",
    "ggplot(deg_counts, aes(x=formula, y=sig_genes)) +\n",
    "    geom_point(size=5) +\n",
    "    geom_line() +\n",
    "    xlab(\"Number of Covariates\") +\n",
    "    ylab(\"Number of Significant Genes\") +\n",
    "    theme(text = element_text(size = 24))\n",
    "#save the plot\n",
    "ggsave(\"../../results/post_op/ruvg_runs/deg_counts5.png\", width=10, height=10)"
   ]
  },
  {
   "cell_type": "code",
   "execution_count": null,
   "metadata": {
    "vscode": {
     "languageId": "r"
    }
   },
   "outputs": [
    {
     "data": {
      "text/plain": [
       "~sex + W_1 + W_2 + W_3 + W_4 + W_5 + W_6 + W_7 + W_8 + W_9 + \n",
       "    W_10 + W_11 + W_12 + W_13 + SSI"
      ]
     },
     "metadata": {},
     "output_type": "display_data"
    },
    {
     "name": "stderr",
     "output_type": "stream",
     "text": [
      "converting counts to integer mode\n",
      "\n"
     ]
    },
    {
     "data": {
      "text/plain": [
       "keep\n",
       " TRUE \n",
       "14664 "
      ]
     },
     "metadata": {},
     "output_type": "display_data"
    },
    {
     "name": "stderr",
     "output_type": "stream",
     "text": [
      "estimating size factors\n",
      "\n",
      "estimating dispersions\n",
      "\n",
      "gene-wise dispersion estimates\n",
      "\n",
      "mean-dispersion relationship\n",
      "\n",
      "final dispersion estimates\n",
      "\n",
      "fitting model and testing\n",
      "\n"
     ]
    }
   ],
   "source": [
    "#use 18 covariates\n",
    "design_formula = formula(formula_list[[13]])\n",
    "design_formula\n",
    "dds = DESeqDataSetFromMatrix(countData=cts, colData=pdat, design = design_formula)\n",
    "#filter genes for low expression with edgeR\n",
    "y <- DGEList(counts=counts(dds), group=SSI)\n",
    "keep <- filterByExpr(y)\n",
    "table(keep)\n",
    "y <- y[keep,]\n",
    "dds <- dds[keep,]\n",
    "#run DESeq\n",
    "dds <- DESeq(dds)\n",
    "res <- results(dds)\n"
   ]
  },
  {
   "cell_type": "code",
   "execution_count": null,
   "metadata": {
    "vscode": {
     "languageId": "r"
    }
   },
   "outputs": [
    {
     "name": "stderr",
     "output_type": "stream",
     "text": [
      "\n",
      "Attaching package: ‘genefilter’\n",
      "\n",
      "\n",
      "The following object is masked _by_ ‘.GlobalEnv’:\n",
      "\n",
      "    varFilter\n",
      "\n",
      "\n",
      "The following object is masked from ‘package:readr’:\n",
      "\n",
      "    spec\n",
      "\n",
      "\n",
      "The following objects are masked from ‘package:MatrixGenerics’:\n",
      "\n",
      "    rowSds, rowVars\n",
      "\n",
      "\n",
      "The following objects are masked from ‘package:matrixStats’:\n",
      "\n",
      "    rowSds, rowVars\n",
      "\n",
      "\n"
     ]
    }
   ],
   "source": [
    "library('pheatmap')\n",
    "library('genefilter')\n",
    "#use RemoveBatchEffect to adjust for the identified covariates\n",
    "#first create variables for each of the RUV factors\n",
    "ruv1 = pdat$W_1\n",
    "ruv2 = pdat$W_2\n",
    "ruv3 = pdat$W_3\n",
    "ruv4 = pdat$W_4\n",
    "ruv5 = pdat$W_5\n",
    "ruv6 = pdat$W_6\n",
    "ruv7 = pdat$W_7\n",
    "ruv8 = pdat$W_8\n",
    "ruv9 = pdat$W_9\n",
    "ruv10 = pdat$W_10\n",
    "ruv11 = pdat$W_11\n",
    "ruv12 = pdat$W_12\n",
    "ruv13 = pdat$W_13\n",
    "\n",
    "#run RemoveBatchEffect using the RUV factors and sex\n",
    "vsd = vst(dds)\n",
    "mat= assay(vsd)\n",
    "assay(vsd) <- removeBatchEffect(assay(vsd), batch=sex, covariates=cbind(ruv1, ruv2, ruv3, ruv4, ruv5, ruv6, ruv7, ruv8, ruv9, ruv10, ruv11, ruv12, ruv13))\n",
    "#save out the normalized counts to csv\n",
    "write.csv(mat, \"../../results/post_op/ruvg_runs/rbe_data5_13.csv\")\n"
   ]
  },
  {
   "cell_type": "code",
   "execution_count": null,
   "metadata": {
    "vscode": {
     "languageId": "r"
    }
   },
   "outputs": [],
   "source": [
    "resOrdered <- res[order(res$padj),]\n",
    "resOrdered$gene <- rownames(resOrdered)\n",
    "resOrdered = resOrdered[,c(7, 1, 2, 3, 4, 5, 6)]\n",
    "head(resOrdered)\n"
   ]
  },
  {
   "cell_type": "code",
   "execution_count": null,
   "metadata": {
    "vscode": {
     "languageId": "r"
    }
   },
   "outputs": [],
   "source": [
    "#if the gene starts with 'ENSG', drop the row from the dataframe\n",
    "resOrdered <- resOrdered[!grepl(\"^ENSG\", resOrdered$gene),]"
   ]
  },
  {
   "cell_type": "code",
   "execution_count": 20,
   "metadata": {
    "vscode": {
     "languageId": "r"
    }
   },
   "outputs": [
    {
     "data": {
      "text/html": [
       "<table class=\"dataframe\">\n",
       "<caption>A matrix: 6 × 110 of type dbl</caption>\n",
       "<thead>\n",
       "\t<tr><th></th><th scope=col>PB630</th><th scope=col>PB447</th><th scope=col>PB495</th><th scope=col>PB53</th><th scope=col>PB269</th><th scope=col>PB283</th><th scope=col>PB504</th><th scope=col>PB511</th><th scope=col>PB465</th><th scope=col>PB512</th><th scope=col>⋯</th><th scope=col>PB98</th><th scope=col>PB43</th><th scope=col>PB22</th><th scope=col>PB36</th><th scope=col>PB27</th><th scope=col>PB42</th><th scope=col>PB30</th><th scope=col>PB209</th><th scope=col>PB185</th><th scope=col>PB183</th></tr>\n",
       "</thead>\n",
       "<tbody>\n",
       "\t<tr><th scope=row>WIPF1</th><td> 0.1913367</td><td> 0.99602703</td><td>-0.7386242</td><td>-1.0323782</td><td>-0.9063207</td><td>1.36542222</td><td>-0.7550209</td><td> 0.08077702</td><td>-0.236234767</td><td>-1.3877792</td><td>⋯</td><td>-0.5369080</td><td>-0.05503731</td><td> 0.8400379</td><td>-0.1277145</td><td> 1.0604417</td><td>-0.1867164</td><td> 0.33416589</td><td>-0.4328288</td><td> 0.2542024</td><td>-0.3433356</td></tr>\n",
       "\t<tr><th scope=row>STK17B</th><td>-0.5358059</td><td> 0.08876168</td><td>-0.6749208</td><td>-0.1760902</td><td>-0.9058208</td><td>0.32587432</td><td>-0.2127101</td><td>-0.44980778</td><td>-1.484698001</td><td>-0.9609788</td><td>⋯</td><td> 0.3976302</td><td> 0.82649414</td><td> 0.5876344</td><td>-0.6651909</td><td> 1.1655638</td><td> 0.1276444</td><td> 0.27481560</td><td>-0.1046399</td><td> 0.3763956</td><td> 0.4839893</td></tr>\n",
       "\t<tr><th scope=row>PHACTR1</th><td>-1.0281871</td><td> 0.38835667</td><td>-0.9020860</td><td>-0.6465748</td><td>-1.0218007</td><td>0.15340992</td><td>-0.4210359</td><td>-0.10178009</td><td>-0.805393654</td><td>-1.0699324</td><td>⋯</td><td>-0.3477209</td><td> 0.02439860</td><td> 0.8274803</td><td> 0.5325547</td><td> 0.9129264</td><td>-0.5190870</td><td> 0.04006962</td><td> 0.1463075</td><td> 0.1406345</td><td> 0.1603832</td></tr>\n",
       "\t<tr><th scope=row>RASSF2</th><td>-0.2960432</td><td> 1.00286416</td><td>-0.7098338</td><td>-0.1578900</td><td>-1.1202159</td><td>0.92829743</td><td>-0.4287658</td><td>-0.62984416</td><td>-1.232457856</td><td>-0.2628161</td><td>⋯</td><td>-0.7868895</td><td> 0.33057666</td><td> 0.8329338</td><td>-0.1715072</td><td> 1.0984980</td><td>-0.4018309</td><td> 0.23256496</td><td>-0.2410899</td><td>-0.1967685</td><td> 0.1619585</td></tr>\n",
       "\t<tr><th scope=row>UGCG</th><td>-0.2365476</td><td>-0.06082409</td><td>-0.2724890</td><td> 0.1384680</td><td>-0.2548719</td><td>0.06148652</td><td> 0.5396808</td><td>-0.66319254</td><td>-1.018710668</td><td>-0.2063127</td><td>⋯</td><td> 0.5525451</td><td> 0.85718641</td><td> 1.1622392</td><td>-0.6965002</td><td> 0.9440081</td><td> 0.6901856</td><td> 0.20680255</td><td>-0.2266312</td><td> 0.2554534</td><td> 0.4350421</td></tr>\n",
       "\t<tr><th scope=row>CHMP2A</th><td> 0.5158262</td><td> 0.04117920</td><td> 0.4130005</td><td> 0.7913189</td><td> 0.6027967</td><td>0.07909181</td><td> 1.0578571</td><td> 0.15535114</td><td> 0.009357116</td><td> 1.3323849</td><td>⋯</td><td> 0.4695328</td><td>-0.46759449</td><td>-0.9358367</td><td>-0.8139604</td><td>-1.0067290</td><td> 0.5097058</td><td>-1.28429667</td><td>-0.4046828</td><td> 0.3836197</td><td> 0.6472628</td></tr>\n",
       "</tbody>\n",
       "</table>\n"
      ],
      "text/latex": [
       "A matrix: 6 × 110 of type dbl\n",
       "\\begin{tabular}{r|lllllllllllllllllllll}\n",
       "  & PB630 & PB447 & PB495 & PB53 & PB269 & PB283 & PB504 & PB511 & PB465 & PB512 & ⋯ & PB98 & PB43 & PB22 & PB36 & PB27 & PB42 & PB30 & PB209 & PB185 & PB183\\\\\n",
       "\\hline\n",
       "\tWIPF1 &  0.1913367 &  0.99602703 & -0.7386242 & -1.0323782 & -0.9063207 & 1.36542222 & -0.7550209 &  0.08077702 & -0.236234767 & -1.3877792 & ⋯ & -0.5369080 & -0.05503731 &  0.8400379 & -0.1277145 &  1.0604417 & -0.1867164 &  0.33416589 & -0.4328288 &  0.2542024 & -0.3433356\\\\\n",
       "\tSTK17B & -0.5358059 &  0.08876168 & -0.6749208 & -0.1760902 & -0.9058208 & 0.32587432 & -0.2127101 & -0.44980778 & -1.484698001 & -0.9609788 & ⋯ &  0.3976302 &  0.82649414 &  0.5876344 & -0.6651909 &  1.1655638 &  0.1276444 &  0.27481560 & -0.1046399 &  0.3763956 &  0.4839893\\\\\n",
       "\tPHACTR1 & -1.0281871 &  0.38835667 & -0.9020860 & -0.6465748 & -1.0218007 & 0.15340992 & -0.4210359 & -0.10178009 & -0.805393654 & -1.0699324 & ⋯ & -0.3477209 &  0.02439860 &  0.8274803 &  0.5325547 &  0.9129264 & -0.5190870 &  0.04006962 &  0.1463075 &  0.1406345 &  0.1603832\\\\\n",
       "\tRASSF2 & -0.2960432 &  1.00286416 & -0.7098338 & -0.1578900 & -1.1202159 & 0.92829743 & -0.4287658 & -0.62984416 & -1.232457856 & -0.2628161 & ⋯ & -0.7868895 &  0.33057666 &  0.8329338 & -0.1715072 &  1.0984980 & -0.4018309 &  0.23256496 & -0.2410899 & -0.1967685 &  0.1619585\\\\\n",
       "\tUGCG & -0.2365476 & -0.06082409 & -0.2724890 &  0.1384680 & -0.2548719 & 0.06148652 &  0.5396808 & -0.66319254 & -1.018710668 & -0.2063127 & ⋯ &  0.5525451 &  0.85718641 &  1.1622392 & -0.6965002 &  0.9440081 &  0.6901856 &  0.20680255 & -0.2266312 &  0.2554534 &  0.4350421\\\\\n",
       "\tCHMP2A &  0.5158262 &  0.04117920 &  0.4130005 &  0.7913189 &  0.6027967 & 0.07909181 &  1.0578571 &  0.15535114 &  0.009357116 &  1.3323849 & ⋯ &  0.4695328 & -0.46759449 & -0.9358367 & -0.8139604 & -1.0067290 &  0.5097058 & -1.28429667 & -0.4046828 &  0.3836197 &  0.6472628\\\\\n",
       "\\end{tabular}\n"
      ],
      "text/markdown": [
       "\n",
       "A matrix: 6 × 110 of type dbl\n",
       "\n",
       "| <!--/--> | PB630 | PB447 | PB495 | PB53 | PB269 | PB283 | PB504 | PB511 | PB465 | PB512 | ⋯ | PB98 | PB43 | PB22 | PB36 | PB27 | PB42 | PB30 | PB209 | PB185 | PB183 |\n",
       "|---|---|---|---|---|---|---|---|---|---|---|---|---|---|---|---|---|---|---|---|---|---|\n",
       "| WIPF1 |  0.1913367 |  0.99602703 | -0.7386242 | -1.0323782 | -0.9063207 | 1.36542222 | -0.7550209 |  0.08077702 | -0.236234767 | -1.3877792 | ⋯ | -0.5369080 | -0.05503731 |  0.8400379 | -0.1277145 |  1.0604417 | -0.1867164 |  0.33416589 | -0.4328288 |  0.2542024 | -0.3433356 |\n",
       "| STK17B | -0.5358059 |  0.08876168 | -0.6749208 | -0.1760902 | -0.9058208 | 0.32587432 | -0.2127101 | -0.44980778 | -1.484698001 | -0.9609788 | ⋯ |  0.3976302 |  0.82649414 |  0.5876344 | -0.6651909 |  1.1655638 |  0.1276444 |  0.27481560 | -0.1046399 |  0.3763956 |  0.4839893 |\n",
       "| PHACTR1 | -1.0281871 |  0.38835667 | -0.9020860 | -0.6465748 | -1.0218007 | 0.15340992 | -0.4210359 | -0.10178009 | -0.805393654 | -1.0699324 | ⋯ | -0.3477209 |  0.02439860 |  0.8274803 |  0.5325547 |  0.9129264 | -0.5190870 |  0.04006962 |  0.1463075 |  0.1406345 |  0.1603832 |\n",
       "| RASSF2 | -0.2960432 |  1.00286416 | -0.7098338 | -0.1578900 | -1.1202159 | 0.92829743 | -0.4287658 | -0.62984416 | -1.232457856 | -0.2628161 | ⋯ | -0.7868895 |  0.33057666 |  0.8329338 | -0.1715072 |  1.0984980 | -0.4018309 |  0.23256496 | -0.2410899 | -0.1967685 |  0.1619585 |\n",
       "| UGCG | -0.2365476 | -0.06082409 | -0.2724890 |  0.1384680 | -0.2548719 | 0.06148652 |  0.5396808 | -0.66319254 | -1.018710668 | -0.2063127 | ⋯ |  0.5525451 |  0.85718641 |  1.1622392 | -0.6965002 |  0.9440081 |  0.6901856 |  0.20680255 | -0.2266312 |  0.2554534 |  0.4350421 |\n",
       "| CHMP2A |  0.5158262 |  0.04117920 |  0.4130005 |  0.7913189 |  0.6027967 | 0.07909181 |  1.0578571 |  0.15535114 |  0.009357116 |  1.3323849 | ⋯ |  0.4695328 | -0.46759449 | -0.9358367 | -0.8139604 | -1.0067290 |  0.5097058 | -1.28429667 | -0.4046828 |  0.3836197 |  0.6472628 |\n",
       "\n"
      ],
      "text/plain": [
       "        PB630      PB447       PB495      PB53       PB269      PB283     \n",
       "WIPF1    0.1913367  0.99602703 -0.7386242 -1.0323782 -0.9063207 1.36542222\n",
       "STK17B  -0.5358059  0.08876168 -0.6749208 -0.1760902 -0.9058208 0.32587432\n",
       "PHACTR1 -1.0281871  0.38835667 -0.9020860 -0.6465748 -1.0218007 0.15340992\n",
       "RASSF2  -0.2960432  1.00286416 -0.7098338 -0.1578900 -1.1202159 0.92829743\n",
       "UGCG    -0.2365476 -0.06082409 -0.2724890  0.1384680 -0.2548719 0.06148652\n",
       "CHMP2A   0.5158262  0.04117920  0.4130005  0.7913189  0.6027967 0.07909181\n",
       "        PB504      PB511       PB465        PB512      ⋯ PB98       PB43       \n",
       "WIPF1   -0.7550209  0.08077702 -0.236234767 -1.3877792 ⋯ -0.5369080 -0.05503731\n",
       "STK17B  -0.2127101 -0.44980778 -1.484698001 -0.9609788 ⋯  0.3976302  0.82649414\n",
       "PHACTR1 -0.4210359 -0.10178009 -0.805393654 -1.0699324 ⋯ -0.3477209  0.02439860\n",
       "RASSF2  -0.4287658 -0.62984416 -1.232457856 -0.2628161 ⋯ -0.7868895  0.33057666\n",
       "UGCG     0.5396808 -0.66319254 -1.018710668 -0.2063127 ⋯  0.5525451  0.85718641\n",
       "CHMP2A   1.0578571  0.15535114  0.009357116  1.3323849 ⋯  0.4695328 -0.46759449\n",
       "        PB22       PB36       PB27       PB42       PB30        PB209     \n",
       "WIPF1    0.8400379 -0.1277145  1.0604417 -0.1867164  0.33416589 -0.4328288\n",
       "STK17B   0.5876344 -0.6651909  1.1655638  0.1276444  0.27481560 -0.1046399\n",
       "PHACTR1  0.8274803  0.5325547  0.9129264 -0.5190870  0.04006962  0.1463075\n",
       "RASSF2   0.8329338 -0.1715072  1.0984980 -0.4018309  0.23256496 -0.2410899\n",
       "UGCG     1.1622392 -0.6965002  0.9440081  0.6901856  0.20680255 -0.2266312\n",
       "CHMP2A  -0.9358367 -0.8139604 -1.0067290  0.5097058 -1.28429667 -0.4046828\n",
       "        PB185      PB183     \n",
       "WIPF1    0.2542024 -0.3433356\n",
       "STK17B   0.3763956  0.4839893\n",
       "PHACTR1  0.1406345  0.1603832\n",
       "RASSF2  -0.1967685  0.1619585\n",
       "UGCG     0.2554534  0.4350421\n",
       "CHMP2A   0.3836197  0.6472628"
      ]
     },
     "metadata": {},
     "output_type": "display_data"
    }
   ],
   "source": [
    "#make a list of the top 15 genes\n",
    "top15 <- resOrdered[1:15,]\n",
    "SSI <- data.frame(SSI=coldata$SSI)\n",
    "rownames(SSI) <- colnames(mat)\n",
    "mat15 <- mat[top15$gene,]\n",
    "#center the data\n",
    "mat15 <- mat15 - rowMeans(mat15)\n",
    "head(mat15)"
   ]
  },
  {
   "cell_type": "code",
   "execution_count": null,
   "metadata": {
    "vscode": {
     "languageId": "r"
    }
   },
   "outputs": [],
   "source": [
    "#sort each dataframe by SSIrence\n",
    "#first sort the annotation data by SSIrence while keeping it as a dataframe\n",
    "SSI <- SSI[order(SSI$SSI), , drop=FALSE]\n",
    "#then sort the matrix by the order of the annotation data by getting the rownames of the annotation data and reordering the columns of the matrix\n",
    "col_order = rownames(SSI)\n",
    "mat15 <- mat15[,col_order]\n",
    "#remove the sample names from the heatmap\n",
    "pheatmap(mat15, annotation_col=SSI, cluster_cols=F, show_colnames=F, filename='../../results/post_op/ruvg_runs/heatmap.png', height=10, width=10)"
   ]
  },
  {
   "cell_type": "code",
   "execution_count": null,
   "metadata": {
    "vscode": {
     "languageId": "r"
    }
   },
   "outputs": [],
   "source": []
  },
  {
   "cell_type": "code",
   "execution_count": null,
   "metadata": {
    "vscode": {
     "languageId": "r"
    }
   },
   "outputs": [],
   "source": [
    "formula_list = list(\n",
    "~ sex + W_1 + iasc, \n",
    "~ sex + W_1 + W_2 + iasc, \n",
    "~ sex + W_1 + W_2 + W_3 + iasc, \n",
    "~ sex + W_1 + W_2 + W_3 + W_4 + iasc, \n",
    "~ sex + W_1 + W_2 + W_3 + W_4 + W_5 + iasc, \n",
    "~ sex + W_1 + W_2 + W_3 + W_4 + W_5 + W_6 + iasc, \n",
    "~ sex + W_1 + W_2 + W_3 + W_4 + W_5 + W_6 + W_7 + iasc, \n",
    "~ sex + W_1 + W_2 + W_3 + W_4 + W_5 + W_6 + W_7 + W_8 + iasc, \n",
    "~ sex + W_1 + W_2 + W_3 + W_4 + W_5 + W_6 + W_7 + W_8 + W_9 + iasc, \n",
    "~ sex + W_1 + W_2 + W_3 + W_4 + W_5 + W_6 + W_7 + W_8 + W_9 + W_10 + iasc,\n",
    "~ sex + W_1 + W_2 + W_3 + W_4 + W_5 + W_6 + W_7 + W_8 + W_9 + W_10 + W_11 + iasc,\n",
    "~ sex + W_1 + W_2 + W_3 + W_4 + W_5 + W_6 + W_7 + W_8 + W_9 + W_10 + W_11 + W_12 + iasc,\n",
    "~ sex + W_1 + W_2 + W_3 + W_4 + W_5 + W_6 + W_7 + W_8 + W_9 + W_10 + W_11 + W_12 + W_13 + iasc,\n",
    "~ sex + W_1 + W_2 + W_3 + W_4 + W_5 + W_6 + W_7 + W_8 + W_9 + W_10 + W_11 + W_12 + W_13 + W_14 + iasc,\n",
    "~ sex + W_1 + W_2 + W_3 + W_4 + W_5 + W_6 + W_7 + W_8 + W_9 + W_10 + W_11 + W_12 + W_13 + W_14 + + W_15 + iasc,\n",
    "~ sex + W_1 + W_2 + W_3 + W_4 + W_5 + W_6 + W_7 + W_8 + W_9 + W_10 + W_11 + W_12 + W_13 + W_14 + + W_15 + W_16 + iasc,\n",
    "~ sex + W_1 + W_2 + W_3 + W_4 + W_5 + W_6 + W_7 + W_8 + W_9 + W_10 + W_11 + W_12 + W_13 + W_14 + + W_15 + W_16 + W_17 + iasc,\n",
    "~ sex + W_1 + W_2 + W_3 + W_4 + W_5 + W_6 + W_7 + W_8 + W_9 + W_10 + W_11 + W_12 + W_13 + W_14 + + W_15 + W_16 + W_17 + W_18 + iasc,\n",
    "~ sex + W_1 + W_2 + W_3 + W_4 + W_5 + W_6 + W_7 + W_8 + W_9 + W_10 + W_11 + W_12 + W_13 + W_14 + + W_15 + W_16 + W_17 + W_18 + W_19 + iasc,\n",
    "~ sex + W_1 + W_2 + W_3 + W_4 + W_5 + W_6 + W_7 + W_8 + W_9 + W_10 + W_11 + W_12 + W_13 + W_14 + + W_15 + W_16 + W_17 + W_18 + W_19 + W_20 + iasc)\n",
    "\n",
    "\n",
    "\n",
    "#create an empty dataframe to store the number of significant genes\n",
    "deg_counts = data.frame(matrix(ncol=20, nrow=0))\n",
    "colnames(deg_counts) = c(\"formula\", \"sig_genes\")\n",
    "\n",
    "for (x in seq_along(formula_list)) {\n",
    "    design_formula = formula(formula_list[[x]])\n",
    "    dds1 <- DESeqDataSetFromMatrix(countData=cts, colData=pdat, design = design_formula)\n",
    "    y <- DGEList(counts=counts(dds1), group=coldata$iasc)\n",
    "    keep <- filterByExpr(y)\n",
    "    table(keep)\n",
    "    y <- y[keep,]\n",
    "    dds1 <- dds1[keep,]\n",
    "    dds1 <- DESeq(dds1)\n",
    "    res <- results(dds1)\n",
    "    res <- res[order(res$padj),]\n",
    "    #get the number of significant genes\n",
    "    sig_genes <- res[which(res$padj < 0.05),]\n",
    "    #save the number of significant genes to the dataframe\n",
    "    deg_counts = rbind(deg_counts, c(x, nrow(sig_genes)))\n",
    "    #save the results to a csv file\n",
    "    write.csv(res, paste0(\"results/ruvg_runs/res5_\", x, \"_iasc.csv\"))\n",
    "}\n",
    "\n",
    "head(deg_counts, 10)\n",
    "colnames(deg_counts) = c(\"formula\", \"sig_genes\")\n",
    "#plot the number of significant genes vs the number of covariates\n",
    "ggplot(deg_counts, aes(x=formula, y=sig_genes)) +\n",
    "    geom_point(size=5) +\n",
    "    geom_line() +\n",
    "    xlab(\"Number of Covariates\") +\n",
    "    ylab(\"Number of Significant Genes\") +\n",
    "    theme(text = element_text(size = 24))\n",
    "#save the plot\n",
    "ggsave(\"../../results/post_op/ruvg_runs/deg_counts5_iasc.png\", width=10, height=10)\n"
   ]
  },
  {
   "cell_type": "code",
   "execution_count": null,
   "metadata": {
    "vscode": {
     "languageId": "r"
    }
   },
   "outputs": [],
   "source": [
    "#use 18 covariates\n",
    "design_formula = formula(formula_list[[13]])\n",
    "design_formula\n",
    "dds = DESeqDataSetFromMatrix(countData=cts, colData=pdat, design = design_formula)\n",
    "#filter genes for low expreiascon with edgeR\n",
    "y <- DGEList(counts=counts(dds), group=recur)\n",
    "keep <- filterByExpr(y)\n",
    "table(keep)\n",
    "y <- y[keep,]\n",
    "dds <- dds[keep,]\n",
    "#run DESeq\n",
    "dds <- DESeq(dds)\n",
    "res <- results(dds)\n",
    "\n",
    "library('pheatmap')\n",
    "library('genefilter')\n",
    "#use RemoveBatchEffect to adjust for the identified covariates\n",
    "#first create variables for each of the RUV factors\n",
    "ruv1 = pdat$W_1\n",
    "ruv2 = pdat$W_2\n",
    "ruv3 = pdat$W_3\n",
    "ruv4 = pdat$W_4\n",
    "ruv5 = pdat$W_5\n",
    "ruv6 = pdat$W_6\n",
    "ruv7 = pdat$W_7\n",
    "ruv8 = pdat$W_8\n",
    "ruv9 = pdat$W_9\n",
    "ruv10 = pdat$W_10\n",
    "ruv11 = pdat$W_11\n",
    "ruv12 = pdat$W_12\n",
    "ruv13 = pdat$W_13\n",
    "\n",
    "#run RemoveBatchEffect using the RUV factors and sex\n",
    "vsd = vst(dds)\n",
    "mat= assay(vsd)\n",
    "assay(vsd) <- removeBatchEffect(assay(vsd), batch=sex, covariates=cbind(ruv1, ruv2, ruv3, ruv4, ruv5, ruv6, ruv7, ruv8, ruv9, ruv10, ruv11, ruv12, ruv13))\n",
    "resOrdered <- res[order(res$padj),]\n",
    "resOrdered$gene <- rownames(resOrdered)\n",
    "resOrdered = resOrdered[,c(7, 1, 2, 3, 4, 5, 6)]\n",
    "head(resOrdered)\n",
    "\n",
    "#make a list of the top 15 genes\n",
    "top15 <- resOrdered[1:15,]\n",
    "recur <- data.frame(recur=coldata$recur)\n",
    "rownames(recur) <- colnames(mat)\n",
    "mat15 <- mat[top15$gene,]\n",
    "#center the data\n",
    "mat15 <- mat15 - rowMeans(mat15)\n",
    "head(mat15)\n",
    "#sort each dataframe by recurrence\n",
    "#first sort the annotation data by recurrence while keeping it as a dataframe\n",
    "recur <- recur[order(recur$recur), , drop=FALSE]\n",
    "#then sort the matrix by the order of the annotation data by getting the rownames of the annotation data and reordering the columns of the matrix\n",
    "col_order = rownames(recur)\n",
    "mat15 <- mat15[,col_order]\n",
    "#remove the sample names from the heatmap\n",
    "pheatmap(mat15, annotation_col=recur, cluster_cols=F, show_colnames=F, filename='../../results/post_op/ruvg_runs/heatmap.png', height=10, width=10)"
   ]
  }
 ],
 "metadata": {
  "kernelspec": {
   "display_name": "R",
   "language": "R",
   "name": "ir"
  },
  "language_info": {
   "codemirror_mode": "r",
   "file_extension": ".r",
   "mimetype": "text/x-r-source",
   "name": "R",
   "pygments_lexer": "r",
   "version": "4.3.0"
  },
  "orig_nbformat": 4,
  "vscode": {
   "interpreter": {
    "hash": "916dbcbb3f70747c44a77c7bcd40155683ae19c65e1c03b4aa3499c5328201f1"
   }
  }
 },
 "nbformat": 4,
 "nbformat_minor": 2
}
