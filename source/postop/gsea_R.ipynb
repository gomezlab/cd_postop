{
 "cells": [
  {
   "cell_type": "code",
   "execution_count": 1,
   "metadata": {
    "vscode": {
     "languageId": "r"
    }
   },
   "outputs": [
    {
     "name": "stderr",
     "output_type": "stream",
     "text": [
      "── \u001b[1mAttaching core tidyverse packages\u001b[22m ──────────────────────── tidyverse 2.0.0 ──\n",
      "\u001b[32m✔\u001b[39m \u001b[34mdplyr    \u001b[39m 1.1.2     \u001b[32m✔\u001b[39m \u001b[34mreadr    \u001b[39m 2.1.4\n",
      "\u001b[32m✔\u001b[39m \u001b[34mforcats  \u001b[39m 1.0.0     \u001b[32m✔\u001b[39m \u001b[34mstringr  \u001b[39m 1.5.0\n",
      "\u001b[32m✔\u001b[39m \u001b[34mggplot2  \u001b[39m 3.4.2     \u001b[32m✔\u001b[39m \u001b[34mtibble   \u001b[39m 3.2.1\n",
      "\u001b[32m✔\u001b[39m \u001b[34mlubridate\u001b[39m 1.9.2     \u001b[32m✔\u001b[39m \u001b[34mtidyr    \u001b[39m 1.3.0\n",
      "\u001b[32m✔\u001b[39m \u001b[34mpurrr    \u001b[39m 1.0.1     \n",
      "── \u001b[1mConflicts\u001b[22m ────────────────────────────────────────── tidyverse_conflicts() ──\n",
      "\u001b[31m✖\u001b[39m \u001b[34mdplyr\u001b[39m::\u001b[32mfilter()\u001b[39m masks \u001b[34mstats\u001b[39m::filter()\n",
      "\u001b[31m✖\u001b[39m \u001b[34mdplyr\u001b[39m::\u001b[32mlag()\u001b[39m    masks \u001b[34mstats\u001b[39m::lag()\n",
      "\u001b[36mℹ\u001b[39m Use the conflicted package (\u001b[3m\u001b[34m<http://conflicted.r-lib.org/>\u001b[39m\u001b[23m) to force all conflicts to become errors\n"
     ]
    }
   ],
   "source": [
    "library(tidyverse)\n",
    "library(dplyr)\n",
    "library(fgsea)"
   ]
  },
  {
   "cell_type": "code",
   "execution_count": null,
   "metadata": {
    "vscode": {
     "languageId": "r"
    }
   },
   "outputs": [],
   "source": [
    "res <- read.csv('../../results/postop/ruvg_runs/res5_17.csv')\n",
    "\n",
    "res2 <- res %>% \n",
    "  dplyr::select(X, stat) %>% \n",
    "  na.omit() %>% \n",
    "  distinct() %>% \n",
    "  group_by(X) %>% \n",
    "  summarize(stat=mean(stat))\n",
    "\n",
    "ranks <- deframe(res2)\n",
    "\n",
    "pathways.hallmark <- gmtPathways(\"h.all.v2022.1.Hs.symbols.gmt\")\n",
    "pathways.hallmark %>%\n",
    "    head() %>%\n",
    "    lapply(head)\n",
    "\n",
    "fgseaRes <- fgsea(pathways=pathways.hallmark, stats=ranks)\n",
    "\n",
    "fgseaResTidy <- fgseaRes %>%\n",
    "    as_tibble() %>%\n",
    "    arrange(desc(NES))\n",
    "\n",
    "\n",
    "#change leadingEdge data type to string\n",
    "fgseaResTidy$leadingEdge <- as.character(fgseaResTidy$leadingEdge)\n",
    "\n",
    "\n",
    "\n",
    "top10 = fgseaResTidy %>%\n",
    "    arrange(padj) %>%\n",
    "    head(20)\n",
    "#replace '_' in pathway to ' '\n",
    "top10$pathway <- gsub('_', ' ', top10$pathway)\n",
    "#strip 'HALLMARK ' from pathway\n",
    "top10$pathway <- gsub('HALLMARK ', '', top10$pathway)\n",
    "#make pathway all lowercase\n",
    "top10$pathway <- tolower(top10$pathway)\n",
    "\n",
    "png('../../results/ruvg_runs/res5_17_hm.png', width=1440, height=1440)\n",
    "ggplot(top10, aes(reorder(pathway, NES), NES)) +\n",
    "  geom_col(fill = \"#0066cc\") +\n",
    "  # scale_fill_manual(values=\"#0066cc\") +\n",
    "  coord_flip() +\n",
    "  labs(x=\"Pathway\", y=\"Normalized Enrichment Score\",\n",
    "       title=\"Hallmark Pathways\", subtitle='Colon') + \n",
    "  theme_minimal(base_size=45)\n",
    "dev.off()"
   ]
  }
 ],
 "metadata": {
  "kernelspec": {
   "display_name": "R",
   "language": "R",
   "name": "ir"
  },
  "language_info": {
   "codemirror_mode": "r",
   "file_extension": ".r",
   "mimetype": "text/x-r-source",
   "name": "R",
   "pygments_lexer": "r",
   "version": "4.3.0"
  },
  "orig_nbformat": 4,
  "vscode": {
   "interpreter": {
    "hash": "916dbcbb3f70747c44a77c7bcd40155683ae19c65e1c03b4aa3499c5328201f1"
   }
  }
 },
 "nbformat": 4,
 "nbformat_minor": 2
}
